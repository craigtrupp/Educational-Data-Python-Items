{
 "cells": [
  {
   "cell_type": "markdown",
   "id": "984a10cf",
   "metadata": {},
   "source": [
    "# The Project #\n",
    "1. This is a project with minimal scaffolding. Expect to use the the discussion forums to gain insights! It’s not cheating to ask others for opinions or perspectives!\n",
    "2. Be inquisitive, try out new things.\n",
    "3. Use the previous modules for insights into how to complete the functions! You'll have to combine Pillow, OpenCV, and Pytesseract\n",
    "4. There are hints provided in Coursera, feel free to explore the hints if needed. Each hint provide progressively more details on how to solve the issue. This project is intended to be comprehensive and difficult if you do it without the hints.\n",
    "\n",
    "### The Assignment ###\n",
    "Take a [ZIP file](https://en.wikipedia.org/wiki/Zip_(file_format)) of images and process them, using a [library built into python](https://docs.python.org/3/library/zipfile.html) that you need to learn how to use. A ZIP file takes several different files and compresses them, thus saving space, into one single file. The files in the ZIP file we provide are newspaper images (like you saw in week 3). Your task is to write python code which allows one to search through the images looking for the occurrences of keywords and faces. E.g. if you search for \"pizza\" it will return a contact sheet of all of the faces which were located on the newspaper page which mentions \"pizza\". This will test your ability to learn a new ([library](https://docs.python.org/3/library/zipfile.html)), your ability to use OpenCV to detect faces, your ability to use tesseract to do optical character recognition, and your ability to use PIL to composite images together into contact sheets.\n",
    "\n",
    "Each page of the newspapers is saved as a single PNG image in a file called [images.zip](./readonly/images.zip). These newspapers are in english, and contain a variety of stories, advertisements and images. Note: This file is fairly large (~200 MB) and may take some time to work with, I would encourage you to use [small_img.zip](./readonly/small_img.zip) for testing.\n",
    "\n",
    "Here's an example of the output expected. Using the [small_img.zip](./readonly/small_img.zip) file, if I search for the string \"Christopher\" I should see the following image:\n",
    "![Christopher Search](./readonly/small_project.png)\n",
    "If I were to use the [images.zip](./readonly/images.zip) file and search for \"Mark\" I should see the following image (note that there are times when there are no faces on a page, but a word is found!):\n",
    "![Mark Search](./readonly/large_project.png)\n",
    "\n",
    "Note: That big file can take some time to process - for me it took nearly ten minutes! Use the small one for testing."
   ]
  },
  {
   "cell_type": "code",
   "execution_count": 1,
   "id": "da5f7d69",
   "metadata": {},
   "outputs": [],
   "source": [
    "import zipfile\n",
    "\n",
    "from PIL import Image\n",
    "import pytesseract\n",
    "import cv2 as cv\n",
    "import numpy as np\n",
    "\n",
    "# loading the face detection classifier\n",
    "face_cascade = cv.CascadeClassifier('haarcascade_frontalface_default.xml')"
   ]
  },
  {
   "cell_type": "code",
   "execution_count": 2,
   "id": "0ab1417d",
   "metadata": {},
   "outputs": [],
   "source": [
    "# Looks Like 4 Images in the small zip (think finding in a dictionary would be easier than a list as the hint suggests)\n",
    "\n",
    "#  Why not just store the PIL.Image objects in a global data structure, maybe a list or a dictionary indexed by name\n",
    "zip_images = {}"
   ]
  },
  {
   "cell_type": "markdown",
   "id": "ce9380b4",
   "metadata": {},
   "source": [
    "* Note: \n",
    "    * You'll need two context managers to open the zipped info then a secondary with open type statement to open the zipext file"
   ]
  },
  {
   "cell_type": "code",
   "execution_count": 3,
   "id": "45db1512",
   "metadata": {},
   "outputs": [],
   "source": [
    "with zipfile.ZipFile('small_img.zip', 'r') as zipped:\n",
    "    newspapers = zipped.infolist() # alias list of zipped files from above context manager\n",
    "    for newspaper in newspapers: # iterate through class 'zipfile.ZipInfo' types\n",
    "        #print(type(newspaper))\n",
    "        with zipped.open(newspaper) as zipextfile: # use alias outside w/context and open method to open file\n",
    "            #display(Image.open(zipextfile)) # michigan daily newspaper images - images successfully display\n",
    "            #print(type(nwsp, dir(newspaper), dir(zipextfile)) - filename is not in the file but how the image opens \n",
    "            img = Image.open(zipextfile).convert('RGB') # Conversion should help for facial recognition from Module 3\n",
    "            zip_images[newspaper.filename] = {'PIL_img': img}"
   ]
  },
  {
   "cell_type": "code",
   "execution_count": 4,
   "id": "f23bea5c",
   "metadata": {},
   "outputs": [
    {
     "data": {
      "text/plain": [
       "{'a-0.png': {'PIL_img': <PIL.Image.Image image mode=RGB size=3600x6300>},\n",
       " 'a-1.png': {'PIL_img': <PIL.Image.Image image mode=RGB size=3600x6300>},\n",
       " 'a-2.png': {'PIL_img': <PIL.Image.Image image mode=RGB size=3600x6300>},\n",
       " 'a-3.png': {'PIL_img': <PIL.Image.Image image mode=RGB size=7200x6300>}}"
      ]
     },
     "execution_count": 4,
     "metadata": {},
     "output_type": "execute_result"
    }
   ],
   "source": [
    "zip_images # Alright sweet looks like we have the individual zipe file name and the subsquent PIL image"
   ]
  },
  {
   "cell_type": "markdown",
   "id": "d049fc1b",
   "metadata": {},
   "source": [
    "#### Module 2 Started w/Tesseract and the ability to use a PIL image with pytesseract to extract the text, using our dictionary we can add a a new key to each image with the detected text from pytesseract"
   ]
  },
  {
   "cell_type": "code",
   "execution_count": 7,
   "id": "0031495e",
   "metadata": {},
   "outputs": [],
   "source": [
    "import pytesseract "
   ]
  },
  {
   "cell_type": "code",
   "execution_count": 10,
   "id": "d35e296e",
   "metadata": {},
   "outputs": [
    {
     "name": "stdout",
     "output_type": "stream",
     "text": [
      "6197\n",
      "12517\n",
      "18623\n",
      "28776\n"
     ]
    }
   ],
   "source": [
    "# Ok, lets try and run tesseract on this image text = pytesseract.image_to_string(image)) - Module 2 Note\n",
    "\n",
    "for img in zip_images.keys():\n",
    "    # pass pil_img for key name to ocr:pytesseract\n",
    "    img_text = pytesseract.image_to_string(zip_images[img]['PIL_img'])\n",
    "    # print(type(img_text), len(img_text))\n",
    "    # Well ... 6197 is a lot of text, but based on the project definition 'Christopher should be in there' - let's count & check\n",
    "    # if 'Christopher' in img_text:\n",
    "    #    print('hey') # let's see how many are in there ... lol there's just one in the string of 6197 characters (at least for the first image)\n",
    "    # break\n",
    "    # Let's add a text key for each image\n",
    "    zip_images[img]['img_text'] = img_text\n",
    "    \n",
    "# How long are our text strings?\n",
    "for img_str in zip_images.keys():\n",
    "    print(len(zip_images[img_str]['img_text']))"
   ]
  },
  {
   "cell_type": "markdown",
   "id": "6fff7dab",
   "metadata": {},
   "source": [
    "#### ... Wow that's a lot of Text!"
   ]
  },
  {
   "cell_type": "code",
   "execution_count": null,
   "id": "815dee8e",
   "metadata": {},
   "outputs": [],
   "source": []
  }
 ],
 "metadata": {
  "kernelspec": {
   "display_name": "Python 3 (ipykernel)",
   "language": "python",
   "name": "python3"
  },
  "language_info": {
   "codemirror_mode": {
    "name": "ipython",
    "version": 3
   },
   "file_extension": ".py",
   "mimetype": "text/x-python",
   "name": "python",
   "nbconvert_exporter": "python",
   "pygments_lexer": "ipython3",
   "version": "3.9.12"
  }
 },
 "nbformat": 4,
 "nbformat_minor": 5
}
