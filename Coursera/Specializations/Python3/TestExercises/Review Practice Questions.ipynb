{
 "cells": [
  {
   "cell_type": "markdown",
   "id": "9de2428b",
   "metadata": {},
   "source": [
    "**Challenge** : Create a list called emotions that contains the first word of every line in emotion_words.txt.\n",
    "* File a mocked file available within Rune environment but no noted download available\n",
    "* Good way to show how to use list comprehension to iterate through file and accumulate a particular value"
   ]
  },
  {
   "cell_type": "code",
   "execution_count": 2,
   "id": "559f87f5",
   "metadata": {},
   "outputs": [
    {
     "ename": "FileNotFoundError",
     "evalue": "[Errno 2] No such file or directory: 'emotion_words.txt'",
     "output_type": "error",
     "traceback": [
      "\u001b[0;31m---------------------------------------------------------------------------\u001b[0m",
      "\u001b[0;31mFileNotFoundError\u001b[0m                         Traceback (most recent call last)",
      "\u001b[0;32m/var/folders/r8/mmfd5rgj7v51_80zhnq8v9zc0000gn/T/ipykernel_11264/755318662.py\u001b[0m in \u001b[0;36m<module>\u001b[0;34m\u001b[0m\n\u001b[1;32m      1\u001b[0m \u001b[0memotions\u001b[0m \u001b[0;34m=\u001b[0m \u001b[0;34m[\u001b[0m\u001b[0;34m]\u001b[0m\u001b[0;34m\u001b[0m\u001b[0;34m\u001b[0m\u001b[0m\n\u001b[0;32m----> 2\u001b[0;31m \u001b[0;32mwith\u001b[0m \u001b[0mopen\u001b[0m\u001b[0;34m(\u001b[0m\u001b[0;34m'emotion_words.txt'\u001b[0m\u001b[0;34m,\u001b[0m \u001b[0;34m'r'\u001b[0m\u001b[0;34m)\u001b[0m \u001b[0;32mas\u001b[0m \u001b[0mf\u001b[0m\u001b[0;34m:\u001b[0m\u001b[0;34m\u001b[0m\u001b[0;34m\u001b[0m\u001b[0m\n\u001b[0m\u001b[1;32m      3\u001b[0m     \u001b[0;34m[\u001b[0m\u001b[0memotions\u001b[0m\u001b[0;34m.\u001b[0m\u001b[0mappend\u001b[0m\u001b[0;34m(\u001b[0m\u001b[0mx\u001b[0m\u001b[0;34m.\u001b[0m\u001b[0msplit\u001b[0m\u001b[0;34m(\u001b[0m\u001b[0;34m)\u001b[0m\u001b[0;34m[\u001b[0m\u001b[0;36m0\u001b[0m\u001b[0;34m]\u001b[0m\u001b[0;34m)\u001b[0m \u001b[0;32mfor\u001b[0m \u001b[0mx\u001b[0m \u001b[0;32min\u001b[0m \u001b[0mf\u001b[0m\u001b[0;34m.\u001b[0m\u001b[0mreadlines\u001b[0m\u001b[0;34m(\u001b[0m\u001b[0;34m)\u001b[0m\u001b[0;34m]\u001b[0m\u001b[0;34m\u001b[0m\u001b[0;34m\u001b[0m\u001b[0m\n\u001b[1;32m      4\u001b[0m \u001b[0;34m\u001b[0m\u001b[0m\n\u001b[1;32m      5\u001b[0m \u001b[0;34m[\u001b[0m\u001b[0;34m'Sad'\u001b[0m\u001b[0;34m,\u001b[0m \u001b[0;34m'Angry'\u001b[0m\u001b[0;34m,\u001b[0m \u001b[0;34m'Happy'\u001b[0m\u001b[0;34m,\u001b[0m \u001b[0;34m'Confused'\u001b[0m\u001b[0;34m,\u001b[0m \u001b[0;34m'Excited'\u001b[0m\u001b[0;34m,\u001b[0m \u001b[0;34m'Scared'\u001b[0m\u001b[0;34m,\u001b[0m \u001b[0;34m'Nervous'\u001b[0m\u001b[0;34m]\u001b[0m\u001b[0;34m\u001b[0m\u001b[0;34m\u001b[0m\u001b[0m\n",
      "\u001b[0;31mFileNotFoundError\u001b[0m: [Errno 2] No such file or directory: 'emotion_words.txt'"
     ]
    }
   ],
   "source": [
    "emotions = []\n",
    "with open('emotion_words.txt', 'r') as f:\n",
    "    [emotions.append(x.split()[0]) for x in f.readlines()]\n",
    "\n",
    "# ['Sad', 'Angry', 'Happy', 'Confused', 'Excited', 'Scared', 'Nervous']\n",
    "## Mocking a created file (disregard the file error below : output above)"
   ]
  },
  {
   "cell_type": "markdown",
   "id": "a163b64d",
   "metadata": {},
   "source": [
    "#### Create a dictionary called **char_d**. \n",
    "* The keys of the dictionary should be each character in stri, and the value for each key should be how many times the character occurs in the string."
   ]
  },
  {
   "cell_type": "code",
   "execution_count": 3,
   "id": "53decb55",
   "metadata": {},
   "outputs": [
    {
     "name": "stdout",
     "output_type": "stream",
     "text": [
      "{'w': 1, 'h': 1, 'a': 2, 't': 1, 'c': 1, 'n': 1, 'I': 1, 'd': 1, 'o': 1}\n"
     ]
    }
   ],
   "source": [
    "stri = \"what can I do\"\n",
    "char_d = {}\n",
    "for x in stri:\n",
    "    if x.isalpha() and x not in char_d.keys():\n",
    "        char_d[x] = 1\n",
    "    elif x.isalpha() and x in char_d.keys():\n",
    "        char_d[x] += 1\n",
    "    else:\n",
    "        continue\n",
    "print(char_d)"
   ]
  },
  {
   "cell_type": "code",
   "execution_count": 4,
   "id": "d8166a33",
   "metadata": {},
   "outputs": [
    {
     "name": "stdout",
     "output_type": "stream",
     "text": [
      "{'w': 1, 'h': 1, 'a': 1, 't': 1, 'c': 1, 'n': 1, 'I': 1, 'd': 1, 'o': 1, ' ': 1}\n"
     ]
    }
   ],
   "source": [
    "# With spaces \n",
    "char_d_1 = {}\n",
    "for x in stri:\n",
    "    if x not in char_d_1.keys():\n",
    "        char_d[x] = 1\n",
    "    elif x in char_d_1.keys():\n",
    "        char_d[x] += 1\n",
    "    else:\n",
    "        continue\n",
    "print(char_d)"
   ]
  },
  {
   "cell_type": "markdown",
   "id": "df188aa3",
   "metadata": {},
   "source": [
    "#### Dict Accumulation\n",
    "* The dictionary Junior shows a schedule for a junior year semester. The key is the course name and the value is the number of credits. Find the total number of credits taken this semester and assign it to the variable credits. Do not hardcode this – use dictionary accumulation!"
   ]
  },
  {
   "cell_type": "code",
   "execution_count": 5,
   "id": "8c0c9a10",
   "metadata": {},
   "outputs": [
    {
     "name": "stdout",
     "output_type": "stream",
     "text": [
      "18\n"
     ]
    }
   ],
   "source": [
    "Junior = {'SI 206':4, 'SI 310':4, 'BL 300':3, 'TO 313':3, 'BCOM 350':1, 'MO 300':3}\n",
    "credits = 0\n",
    "for credit in Junior.values(): # values a dict_list is iterable\n",
    "    credits += credit\n",
    "print(credits)\n"
   ]
  },
  {
   "cell_type": "code",
   "execution_count": null,
   "id": "4eda8009",
   "metadata": {},
   "outputs": [],
   "source": []
  },
  {
   "cell_type": "code",
   "execution_count": null,
   "id": "3ef34adb",
   "metadata": {},
   "outputs": [],
   "source": []
  },
  {
   "cell_type": "code",
   "execution_count": null,
   "id": "f7a22cc8",
   "metadata": {},
   "outputs": [],
   "source": []
  },
  {
   "cell_type": "code",
   "execution_count": null,
   "id": "20467f8e",
   "metadata": {},
   "outputs": [],
   "source": []
  },
  {
   "cell_type": "code",
   "execution_count": null,
   "id": "852e5a73",
   "metadata": {},
   "outputs": [],
   "source": []
  },
  {
   "cell_type": "code",
   "execution_count": null,
   "id": "10db8e82",
   "metadata": {},
   "outputs": [],
   "source": []
  },
  {
   "cell_type": "code",
   "execution_count": null,
   "id": "6bc0df77",
   "metadata": {},
   "outputs": [],
   "source": []
  },
  {
   "cell_type": "code",
   "execution_count": null,
   "id": "f911e879",
   "metadata": {},
   "outputs": [],
   "source": []
  },
  {
   "cell_type": "code",
   "execution_count": null,
   "id": "6703fcc0",
   "metadata": {},
   "outputs": [],
   "source": []
  }
 ],
 "metadata": {
  "kernelspec": {
   "display_name": "Python 3 (ipykernel)",
   "language": "python",
   "name": "python3"
  },
  "language_info": {
   "codemirror_mode": {
    "name": "ipython",
    "version": 3
   },
   "file_extension": ".py",
   "mimetype": "text/x-python",
   "name": "python",
   "nbconvert_exporter": "python",
   "pygments_lexer": "ipython3",
   "version": "3.9.12"
  }
 },
 "nbformat": 4,
 "nbformat_minor": 5
}
