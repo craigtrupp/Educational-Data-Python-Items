{
 "cells": [
  {
   "cell_type": "markdown",
   "id": "5e3f5435",
   "metadata": {},
   "source": [
    "## Writing Test Cases"
   ]
  },
  {
   "cell_type": "markdown",
   "id": "73043237",
   "metadata": {},
   "source": [
    "### Testing Classes"
   ]
  },
  {
   "cell_type": "code",
   "execution_count": 43,
   "id": "e4c978c0",
   "metadata": {},
   "outputs": [
    {
     "ename": "AssertionError",
     "evalue": "",
     "output_type": "error",
     "traceback": [
      "\u001b[0;31m---------------------------------------------------------------------------\u001b[0m",
      "\u001b[0;31mAssertionError\u001b[0m                            Traceback (most recent call last)",
      "\u001b[0;32m/var/folders/r8/mmfd5rgj7v51_80zhnq8v9zc0000gn/T/ipykernel_1405/519987018.py\u001b[0m in \u001b[0;36m<module>\u001b[0;34m\u001b[0m\n\u001b[1;32m     29\u001b[0m \u001b[0;32massert\u001b[0m \u001b[0mp\u001b[0m\u001b[0;34m.\u001b[0m\u001b[0mx\u001b[0m \u001b[0;34m==\u001b[0m \u001b[0;36m1\u001b[0m \u001b[0;31m# following the move call above, we can assert the values (or returns past a side effect assertion)\u001b[0m\u001b[0;34m\u001b[0m\u001b[0;34m\u001b[0m\u001b[0m\n\u001b[1;32m     30\u001b[0m \u001b[0;32massert\u001b[0m \u001b[0mp\u001b[0m\u001b[0;34m.\u001b[0m\u001b[0my\u001b[0m \u001b[0;34m==\u001b[0m \u001b[0;36m7\u001b[0m\u001b[0;34m\u001b[0m\u001b[0;34m\u001b[0m\u001b[0m\n\u001b[0;32m---> 31\u001b[0;31m \u001b[0;32massert\u001b[0m \u001b[0mp\u001b[0m\u001b[0;34m.\u001b[0m\u001b[0my\u001b[0m \u001b[0;34m!=\u001b[0m \u001b[0;36m7\u001b[0m \u001b[0;31m# only test that fails\u001b[0m\u001b[0;34m\u001b[0m\u001b[0;34m\u001b[0m\u001b[0m\n\u001b[0m",
      "\u001b[0;31mAssertionError\u001b[0m: "
     ]
    }
   ],
   "source": [
    "class Point:\n",
    "    \"\"\" Point class for representing and manipulating x,y coordinates. \"\"\"\n",
    "\n",
    "    def __init__(self, initX, initY):\n",
    "\n",
    "        self.x = initX\n",
    "        self.y = initY\n",
    "\n",
    "    def distanceFromOrigin(self):\n",
    "        return ((self.x ** 2) + (self.y ** 2)) ** 0.5\n",
    "\n",
    "    def move(self, dx, dy):\n",
    "        self.x = self.x + dx\n",
    "        self.y = self.y + dy\n",
    "\n",
    "\n",
    "#testing class constructor (__init__ method)\n",
    "p = Point(3, 4)\n",
    "assert p.y == 4\n",
    "assert p.x == 3\n",
    "\n",
    "#testing the distance method\n",
    "p = Point(3, 4)\n",
    "assert p.distanceFromOrigin() == 5.0\n",
    "\n",
    "#testing the move method\n",
    "p = Point(3, 4)\n",
    "p.move(-2, 3)\n",
    "assert p.x == 1 # following the move call above, we can assert the values (or returns past a side effect assertion)\n",
    "assert p.y == 7\n",
    "assert p.y != 7 # only test that fails\n"
   ]
  },
  {
   "cell_type": "markdown",
   "id": "9109b13d",
   "metadata": {},
   "source": [
    "### Side Effect Tests\n",
    "To test whether a function makes correct changes to a mutable object, you will need more than one line of code. You will first set the mutable object to some value, then run the function, then check whether the object has the expected value. Call this a **side effect test** because you are checking to see whether the function invocation has had the correct side effect on the mutable object."
   ]
  },
  {
   "cell_type": "code",
   "execution_count": 44,
   "id": "e90b9cbc",
   "metadata": {},
   "outputs": [
    {
     "ename": "AssertionError",
     "evalue": "",
     "output_type": "error",
     "traceback": [
      "\u001b[0;31m---------------------------------------------------------------------------\u001b[0m",
      "\u001b[0;31mAssertionError\u001b[0m                            Traceback (most recent call last)",
      "\u001b[0;32m/var/folders/r8/mmfd5rgj7v51_80zhnq8v9zc0000gn/T/ipykernel_1405/2574575167.py\u001b[0m in \u001b[0;36m<module>\u001b[0;34m\u001b[0m\n\u001b[1;32m      9\u001b[0m \u001b[0mupdate_counts\u001b[0m\u001b[0;34m(\u001b[0m\u001b[0;34m\"aaab\"\u001b[0m\u001b[0;34m,\u001b[0m \u001b[0mcounts\u001b[0m\u001b[0;34m)\u001b[0m\u001b[0;34m\u001b[0m\u001b[0;34m\u001b[0m\u001b[0m\n\u001b[1;32m     10\u001b[0m \u001b[0;31m# 3 more occurrences of a, so 6 in all\u001b[0m\u001b[0;34m\u001b[0m\u001b[0;34m\u001b[0m\u001b[0m\n\u001b[0;32m---> 11\u001b[0;31m \u001b[0;32massert\u001b[0m \u001b[0mcounts\u001b[0m\u001b[0;34m[\u001b[0m\u001b[0;34m'a'\u001b[0m\u001b[0;34m]\u001b[0m \u001b[0;34m==\u001b[0m \u001b[0;36m6\u001b[0m\u001b[0;34m\u001b[0m\u001b[0;34m\u001b[0m\u001b[0m\n\u001b[0m\u001b[1;32m     12\u001b[0m \u001b[0;31m# 1 more occurrence of b, so 3 in all\u001b[0m\u001b[0;34m\u001b[0m\u001b[0;34m\u001b[0m\u001b[0m\n\u001b[1;32m     13\u001b[0m \u001b[0;32massert\u001b[0m \u001b[0mcounts\u001b[0m\u001b[0;34m[\u001b[0m\u001b[0;34m'b'\u001b[0m\u001b[0;34m]\u001b[0m \u001b[0;34m==\u001b[0m \u001b[0;36m3\u001b[0m\u001b[0;34m\u001b[0m\u001b[0;34m\u001b[0m\u001b[0m\n",
      "\u001b[0;31mAssertionError\u001b[0m: "
     ]
    }
   ],
   "source": [
    "def update_counts(letters, counts_d):\n",
    "    for c in letters:\n",
    "        counts_d[c] = 1\n",
    "        if c in counts_d:\n",
    "            counts_d[c] = counts_d[c] + 1\n",
    "\n",
    "\n",
    "counts = {'a': 3, 'b': 2}\n",
    "update_counts(\"aaab\", counts)\n",
    "# 3 more occurrences of a, so 6 in all\n",
    "assert counts['a'] == 6\n",
    "# 1 more occurrence of b, so 3 in all\n",
    "assert counts['b'] == 3\n"
   ]
  },
  {
   "cell_type": "code",
   "execution_count": 45,
   "id": "07d1eddf",
   "metadata": {},
   "outputs": [],
   "source": [
    "def update_counts_deux(letters, counts_d):\n",
    "    for c in letters:\n",
    "        # counts_d[c] = 1 reassign each letter to 1 everytime\n",
    "        if c in counts_d:\n",
    "            counts_d[c] = counts_d[c] + 1\n",
    "        else:\n",
    "            counts_d[c] = 1\n",
    "\n",
    "\n",
    "counts = {'a': 3, 'b': 2}\n",
    "update_counts_deux(\"aaab\", counts)\n",
    "# 3 more occurrences of a, so 6 in all\n",
    "assert counts['a'] == 6\n",
    "# 1 more occurrence of b, so 3 in all\n",
    "assert counts['b'] == 3\n",
    "\n"
   ]
  },
  {
   "cell_type": "markdown",
   "id": "486653ae",
   "metadata": {},
   "source": [
    "* This function now passes a side effect type test that our counts object has the right count after being transformed"
   ]
  },
  {
   "cell_type": "markdown",
   "id": "fdbf9708",
   "metadata": {},
   "source": [
    "### Return Value Test\n",
    "Testing whether a function returns the correct value is the easiest test case to define. You simply check whether the result of invoking the function on a particular input produces the particular output that you expect. If f is your function, and you think that it should transform inputs x and y into output z, then you could write a test as assert f(x, y) == z. Or, to give a more concrete example, if you have a function square, you could have a test case assert square(3) ==  9. Call this a **return value test**."
   ]
  },
  {
   "cell_type": "code",
   "execution_count": 46,
   "id": "2d9f1d2d",
   "metadata": {},
   "outputs": [],
   "source": [
    "def square(x):\n",
    "    return x*x\n",
    "\n",
    "assert square(3) == 9\n",
    "assert square(4) == 16\n",
    "assert square(-4) == 16\n",
    "assert square(.5) == .25\n"
   ]
  },
  {
   "cell_type": "markdown",
   "id": "adfae79f",
   "metadata": {},
   "source": [
    "* Few different varieties here that show float, negative or positivie integers to check a valid return value"
   ]
  },
  {
   "cell_type": "markdown",
   "id": "2f5a393d",
   "metadata": {},
   "source": [
    "### Test Cases Assessment\n",
    "\n",
    "The function **mySum** is supposed to return the sum of a list of numbers (and 0 if that list is empty), but it has one or more errors in it. Use this space to write test cases to determine what errors there are. You will be using this information to answer the next set of multiple choice questions.\n",
    "\n",
    "The class **Student** is supposed to accept two arguments in its constructor:\n",
    "* A name string\n",
    "* An optional integer representing the number of years the student has been at Michigan (default:1)\n",
    "\n",
    "Every student has three instance variables:\n",
    "* self.name (set to the name provided)\n",
    "* self.years_UM (set to the number of years the student has been at Michigan)\n",
    "* self.knowledge (initialized to 0)\n",
    "\n",
    "There are three methods:\n",
    "* .study() should increase self.knowledge by 1 and return None\n",
    "* .getKnowledge() should return the value of self.knowledge\n",
    "* .year_at_umich() should return the value of self.years_UM\n",
    "\n"
   ]
  },
  {
   "cell_type": "code",
   "execution_count": 47,
   "id": "da2cb7e1",
   "metadata": {},
   "outputs": [],
   "source": [
    "def lr(n): return list(range(n))\n",
    "\n",
    "# THESE FUNCTIONS ARE INTENTIONALLY OBFUSCATED\n",
    "# PLEASE TRY TO WRITE TESTS FOR THEM RATHER THAN\n",
    "# READING THEM.\n",
    "def mySum(a):\n",
    "    if type(a) is type(''.join([][:])): return a[lr(1)[0]] + mySum(a[1:])\n",
    "    elif len(a)==len(lr(1)+[]): return a[lr(1)[0]]\n",
    "    else: return None and a[lr(1)[0]] + mySum(a[1:])\n",
    "\n",
    "\n",
    "# THESE FUNCTIONS ARE INTENTIONALLY OBFUSCATED\n",
    "# PLEASE TRY TO WRITE TESTS FOR THEM RATHER THAN\n",
    "# READING THEM.\n",
    "class Student():\n",
    "    def __init__(s,a,b=1): s.name,s.years_UM,s.knowledge = ''*200+a+''*100,1,len(lr(0)) + len([])\n",
    "    def study(s):\n",
    "        for _ in lr(s.knowledge): s.knowledge = s.knowledge + 1\n",
    "    def getKnowledge(s):\n",
    "        for i in lr(s.knowledge): return s.knowledge\n",
    "    def year_at_umich(s): return s.years_UM\n"
   ]
  },
  {
   "cell_type": "code",
   "execution_count": 48,
   "id": "b05fbf53",
   "metadata": {},
   "outputs": [
    {
     "name": "stdout",
     "output_type": "stream",
     "text": [
      "None\n",
      "1\n",
      "None\n",
      "None\n",
      "None\n",
      "None\n"
     ]
    }
   ],
   "source": [
    "print(mySum([]))\n",
    "print(mySum([1]))\n",
    "print(mySum([-1, 2, 3]))\n",
    "print(mySum([0.5, 1, -2]))\n",
    "print(mySum([3, 5, 9]))\n",
    "print(mySum([1,2]))\n",
    "\n",
    "# assert mySum([]) == 0\n",
    "# assert mySum([3]) == 3\n",
    "# assert mySum([-1, 2, 3]) == 4\n",
    "# assert mySum([0.5, 1, -2]) == -0.5\n",
    "# assert mySum([3,5,9]) == 17"
   ]
  },
  {
   "cell_type": "markdown",
   "id": "52982d86",
   "metadata": {},
   "source": [
    "* An empty list does not return a 0 and fails it's assertion test\n",
    "* A list with one item however does pass (the print out of the 1 and its' assertion test of mySum([3]) passes\n",
    "* assert mySum([-1, 2, 3]) == 4 - This assertion fails (negatives and multiple returns a None)\n",
    "* assert mySum([0.5, 1, -2]) == -0.5 - This assertion fails as well\n",
    "* assert mySum([3,5,9]) == 17 - This assertion fails as well"
   ]
  },
  {
   "cell_type": "code",
   "execution_count": 49,
   "id": "cca1a676",
   "metadata": {},
   "outputs": [
    {
     "name": "stdout",
     "output_type": "stream",
     "text": [
      "Terrell\n",
      "1\n",
      "0\n",
      "None\n",
      "1\n"
     ]
    },
    {
     "ename": "AssertionError",
     "evalue": "",
     "output_type": "error",
     "traceback": [
      "\u001b[0;31m---------------------------------------------------------------------------\u001b[0m",
      "\u001b[0;31mAssertionError\u001b[0m                            Traceback (most recent call last)",
      "\u001b[0;32m/var/folders/r8/mmfd5rgj7v51_80zhnq8v9zc0000gn/T/ipykernel_1405/2371338946.py\u001b[0m in \u001b[0;36m<module>\u001b[0;34m\u001b[0m\n\u001b[1;32m     11\u001b[0m \u001b[0mprevknowledge_value\u001b[0m \u001b[0;34m=\u001b[0m \u001b[0mtestStudent\u001b[0m\u001b[0;34m.\u001b[0m\u001b[0mknowledge\u001b[0m\u001b[0;34m\u001b[0m\u001b[0;34m\u001b[0m\u001b[0m\n\u001b[1;32m     12\u001b[0m \u001b[0mtestStudent\u001b[0m\u001b[0;34m.\u001b[0m\u001b[0mstudy\u001b[0m\u001b[0;34m(\u001b[0m\u001b[0;34m)\u001b[0m \u001b[0;31m# create side effect (increases knowledge)\u001b[0m\u001b[0;34m\u001b[0m\u001b[0;34m\u001b[0m\u001b[0m\n\u001b[0;32m---> 13\u001b[0;31m \u001b[0;32massert\u001b[0m \u001b[0mtestStudent\u001b[0m\u001b[0;34m.\u001b[0m\u001b[0mgetKnowledge\u001b[0m\u001b[0;34m(\u001b[0m\u001b[0;34m)\u001b[0m \u001b[0;34m==\u001b[0m \u001b[0;34m(\u001b[0m\u001b[0mprevknowledge_value\u001b[0m \u001b[0;34m+\u001b[0m \u001b[0;36m1\u001b[0m\u001b[0;34m)\u001b[0m \u001b[0;31m# study method not working\u001b[0m\u001b[0;34m\u001b[0m\u001b[0;34m\u001b[0m\u001b[0m\n\u001b[0m\u001b[1;32m     14\u001b[0m \u001b[0;32massert\u001b[0m \u001b[0mtestStudent\u001b[0m\u001b[0;34m.\u001b[0m\u001b[0mgetKnowledge\u001b[0m\u001b[0;34m(\u001b[0m\u001b[0;34m)\u001b[0m \u001b[0;34m==\u001b[0m \u001b[0mtestStudent\u001b[0m\u001b[0;34m.\u001b[0m\u001b[0mknowledge\u001b[0m \u001b[0;31m# getKnowledge() method not working (just returns none)\u001b[0m\u001b[0;34m\u001b[0m\u001b[0;34m\u001b[0m\u001b[0m\n",
      "\u001b[0;31mAssertionError\u001b[0m: "
     ]
    }
   ],
   "source": [
    "testStudent = Student('Terrell')\n",
    "\n",
    "print(testStudent.name) # Required argument provided test (Name)\n",
    "print(testStudent.years_UM) # would expect 1 (default value)\n",
    "print(testStudent.knowledge) # Would expect zero - got Zero\n",
    "print(testStudent.getKnowledge()) # would expect the zero - got None !\n",
    "print(testStudent.year_at_umich()) # would expect 1 (default) = got 1\n",
    "\n",
    "assert testStudent.name == 'Terrell'\n",
    "assert testStudent.year_at_umich() == testStudent.years_UM # passed!\n",
    "prevknowledge_value = testStudent.knowledge\n",
    "testStudent.study() # create side effect (increases knowledge)\n",
    "assert testStudent.getKnowledge() == (prevknowledge_value + 1) # study method not working\n",
    "assert testStudent.getKnowledge() == testStudent.knowledge # getKnowledge() method not working (just returns none)"
   ]
  },
  {
   "cell_type": "code",
   "execution_count": 50,
   "id": "117db929",
   "metadata": {},
   "outputs": [
    {
     "name": "stdout",
     "output_type": "stream",
     "text": [
      "Harry\n",
      "1\n",
      "0\n",
      "None\n",
      "1\n"
     ]
    },
    {
     "ename": "AssertionError",
     "evalue": "",
     "output_type": "error",
     "traceback": [
      "\u001b[0;31m---------------------------------------------------------------------------\u001b[0m",
      "\u001b[0;31mAssertionError\u001b[0m                            Traceback (most recent call last)",
      "\u001b[0;32m/var/folders/r8/mmfd5rgj7v51_80zhnq8v9zc0000gn/T/ipykernel_1405/2893844313.py\u001b[0m in \u001b[0;36m<module>\u001b[0;34m\u001b[0m\n\u001b[1;32m      9\u001b[0m \u001b[0;32massert\u001b[0m \u001b[0mtestStudent2\u001b[0m\u001b[0;34m.\u001b[0m\u001b[0mstudy\u001b[0m\u001b[0;34m(\u001b[0m\u001b[0;34m)\u001b[0m \u001b[0;34m==\u001b[0m \u001b[0;32mNone\u001b[0m \u001b[0;31m# Passed\u001b[0m\u001b[0;34m\u001b[0m\u001b[0;34m\u001b[0m\u001b[0m\n\u001b[1;32m     10\u001b[0m \u001b[0;32massert\u001b[0m \u001b[0mtestStudent2\u001b[0m\u001b[0;34m.\u001b[0m\u001b[0mname\u001b[0m \u001b[0;34m==\u001b[0m \u001b[0;34m'Harry'\u001b[0m \u001b[0;31m# Passed\u001b[0m\u001b[0;34m\u001b[0m\u001b[0;34m\u001b[0m\u001b[0m\n\u001b[0;32m---> 11\u001b[0;31m \u001b[0;32massert\u001b[0m \u001b[0mtestStudent2\u001b[0m\u001b[0;34m.\u001b[0m\u001b[0myears_UM\u001b[0m \u001b[0;34m==\u001b[0m \u001b[0;36m3\u001b[0m \u001b[0;31m# Failed\u001b[0m\u001b[0;34m\u001b[0m\u001b[0;34m\u001b[0m\u001b[0m\n\u001b[0m\u001b[1;32m     12\u001b[0m \u001b[0;32massert\u001b[0m \u001b[0mtestStudent2\u001b[0m\u001b[0;34m.\u001b[0m\u001b[0myear_at_umich\u001b[0m\u001b[0;34m(\u001b[0m\u001b[0;34m)\u001b[0m \u001b[0;34m==\u001b[0m \u001b[0mtestStudent\u001b[0m\u001b[0;34m.\u001b[0m\u001b[0myears_UM\u001b[0m \u001b[0;31m# passed .. but only default value of 1, 3 not set\u001b[0m\u001b[0;34m\u001b[0m\u001b[0;34m\u001b[0m\u001b[0m\n\u001b[1;32m     13\u001b[0m \u001b[0mset_knowledge_value\u001b[0m \u001b[0;34m=\u001b[0m \u001b[0mtestStudent2\u001b[0m\u001b[0;34m.\u001b[0m\u001b[0mknowledge\u001b[0m\u001b[0;34m\u001b[0m\u001b[0;34m\u001b[0m\u001b[0m\n",
      "\u001b[0;31mAssertionError\u001b[0m: "
     ]
    }
   ],
   "source": [
    "testStudent2 = Student('Harry', 3)\n",
    "\n",
    "print(testStudent2.name) # Required argument provided - check if Harry\n",
    "print(testStudent2.years_UM) # we added an optional argument here, should be 3 \n",
    "print(testStudent2.knowledge) # Would expect zero \n",
    "print(testStudent2.getKnowledge()) # would expect the zero - got None !\n",
    "print(testStudent2.year_at_umich()) # would expect 3 ()\n",
    "\n",
    "assert testStudent2.study() == None # Passed\n",
    "assert testStudent2.name == 'Harry' # Passed\n",
    "assert testStudent2.years_UM == 3 # Failed\n",
    "assert testStudent2.year_at_umich() == testStudent.years_UM # passed .. but only default value of 1, 3 not set \n",
    "set_knowledge_value = testStudent2.knowledge\n",
    "testStudent2.study()\n",
    "assert testStudent2.knowledge == (set_knowledge_value + 1) # Failed\n",
    "assert testStudent2.getKnowledge() == (set_knowledge_value + 1) # Failed"
   ]
  },
  {
   "cell_type": "markdown",
   "id": "46e280bd",
   "metadata": {},
   "source": [
    "## Exceptions\n",
    "* An **exception** is a signal that a condition has occurred that can’t be easily handled using the normal flow-of-control of a Python program. \n",
    "* Exceptions are often defined as being “errors” but this is not always the case. \n",
    "* All errors in Python are dealt with using exceptions, but not all exceptions are errors."
   ]
  },
  {
   "cell_type": "markdown",
   "id": "559f181d",
   "metadata": {},
   "source": [
    "To explain what an exception does, let’s review the normal “flow of control” in a Python program. In normal operation Python executes statements sequentially, one after the other. For three constructs, if-statements, loops and function invocations, this sequential execution is interrupted.\n",
    "\n",
    "* For if-statements, only one of several statement blocks is executed and then flow-of-control jumps to the first statement after the if-statement.\n",
    "\n",
    "* For loops, when the end of the loop is reached, flow-of-control jumps back to the start of the loop and a test is used to determine if the loop needs to execute again. If the loop is finished, flow-of-control jumps to the first statement after the loop.\n",
    "\n",
    "* For function invocations, flow-of-control jumps to the first statement in the called function, the function is executed, and the flow-of-control jumps back to the next statement after the function call.\n",
    "\n",
    "Do you see the pattern? If the flow-of-control is not purely sequential, it always executes the first statement immediately following the altered flow-of-control. That is why we can say that Python flow-of-control is sequential. But there are cases where this sequential flow-of-control does not work well.\n",
    "\n",
    "Exceptions provide us with way way to have a non-sequential point where we can handle something out of the ordinary (exceptional)"
   ]
  },
  {
   "cell_type": "markdown",
   "id": "2b0336b5",
   "metadata": {},
   "source": [
    "### Raising and Catching Errors\n",
    "\n",
    "The **try/except** control structure provides a way to process a run-time error and continue on with program execution. Until now, any run-time error, such asking for the 8th item in a list with only 3 items, or dividing by 0, has caused the program execution to stop. \n",
    "In the browser ActiveCode windows, you get an error message in a box below. \n",
    "\n",
    "* When you are executing python programs from the command-line, you also get an error message saying something about what went wrong and what line it occurred on. \n",
    "* After the run-time error is encountered, the python interpreter does not try to execute the rest of the code. You have to make some change in your code and rerun the whole program.\n",
    "\n",
    "With **try/except**, you tell the python interpreter:\n",
    "\n",
    "1. Try to execute a block of code, the “try” clause.\n",
    "2. If the whole block of code executes without any run-time errors, just carry on with the rest of the program after the try/except statement.\n",
    "\n",
    "3. If a run-time error does occur during execution of the block of code: skip the rest of that block of code (but don’t exit the whole program) execute a block of code in the “except” clause then carry on with the rest of the program after the try/except statement"
   ]
  },
  {
   "cell_type": "code",
   "execution_count": 51,
   "id": "da88fccd",
   "metadata": {},
   "outputs": [
    {
     "name": "stdout",
     "output_type": "stream",
     "text": [
      "got an error\n",
      "continuing\n"
     ]
    }
   ],
   "source": [
    "try:\n",
    "    items = ['a', 'b']\n",
    "    third = items[2]\n",
    "    print(\"This won't print\")\n",
    "except Exception:\n",
    "    print(\"got an error\")\n",
    "\n",
    "print(\"continuing\")\n"
   ]
  },
  {
   "cell_type": "code",
   "execution_count": 52,
   "id": "c5f4aa02",
   "metadata": {},
   "outputs": [
    {
     "name": "stdout",
     "output_type": "stream",
     "text": [
      "error 1\n",
      "continuing\n"
     ]
    },
    {
     "ename": "ZeroDivisionError",
     "evalue": "division by zero",
     "output_type": "error",
     "traceback": [
      "\u001b[0;31m---------------------------------------------------------------------------\u001b[0m",
      "\u001b[0;31mZeroDivisionError\u001b[0m                         Traceback (most recent call last)",
      "\u001b[0;32m/var/folders/r8/mmfd5rgj7v51_80zhnq8v9zc0000gn/T/ipykernel_1405/3565531795.py\u001b[0m in \u001b[0;36m<module>\u001b[0;34m\u001b[0m\n\u001b[1;32m     10\u001b[0m \u001b[0;32mtry\u001b[0m\u001b[0;34m:\u001b[0m\u001b[0;34m\u001b[0m\u001b[0;34m\u001b[0m\u001b[0m\n\u001b[1;32m     11\u001b[0m     \u001b[0mx\u001b[0m \u001b[0;34m=\u001b[0m \u001b[0;36m5\u001b[0m\u001b[0;34m\u001b[0m\u001b[0;34m\u001b[0m\u001b[0m\n\u001b[0;32m---> 12\u001b[0;31m     \u001b[0my\u001b[0m \u001b[0;34m=\u001b[0m \u001b[0mx\u001b[0m\u001b[0;34m/\u001b[0m\u001b[0;36m0\u001b[0m\u001b[0;34m\u001b[0m\u001b[0;34m\u001b[0m\u001b[0m\n\u001b[0m\u001b[1;32m     13\u001b[0m     \u001b[0mprint\u001b[0m\u001b[0;34m(\u001b[0m\u001b[0;34m\"This won't print, either\"\u001b[0m\u001b[0;34m)\u001b[0m\u001b[0;34m\u001b[0m\u001b[0;34m\u001b[0m\u001b[0m\n\u001b[1;32m     14\u001b[0m \u001b[0;32mexcept\u001b[0m \u001b[0mIndexError\u001b[0m\u001b[0;34m:\u001b[0m\u001b[0;34m\u001b[0m\u001b[0;34m\u001b[0m\u001b[0m\n",
      "\u001b[0;31mZeroDivisionError\u001b[0m: division by zero"
     ]
    }
   ],
   "source": [
    "try:\n",
    "    items = ['a', 'b']\n",
    "    third = items[2]\n",
    "    print(\"This won't print\")\n",
    "except IndexError:\n",
    "    print(\"error 1\")\n",
    "\n",
    "print(\"continuing\")\n",
    "\n",
    "try:\n",
    "    x = 5\n",
    "    y = x/0\n",
    "    print(\"This won't print, either\")\n",
    "except IndexError:\n",
    "    print(\"error 2\")\n",
    "\n",
    "\n",
    "print(\"continuing again\")\n"
   ]
  },
  {
   "cell_type": "markdown",
   "id": "eb2cae7e",
   "metadata": {},
   "source": [
    "* If we catch only **IndexEror**, and we actually have a divide by zero error, the program does stop executing."
   ]
  },
  {
   "cell_type": "code",
   "execution_count": 53,
   "id": "fa460982",
   "metadata": {},
   "outputs": [
    {
     "name": "stdout",
     "output_type": "stream",
     "text": [
      "error 1\n",
      "continuing\n",
      "error 2\n",
      "continuing again\n"
     ]
    }
   ],
   "source": [
    "try:\n",
    "    items = ['a', 'b']\n",
    "    third = items[2]\n",
    "    print(\"This won't print\")\n",
    "except IndexError:\n",
    "    print(\"error 1\")\n",
    "\n",
    "print(\"continuing\")\n",
    "\n",
    "try:\n",
    "    x = 5\n",
    "    y = x/0\n",
    "    print(\"This won't print, either\")\n",
    "except ZeroDivisionError:\n",
    "    print(\"error 2\")\n",
    "\n",
    "\n",
    "print(\"continuing again\")\n",
    "\n"
   ]
  },
  {
   "cell_type": "markdown",
   "id": "ab4b6ac0",
   "metadata": {},
   "source": [
    "* **Type Error** can be caught in multiple exception types when running the try block as to continue with the execution of your script"
   ]
  },
  {
   "cell_type": "code",
   "execution_count": 54,
   "id": "d68f840f",
   "metadata": {},
   "outputs": [
    {
     "name": "stdout",
     "output_type": "stream",
     "text": [
      "got an error\n",
      "list index out of range\n",
      "continuing\n"
     ]
    }
   ],
   "source": [
    "try:\n",
    "    items = ['a', 'b']\n",
    "    third = items[2]\n",
    "    print(\"This won't print\")\n",
    "except Exception as e:\n",
    "    print(\"got an error\")\n",
    "    print(e)\n",
    "\n",
    "print(\"continuing\")\n"
   ]
  },
  {
   "cell_type": "markdown",
   "id": "e5c26581",
   "metadata": {},
   "source": [
    "* There’s one other useful feature. The exception code can access a variable that contains information about exactly what the error was. \n",
    "* Thus, for example, in the **except** clause you could print out the information that would normally be printed as an error message but continue on with execution of the rest of the program. \n",
    "* To do that, you specify a variable name after the exception class that’s being handled. The exception clause code can refer to that variable name."
   ]
  },
  {
   "attachments": {
    "Screen%20Shot%202022-12-16%20at%2011.15.52%20AM.png": {
     "image/png": "[encoded data removed]"
    }
   },
   "cell_type": "markdown",
   "id": "2773d1b2",
   "metadata": {},
   "source": [
    "![Screen%20Shot%202022-12-16%20at%2011.15.52%20AM.png](attachment:Screen%20Shot%202022-12-16%20at%2011.15.52%20AM.png)"
   ]
  },
  {
   "cell_type": "code",
   "execution_count": null,
   "id": "73948340",
   "metadata": {},
   "outputs": [],
   "source": []
  }
 ],
 "metadata": {
  "kernelspec": {
   "display_name": "Python 3 (ipykernel)",
   "language": "python",
   "name": "python3"
  },
  "language_info": {
   "codemirror_mode": {
    "name": "ipython",
    "version": 3
   },
   "file_extension": ".py",
   "mimetype": "text/x-python",
   "name": "python",
   "nbconvert_exporter": "python",
   "pygments_lexer": "ipython3",
   "version": "3.9.12"
  }
 },
 "nbformat": 4,
 "nbformat_minor": 5
}
