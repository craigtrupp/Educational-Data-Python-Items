{
 "cells": [
  {
   "cell_type": "markdown",
   "metadata": {},
   "source": [
    "# Practice notebook for regression analysis with NHANES\n",
    "\n",
    "This notebook will give you the opportunity to perform some\n",
    "regression analyses with the NHANES data that are similar to\n",
    "the analyses done in the week 2 case study notebook.\n",
    "\n",
    "You can enter your code into the cells that say \"enter your code here\",\n",
    "and you can type responses to the questions into the cells that say \"Type Markdown and Latex\".\n",
    "\n",
    "Note that most of the code that you will need to write below is very similar\n",
    "to code that appears in the case study notebook.  You will need\n",
    "to edit code from that notebook in small ways to adapt it to the\n",
    "prompts below.\n",
    "\n",
    "To get started, we will use the same module imports and\n",
    "read the data in the same way as we did in the case study:"
   ]
  },
  {
   "cell_type": "code",
   "execution_count": 95,
   "metadata": {},
   "outputs": [],
   "source": [
    "%matplotlib inline\n",
    "import matplotlib.pyplot as plt\n",
    "import seaborn as sns\n",
    "import pandas as pd\n",
    "import statsmodels.api as sm\n",
    "import numpy as np\n",
    "\n",
    "url = \"https://raw.githubusercontent.com/kshedden/statswpy/master/NHANES/merged/nhanes_2015_2016.csv\"\n",
    "da = pd.read_csv(url)\n",
    "\n",
    "# Drop unused columns, drop rows with any missing values.\n",
    "vars = [\"BPXSY1\", \"RIDAGEYR\", \"RIAGENDR\", \"RIDRETH1\", \"DMDEDUC2\", \"BMXBMI\", \"SMQ020\", 'ALQ110']\n",
    "da = da[vars].dropna()"
   ]
  },
  {
   "cell_type": "markdown",
   "metadata": {},
   "source": [
    "## Question 1:\n",
    "\n",
    "Use linear regression to relate the expected body mass index (BMI) to a person's age.\n",
    "* Linear function of Age"
   ]
  },
  {
   "cell_type": "code",
   "execution_count": 96,
   "metadata": {},
   "outputs": [
    {
     "data": {
      "text/html": [
       "<table class=\"simpletable\">\n",
       "<caption>OLS Regression Results</caption>\n",
       "<tr>\n",
       "  <th>Dep. Variable:</th>         <td>BMXBMI</td>      <th>  R-squared:         </th> <td>   0.002</td> \n",
       "</tr>\n",
       "<tr>\n",
       "  <th>Model:</th>                   <td>OLS</td>       <th>  Adj. R-squared:    </th> <td>   0.001</td> \n",
       "</tr>\n",
       "<tr>\n",
       "  <th>Method:</th>             <td>Least Squares</td>  <th>  F-statistic:       </th> <td>   2.280</td> \n",
       "</tr>\n",
       "<tr>\n",
       "  <th>Date:</th>             <td>Thu, 19 Jan 2023</td> <th>  Prob (F-statistic):</th>  <td> 0.131</td>  \n",
       "</tr>\n",
       "<tr>\n",
       "  <th>Time:</th>                 <td>10:56:09</td>     <th>  Log-Likelihood:    </th> <td> -5033.1</td> \n",
       "</tr>\n",
       "<tr>\n",
       "  <th>No. Observations:</th>      <td>  1473</td>      <th>  AIC:               </th> <td>1.007e+04</td>\n",
       "</tr>\n",
       "<tr>\n",
       "  <th>Df Residuals:</th>          <td>  1471</td>      <th>  BIC:               </th> <td>1.008e+04</td>\n",
       "</tr>\n",
       "<tr>\n",
       "  <th>Df Model:</th>              <td>     1</td>      <th>                     </th>     <td> </td>    \n",
       "</tr>\n",
       "<tr>\n",
       "  <th>Covariance Type:</th>      <td>nonrobust</td>    <th>                     </th>     <td> </td>    \n",
       "</tr>\n",
       "</table>\n",
       "<table class=\"simpletable\">\n",
       "<tr>\n",
       "      <td></td>         <th>coef</th>     <th>std err</th>      <th>t</th>      <th>P>|t|</th>  <th>[0.025</th>    <th>0.975]</th>  \n",
       "</tr>\n",
       "<tr>\n",
       "  <th>Intercept</th> <td>   29.1093</td> <td>    0.596</td> <td>   48.871</td> <td> 0.000</td> <td>   27.941</td> <td>   30.278</td>\n",
       "</tr>\n",
       "<tr>\n",
       "  <th>RIDAGEYR</th>  <td>    0.0161</td> <td>    0.011</td> <td>    1.510</td> <td> 0.131</td> <td>   -0.005</td> <td>    0.037</td>\n",
       "</tr>\n",
       "</table>\n",
       "<table class=\"simpletable\">\n",
       "<tr>\n",
       "  <th>Omnibus:</th>       <td>263.915</td> <th>  Durbin-Watson:     </th> <td>   2.016</td> \n",
       "</tr>\n",
       "<tr>\n",
       "  <th>Prob(Omnibus):</th> <td> 0.000</td>  <th>  Jarque-Bera (JB):  </th> <td> 495.303</td> \n",
       "</tr>\n",
       "<tr>\n",
       "  <th>Skew:</th>          <td> 1.083</td>  <th>  Prob(JB):          </th> <td>2.79e-108</td>\n",
       "</tr>\n",
       "<tr>\n",
       "  <th>Kurtosis:</th>      <td> 4.838</td>  <th>  Cond. No.          </th> <td>    173.</td> \n",
       "</tr>\n",
       "</table><br/><br/>Notes:<br/>[1] Standard Errors assume that the covariance matrix of the errors is correctly specified."
      ],
      "text/plain": [
       "<class 'statsmodels.iolib.summary.Summary'>\n",
       "\"\"\"\n",
       "                            OLS Regression Results                            \n",
       "==============================================================================\n",
       "Dep. Variable:                 BMXBMI   R-squared:                       0.002\n",
       "Model:                            OLS   Adj. R-squared:                  0.001\n",
       "Method:                 Least Squares   F-statistic:                     2.280\n",
       "Date:                Thu, 19 Jan 2023   Prob (F-statistic):              0.131\n",
       "Time:                        10:56:09   Log-Likelihood:                -5033.1\n",
       "No. Observations:                1473   AIC:                         1.007e+04\n",
       "Df Residuals:                    1471   BIC:                         1.008e+04\n",
       "Df Model:                           1                                         \n",
       "Covariance Type:            nonrobust                                         \n",
       "==============================================================================\n",
       "                 coef    std err          t      P>|t|      [0.025      0.975]\n",
       "------------------------------------------------------------------------------\n",
       "Intercept     29.1093      0.596     48.871      0.000      27.941      30.278\n",
       "RIDAGEYR       0.0161      0.011      1.510      0.131      -0.005       0.037\n",
       "==============================================================================\n",
       "Omnibus:                      263.915   Durbin-Watson:                   2.016\n",
       "Prob(Omnibus):                  0.000   Jarque-Bera (JB):              495.303\n",
       "Skew:                           1.083   Prob(JB):                    2.79e-108\n",
       "Kurtosis:                       4.838   Cond. No.                         173.\n",
       "==============================================================================\n",
       "\n",
       "Notes:\n",
       "[1] Standard Errors assume that the covariance matrix of the errors is correctly specified.\n",
       "\"\"\""
      ]
     },
     "execution_count": 96,
     "metadata": {},
     "output_type": "execute_result"
    }
   ],
   "source": [
    "# enter your code here\n",
    "smodel_linear_bmi = sm.OLS.from_formula(\"BMXBMI ~ RIDAGEYR\", data=da)\n",
    "smodel_linear_bmi_result = smodel_linear_bmi.fit()\n",
    "smodel_linear_bmi_result.summary()"
   ]
  },
  {
   "cell_type": "markdown",
   "metadata": {},
   "source": [
    "* Fitted model implies that when compaing two people whose age differs by one year, the older person will on average .0091 units higher BMI than the younger person. "
   ]
  },
  {
   "cell_type": "markdown",
   "metadata": {},
   "source": [
    "__Q1a.__ According to your fitted model, do older people tend to have higher or lower BMI than younger people?"
   ]
  },
  {
   "cell_type": "markdown",
   "metadata": {},
   "source": [
    "* Slightly higher BMI with our coef showing a positive value of 0.0091"
   ]
  },
  {
   "cell_type": "markdown",
   "metadata": {},
   "source": [
    "__Q1b.__ Based your analysis, are you confident that there is a relationship between BMI and age in the population that NHANES represents?"
   ]
  },
  {
   "cell_type": "markdown",
   "metadata": {},
   "source": [
    "* Default two-sided 95% confidence would not be statistically significant (p-value greater than .05) to suggest a strong relationship. Low confidence "
   ]
  },
  {
   "cell_type": "markdown",
   "metadata": {},
   "source": [
    "__Q1c.__ By how much does the average BMI of a 40 year old differ from the average BMI of a 20 year old?"
   ]
  },
  {
   "cell_type": "markdown",
   "metadata": {},
   "source": [
    "* Similar to the lecture notebook, comparing a 40 year old to a 20 year old person is a 20 year difference in which we just multiply the difference for our Age Coefficient"
   ]
  },
  {
   "cell_type": "code",
   "execution_count": 97,
   "metadata": {},
   "outputs": [
    {
     "data": {
      "text/plain": [
       "'Average difference of BMI of a 40 year old compared to a 20 year old is : 0.32251 units greater'"
      ]
     },
     "execution_count": 97,
     "metadata": {},
     "output_type": "execute_result"
    }
   ],
   "source": [
    "# Access to coefficient value for Q1c\n",
    "\"Average difference of BMI of a 40 year old compared to a 20 year old is : {} units greater\".format(\n",
    "    round(smodel_linear_bmi_result.params.loc['RIDAGEYR'] * 20, 5))"
   ]
  },
  {
   "cell_type": "markdown",
   "metadata": {},
   "source": [
    "__Q1d.__ What fraction of the variation of BMI in this population is explained by age?"
   ]
  },
  {
   "cell_type": "markdown",
   "metadata": {},
   "source": [
    "* Reminder on Rsquared (coefficient of determination)\n",
    "    * The most common interpretation of r-squared is how well the regression model **explains observed data**. For example, an r-squared of 60% reveals that 60% of the variability observed in the target variable is explained by the regression model. \n",
    "    * Generally, a higher r-squared indicates more variability is explained by the model.\n",
    "    \n",
    "* Back to Ours which is just a r-squared value of 0.001\n",
    "    * Thus only 1% of the variability observed in our BMI is explained by our regression model"
   ]
  },
  {
   "cell_type": "code",
   "execution_count": 98,
   "metadata": {},
   "outputs": [
    {
     "data": {
      "text/plain": [
       "0.0015478952666461545"
      ]
     },
     "execution_count": 98,
     "metadata": {},
     "output_type": "execute_result"
    }
   ],
   "source": [
    "r_squared = da[['BMXBMI', 'RIDAGEYR']].corr().loc['BMXBMI', 'RIDAGEYR'] ** 2\n",
    "r_squared # When we round up here we'd get the same return of 0.001 as our summary shows"
   ]
  },
  {
   "cell_type": "markdown",
   "metadata": {},
   "source": [
    "## Question 2: \n",
    "\n",
    "Add gender and ethnicity as additional control variables to your linear model relating BMI to age.  You will need to recode the ethnic groups based\n",
    "on the values in the codebook entry for [RIDRETH1](https://wwwn.cdc.gov/Nchs/Nhanes/2015-2016/DEMO_I.htm#RIDRETH1)."
   ]
  },
  {
   "cell_type": "code",
   "execution_count": 99,
   "metadata": {},
   "outputs": [
    {
     "data": {
      "text/html": [
       "<table class=\"simpletable\">\n",
       "<caption>OLS Regression Results</caption>\n",
       "<tr>\n",
       "  <th>Dep. Variable:</th>         <td>BMXBMI</td>      <th>  R-squared:         </th> <td>   0.089</td>\n",
       "</tr>\n",
       "<tr>\n",
       "  <th>Model:</th>                   <td>OLS</td>       <th>  Adj. R-squared:    </th> <td>   0.085</td>\n",
       "</tr>\n",
       "<tr>\n",
       "  <th>Method:</th>             <td>Least Squares</td>  <th>  F-statistic:       </th> <td>   23.80</td>\n",
       "</tr>\n",
       "<tr>\n",
       "  <th>Date:</th>             <td>Thu, 19 Jan 2023</td> <th>  Prob (F-statistic):</th> <td>5.55e-27</td>\n",
       "</tr>\n",
       "<tr>\n",
       "  <th>Time:</th>                 <td>10:56:16</td>     <th>  Log-Likelihood:    </th> <td> -4965.8</td>\n",
       "</tr>\n",
       "<tr>\n",
       "  <th>No. Observations:</th>      <td>  1473</td>      <th>  AIC:               </th> <td>   9946.</td>\n",
       "</tr>\n",
       "<tr>\n",
       "  <th>Df Residuals:</th>          <td>  1466</td>      <th>  BIC:               </th> <td>   9983.</td>\n",
       "</tr>\n",
       "<tr>\n",
       "  <th>Df Model:</th>              <td>     6</td>      <th>                     </th>     <td> </td>   \n",
       "</tr>\n",
       "<tr>\n",
       "  <th>Covariance Type:</th>      <td>nonrobust</td>    <th>                     </th>     <td> </td>   \n",
       "</tr>\n",
       "</table>\n",
       "<table class=\"simpletable\">\n",
       "<tr>\n",
       "              <td></td>                <th>coef</th>     <th>std err</th>      <th>t</th>      <th>P>|t|</th>  <th>[0.025</th>    <th>0.975]</th>  \n",
       "</tr>\n",
       "<tr>\n",
       "  <th>Intercept</th>                <td>   31.6846</td> <td>    0.682</td> <td>   46.453</td> <td> 0.000</td> <td>   30.347</td> <td>   33.023</td>\n",
       "</tr>\n",
       "<tr>\n",
       "  <th>RIAGENDRx[T.Male]</th>        <td>   -1.2017</td> <td>    0.407</td> <td>   -2.949</td> <td> 0.003</td> <td>   -2.001</td> <td>   -0.402</td>\n",
       "</tr>\n",
       "<tr>\n",
       "  <th>RIDRETH1x[T.Non_Hisp_Bk]</th> <td>   -0.7502</td> <td>    0.569</td> <td>   -1.319</td> <td> 0.187</td> <td>   -1.866</td> <td>    0.366</td>\n",
       "</tr>\n",
       "<tr>\n",
       "  <th>RIDRETH1x[T.Non_Hisp_Wh]</th> <td>   -0.9866</td> <td>    0.562</td> <td>   -1.755</td> <td> 0.080</td> <td>   -2.090</td> <td>    0.116</td>\n",
       "</tr>\n",
       "<tr>\n",
       "  <th>RIDRETH1x[T.Oth_Hisp]</th>    <td>   -1.0388</td> <td>    0.628</td> <td>   -1.654</td> <td> 0.098</td> <td>   -2.271</td> <td>    0.193</td>\n",
       "</tr>\n",
       "<tr>\n",
       "  <th>RIDRETH1x[T.Other]</th>       <td>   -5.8381</td> <td>    0.588</td> <td>   -9.920</td> <td> 0.000</td> <td>   -6.992</td> <td>   -4.684</td>\n",
       "</tr>\n",
       "<tr>\n",
       "  <th>RIDAGEYR</th>                 <td>    0.0058</td> <td>    0.010</td> <td>    0.560</td> <td> 0.576</td> <td>   -0.015</td> <td>    0.026</td>\n",
       "</tr>\n",
       "</table>\n",
       "<table class=\"simpletable\">\n",
       "<tr>\n",
       "  <th>Omnibus:</th>       <td>256.385</td> <th>  Durbin-Watson:     </th> <td>   2.032</td> \n",
       "</tr>\n",
       "<tr>\n",
       "  <th>Prob(Omnibus):</th> <td> 0.000</td>  <th>  Jarque-Bera (JB):  </th> <td> 491.828</td> \n",
       "</tr>\n",
       "<tr>\n",
       "  <th>Skew:</th>          <td> 1.044</td>  <th>  Prob(JB):          </th> <td>1.59e-107</td>\n",
       "</tr>\n",
       "<tr>\n",
       "  <th>Kurtosis:</th>      <td> 4.912</td>  <th>  Cond. No.          </th> <td>    306.</td> \n",
       "</tr>\n",
       "</table><br/><br/>Notes:<br/>[1] Standard Errors assume that the covariance matrix of the errors is correctly specified."
      ],
      "text/plain": [
       "<class 'statsmodels.iolib.summary.Summary'>\n",
       "\"\"\"\n",
       "                            OLS Regression Results                            \n",
       "==============================================================================\n",
       "Dep. Variable:                 BMXBMI   R-squared:                       0.089\n",
       "Model:                            OLS   Adj. R-squared:                  0.085\n",
       "Method:                 Least Squares   F-statistic:                     23.80\n",
       "Date:                Thu, 19 Jan 2023   Prob (F-statistic):           5.55e-27\n",
       "Time:                        10:56:16   Log-Likelihood:                -4965.8\n",
       "No. Observations:                1473   AIC:                             9946.\n",
       "Df Residuals:                    1466   BIC:                             9983.\n",
       "Df Model:                           6                                         \n",
       "Covariance Type:            nonrobust                                         \n",
       "============================================================================================\n",
       "                               coef    std err          t      P>|t|      [0.025      0.975]\n",
       "--------------------------------------------------------------------------------------------\n",
       "Intercept                   31.6846      0.682     46.453      0.000      30.347      33.023\n",
       "RIAGENDRx[T.Male]           -1.2017      0.407     -2.949      0.003      -2.001      -0.402\n",
       "RIDRETH1x[T.Non_Hisp_Bk]    -0.7502      0.569     -1.319      0.187      -1.866       0.366\n",
       "RIDRETH1x[T.Non_Hisp_Wh]    -0.9866      0.562     -1.755      0.080      -2.090       0.116\n",
       "RIDRETH1x[T.Oth_Hisp]       -1.0388      0.628     -1.654      0.098      -2.271       0.193\n",
       "RIDRETH1x[T.Other]          -5.8381      0.588     -9.920      0.000      -6.992      -4.684\n",
       "RIDAGEYR                     0.0058      0.010      0.560      0.576      -0.015       0.026\n",
       "==============================================================================\n",
       "Omnibus:                      256.385   Durbin-Watson:                   2.032\n",
       "Prob(Omnibus):                  0.000   Jarque-Bera (JB):              491.828\n",
       "Skew:                           1.044   Prob(JB):                    1.59e-107\n",
       "Kurtosis:                       4.912   Cond. No.                         306.\n",
       "==============================================================================\n",
       "\n",
       "Notes:\n",
       "[1] Standard Errors assume that the covariance matrix of the errors is correctly specified.\n",
       "\"\"\""
      ]
     },
     "execution_count": 99,
     "metadata": {},
     "output_type": "execute_result"
    }
   ],
   "source": [
    "# Recode Ethnic Group and Gender (Believe only Ethnic Group recoding required)\n",
    "\n",
    "\n",
    "da['RIAGENDRx'] = da['RIAGENDR'].replace({1:'Male', 2:'Female'})\n",
    "da['RIDRETH1x'] = da['RIDRETH1'].replace({1: \"Mex_Am\", 2: \"Oth_Hisp\", 3: \"Non_Hisp_Wh\", 4: \"Non_Hisp_Bk\", 5: \"Other\"})\n",
    "\n",
    "lmodel_2_eth_gnd_age = sm.OLS.from_formula(\"BMXBMI ~ RIDAGEYR + RIAGENDRx + RIDRETH1x\", data=da)\n",
    "result_2_eth_gnd_age_result = lmodel_2_eth_gnd_age.fit()\n",
    "result_2_eth_gnd_age_result.summary()"
   ]
  },
  {
   "cell_type": "markdown",
   "metadata": {},
   "source": [
    "__Q2a.__ How did the mean relationship between BMI and age change when you added additional covariates to the model?"
   ]
  },
  {
   "cell_type": "markdown",
   "metadata": {},
   "source": [
    "* Slight reduction from .0091 to .0065"
   ]
  },
  {
   "cell_type": "markdown",
   "metadata": {},
   "source": [
    "__Q2b.__ How did the standard error for the regression parameter for age change when you added additional covariates to the model?"
   ]
  },
  {
   "cell_type": "markdown",
   "metadata": {},
   "source": [
    "* Another slight reduction from .006 to .005"
   ]
  },
  {
   "cell_type": "markdown",
   "metadata": {},
   "source": [
    "__Q2c.__ How much additional variation in BMI is explained by age, gender, and ethnicity that is not explained by age alone?"
   ]
  },
  {
   "cell_type": "markdown",
   "metadata": {},
   "source": [
    "* Our initial rsquared value for just age (.001) was increased to (.055) with our included variables. Thus about 5.5% of the variability of our target variable BMI was captured by our model"
   ]
  },
  {
   "cell_type": "markdown",
   "metadata": {},
   "source": [
    "__Q2d.__ What reference level did the software select for the ethnicity variable?"
   ]
  },
  {
   "cell_type": "markdown",
   "metadata": {},
   "source": [
    "* Mexican-American is included in the Intercept reference level"
   ]
  },
  {
   "cell_type": "markdown",
   "metadata": {},
   "source": [
    "__Q2e.__ What is the expected difference between the BMI of a 40 year-old non-Hispanic black man and a 30 year-old non-Hispanic black man?"
   ]
  },
  {
   "cell_type": "code",
   "execution_count": 100,
   "metadata": {},
   "outputs": [
    {
     "name": "stdout",
     "output_type": "stream",
     "text": [
      "0    29.965778\n",
      "1    29.907521\n",
      "dtype: float64\n",
      "0.05825616389663324\n"
     ]
    }
   ],
   "source": [
    "two_e_dfram = pd.DataFrame({'RIAGENDRx':['Male', 'Male'],\n",
    "                           'RIDRETH1x': ['Non_Hisp_Bk', 'Non_Hisp_Bk'],\n",
    "                           'RIDAGEYR': [40, 30]})\n",
    "\n",
    "two_e_series = result_2_eth_gnd_age_result.predict(two_e_dfram)\n",
    "print(two_e_series)\n",
    "expected_difference_40_30 = two_e_series.iloc[0] - two_e_series.iloc[1]\n",
    "print(expected_difference_40_30)"
   ]
  },
  {
   "cell_type": "code",
   "execution_count": 101,
   "metadata": {},
   "outputs": [
    {
     "data": {
      "text/plain": [
       "0.05825616389663203"
      ]
     },
     "execution_count": 101,
     "metadata": {},
     "output_type": "execute_result"
    }
   ],
   "source": [
    "# I think you can also just take the difference and times our age value here as they are the same sex, and ethnicity\n",
    "(40-30) * result_2_eth_gnd_age_result.params.loc['RIDAGEYR']"
   ]
  },
  {
   "cell_type": "markdown",
   "metadata": {},
   "source": [
    "__Q2f.__ What is the expected difference between the BMI of a 50 year-old Mexican American woman and a 50 year-old non-Hispanic black man?"
   ]
  },
  {
   "cell_type": "code",
   "execution_count": 102,
   "metadata": {},
   "outputs": [
    {
     "name": "stdout",
     "output_type": "stream",
     "text": [
      "0    31.975863\n",
      "1    30.024034\n",
      "dtype: float64\n"
     ]
    },
    {
     "data": {
      "text/plain": [
       "'Expected (absolute) difference between the two specified individuals would be : 1.9518292510168642 '"
      ]
     },
     "execution_count": 102,
     "metadata": {},
     "output_type": "execute_result"
    }
   ],
   "source": [
    "two_f_dframe = pd.DataFrame({'RIAGENDRx':['Female', 'Male'],\n",
    "                           'RIDRETH1x': ['Mex_Am', 'Non_Hisp_Bk'],\n",
    "                           'RIDAGEYR': [50, 50]})\n",
    "\n",
    "two_f_series = result_2_eth_gnd_age_result.predict(two_f_dframe)\n",
    "print(two_f_series)\n",
    "expected_2f_difference = abs(two_f_series.iloc[0] - two_f_series.iloc[1])\n",
    "\"Expected (absolute) difference between the two specified individuals would be : {} \".format(\n",
    "    expected_2f_difference)"
   ]
  },
  {
   "cell_type": "markdown",
   "metadata": {},
   "source": [
    "## Question 3: \n",
    "\n",
    "Randomly sample 25% of the NHANES data, then fit the same model you used in question 2 to this data set.\n",
    "\n"
   ]
  },
  {
   "cell_type": "code",
   "execution_count": 103,
   "metadata": {},
   "outputs": [
    {
     "data": {
      "text/html": [
       "<div>\n",
       "<style scoped>\n",
       "    .dataframe tbody tr th:only-of-type {\n",
       "        vertical-align: middle;\n",
       "    }\n",
       "\n",
       "    .dataframe tbody tr th {\n",
       "        vertical-align: top;\n",
       "    }\n",
       "\n",
       "    .dataframe thead th {\n",
       "        text-align: right;\n",
       "    }\n",
       "</style>\n",
       "<table border=\"1\" class=\"dataframe\">\n",
       "  <thead>\n",
       "    <tr style=\"text-align: right;\">\n",
       "      <th></th>\n",
       "      <th>BPXSY1</th>\n",
       "      <th>RIDAGEYR</th>\n",
       "      <th>RIAGENDR</th>\n",
       "      <th>RIDRETH1</th>\n",
       "      <th>DMDEDUC2</th>\n",
       "      <th>BMXBMI</th>\n",
       "      <th>SMQ020</th>\n",
       "      <th>ALQ110</th>\n",
       "      <th>RIAGENDRx</th>\n",
       "      <th>RIDRETH1x</th>\n",
       "    </tr>\n",
       "  </thead>\n",
       "  <tbody>\n",
       "    <tr>\n",
       "      <th>1571</th>\n",
       "      <td>130.0</td>\n",
       "      <td>38</td>\n",
       "      <td>1</td>\n",
       "      <td>2</td>\n",
       "      <td>3.0</td>\n",
       "      <td>30.0</td>\n",
       "      <td>1</td>\n",
       "      <td>1.0</td>\n",
       "      <td>Male</td>\n",
       "      <td>Oth_Hisp</td>\n",
       "    </tr>\n",
       "    <tr>\n",
       "      <th>2011</th>\n",
       "      <td>112.0</td>\n",
       "      <td>30</td>\n",
       "      <td>2</td>\n",
       "      <td>1</td>\n",
       "      <td>2.0</td>\n",
       "      <td>25.9</td>\n",
       "      <td>2</td>\n",
       "      <td>2.0</td>\n",
       "      <td>Female</td>\n",
       "      <td>Mex_Am</td>\n",
       "    </tr>\n",
       "    <tr>\n",
       "      <th>3793</th>\n",
       "      <td>98.0</td>\n",
       "      <td>36</td>\n",
       "      <td>2</td>\n",
       "      <td>4</td>\n",
       "      <td>4.0</td>\n",
       "      <td>24.7</td>\n",
       "      <td>2</td>\n",
       "      <td>1.0</td>\n",
       "      <td>Female</td>\n",
       "      <td>Non_Hisp_Bk</td>\n",
       "    </tr>\n",
       "    <tr>\n",
       "      <th>5069</th>\n",
       "      <td>122.0</td>\n",
       "      <td>61</td>\n",
       "      <td>2</td>\n",
       "      <td>2</td>\n",
       "      <td>4.0</td>\n",
       "      <td>18.7</td>\n",
       "      <td>2</td>\n",
       "      <td>1.0</td>\n",
       "      <td>Female</td>\n",
       "      <td>Oth_Hisp</td>\n",
       "    </tr>\n",
       "    <tr>\n",
       "      <th>4423</th>\n",
       "      <td>116.0</td>\n",
       "      <td>46</td>\n",
       "      <td>2</td>\n",
       "      <td>4</td>\n",
       "      <td>5.0</td>\n",
       "      <td>40.1</td>\n",
       "      <td>2</td>\n",
       "      <td>1.0</td>\n",
       "      <td>Female</td>\n",
       "      <td>Non_Hisp_Bk</td>\n",
       "    </tr>\n",
       "  </tbody>\n",
       "</table>\n",
       "</div>"
      ],
      "text/plain": [
       "      BPXSY1  RIDAGEYR  RIAGENDR  RIDRETH1  DMDEDUC2  BMXBMI  SMQ020  ALQ110  \\\n",
       "1571   130.0        38         1         2       3.0    30.0       1     1.0   \n",
       "2011   112.0        30         2         1       2.0    25.9       2     2.0   \n",
       "3793    98.0        36         2         4       4.0    24.7       2     1.0   \n",
       "5069   122.0        61         2         2       4.0    18.7       2     1.0   \n",
       "4423   116.0        46         2         4       5.0    40.1       2     1.0   \n",
       "\n",
       "     RIAGENDRx    RIDRETH1x  \n",
       "1571      Male     Oth_Hisp  \n",
       "2011    Female       Mex_Am  \n",
       "3793    Female  Non_Hisp_Bk  \n",
       "5069    Female     Oth_Hisp  \n",
       "4423    Female  Non_Hisp_Bk  "
      ]
     },
     "execution_count": 103,
     "metadata": {},
     "output_type": "execute_result"
    }
   ],
   "source": [
    "sample_25percent = da.sample(frac=0.25)\n",
    "sample_25percent.head()"
   ]
  },
  {
   "cell_type": "code",
   "execution_count": 104,
   "metadata": {},
   "outputs": [
    {
     "name": "stdout",
     "output_type": "stream",
     "text": [
      "0.24983027834351662\n",
      "                            OLS Regression Results                            \n",
      "==============================================================================\n",
      "Dep. Variable:                 BMXBMI   R-squared:                       0.094\n",
      "Model:                            OLS   Adj. R-squared:                  0.079\n",
      "Method:                 Least Squares   F-statistic:                     6.212\n",
      "Date:                Thu, 19 Jan 2023   Prob (F-statistic):           3.20e-06\n",
      "Time:                        10:56:24   Log-Likelihood:                -1259.2\n",
      "No. Observations:                 368   AIC:                             2532.\n",
      "Df Residuals:                     361   BIC:                             2560.\n",
      "Df Model:                           6                                         \n",
      "Covariance Type:            nonrobust                                         \n",
      "============================================================================================\n",
      "                               coef    std err          t      P>|t|      [0.025      0.975]\n",
      "--------------------------------------------------------------------------------------------\n",
      "Intercept                   31.7687      1.535     20.691      0.000      28.749      34.788\n",
      "RIAGENDRx[T.Male]           -1.3346      0.892     -1.496      0.136      -3.089       0.420\n",
      "RIDRETH1x[T.Non_Hisp_Bk]     0.6386      1.234      0.518      0.605      -1.787       3.064\n",
      "RIDRETH1x[T.Non_Hisp_Wh]    -0.8252      1.227     -0.673      0.502      -3.237       1.587\n",
      "RIDRETH1x[T.Oth_Hisp]        0.0880      1.323      0.067      0.947      -2.513       2.689\n",
      "RIDRETH1x[T.Other]          -5.3399      1.261     -4.235      0.000      -7.820      -2.860\n",
      "RIDAGEYR                     0.0005      0.023      0.023      0.982      -0.044       0.045\n",
      "==============================================================================\n",
      "Omnibus:                       71.722   Durbin-Watson:                   2.048\n",
      "Prob(Omnibus):                  0.000   Jarque-Bera (JB):              127.699\n",
      "Skew:                           1.095   Prob(JB):                     1.86e-28\n",
      "Kurtosis:                       4.879   Cond. No.                         324.\n",
      "==============================================================================\n",
      "\n",
      "Notes:\n",
      "[1] Standard Errors assume that the covariance matrix of the errors is correctly specified. \n",
      "\n",
      "Here's the Original Return of the model ran on the entire dataset\n",
      "\n",
      "                            OLS Regression Results                            \n",
      "==============================================================================\n",
      "Dep. Variable:                 BMXBMI   R-squared:                       0.089\n",
      "Model:                            OLS   Adj. R-squared:                  0.085\n",
      "Method:                 Least Squares   F-statistic:                     23.80\n",
      "Date:                Thu, 19 Jan 2023   Prob (F-statistic):           5.55e-27\n",
      "Time:                        10:56:24   Log-Likelihood:                -4965.8\n",
      "No. Observations:                1473   AIC:                             9946.\n",
      "Df Residuals:                    1466   BIC:                             9983.\n",
      "Df Model:                           6                                         \n",
      "Covariance Type:            nonrobust                                         \n",
      "============================================================================================\n",
      "                               coef    std err          t      P>|t|      [0.025      0.975]\n",
      "--------------------------------------------------------------------------------------------\n",
      "Intercept                   31.6846      0.682     46.453      0.000      30.347      33.023\n",
      "RIAGENDRx[T.Male]           -1.2017      0.407     -2.949      0.003      -2.001      -0.402\n",
      "RIDRETH1x[T.Non_Hisp_Bk]    -0.7502      0.569     -1.319      0.187      -1.866       0.366\n",
      "RIDRETH1x[T.Non_Hisp_Wh]    -0.9866      0.562     -1.755      0.080      -2.090       0.116\n",
      "RIDRETH1x[T.Oth_Hisp]       -1.0388      0.628     -1.654      0.098      -2.271       0.193\n",
      "RIDRETH1x[T.Other]          -5.8381      0.588     -9.920      0.000      -6.992      -4.684\n",
      "RIDAGEYR                     0.0058      0.010      0.560      0.576      -0.015       0.026\n",
      "==============================================================================\n",
      "Omnibus:                      256.385   Durbin-Watson:                   2.032\n",
      "Prob(Omnibus):                  0.000   Jarque-Bera (JB):              491.828\n",
      "Skew:                           1.044   Prob(JB):                    1.59e-107\n",
      "Kurtosis:                       4.912   Cond. No.                         306.\n",
      "==============================================================================\n",
      "\n",
      "Notes:\n",
      "[1] Standard Errors assume that the covariance matrix of the errors is correctly specified.\n"
     ]
    }
   ],
   "source": [
    "print(len(sample_25percent) / len(da))\n",
    "\n",
    "sample_25percent['RIAGENDRx'] = sample_25percent['RIAGENDR'].replace({1:'Male', 2:'Female'})\n",
    "sample_25percent['RIDRETH1x'] = sample_25percent['RIDRETH1'].replace({1: \"Mex_Am\", 2: \"Oth_Hisp\", 3: \"Non_Hisp_Wh\", 4: \"Non_Hisp_Bk\", 5: \"Other\"})\n",
    "\n",
    "lmodel_2_eth_gnd_age_25perc = sm.OLS.from_formula(\"BMXBMI ~ RIDAGEYR + RIAGENDRx + RIDRETH1x\", data=sample_25percent)\n",
    "result_2_eth_gnd_age_result_25perc = lmodel_2_eth_gnd_age_25perc.fit()\n",
    "print(result_2_eth_gnd_age_result_25perc.summary(), '\\n')\n",
    "print(\"Here's the Original Return of the model ran on the entire dataset\\n\")\n",
    "print(result_2_eth_gnd_age_result.summary())"
   ]
  },
  {
   "cell_type": "markdown",
   "metadata": {},
   "source": [
    "__Q3a.__ How do the estimated regression coefficients and their standard errors compare between these two models?  Do you see any systematic relationship between the two sets of results?"
   ]
  },
  {
   "cell_type": "markdown",
   "metadata": {},
   "source": [
    "* Noticeable difference in our sampled dataframe in terms of standard error greater variability, coefficients and Intercept values across\n",
    "* Most noticeably our R-Squared (coefficient of determination) is showing less coverage of the variability of the BMI\n",
    "* Model with just a 25% percentage of inclusion from our dataset has more wiggle room on standard error and less coverage of our target's variability"
   ]
  },
  {
   "cell_type": "markdown",
   "metadata": {},
   "source": [
    "## Question 4:\n",
    "\n",
    "Generate a scatterplot of the residuals against the fitted values for the model you fit in question 2."
   ]
  },
  {
   "cell_type": "code",
   "execution_count": 105,
   "metadata": {},
   "outputs": [
    {
     "data": {
      "text/plain": [
       "<AxesSubplot:title={'center':'Residuals Against Fitted Model'}, xlabel='Fitted Values', ylabel='Residuals'>"
      ]
     },
     "execution_count": 105,
     "metadata": {},
     "output_type": "execute_result"
    },
    {
     "data": {
      "image/png": "[encoded data removed]",
      "text/plain": [
       "<Figure size 640x480 with 1 Axes>"
      ]
     },
     "metadata": {},
     "output_type": "display_data"
    }
   ],
   "source": [
    "ss_model_2 = sns.scatterplot(x=result_2_eth_gnd_age_result.fittedvalues, y=result_2_eth_gnd_age_result.resid)\n",
    "ss_model_2.set(xlabel='Fitted Values', ylabel='Residuals', title='Residuals Against Fitted Model')\n",
    "ss_model_2"
   ]
  },
  {
   "cell_type": "markdown",
   "metadata": {},
   "source": [
    "__Q4a.__ What mean/variance relationship do you see?"
   ]
  },
  {
   "cell_type": "markdown",
   "metadata": {},
   "source": []
  },
  {
   "cell_type": "markdown",
   "metadata": {},
   "source": [
    "## Question 5: \n",
    "\n",
    "Generate a plot showing the fitted mean BMI as a function of age for Mexican American men.  Include a 95% simultaneous confidence band on your graph."
   ]
  },
  {
   "cell_type": "code",
   "execution_count": 107,
   "metadata": {},
   "outputs": [
    {
     "data": {
      "image/png": "[encoded data removed]",
      "text/plain": [
       "<Figure size 640x480 with 1 Axes>"
      ]
     },
     "metadata": {},
     "output_type": "display_data"
    }
   ],
   "source": [
    "from statsmodels.sandbox.predict_functional import predict_functional\n",
    "import statistics\n",
    "\n",
    "# result_2_eth_gnd_age_result this variable holds the fit model for MEAN BMI with the covariates of Age, Ethnicity, Gender\n",
    "\n",
    "## Pass to summaries argument to offset Warnings \n",
    "summaries = {'BPXSY1':np.mean, 'SMQ020':np.mean, 'DMDEDUC2':statistics.mode, 'RIDRETH1':statistics.mode, 'RIAGENDR':statistics.mode, 'ALQ110':statistics.mode}\n",
    "\n",
    "\n",
    "male_values = {'RIDRETH1x': 'Mex_Am', 'RIAGENDRx': 'Male'}\n",
    "female_values = {'RIDRETH1x': 'Mex_Am', 'RIAGENDRx': 'Female'}\n",
    "\n",
    "# The returned values are the predicted values (pr), the confidence bands (cb),\n",
    "# and the function values (fv).\n",
    "pr_m, cb_m, fv_m = predict_functional(result_2_eth_gnd_age_result, \"RIDAGEYR\",\n",
    "                values=male_values, summaries=summaries, ci_method=\"simultaneous\", alpha=.05)\n",
    "\n",
    "pr_f, cb_f, fv_f = predict_functional(result_2_eth_gnd_age_result, \"RIDAGEYR\",\n",
    "                values=female_values, summaries=summaries, ci_method=\"simultaneous\", alpha=.05)\n",
    "\n",
    "# Create Lineplot for Males and Confidence Bands\n",
    "ax = sns.lineplot(x=fv_m, y=pr_m, lw=4)\n",
    "ax.tick_params(labelright=True)\n",
    "ax.fill_between(fv_m, cb_m[:, 0], cb_m[:, 1], color='yellow', alpha=0.4)\n",
    "\n",
    "# Create Lineplot for Females and Confidence Bands\n",
    "sns.lineplot(x=fv_f, y=pr_f, lw=4)\n",
    "ax.fill_between(fv_f, cb_f[:, 0], cb_f[:, 1], color='pink', alpha=0.4)\n",
    "\n",
    "ax.set(xlabel='Age (F - Pink / M - Yellow)', ylabel='BMI')\n",
    "\n",
    "plt.show()\n"
   ]
  },
  {
   "cell_type": "markdown",
   "metadata": {},
   "source": [
    "* `pr_m` :  holds our predicted BMI mean value as a function of Age for Mex-Am Ethnicity from our fit model `result_2_eth_gnd_age_result`\n",
    "* `cb_m` :  holds the respective 95% confidence bands (set by alpha in predict_functional call) for the age values in fv_m\n",
    "* `fv_m` : Appears to just hold the respective age values in which our two variables defined from the function provides the model prediction and respective bands\n",
    "\n",
    "* The female values as pr_f or similar would hold the similar values to our male counterparts above "
   ]
  },
  {
   "cell_type": "code",
   "execution_count": 108,
   "metadata": {},
   "outputs": [
    {
     "data": {
      "text/plain": [
       "(array([[29.23229088, 31.96659678],\n",
       "        [29.36525666, 31.92684086],\n",
       "        [29.47489332, 31.91041406],\n",
       "        [29.54872338, 31.91814263],\n",
       "        [29.60005779, 31.94836685],\n",
       "        [29.63002678, 32.00901856],\n",
       "        [29.63462405, 32.06526662],\n",
       "        [29.62560947, 32.1441886 ],\n",
       "        [29.58673685, 32.28792231],\n",
       "        [29.57446632, 32.3234953 ]]),\n",
       " array([20.        , 28.        , 36.        , 43.        , 50.        ,\n",
       "        57.77777778, 63.        , 69.        , 78.        , 80.        ]),\n",
       " 0    30.599444\n",
       " 1    30.646049\n",
       " 2    30.692654\n",
       " 3    30.733433\n",
       " 4    30.774212\n",
       " 5    30.819523\n",
       " 6    30.849945\n",
       " 7    30.884899\n",
       " 8    30.937330\n",
       " 9    30.948981\n",
       " dtype: float64)"
      ]
     },
     "execution_count": 108,
     "metadata": {},
     "output_type": "execute_result"
    }
   ],
   "source": [
    "type(cb_m)\n",
    "cb_m, fv_m, pr_m"
   ]
  },
  {
   "cell_type": "markdown",
   "metadata": {},
   "source": [
    "__Q5a.__ According to your graph, what is the longest interval starting at year 30 following which the mean BMI could be constant?  *Hint:* What is the longest horizontal line starting at age 30 that remains within the confidence band?"
   ]
  },
  {
   "cell_type": "markdown",
   "metadata": {},
   "source": [
    "* I believe the lower bound CI here is the answer for each band with the longest hoirzontal line. The upper band continues to shows some potential error/higher bands for confident model fitting of BMI values but the lower band on each shown interval does present a fairly flat rate (see the last four indexes (first index value in the CB nd array)) showing a fairly flat horizontal lower band from about age ~58 to 80"
   ]
  },
  {
   "cell_type": "markdown",
   "metadata": {},
   "source": [
    "__Q5b.__ Add an additional line and confidence band to the same plot, showing the relationship between age and BMI for Mexican American women.  At what ages do these intervals not overlap?"
   ]
  },
  {
   "cell_type": "markdown",
   "metadata": {},
   "source": [
    "* Trick Question! At each of our age band we see here that confidence bands stretch into each other with the lower female CI band bleeding into our upper male CI band"
   ]
  },
  {
   "cell_type": "markdown",
   "metadata": {},
   "source": []
  },
  {
   "cell_type": "markdown",
   "metadata": {},
   "source": [
    "## Question 6:\n",
    "\n",
    "Use an added variable plot to assess the linearity of the relationship between BMI and age (when controlling for gender and ethnicity)."
   ]
  },
  {
   "cell_type": "code",
   "execution_count": 109,
   "metadata": {},
   "outputs": [
    {
     "data": {
      "image/png": "[encoded data removed]",
      "text/plain": [
       "<Figure size 640x480 with 1 Axes>"
      ]
     },
     "metadata": {},
     "output_type": "display_data"
    }
   ],
   "source": [
    "# This is not part of the main Statsmodels API, so needs to be imported separately\n",
    "from statsmodels.graphics.regressionplots import add_lowess\n",
    "\n",
    "# This is an equivalent way to fit a linear regression model, it needs to be\n",
    "# done this way to be able to make the added variable plot\n",
    "# data is still da for the defined categorical values attributed to our dataframe\n",
    "model_vp = sm.GLM.from_formula(\"BMXBMI ~ RIDAGEYR + RIAGENDRx + RIDRETH1x\", data=da)\n",
    "result_vp = model_vp.fit()\n",
    "result_vp.summary()\n",
    "\n",
    "fig_vp = result_vp.plot_added_variable(\"RIDAGEYR\")\n",
    "ax_vp = fig_vp.get_axes()[0]\n",
    "ax_vp.lines[0].set_alpha(0.2)\n",
    "_ = add_lowess(ax_vp)"
   ]
  },
  {
   "cell_type": "code",
   "execution_count": 85,
   "metadata": {},
   "outputs": [
    {
     "data": {
      "text/plain": [
       "(49.45511564092513,\n",
       " -29.45511564092513,\n",
       " count    5102.000000\n",
       " mean       49.455116\n",
       " std        17.682020\n",
       " min        20.000000\n",
       " 25%        34.000000\n",
       " 50%        49.000000\n",
       " 75%        64.000000\n",
       " max        80.000000\n",
       " Name: RIDAGEYR, dtype: float64)"
      ]
     },
     "execution_count": 85,
     "metadata": {},
     "output_type": "execute_result"
    }
   ],
   "source": [
    "# mean age for refernce\n",
    "da['RIDAGEYR'].mean(), da['RIDAGEYR'].min()- da['RIDAGEYR'].mean(), da['RIDAGEYR'].describe()"
   ]
  },
  {
   "cell_type": "markdown",
   "metadata": {},
   "source": [
    "__Q6a.__ What is your interpretation of the added variable plot?"
   ]
  },
  {
   "cell_type": "markdown",
   "metadata": {},
   "source": [
    "* Our plot_added_variable age is centered (subtracting mean average) from the observed age values\n",
    "    * younger ages are **negative** from the mean centering and thus the age progresses from our youngest obserbation being negative to our older being positive - see above cell\n",
    "\n",
    "* We see the highest variance (distance from our residual y-axis) at our earliest ages and latest ages and we see a smoothing of our variable residual variance from our BMI observed value and model prediction within the (age iqr box)\n",
    "* Assumption would be here that we have some observed values at our younger and older age brackets that the model struggled more with to fit and thus a higher observed residual"
   ]
  },
  {
   "cell_type": "markdown",
   "metadata": {},
   "source": [
    "## Question 7: \n",
    "\n",
    "Generate a binary variable reflecting whether a person has had at least 12 drinks in their lifetime, based on the [ALQ110](https://wwwn.cdc.gov/Nchs/Nhanes/2015-2016/ALQ_I.htm#ALQ110) variable in NHANES.  Calculate the marginal probability, odds, and log odds of this variable for women and for men.  Then calculate the odds ratio for females relative to males.\n",
    "\n",
    "#### Odds and log odds\n",
    "\n",
    "Logistic regression provides a model for the *odds* of an event\n",
    "happening.  Recall that if an event has probability `p`, then the odds\n",
    "for this event is `p/(1-p)`.  The odds is a mathematical\n",
    "transformation of the probability onto a different scale.  For\n",
    "example, if the probability is 1/2, then the odds is 1.\n",
    "\n",
    "To begin, we look at the odds of alcohol use for women and men separately."
   ]
  },
  {
   "cell_type": "code",
   "execution_count": 117,
   "metadata": {},
   "outputs": [
    {
     "data": {
      "text/html": [
       "<div>\n",
       "<style scoped>\n",
       "    .dataframe tbody tr th:only-of-type {\n",
       "        vertical-align: middle;\n",
       "    }\n",
       "\n",
       "    .dataframe tbody tr th {\n",
       "        vertical-align: top;\n",
       "    }\n",
       "\n",
       "    .dataframe thead th {\n",
       "        text-align: right;\n",
       "    }\n",
       "</style>\n",
       "<table border=\"1\" class=\"dataframe\">\n",
       "  <thead>\n",
       "    <tr style=\"text-align: right;\">\n",
       "      <th>alchol_bin</th>\n",
       "      <th>0.0</th>\n",
       "      <th>1.0</th>\n",
       "    </tr>\n",
       "    <tr>\n",
       "      <th>RIAGENDRx</th>\n",
       "      <th></th>\n",
       "      <th></th>\n",
       "    </tr>\n",
       "  </thead>\n",
       "  <tbody>\n",
       "    <tr>\n",
       "      <th>Female</th>\n",
       "      <td>569</td>\n",
       "      <td>467</td>\n",
       "    </tr>\n",
       "    <tr>\n",
       "      <th>Male</th>\n",
       "      <td>232</td>\n",
       "      <td>200</td>\n",
       "    </tr>\n",
       "  </tbody>\n",
       "</table>\n",
       "</div>"
      ],
      "text/plain": [
       "alchol_bin  0.0  1.0\n",
       "RIAGENDRx           \n",
       "Female      569  467\n",
       "Male        232  200"
      ]
     },
     "execution_count": 117,
     "metadata": {},
     "output_type": "execute_result"
    }
   ],
   "source": [
    "# ALQ110 - Had at least 12 alcohol drinks/lifetime (1 - Yes, 2 - No, 7 - Refused, 9 - Don't Know)\n",
    "\n",
    "# Set Binary Variable (1 not really needing of replacement but whatever)\n",
    "da['alchol_bin'] = da['ALQ110'].replace({1: 1, 2: 0, 7: np.nan, 9: np.nan})\n",
    "alchohol_odds_ctab = pd.crosstab(da['RIAGENDRx'], da['alchol_bin'])\n",
    "alchohol_odds_ctab"
   ]
  },
  {
   "cell_type": "markdown",
   "metadata": {},
   "source": [
    "* Quick reminder here on the lambda apply function below\n",
    "    * apply will apply each cell value on the row axis with our declaration of 1\n",
    "    * therefore were taking the found crosstab values for each sex and the new binary value to get the percentage of that subsection of our gender who is either yes or no"
   ]
  },
  {
   "cell_type": "code",
   "execution_count": 121,
   "metadata": {},
   "outputs": [
    {
     "name": "stdout",
     "output_type": "stream",
     "text": [
      "alchol_bin\n",
      "0.0    569\n",
      "1.0    467\n",
      "Name: Female, dtype: int64\n",
      "alchol_bin\n",
      "0.0    232\n",
      "1.0    200\n",
      "Name: Male, dtype: int64\n"
     ]
    },
    {
     "data": {
      "text/plain": [
       "RIAGENDRx\n",
       "Female    None\n",
       "Male      None\n",
       "dtype: object"
      ]
     },
     "execution_count": 121,
     "metadata": {},
     "output_type": "execute_result"
    }
   ],
   "source": [
    "alchohol_odds_ctab.apply(lambda x: print(x), axis=1) # axis = 1 is row wise"
   ]
  },
  {
   "cell_type": "code",
   "execution_count": 123,
   "metadata": {},
   "outputs": [
    {
     "name": "stdout",
     "output_type": "stream",
     "text": [
      "RIAGENDRx\n",
      "Female    569\n",
      "Male      232\n",
      "Name: 0.0, dtype: int64\n",
      "RIAGENDRx\n",
      "Female    467\n",
      "Male      200\n",
      "Name: 1.0, dtype: int64\n"
     ]
    },
    {
     "data": {
      "text/plain": [
       "alchol_bin\n",
       "0.0    None\n",
       "1.0    None\n",
       "dtype: object"
      ]
     },
     "execution_count": 123,
     "metadata": {},
     "output_type": "execute_result"
    }
   ],
   "source": [
    "alchohol_odds_ctab.apply(lambda x: print(x), axis=0) # axis = 0 is column wise"
   ]
  },
  {
   "cell_type": "code",
   "execution_count": 124,
   "metadata": {},
   "outputs": [
    {
     "name": "stdout",
     "output_type": "stream",
     "text": [
      "0.5492277992277992\n",
      "1036\n",
      "432\n"
     ]
    },
    {
     "data": {
      "text/plain": [
       "RIAGENDRx\n",
       "Female    None\n",
       "Male      None\n",
       "dtype: object"
      ]
     },
     "execution_count": 124,
     "metadata": {},
     "output_type": "execute_result"
    }
   ],
   "source": [
    "print(569/1036) # this is what we're after to get percentages for each subsections percent of falling into our categorical yes/no column from crosstab\n",
    "alchohol_odds_ctab.apply(lambda x: print(x.sum()), axis=1)"
   ]
  },
  {
   "cell_type": "code",
   "execution_count": 125,
   "metadata": {},
   "outputs": [
    {
     "data": {
      "text/html": [
       "<div>\n",
       "<style scoped>\n",
       "    .dataframe tbody tr th:only-of-type {\n",
       "        vertical-align: middle;\n",
       "    }\n",
       "\n",
       "    .dataframe tbody tr th {\n",
       "        vertical-align: top;\n",
       "    }\n",
       "\n",
       "    .dataframe thead th {\n",
       "        text-align: right;\n",
       "    }\n",
       "</style>\n",
       "<table border=\"1\" class=\"dataframe\">\n",
       "  <thead>\n",
       "    <tr style=\"text-align: right;\">\n",
       "      <th>alchol_bin</th>\n",
       "      <th>0.0</th>\n",
       "      <th>1.0</th>\n",
       "    </tr>\n",
       "    <tr>\n",
       "      <th>RIAGENDRx</th>\n",
       "      <th></th>\n",
       "      <th></th>\n",
       "    </tr>\n",
       "  </thead>\n",
       "  <tbody>\n",
       "    <tr>\n",
       "      <th>Female</th>\n",
       "      <td>0.549228</td>\n",
       "      <td>0.450772</td>\n",
       "    </tr>\n",
       "    <tr>\n",
       "      <th>Male</th>\n",
       "      <td>0.537037</td>\n",
       "      <td>0.462963</td>\n",
       "    </tr>\n",
       "  </tbody>\n",
       "</table>\n",
       "</div>"
      ],
      "text/plain": [
       "alchol_bin       0.0       1.0\n",
       "RIAGENDRx                     \n",
       "Female      0.549228  0.450772\n",
       "Male        0.537037  0.462963"
      ]
     },
     "execution_count": 125,
     "metadata": {},
     "output_type": "execute_result"
    }
   ],
   "source": [
    "alchohol_odds_ctab = alchohol_odds_ctab.apply(lambda x: x/x.sum(), axis=1)\n",
    "alchohol_odds_ctab"
   ]
  },
  {
   "cell_type": "code",
   "execution_count": 126,
   "metadata": {},
   "outputs": [
    {
     "data": {
      "text/html": [
       "<div>\n",
       "<style scoped>\n",
       "    .dataframe tbody tr th:only-of-type {\n",
       "        vertical-align: middle;\n",
       "    }\n",
       "\n",
       "    .dataframe tbody tr th {\n",
       "        vertical-align: top;\n",
       "    }\n",
       "\n",
       "    .dataframe thead th {\n",
       "        text-align: right;\n",
       "    }\n",
       "</style>\n",
       "<table border=\"1\" class=\"dataframe\">\n",
       "  <thead>\n",
       "    <tr style=\"text-align: right;\">\n",
       "      <th>alchol_bin</th>\n",
       "      <th>0.0</th>\n",
       "      <th>1.0</th>\n",
       "      <th>odds</th>\n",
       "    </tr>\n",
       "    <tr>\n",
       "      <th>RIAGENDRx</th>\n",
       "      <th></th>\n",
       "      <th></th>\n",
       "      <th></th>\n",
       "    </tr>\n",
       "  </thead>\n",
       "  <tbody>\n",
       "    <tr>\n",
       "      <th>Female</th>\n",
       "      <td>0.549228</td>\n",
       "      <td>0.450772</td>\n",
       "      <td>0.820738</td>\n",
       "    </tr>\n",
       "    <tr>\n",
       "      <th>Male</th>\n",
       "      <td>0.537037</td>\n",
       "      <td>0.462963</td>\n",
       "      <td>0.862069</td>\n",
       "    </tr>\n",
       "  </tbody>\n",
       "</table>\n",
       "</div>"
      ],
      "text/plain": [
       "alchol_bin       0.0       1.0      odds\n",
       "RIAGENDRx                               \n",
       "Female      0.549228  0.450772  0.820738\n",
       "Male        0.537037  0.462963  0.862069"
      ]
     },
     "execution_count": 126,
     "metadata": {},
     "output_type": "execute_result"
    }
   ],
   "source": [
    "## Odds probability again is percentage/(1-p)\n",
    "## We can simplify this just a bit as our columns value already in sense \n",
    "# has the other value of 1-p in the binary's inverse column\n",
    "alchohol_odds_ctab['odds'] = alchohol_odds_ctab.loc[:, 1] / alchohol_odds_ctab.loc[:, 0]\n",
    "alchohol_odds_ctab"
   ]
  },
  {
   "cell_type": "code",
   "execution_count": 129,
   "metadata": {},
   "outputs": [
    {
     "data": {
      "text/html": [
       "<div>\n",
       "<style scoped>\n",
       "    .dataframe tbody tr th:only-of-type {\n",
       "        vertical-align: middle;\n",
       "    }\n",
       "\n",
       "    .dataframe tbody tr th {\n",
       "        vertical-align: top;\n",
       "    }\n",
       "\n",
       "    .dataframe thead th {\n",
       "        text-align: right;\n",
       "    }\n",
       "</style>\n",
       "<table border=\"1\" class=\"dataframe\">\n",
       "  <thead>\n",
       "    <tr style=\"text-align: right;\">\n",
       "      <th>alchol_bin</th>\n",
       "      <th>0.0</th>\n",
       "      <th>1.0</th>\n",
       "      <th>odds</th>\n",
       "      <th>logodds</th>\n",
       "    </tr>\n",
       "    <tr>\n",
       "      <th>RIAGENDRx</th>\n",
       "      <th></th>\n",
       "      <th></th>\n",
       "      <th></th>\n",
       "      <th></th>\n",
       "    </tr>\n",
       "  </thead>\n",
       "  <tbody>\n",
       "    <tr>\n",
       "      <th>Female</th>\n",
       "      <td>0.549228</td>\n",
       "      <td>0.450772</td>\n",
       "      <td>0.820738</td>\n",
       "      <td>-0.197551</td>\n",
       "    </tr>\n",
       "    <tr>\n",
       "      <th>Male</th>\n",
       "      <td>0.537037</td>\n",
       "      <td>0.462963</td>\n",
       "      <td>0.862069</td>\n",
       "      <td>-0.148420</td>\n",
       "    </tr>\n",
       "  </tbody>\n",
       "</table>\n",
       "</div>"
      ],
      "text/plain": [
       "alchol_bin       0.0       1.0      odds   logodds\n",
       "RIAGENDRx                                         \n",
       "Female      0.549228  0.450772  0.820738 -0.197551\n",
       "Male        0.537037  0.462963  0.862069 -0.148420"
      ]
     },
     "execution_count": 129,
     "metadata": {},
     "output_type": "execute_result"
    }
   ],
   "source": [
    "alchohol_odds_ctab['logodds'] = np.log(alchohol_odds_ctab.odds)\n",
    "alchohol_odds_ctab"
   ]
  },
  {
   "cell_type": "markdown",
   "metadata": {},
   "source": [
    "* A negative log odds indicates that the second group being compared has greater odds (and greater probability) than the first group.\n",
    "\n",
    "\n",
    "To interpret the log odds when comparing two groups, it is important to remember the following facts:\n",
    "* A probability of 1/2, an odds of 1, and a log odds of 0 are all equivalent.\n",
    "* A positive log odds indicates that the first group being compared has greater odds (and greater probability) than the second group.\n",
    "* A negative log odds indicates that the second group being compared has greater odds (and greater probability) than the first group.\n",
    "* The scale of the log odds statistic is symmetric in the sense that a log odds of, say, 2, is equivalent in strength to a log odds of -2 (but with the groups swapped in terms of which has the greater probability)."
   ]
  },
  {
   "cell_type": "markdown",
   "metadata": {},
   "source": [
    "__Q7a.__ Based on the log odds alone, do more than 50% of women drink alcohol?"
   ]
  },
  {
   "cell_type": "markdown",
   "metadata": {},
   "source": [
    "* ... only about 45% of the females in our dataset answered yes to our alcohol column"
   ]
  },
  {
   "cell_type": "code",
   "execution_count": 128,
   "metadata": {},
   "outputs": [
    {
     "data": {
      "text/plain": [
       "1.0503581185852469"
      ]
     },
     "execution_count": 128,
     "metadata": {},
     "output_type": "execute_result"
    }
   ],
   "source": [
    "alchohol_odds_ctab.odds.Male / alchohol_odds_ctab.odds.Female"
   ]
  },
  {
   "cell_type": "markdown",
   "metadata": {},
   "source": [
    "__Q7b.__ Does there appear to be an important difference between the alcohol use rate of women and men?"
   ]
  },
  {
   "cell_type": "markdown",
   "metadata": {},
   "source": [
    "* Marginal if at all, about 1% more males in our dataset drink than females\n",
    "    * Men have about a 1.05x greater odds of drinking"
   ]
  },
  {
   "cell_type": "markdown",
   "metadata": {},
   "source": [
    "## Question 8: \n",
    "\n",
    "Use logistic regression to express the log odds that a person drinks (based on the binary drinking variable that you constructed above) in terms of gender."
   ]
  },
  {
   "cell_type": "code",
   "execution_count": 130,
   "metadata": {},
   "outputs": [],
   "source": [
    "# Already performed above"
   ]
  },
  {
   "cell_type": "markdown",
   "metadata": {},
   "source": [
    "__Q8a.__ Is there statistical evidence that the drinking rate differs between women and men?  If so, in what direction is there a difference?"
   ]
  },
  {
   "cell_type": "markdown",
   "metadata": {},
   "source": []
  },
  {
   "cell_type": "markdown",
   "metadata": {},
   "source": [
    "__Q8b.__ Confirm that the log odds ratio between drinking and smoking calculated using the logistic regression model matches the log odds ratio calculated directly in question 6."
   ]
  },
  {
   "cell_type": "code",
   "execution_count": 133,
   "metadata": {},
   "outputs": [
    {
     "data": {
      "text/plain": [
       "0.0413308284346402"
      ]
     },
     "execution_count": 133,
     "metadata": {},
     "output_type": "execute_result"
    }
   ],
   "source": [
    "alchohol_odds_ctab.odds.Male - alchohol_odds_ctab.odds.Female"
   ]
  },
  {
   "cell_type": "markdown",
   "metadata": {},
   "source": []
  },
  {
   "cell_type": "markdown",
   "metadata": {},
   "source": [
    "## Question 9: \n",
    "\n",
    "Use logistic regression to relate drinking to age, gender, and education."
   ]
  },
  {
   "cell_type": "code",
   "execution_count": null,
   "metadata": {},
   "outputs": [],
   "source": [
    "# enter your code here"
   ]
  },
  {
   "cell_type": "markdown",
   "metadata": {},
   "source": [
    "__Q9a.__ Which of these predictor variables shows a statistically significant association with drinking?"
   ]
  },
  {
   "cell_type": "markdown",
   "metadata": {},
   "source": []
  },
  {
   "cell_type": "markdown",
   "metadata": {},
   "source": [
    "__Q9b.__ What is the odds of a college educated, 50 year old woman drinking?"
   ]
  },
  {
   "cell_type": "markdown",
   "metadata": {},
   "source": []
  },
  {
   "cell_type": "markdown",
   "metadata": {},
   "source": [
    "__Q9c.__ What is the odds ratio between the drinking status for college graduates and high school graduates (with no college), holding gender and age fixed?"
   ]
  },
  {
   "cell_type": "markdown",
   "metadata": {},
   "source": []
  },
  {
   "cell_type": "markdown",
   "metadata": {},
   "source": [
    "__Q9d.__ Did the regression parameter for gender change to a meaningful degree when age and education were added to the model?"
   ]
  },
  {
   "cell_type": "markdown",
   "metadata": {},
   "source": []
  },
  {
   "cell_type": "markdown",
   "metadata": {},
   "source": [
    "## Question 10:\n",
    "\n",
    "Construct a CERES plot for the relationship between drinking and age (using the model that controls for gender and educational attainment)."
   ]
  },
  {
   "cell_type": "code",
   "execution_count": null,
   "metadata": {},
   "outputs": [],
   "source": [
    "# enter your code here"
   ]
  },
  {
   "cell_type": "markdown",
   "metadata": {},
   "source": [
    "__Q10a.__ Does the plot indicate any major non-linearity in the relationship between age and the log odds for drinking?"
   ]
  }
 ],
 "metadata": {
  "kernelspec": {
   "display_name": "Python 3 (ipykernel)",
   "language": "python",
   "name": "python3"
  },
  "language_info": {
   "codemirror_mode": {
    "name": "ipython",
    "version": 3
   },
   "file_extension": ".py",
   "mimetype": "text/x-python",
   "name": "python",
   "nbconvert_exporter": "python",
   "pygments_lexer": "ipython3",
   "version": "3.9.12"
  }
 },
 "nbformat": 4,
 "nbformat_minor": 1
}
