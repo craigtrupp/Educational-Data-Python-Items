{
 "cells": [
  {
   "cell_type": "markdown",
   "metadata": {
    "colab_type": "text",
    "id": "6w1_Mo78NDof"
   },
   "source": [
    "## Hypothesis Tests in Python\n",
    "In this assessment, you will look at data from a study on toddler sleep habits. \n",
    "\n",
    "The hypothesis tests you create and the questions you answer in this Jupyter notebook will be used to answer questions in the following graded assignment."
   ]
  },
  {
   "cell_type": "code",
   "execution_count": 19,
   "metadata": {
    "colab": {},
    "colab_type": "code",
    "id": "YNKXymB_NDoh"
   },
   "outputs": [],
   "source": [
    "import numpy as np\n",
    "import pandas as pd\n",
    "from scipy.stats import t\n",
    "import statsmodels.api as sm\n",
    "pd.set_option('display.max_columns', 30) # set so can see all columns of the DataFrame"
   ]
  },
  {
   "cell_type": "markdown",
   "metadata": {
    "colab_type": "text",
    "id": "HL4-ACl_NDol"
   },
   "source": [
    "Your goal is to analyse data which is the result of a study that examined\n",
    "differences in a number of sleep variables between napping and non-napping toddlers. Some of these\n",
    "sleep variables included: Bedtime (lights-off time in decimalized time), Night Sleep Onset Time (in\n",
    "decimalized time), Wake Time (sleep end time in decimalized time), Night Sleep Duration (interval\n",
    "between sleep onset and sleep end in minutes), and Total 24-Hour Sleep Duration (in minutes). Note:\n",
    "[Decimalized time](https://en.wikipedia.org/wiki/Decimal_time) is the representation of the time of day using units which are decimally related.   \n",
    "\n",
    "\n",
    "The 20 study participants were healthy, normally developing toddlers with no sleep or behavioral\n",
    "problems. These children were categorized as napping or non-napping based upon parental report of\n",
    "children’s habitual sleep patterns. Researchers then verified napping status with data from actigraphy (a\n",
    "non-invasive method of monitoring human rest/activity cycles by wearing of a sensor on the wrist) and\n",
    "sleep diaries during the 5 days before the study assessments were made.\n",
    "\n",
    "\n",
    "You are specifically interested in the results for the Bedtime and Total 24-Hour Sleep Duration. "
   ]
  },
  {
   "cell_type": "markdown",
   "metadata": {
    "colab_type": "text",
    "id": "XHo6lLm_NDol"
   },
   "source": [
    "Reference: Akacem LD, Simpkin CT, Carskadon MA, Wright KP Jr, Jenni OG, Achermann P, et al. (2015) The Timing of the Circadian Clock and Sleep Differ between Napping and Non-Napping Toddlers. PLoS ONE 10(4): e0125181. https://doi.org/10.1371/journal.pone.0125181"
   ]
  },
  {
   "cell_type": "code",
   "execution_count": 2,
   "metadata": {
    "colab": {},
    "colab_type": "code",
    "id": "mBcxVw04NFW9"
   },
   "outputs": [],
   "source": [
    "# Import the data\n",
    "df = pd.read_csv(\"../DataFiles/nap_no_nap.csv\") "
   ]
  },
  {
   "cell_type": "code",
   "execution_count": 3,
   "metadata": {
    "colab": {},
    "colab_type": "code",
    "id": "TYe8b7MoNDop"
   },
   "outputs": [
    {
     "data": {
      "text/html": [
       "<div>\n",
       "<style scoped>\n",
       "    .dataframe tbody tr th:only-of-type {\n",
       "        vertical-align: middle;\n",
       "    }\n",
       "\n",
       "    .dataframe tbody tr th {\n",
       "        vertical-align: top;\n",
       "    }\n",
       "\n",
       "    .dataframe thead th {\n",
       "        text-align: right;\n",
       "    }\n",
       "</style>\n",
       "<table border=\"1\" class=\"dataframe\">\n",
       "  <thead>\n",
       "    <tr style=\"text-align: right;\">\n",
       "      <th></th>\n",
       "      <th>id</th>\n",
       "      <th>sex</th>\n",
       "      <th>age (months)</th>\n",
       "      <th>dlmo time</th>\n",
       "      <th>days napped</th>\n",
       "      <th>napping</th>\n",
       "      <th>nap lights outl time</th>\n",
       "      <th>nap sleep onset</th>\n",
       "      <th>nap midsleep</th>\n",
       "      <th>nap sleep offset</th>\n",
       "      <th>nap wake time</th>\n",
       "      <th>nap duration</th>\n",
       "      <th>nap time in bed</th>\n",
       "      <th>night bedtime</th>\n",
       "      <th>night sleep onset</th>\n",
       "      <th>sleep onset latency</th>\n",
       "      <th>night midsleep time</th>\n",
       "      <th>night wake time</th>\n",
       "      <th>night sleep duration</th>\n",
       "      <th>night time in bed</th>\n",
       "      <th>24 h sleep duration</th>\n",
       "      <th>bedtime phase difference</th>\n",
       "      <th>sleep onset phase difference</th>\n",
       "      <th>midsleep phase difference</th>\n",
       "      <th>wake time phase difference</th>\n",
       "    </tr>\n",
       "  </thead>\n",
       "  <tbody>\n",
       "    <tr>\n",
       "      <th>0</th>\n",
       "      <td>1</td>\n",
       "      <td>female</td>\n",
       "      <td>33.7</td>\n",
       "      <td>19.24</td>\n",
       "      <td>0</td>\n",
       "      <td>0</td>\n",
       "      <td>NaN</td>\n",
       "      <td>NaN</td>\n",
       "      <td>NaN</td>\n",
       "      <td>NaN</td>\n",
       "      <td>NaN</td>\n",
       "      <td>NaN</td>\n",
       "      <td>NaN</td>\n",
       "      <td>20.45</td>\n",
       "      <td>20.68</td>\n",
       "      <td>0.23</td>\n",
       "      <td>1.92</td>\n",
       "      <td>7.17</td>\n",
       "      <td>629.40</td>\n",
       "      <td>643.00</td>\n",
       "      <td>629.40</td>\n",
       "      <td>-1.21</td>\n",
       "      <td>-1.44</td>\n",
       "      <td>6.68</td>\n",
       "      <td>11.93</td>\n",
       "    </tr>\n",
       "    <tr>\n",
       "      <th>1</th>\n",
       "      <td>2</td>\n",
       "      <td>female</td>\n",
       "      <td>31.5</td>\n",
       "      <td>18.27</td>\n",
       "      <td>0</td>\n",
       "      <td>0</td>\n",
       "      <td>NaN</td>\n",
       "      <td>NaN</td>\n",
       "      <td>NaN</td>\n",
       "      <td>NaN</td>\n",
       "      <td>NaN</td>\n",
       "      <td>NaN</td>\n",
       "      <td>NaN</td>\n",
       "      <td>19.23</td>\n",
       "      <td>19.48</td>\n",
       "      <td>0.25</td>\n",
       "      <td>1.09</td>\n",
       "      <td>6.69</td>\n",
       "      <td>672.40</td>\n",
       "      <td>700.40</td>\n",
       "      <td>672.40</td>\n",
       "      <td>-0.96</td>\n",
       "      <td>-1.21</td>\n",
       "      <td>6.82</td>\n",
       "      <td>12.42</td>\n",
       "    </tr>\n",
       "    <tr>\n",
       "      <th>2</th>\n",
       "      <td>3</td>\n",
       "      <td>male</td>\n",
       "      <td>31.9</td>\n",
       "      <td>19.14</td>\n",
       "      <td>0</td>\n",
       "      <td>0</td>\n",
       "      <td>NaN</td>\n",
       "      <td>NaN</td>\n",
       "      <td>NaN</td>\n",
       "      <td>NaN</td>\n",
       "      <td>NaN</td>\n",
       "      <td>NaN</td>\n",
       "      <td>NaN</td>\n",
       "      <td>19.60</td>\n",
       "      <td>20.05</td>\n",
       "      <td>0.45</td>\n",
       "      <td>1.29</td>\n",
       "      <td>6.53</td>\n",
       "      <td>628.80</td>\n",
       "      <td>682.60</td>\n",
       "      <td>628.80</td>\n",
       "      <td>-0.46</td>\n",
       "      <td>-0.91</td>\n",
       "      <td>6.15</td>\n",
       "      <td>11.39</td>\n",
       "    </tr>\n",
       "    <tr>\n",
       "      <th>3</th>\n",
       "      <td>4</td>\n",
       "      <td>female</td>\n",
       "      <td>31.6</td>\n",
       "      <td>19.69</td>\n",
       "      <td>0</td>\n",
       "      <td>0</td>\n",
       "      <td>NaN</td>\n",
       "      <td>NaN</td>\n",
       "      <td>NaN</td>\n",
       "      <td>NaN</td>\n",
       "      <td>NaN</td>\n",
       "      <td>NaN</td>\n",
       "      <td>NaN</td>\n",
       "      <td>19.46</td>\n",
       "      <td>19.50</td>\n",
       "      <td>0.05</td>\n",
       "      <td>1.89</td>\n",
       "      <td>8.28</td>\n",
       "      <td>766.60</td>\n",
       "      <td>784.00</td>\n",
       "      <td>766.60</td>\n",
       "      <td>0.23</td>\n",
       "      <td>0.19</td>\n",
       "      <td>6.20</td>\n",
       "      <td>12.59</td>\n",
       "    </tr>\n",
       "    <tr>\n",
       "      <th>4</th>\n",
       "      <td>5</td>\n",
       "      <td>female</td>\n",
       "      <td>33.0</td>\n",
       "      <td>19.52</td>\n",
       "      <td>0</td>\n",
       "      <td>0</td>\n",
       "      <td>NaN</td>\n",
       "      <td>NaN</td>\n",
       "      <td>NaN</td>\n",
       "      <td>NaN</td>\n",
       "      <td>NaN</td>\n",
       "      <td>NaN</td>\n",
       "      <td>NaN</td>\n",
       "      <td>19.21</td>\n",
       "      <td>19.65</td>\n",
       "      <td>0.45</td>\n",
       "      <td>1.30</td>\n",
       "      <td>6.95</td>\n",
       "      <td>678.00</td>\n",
       "      <td>718.00</td>\n",
       "      <td>678.00</td>\n",
       "      <td>0.31</td>\n",
       "      <td>-0.13</td>\n",
       "      <td>5.78</td>\n",
       "      <td>11.43</td>\n",
       "    </tr>\n",
       "    <tr>\n",
       "      <th>5</th>\n",
       "      <td>6</td>\n",
       "      <td>female</td>\n",
       "      <td>36.2</td>\n",
       "      <td>18.22</td>\n",
       "      <td>4</td>\n",
       "      <td>1</td>\n",
       "      <td>14.00</td>\n",
       "      <td>14.22</td>\n",
       "      <td>15.00</td>\n",
       "      <td>15.78</td>\n",
       "      <td>16.28</td>\n",
       "      <td>93.75</td>\n",
       "      <td>137.00</td>\n",
       "      <td>19.95</td>\n",
       "      <td>20.25</td>\n",
       "      <td>0.29</td>\n",
       "      <td>1.26</td>\n",
       "      <td>6.28</td>\n",
       "      <td>602.20</td>\n",
       "      <td>653.80</td>\n",
       "      <td>695.95</td>\n",
       "      <td>-1.73</td>\n",
       "      <td>-2.03</td>\n",
       "      <td>7.05</td>\n",
       "      <td>12.06</td>\n",
       "    </tr>\n",
       "    <tr>\n",
       "      <th>6</th>\n",
       "      <td>7</td>\n",
       "      <td>male</td>\n",
       "      <td>36.3</td>\n",
       "      <td>19.28</td>\n",
       "      <td>1</td>\n",
       "      <td>1</td>\n",
       "      <td>14.75</td>\n",
       "      <td>15.03</td>\n",
       "      <td>15.92</td>\n",
       "      <td>16.80</td>\n",
       "      <td>16.08</td>\n",
       "      <td>106.00</td>\n",
       "      <td>80.00</td>\n",
       "      <td>20.60</td>\n",
       "      <td>20.96</td>\n",
       "      <td>0.36</td>\n",
       "      <td>2.12</td>\n",
       "      <td>7.27</td>\n",
       "      <td>618.40</td>\n",
       "      <td>655.40</td>\n",
       "      <td>724.40</td>\n",
       "      <td>-1.32</td>\n",
       "      <td>-1.68</td>\n",
       "      <td>6.84</td>\n",
       "      <td>11.99</td>\n",
       "    </tr>\n",
       "    <tr>\n",
       "      <th>7</th>\n",
       "      <td>8</td>\n",
       "      <td>male</td>\n",
       "      <td>30.0</td>\n",
       "      <td>21.06</td>\n",
       "      <td>5</td>\n",
       "      <td>1</td>\n",
       "      <td>13.09</td>\n",
       "      <td>13.43</td>\n",
       "      <td>14.44</td>\n",
       "      <td>15.46</td>\n",
       "      <td>15.82</td>\n",
       "      <td>121.60</td>\n",
       "      <td>163.80</td>\n",
       "      <td>22.01</td>\n",
       "      <td>22.53</td>\n",
       "      <td>0.51</td>\n",
       "      <td>2.92</td>\n",
       "      <td>7.31</td>\n",
       "      <td>526.80</td>\n",
       "      <td>582.40</td>\n",
       "      <td>648.40</td>\n",
       "      <td>-0.95</td>\n",
       "      <td>-1.47</td>\n",
       "      <td>5.86</td>\n",
       "      <td>10.25</td>\n",
       "    </tr>\n",
       "    <tr>\n",
       "      <th>8</th>\n",
       "      <td>9</td>\n",
       "      <td>male</td>\n",
       "      <td>33.2</td>\n",
       "      <td>19.38</td>\n",
       "      <td>2</td>\n",
       "      <td>1</td>\n",
       "      <td>14.41</td>\n",
       "      <td>14.42</td>\n",
       "      <td>15.71</td>\n",
       "      <td>17.01</td>\n",
       "      <td>16.60</td>\n",
       "      <td>155.50</td>\n",
       "      <td>131.25</td>\n",
       "      <td>20.24</td>\n",
       "      <td>20.37</td>\n",
       "      <td>0.13</td>\n",
       "      <td>1.60</td>\n",
       "      <td>6.82</td>\n",
       "      <td>626.80</td>\n",
       "      <td>660.33</td>\n",
       "      <td>782.30</td>\n",
       "      <td>-0.86</td>\n",
       "      <td>-0.99</td>\n",
       "      <td>6.22</td>\n",
       "      <td>11.44</td>\n",
       "    </tr>\n",
       "    <tr>\n",
       "      <th>9</th>\n",
       "      <td>10</td>\n",
       "      <td>female</td>\n",
       "      <td>37.1</td>\n",
       "      <td>19.93</td>\n",
       "      <td>3</td>\n",
       "      <td>1</td>\n",
       "      <td>13.12</td>\n",
       "      <td>13.42</td>\n",
       "      <td>14.31</td>\n",
       "      <td>15.19</td>\n",
       "      <td>15.30</td>\n",
       "      <td>106.67</td>\n",
       "      <td>130.67</td>\n",
       "      <td>20.78</td>\n",
       "      <td>21.63</td>\n",
       "      <td>0.84</td>\n",
       "      <td>2.20</td>\n",
       "      <td>6.52</td>\n",
       "      <td>549.50</td>\n",
       "      <td>626.00</td>\n",
       "      <td>656.17</td>\n",
       "      <td>-0.76</td>\n",
       "      <td>-1.82</td>\n",
       "      <td>6.21</td>\n",
       "      <td>10.59</td>\n",
       "    </tr>\n",
       "    <tr>\n",
       "      <th>10</th>\n",
       "      <td>11</td>\n",
       "      <td>male</td>\n",
       "      <td>32.9</td>\n",
       "      <td>18.79</td>\n",
       "      <td>4</td>\n",
       "      <td>1</td>\n",
       "      <td>13.99</td>\n",
       "      <td>14.03</td>\n",
       "      <td>14.85</td>\n",
       "      <td>15.68</td>\n",
       "      <td>16.10</td>\n",
       "      <td>98.75</td>\n",
       "      <td>126.60</td>\n",
       "      <td>19.45</td>\n",
       "      <td>19.88</td>\n",
       "      <td>0.44</td>\n",
       "      <td>1.34</td>\n",
       "      <td>6.80</td>\n",
       "      <td>655.20</td>\n",
       "      <td>694.80</td>\n",
       "      <td>753.95</td>\n",
       "      <td>-0.66</td>\n",
       "      <td>-1.09</td>\n",
       "      <td>6.55</td>\n",
       "      <td>12.01</td>\n",
       "    </tr>\n",
       "    <tr>\n",
       "      <th>11</th>\n",
       "      <td>12</td>\n",
       "      <td>female</td>\n",
       "      <td>35.0</td>\n",
       "      <td>19.65</td>\n",
       "      <td>5</td>\n",
       "      <td>1</td>\n",
       "      <td>13.18</td>\n",
       "      <td>13.45</td>\n",
       "      <td>14.33</td>\n",
       "      <td>15.21</td>\n",
       "      <td>15.35</td>\n",
       "      <td>105.80</td>\n",
       "      <td>130.40</td>\n",
       "      <td>20.18</td>\n",
       "      <td>20.84</td>\n",
       "      <td>0.66</td>\n",
       "      <td>1.93</td>\n",
       "      <td>7.03</td>\n",
       "      <td>611.20</td>\n",
       "      <td>660.40</td>\n",
       "      <td>717.00</td>\n",
       "      <td>-0.53</td>\n",
       "      <td>-1.19</td>\n",
       "      <td>6.28</td>\n",
       "      <td>11.38</td>\n",
       "    </tr>\n",
       "    <tr>\n",
       "      <th>12</th>\n",
       "      <td>13</td>\n",
       "      <td>male</td>\n",
       "      <td>35.1</td>\n",
       "      <td>19.83</td>\n",
       "      <td>3</td>\n",
       "      <td>1</td>\n",
       "      <td>13.94</td>\n",
       "      <td>14.48</td>\n",
       "      <td>15.26</td>\n",
       "      <td>16.03</td>\n",
       "      <td>15.78</td>\n",
       "      <td>93.33</td>\n",
       "      <td>110.20</td>\n",
       "      <td>20.22</td>\n",
       "      <td>20.89</td>\n",
       "      <td>0.67</td>\n",
       "      <td>1.99</td>\n",
       "      <td>7.09</td>\n",
       "      <td>611.80</td>\n",
       "      <td>662.20</td>\n",
       "      <td>705.13</td>\n",
       "      <td>-0.39</td>\n",
       "      <td>-1.06</td>\n",
       "      <td>6.16</td>\n",
       "      <td>11.26</td>\n",
       "    </tr>\n",
       "    <tr>\n",
       "      <th>13</th>\n",
       "      <td>14</td>\n",
       "      <td>female</td>\n",
       "      <td>35.6</td>\n",
       "      <td>19.88</td>\n",
       "      <td>4</td>\n",
       "      <td>1</td>\n",
       "      <td>12.68</td>\n",
       "      <td>13.08</td>\n",
       "      <td>13.92</td>\n",
       "      <td>14.76</td>\n",
       "      <td>15.00</td>\n",
       "      <td>100.75</td>\n",
       "      <td>139.33</td>\n",
       "      <td>20.26</td>\n",
       "      <td>20.80</td>\n",
       "      <td>0.54</td>\n",
       "      <td>1.96</td>\n",
       "      <td>7.11</td>\n",
       "      <td>618.80</td>\n",
       "      <td>671.20</td>\n",
       "      <td>719.55</td>\n",
       "      <td>-0.38</td>\n",
       "      <td>-0.92</td>\n",
       "      <td>6.08</td>\n",
       "      <td>11.23</td>\n",
       "    </tr>\n",
       "    <tr>\n",
       "      <th>14</th>\n",
       "      <td>15</td>\n",
       "      <td>female</td>\n",
       "      <td>36.6</td>\n",
       "      <td>19.94</td>\n",
       "      <td>4</td>\n",
       "      <td>1</td>\n",
       "      <td>12.71</td>\n",
       "      <td>12.88</td>\n",
       "      <td>13.80</td>\n",
       "      <td>14.72</td>\n",
       "      <td>14.88</td>\n",
       "      <td>110.75</td>\n",
       "      <td>130.00</td>\n",
       "      <td>20.28</td>\n",
       "      <td>20.92</td>\n",
       "      <td>0.64</td>\n",
       "      <td>1.49</td>\n",
       "      <td>6.33</td>\n",
       "      <td>548.00</td>\n",
       "      <td>595.00</td>\n",
       "      <td>658.75</td>\n",
       "      <td>-0.34</td>\n",
       "      <td>-0.90</td>\n",
       "      <td>5.64</td>\n",
       "      <td>10.39</td>\n",
       "    </tr>\n",
       "    <tr>\n",
       "      <th>15</th>\n",
       "      <td>16</td>\n",
       "      <td>male</td>\n",
       "      <td>36.5</td>\n",
       "      <td>20.25</td>\n",
       "      <td>3</td>\n",
       "      <td>1</td>\n",
       "      <td>13.74</td>\n",
       "      <td>14.68</td>\n",
       "      <td>15.66</td>\n",
       "      <td>16.64</td>\n",
       "      <td>16.45</td>\n",
       "      <td>117.33</td>\n",
       "      <td>162.75</td>\n",
       "      <td>20.46</td>\n",
       "      <td>21.25</td>\n",
       "      <td>0.79</td>\n",
       "      <td>2.19</td>\n",
       "      <td>7.13</td>\n",
       "      <td>593.25</td>\n",
       "      <td>662.00</td>\n",
       "      <td>710.58</td>\n",
       "      <td>-0.21</td>\n",
       "      <td>-1.00</td>\n",
       "      <td>5.94</td>\n",
       "      <td>10.88</td>\n",
       "    </tr>\n",
       "    <tr>\n",
       "      <th>16</th>\n",
       "      <td>17</td>\n",
       "      <td>female</td>\n",
       "      <td>33.7</td>\n",
       "      <td>20.33</td>\n",
       "      <td>5</td>\n",
       "      <td>1</td>\n",
       "      <td>13.15</td>\n",
       "      <td>13.87</td>\n",
       "      <td>14.49</td>\n",
       "      <td>15.11</td>\n",
       "      <td>15.40</td>\n",
       "      <td>74.20</td>\n",
       "      <td>135.00</td>\n",
       "      <td>20.43</td>\n",
       "      <td>21.03</td>\n",
       "      <td>0.60</td>\n",
       "      <td>2.44</td>\n",
       "      <td>7.86</td>\n",
       "      <td>649.80</td>\n",
       "      <td>708.60</td>\n",
       "      <td>724.00</td>\n",
       "      <td>-0.10</td>\n",
       "      <td>-0.70</td>\n",
       "      <td>6.12</td>\n",
       "      <td>11.53</td>\n",
       "    </tr>\n",
       "    <tr>\n",
       "      <th>17</th>\n",
       "      <td>18</td>\n",
       "      <td>male</td>\n",
       "      <td>36.4</td>\n",
       "      <td>20.16</td>\n",
       "      <td>5</td>\n",
       "      <td>1</td>\n",
       "      <td>12.47</td>\n",
       "      <td>12.56</td>\n",
       "      <td>13.30</td>\n",
       "      <td>14.05</td>\n",
       "      <td>14.25</td>\n",
       "      <td>89.80</td>\n",
       "      <td>107.00</td>\n",
       "      <td>20.02</td>\n",
       "      <td>20.45</td>\n",
       "      <td>0.43</td>\n",
       "      <td>1.23</td>\n",
       "      <td>6.01</td>\n",
       "      <td>573.60</td>\n",
       "      <td>614.60</td>\n",
       "      <td>663.40</td>\n",
       "      <td>0.14</td>\n",
       "      <td>-0.29</td>\n",
       "      <td>5.07</td>\n",
       "      <td>9.85</td>\n",
       "    </tr>\n",
       "    <tr>\n",
       "      <th>18</th>\n",
       "      <td>19</td>\n",
       "      <td>female</td>\n",
       "      <td>33.6</td>\n",
       "      <td>19.68</td>\n",
       "      <td>3</td>\n",
       "      <td>1</td>\n",
       "      <td>14.71</td>\n",
       "      <td>14.85</td>\n",
       "      <td>15.46</td>\n",
       "      <td>16.07</td>\n",
       "      <td>16.20</td>\n",
       "      <td>73.00</td>\n",
       "      <td>89.40</td>\n",
       "      <td>19.50</td>\n",
       "      <td>19.64</td>\n",
       "      <td>0.14</td>\n",
       "      <td>1.42</td>\n",
       "      <td>7.20</td>\n",
       "      <td>693.40</td>\n",
       "      <td>715.00</td>\n",
       "      <td>766.40</td>\n",
       "      <td>0.18</td>\n",
       "      <td>0.04</td>\n",
       "      <td>5.74</td>\n",
       "      <td>11.52</td>\n",
       "    </tr>\n",
       "    <tr>\n",
       "      <th>19</th>\n",
       "      <td>20</td>\n",
       "      <td>male</td>\n",
       "      <td>33.8</td>\n",
       "      <td>20.51</td>\n",
       "      <td>3</td>\n",
       "      <td>1</td>\n",
       "      <td>12.68</td>\n",
       "      <td>13.54</td>\n",
       "      <td>14.30</td>\n",
       "      <td>15.07</td>\n",
       "      <td>15.23</td>\n",
       "      <td>91.67</td>\n",
       "      <td>152.67</td>\n",
       "      <td>20.18</td>\n",
       "      <td>21.38</td>\n",
       "      <td>1.19</td>\n",
       "      <td>2.51</td>\n",
       "      <td>7.63</td>\n",
       "      <td>615.33</td>\n",
       "      <td>692.00</td>\n",
       "      <td>707.00</td>\n",
       "      <td>0.33</td>\n",
       "      <td>-0.87</td>\n",
       "      <td>6.00</td>\n",
       "      <td>11.12</td>\n",
       "    </tr>\n",
       "  </tbody>\n",
       "</table>\n",
       "</div>"
      ],
      "text/plain": [
       "    id     sex  age (months)  dlmo time  days napped  napping  \\\n",
       "0    1  female          33.7      19.24            0        0   \n",
       "1    2  female          31.5      18.27            0        0   \n",
       "2    3    male          31.9      19.14            0        0   \n",
       "3    4  female          31.6      19.69            0        0   \n",
       "4    5  female          33.0      19.52            0        0   \n",
       "5    6  female          36.2      18.22            4        1   \n",
       "6    7    male          36.3      19.28            1        1   \n",
       "7    8    male          30.0      21.06            5        1   \n",
       "8    9    male          33.2      19.38            2        1   \n",
       "9   10  female          37.1      19.93            3        1   \n",
       "10  11    male          32.9      18.79            4        1   \n",
       "11  12  female          35.0      19.65            5        1   \n",
       "12  13    male          35.1      19.83            3        1   \n",
       "13  14  female          35.6      19.88            4        1   \n",
       "14  15  female          36.6      19.94            4        1   \n",
       "15  16    male          36.5      20.25            3        1   \n",
       "16  17  female          33.7      20.33            5        1   \n",
       "17  18    male          36.4      20.16            5        1   \n",
       "18  19  female          33.6      19.68            3        1   \n",
       "19  20    male          33.8      20.51            3        1   \n",
       "\n",
       "    nap lights outl time  nap sleep onset  nap midsleep  nap sleep offset  \\\n",
       "0                    NaN              NaN           NaN               NaN   \n",
       "1                    NaN              NaN           NaN               NaN   \n",
       "2                    NaN              NaN           NaN               NaN   \n",
       "3                    NaN              NaN           NaN               NaN   \n",
       "4                    NaN              NaN           NaN               NaN   \n",
       "5                  14.00            14.22         15.00             15.78   \n",
       "6                  14.75            15.03         15.92             16.80   \n",
       "7                  13.09            13.43         14.44             15.46   \n",
       "8                  14.41            14.42         15.71             17.01   \n",
       "9                  13.12            13.42         14.31             15.19   \n",
       "10                 13.99            14.03         14.85             15.68   \n",
       "11                 13.18            13.45         14.33             15.21   \n",
       "12                 13.94            14.48         15.26             16.03   \n",
       "13                 12.68            13.08         13.92             14.76   \n",
       "14                 12.71            12.88         13.80             14.72   \n",
       "15                 13.74            14.68         15.66             16.64   \n",
       "16                 13.15            13.87         14.49             15.11   \n",
       "17                 12.47            12.56         13.30             14.05   \n",
       "18                 14.71            14.85         15.46             16.07   \n",
       "19                 12.68            13.54         14.30             15.07   \n",
       "\n",
       "    nap wake time  nap duration  nap time in bed  night bedtime  \\\n",
       "0             NaN           NaN              NaN          20.45   \n",
       "1             NaN           NaN              NaN          19.23   \n",
       "2             NaN           NaN              NaN          19.60   \n",
       "3             NaN           NaN              NaN          19.46   \n",
       "4             NaN           NaN              NaN          19.21   \n",
       "5           16.28         93.75           137.00          19.95   \n",
       "6           16.08        106.00            80.00          20.60   \n",
       "7           15.82        121.60           163.80          22.01   \n",
       "8           16.60        155.50           131.25          20.24   \n",
       "9           15.30        106.67           130.67          20.78   \n",
       "10          16.10         98.75           126.60          19.45   \n",
       "11          15.35        105.80           130.40          20.18   \n",
       "12          15.78         93.33           110.20          20.22   \n",
       "13          15.00        100.75           139.33          20.26   \n",
       "14          14.88        110.75           130.00          20.28   \n",
       "15          16.45        117.33           162.75          20.46   \n",
       "16          15.40         74.20           135.00          20.43   \n",
       "17          14.25         89.80           107.00          20.02   \n",
       "18          16.20         73.00            89.40          19.50   \n",
       "19          15.23         91.67           152.67          20.18   \n",
       "\n",
       "    night sleep onset  sleep onset latency  night midsleep time  \\\n",
       "0               20.68                 0.23                 1.92   \n",
       "1               19.48                 0.25                 1.09   \n",
       "2               20.05                 0.45                 1.29   \n",
       "3               19.50                 0.05                 1.89   \n",
       "4               19.65                 0.45                 1.30   \n",
       "5               20.25                 0.29                 1.26   \n",
       "6               20.96                 0.36                 2.12   \n",
       "7               22.53                 0.51                 2.92   \n",
       "8               20.37                 0.13                 1.60   \n",
       "9               21.63                 0.84                 2.20   \n",
       "10              19.88                 0.44                 1.34   \n",
       "11              20.84                 0.66                 1.93   \n",
       "12              20.89                 0.67                 1.99   \n",
       "13              20.80                 0.54                 1.96   \n",
       "14              20.92                 0.64                 1.49   \n",
       "15              21.25                 0.79                 2.19   \n",
       "16              21.03                 0.60                 2.44   \n",
       "17              20.45                 0.43                 1.23   \n",
       "18              19.64                 0.14                 1.42   \n",
       "19              21.38                 1.19                 2.51   \n",
       "\n",
       "    night wake time  night sleep duration  night time in bed  \\\n",
       "0              7.17                629.40             643.00   \n",
       "1              6.69                672.40             700.40   \n",
       "2              6.53                628.80             682.60   \n",
       "3              8.28                766.60             784.00   \n",
       "4              6.95                678.00             718.00   \n",
       "5              6.28                602.20             653.80   \n",
       "6              7.27                618.40             655.40   \n",
       "7              7.31                526.80             582.40   \n",
       "8              6.82                626.80             660.33   \n",
       "9              6.52                549.50             626.00   \n",
       "10             6.80                655.20             694.80   \n",
       "11             7.03                611.20             660.40   \n",
       "12             7.09                611.80             662.20   \n",
       "13             7.11                618.80             671.20   \n",
       "14             6.33                548.00             595.00   \n",
       "15             7.13                593.25             662.00   \n",
       "16             7.86                649.80             708.60   \n",
       "17             6.01                573.60             614.60   \n",
       "18             7.20                693.40             715.00   \n",
       "19             7.63                615.33             692.00   \n",
       "\n",
       "    24 h sleep duration  bedtime phase difference  \\\n",
       "0                629.40                     -1.21   \n",
       "1                672.40                     -0.96   \n",
       "2                628.80                     -0.46   \n",
       "3                766.60                      0.23   \n",
       "4                678.00                      0.31   \n",
       "5                695.95                     -1.73   \n",
       "6                724.40                     -1.32   \n",
       "7                648.40                     -0.95   \n",
       "8                782.30                     -0.86   \n",
       "9                656.17                     -0.76   \n",
       "10               753.95                     -0.66   \n",
       "11               717.00                     -0.53   \n",
       "12               705.13                     -0.39   \n",
       "13               719.55                     -0.38   \n",
       "14               658.75                     -0.34   \n",
       "15               710.58                     -0.21   \n",
       "16               724.00                     -0.10   \n",
       "17               663.40                      0.14   \n",
       "18               766.40                      0.18   \n",
       "19               707.00                      0.33   \n",
       "\n",
       "    sleep onset phase difference  midsleep phase difference  \\\n",
       "0                          -1.44                       6.68   \n",
       "1                          -1.21                       6.82   \n",
       "2                          -0.91                       6.15   \n",
       "3                           0.19                       6.20   \n",
       "4                          -0.13                       5.78   \n",
       "5                          -2.03                       7.05   \n",
       "6                          -1.68                       6.84   \n",
       "7                          -1.47                       5.86   \n",
       "8                          -0.99                       6.22   \n",
       "9                          -1.82                       6.21   \n",
       "10                         -1.09                       6.55   \n",
       "11                         -1.19                       6.28   \n",
       "12                         -1.06                       6.16   \n",
       "13                         -0.92                       6.08   \n",
       "14                         -0.90                       5.64   \n",
       "15                         -1.00                       5.94   \n",
       "16                         -0.70                       6.12   \n",
       "17                         -0.29                       5.07   \n",
       "18                          0.04                       5.74   \n",
       "19                         -0.87                       6.00   \n",
       "\n",
       "    wake time phase difference  \n",
       "0                        11.93  \n",
       "1                        12.42  \n",
       "2                        11.39  \n",
       "3                        12.59  \n",
       "4                        11.43  \n",
       "5                        12.06  \n",
       "6                        11.99  \n",
       "7                        10.25  \n",
       "8                        11.44  \n",
       "9                        10.59  \n",
       "10                       12.01  \n",
       "11                       11.38  \n",
       "12                       11.26  \n",
       "13                       11.23  \n",
       "14                       10.39  \n",
       "15                       10.88  \n",
       "16                       11.53  \n",
       "17                        9.85  \n",
       "18                       11.52  \n",
       "19                       11.12  "
      ]
     },
     "execution_count": 3,
     "metadata": {},
     "output_type": "execute_result"
    }
   ],
   "source": [
    "# First, look at the DataFrame to get a sense of the data\n",
    "df"
   ]
  },
  {
   "cell_type": "markdown",
   "metadata": {
    "colab_type": "text",
    "id": "VfZxEx3gNDor"
   },
   "source": [
    "**Question**: What value is used in the column 'napping' to indicate a toddler takes a nap? (see reference article) \n",
    "\n",
    "**Questions**: What is the overall sample size $n$? What are the sample sizes of napping and non-napping toddlers?"
   ]
  },
  {
   "cell_type": "markdown",
   "metadata": {
    "colab_type": "text",
    "id": "9djLvqwJNDos"
   },
   "source": [
    "## Hypothesis tests\n",
    "We will look at two hypothesis test, each with $\\alpha = .05$:  \n",
    "\n",
    "\n",
    "1. Is the average bedtime for toddlers who nap later than the average bedtime for toddlers who don't nap?\n",
    "\n",
    "\n",
    "$$H_0: \\mu_{nap}=\\mu_{no\\ nap}, \\ H_a:\\mu_{nap}>\\mu_{no\\ nap}$$\n",
    "Or equivalently:\n",
    "$$H_0: \\mu_{nap}-\\mu_{no\\ nap}=0, \\ H_a:\\mu_{nap}-\\mu_{no\\ nap}>0$$\n",
    "\n",
    "\n",
    "2. The average 24 h sleep duration (in minutes) for napping toddlers is different from toddlers who don't nap.\n",
    "\n",
    "\n",
    "$$H_0: \\mu_{nap}=\\mu_{no\\ nap}, \\ H_a:\\mu_{nap}\\neq\\mu_{no\\ nap}$$\n",
    "Or equivalently:\n",
    "$$H_0: \\mu_{nap}-\\mu_{no\\ nap}=0, \\ H_a:\\mu_{nap}-\\mu_{no\\ nap} \\neq 0$$"
   ]
  },
  {
   "cell_type": "markdown",
   "metadata": {
    "colab_type": "text",
    "id": "WprO1i-ONDot"
   },
   "source": [
    "First isolate `night bedtime` into two variables - one for toddlers who nap and one for toddlers who do not nap."
   ]
  },
  {
   "cell_type": "code",
   "execution_count": 4,
   "metadata": {
    "colab": {},
    "colab_type": "code",
    "id": "5gZyghIbNDoy"
   },
   "outputs": [],
   "source": [
    "nap_bedtime = df[df['napping'] == 1]"
   ]
  },
  {
   "cell_type": "code",
   "execution_count": 7,
   "metadata": {
    "colab": {},
    "colab_type": "code",
    "id": "yoX2nh1RNDo0"
   },
   "outputs": [],
   "source": [
    "no_nap_bedtime = df[df['napping'] != 1]"
   ]
  },
  {
   "cell_type": "code",
   "execution_count": 8,
   "metadata": {},
   "outputs": [
    {
     "name": "stdout",
     "output_type": "stream",
     "text": [
      "15 5 20\n"
     ]
    }
   ],
   "source": [
    "print(len(nap_bedtime), len(no_nap_bedtime), len(df))"
   ]
  },
  {
   "cell_type": "markdown",
   "metadata": {
    "colab_type": "text",
    "id": "ZEqxhPObNDo3"
   },
   "source": [
    "Now find the sample mean bedtime for nap and no_nap."
   ]
  },
  {
   "cell_type": "code",
   "execution_count": 16,
   "metadata": {
    "colab": {},
    "colab_type": "code",
    "id": "ySJiflu5NDo5"
   },
   "outputs": [
    {
     "data": {
      "text/plain": [
       "20.304"
      ]
     },
     "execution_count": 16,
     "metadata": {},
     "output_type": "execute_result"
    }
   ],
   "source": [
    "nap_mean_bedtime = nap_bedtime['night bedtime'].mean()\n",
    "nap_mean_bedtime"
   ]
  },
  {
   "cell_type": "code",
   "execution_count": 17,
   "metadata": {
    "colab": {},
    "colab_type": "code",
    "id": "IV2eUZAtNDo9"
   },
   "outputs": [
    {
     "data": {
      "text/plain": [
       "19.590000000000003"
      ]
     },
     "execution_count": 17,
     "metadata": {},
     "output_type": "execute_result"
    }
   ],
   "source": [
    "no_nap_mean_bedtime = no_nap_bedtime['night bedtime'].mean()\n",
    "no_nap_mean_bedtime"
   ]
  },
  {
   "cell_type": "markdown",
   "metadata": {
    "colab_type": "text",
    "id": "LFCWELIDNDo-"
   },
   "source": [
    "**Question**: What is the sample difference of mean bedtime for nappers minus no nappers?"
   ]
  },
  {
   "cell_type": "code",
   "execution_count": 11,
   "metadata": {},
   "outputs": [
    {
     "data": {
      "text/plain": [
       "0.7139999999999951"
      ]
     },
     "execution_count": 11,
     "metadata": {},
     "output_type": "execute_result"
    }
   ],
   "source": [
    "mean_bedtime_diff = nap_mean_bedtime - no_nap_mean_bedtime\n",
    "mean_bedtime_diff"
   ]
  },
  {
   "cell_type": "markdown",
   "metadata": {
    "colab_type": "text",
    "id": "qm-fIbluNDpA"
   },
   "source": [
    "Now find the sample standard deviation for $X_{nap}$ and $X_{no\\ nap}$."
   ]
  },
  {
   "cell_type": "code",
   "execution_count": 12,
   "metadata": {
    "colab": {},
    "colab_type": "code",
    "id": "G5X_l8-qNDpA"
   },
   "outputs": [
    {
     "data": {
      "text/plain": [
       "0.5910619981984009"
      ]
     },
     "metadata": {},
     "output_type": "display_data"
    },
    {
     "data": {
      "text/plain": [
       "0.5910619981984009"
      ]
     },
     "metadata": {},
     "output_type": "display_data"
    }
   ],
   "source": [
    "# The np.std function can be used to find the standard deviation. The\n",
    "# ddof parameter must be set to 1 to get the sample standard deviation.\n",
    "# If it is not, you will be using the population standard deviation which\n",
    "# is not the correct estimator\n",
    "nap_s_bedtime, nap_s_bedtime_np = nap_bedtime['night bedtime'].std(), np.std(nap_bedtime['night bedtime'], ddof=1)\n",
    "display(nap_s_bedtime, nap_s_bedtime_np)"
   ]
  },
  {
   "cell_type": "code",
   "execution_count": 13,
   "metadata": {
    "colab": {},
    "colab_type": "code",
    "id": "2Y29xWT5NDpD"
   },
   "outputs": [
    {
     "data": {
      "text/plain": [
       "0.5075923561284187"
      ]
     },
     "metadata": {},
     "output_type": "display_data"
    },
    {
     "data": {
      "text/plain": [
       "0.5075923561284187"
      ]
     },
     "metadata": {},
     "output_type": "display_data"
    }
   ],
   "source": [
    "no_nap_s_bedtime, no_nap_s_bedtime_np = no_nap_bedtime['night bedtime'].std(), np.std(no_nap_bedtime['night bedtime'], ddof=1)\n",
    "display(no_nap_s_bedtime, no_nap_s_bedtime_np)"
   ]
  },
  {
   "cell_type": "code",
   "execution_count": 27,
   "metadata": {},
   "outputs": [
    {
     "data": {
      "text/plain": [
       "count    15.000000\n",
       "mean     20.304000\n",
       "std       0.591062\n",
       "min      19.450000\n",
       "25%      20.100000\n",
       "50%      20.240000\n",
       "75%      20.445000\n",
       "max      22.010000\n",
       "Name: night bedtime, dtype: float64"
      ]
     },
     "metadata": {},
     "output_type": "display_data"
    },
    {
     "name": "stdout",
     "output_type": "stream",
     "text": [
      "\n",
      "\n"
     ]
    },
    {
     "data": {
      "text/plain": [
       "count     5.000000\n",
       "mean     19.590000\n",
       "std       0.507592\n",
       "min      19.210000\n",
       "25%      19.230000\n",
       "50%      19.460000\n",
       "75%      19.600000\n",
       "max      20.450000\n",
       "Name: night bedtime, dtype: float64"
      ]
     },
     "metadata": {},
     "output_type": "display_data"
    }
   ],
   "source": [
    "display(nap_bedtime['night bedtime'].describe())\n",
    "print('\\n')\n",
    "display(no_nap_bedtime['night bedtime'].describe())"
   ]
  },
  {
   "cell_type": "markdown",
   "metadata": {
    "colab_type": "text",
    "id": "zikRy_GINDpF"
   },
   "source": [
    "**Question**: What is the s.e.$(\\bar{X}_{nap} - \\bar{X}_{no\\ nap})$?\n",
    "\n",
    "We expect the variance in sleep time for toddlers who nap and toddlers who don't nap to be the same. So we use a pooled standard error.\n",
    "\n",
    "Calculate the pooled standard error of $\\bar{X}_{nap} - \\bar{X}_{no\\ nap}$ using the formula below.\n",
    "\n",
    "$s.e.(\\bar{X}_{nap} - \\bar{X}_{no\\ nap}) = \\sqrt{\\frac{(n_1-1)s_1^2 + (n_2-1)s_2^2}{n_1+n_2-2}(\\frac{1}{n_1}+\\frac{1}{n_2})}$"
   ]
  },
  {
   "cell_type": "code",
   "execution_count": 39,
   "metadata": {
    "colab": {},
    "colab_type": "code",
    "id": "KZUAaqFYNDpF"
   },
   "outputs": [],
   "source": [
    "n1, n2 = len(nap_bedtime), len(no_nap_bedtime)\n",
    "numerator = ((n1 - 1) * (nap_s_bedtime ** 2)) + ((n2 - 1) * (no_nap_s_bedtime ** 2))\n",
    "denominator = n1 + n2 - 2\n",
    "left_side_multiple = np.sqrt(numerator/denominator)\n",
    "right_side_multiple = np.sqrt((1/n1) + (1/n2))"
   ]
  },
  {
   "cell_type": "markdown",
   "metadata": {
    "colab_type": "text",
    "id": "S3DC4b-iNDpI"
   },
   "source": [
    "Now calculate the $t$-test statistic for our first hypothesis test using  \n",
    "* pooled s.e.($\\bar{X}_{nap} - \\bar{X}_{no\\ nap}$)  \n",
    "* $\\bar{X}_{nap} - \\bar{X}_{no\\ nap}$  \n",
    "* $\\mu_{0,\\ nap} - \\mu_{0,\\ no\\ nap}=0$, the population difference in means under the null hypothesis"
   ]
  },
  {
   "cell_type": "code",
   "execution_count": 40,
   "metadata": {},
   "outputs": [
    {
     "name": "stdout",
     "output_type": "stream",
     "text": [
      "2.4106381824626966\n"
     ]
    }
   ],
   "source": [
    "test_stat = (nap_mean_bedtime - no_nap_mean_bedtime) / (left_side_multiple * right_side_multiple)\n",
    "print(test_stat)"
   ]
  },
  {
   "cell_type": "code",
   "execution_count": 41,
   "metadata": {},
   "outputs": [
    {
     "data": {
      "text/plain": [
       "(2.4106381824626966, 0.015924637612973146)"
      ]
     },
     "execution_count": 41,
     "metadata": {},
     "output_type": "execute_result"
    }
   ],
   "source": [
    "sm.stats.ztest(nap_bedtime['night bedtime'], no_nap_bedtime['night bedtime'])"
   ]
  },
  {
   "cell_type": "markdown",
   "metadata": {},
   "source": [
    "* Above is the long way ... and short way of geting the t-value as well as the p-value"
   ]
  },
  {
   "cell_type": "markdown",
   "metadata": {
    "colab_type": "text",
    "id": "63-jF9fmNDpI"
   },
   "source": [
    "**Question**: Given our sample size of $n$, how many degrees of freedom ($df$) are there for the associated $t$ distribution?"
   ]
  },
  {
   "cell_type": "code",
   "execution_count": 42,
   "metadata": {},
   "outputs": [
    {
     "data": {
      "text/plain": [
       "18"
      ]
     },
     "execution_count": 42,
     "metadata": {},
     "output_type": "execute_result"
    }
   ],
   "source": [
    "df = (n1 + n2) -2\n",
    "df"
   ]
  },
  {
   "cell_type": "markdown",
   "metadata": {
    "colab_type": "text",
    "id": "vpGx3jGXNDpJ"
   },
   "source": [
    "**Question**: What is the p-value for the first hypothesis test?"
   ]
  },
  {
   "cell_type": "markdown",
   "metadata": {
    "colab_type": "text",
    "id": "YSys0xG3NDpK"
   },
   "source": [
    "For a discussion of probability density functions (PDF) and cumulative distribution functions (CDF) see:\n",
    "\n",
    "https://integratedmlai.com/normal-distribution-an-introductory-guide-to-pdf-and-cdf/\n",
    "\n",
    "To find the p-value, we can use the CDF for the t-distribution:\n",
    "```\n",
    "t.cdf(tstat, df)\n",
    "```\n",
    "Which for $X \\sim t(df)$ returns $P(X \\leq tstat)$.\n",
    "\n",
    "Because of the symmetry of the $t$ distribution, we have that \n",
    "```\n",
    "1 - t.cdf(tstat, df)\n",
    "```\n",
    "returns $P(X > tstat)$\n",
    "\n",
    "The function `t.cdf(tstat, df)` will give you the same value as finding the one-tailed probability of `tstat` on a t-table with the specified degrees of freedom.\n",
    "\n",
    "Use the function `t.cdf(tstat, df)` to find the p-value for the first hypothesis test."
   ]
  },
  {
   "cell_type": "code",
   "execution_count": 45,
   "metadata": {
    "colab": {},
    "colab_type": "code",
    "id": "onJwGMApNDpM"
   },
   "outputs": [
    {
     "data": {
      "text/plain": [
       "0.013417041438843036"
      ]
     },
     "execution_count": 45,
     "metadata": {},
     "output_type": "execute_result"
    }
   ],
   "source": [
    "pvalue = 1 - t.cdf(test_stat,df) # Notice we do the second 1 - value as we are looking for a one-tailed > alternative 𝐻𝑎:𝜇𝑛𝑎𝑝>𝜇𝑛𝑜 𝑛𝑎𝑝\n",
    "pvalue"
   ]
  },
  {
   "cell_type": "markdown",
   "metadata": {
    "colab_type": "text",
    "id": "ObOjGXrTNDpP"
   },
   "source": [
    "**Question**: What are the t-statistic and p-value for the second hypothesis test?\n",
    "\n",
    "Calculate the $t$ test statistics and corresponding p-value using the `scipy` function `scipy.stats.ttest_ind(a, b, equal_var=True)` and check with your answer. \n",
    "\n",
    "**Question**: Does `scipy.stats.ttest_ind` return values for a one-sided or two-sided test?\n",
    "\n",
    "**Question**: Can you think of a way to recover the results you got using `1-t.cdf` from the p-value given by `scipy.stats.ttest_ind`?\n",
    "\n",
    "Use the `scipy` function `scipy.stats.ttest_ind(a, b, equal_var=True)` to find the $t$ test statistic and corresponding p-value for the second hypothesis test."
   ]
  },
  {
   "cell_type": "code",
   "execution_count": 47,
   "metadata": {
    "colab": {},
    "colab_type": "code",
    "id": "mOdFSpXoNDpQ"
   },
   "outputs": [
    {
     "name": "stdout",
     "output_type": "stream",
     "text": [
      "Help on function ttest_ind in module scipy.stats.stats:\n",
      "\n",
      "ttest_ind(a, b, axis=0, equal_var=True, nan_policy='propagate', permutations=None, random_state=None, alternative='two-sided', trim=0)\n",
      "    Calculate the T-test for the means of *two independent* samples of scores.\n",
      "    \n",
      "    This is a two-sided test for the null hypothesis that 2 independent samples\n",
      "    have identical average (expected) values. This test assumes that the\n",
      "    populations have identical variances by default.\n",
      "    \n",
      "    Parameters\n",
      "    ----------\n",
      "    a, b : array_like\n",
      "        The arrays must have the same shape, except in the dimension\n",
      "        corresponding to `axis` (the first, by default).\n",
      "    axis : int or None, optional\n",
      "        Axis along which to compute test. If None, compute over the whole\n",
      "        arrays, `a`, and `b`.\n",
      "    equal_var : bool, optional\n",
      "        If True (default), perform a standard independent 2 sample test\n",
      "        that assumes equal population variances [1]_.\n",
      "        If False, perform Welch's t-test, which does not assume equal\n",
      "        population variance [2]_.\n",
      "    \n",
      "        .. versionadded:: 0.11.0\n",
      "    \n",
      "    nan_policy : {'propagate', 'raise', 'omit'}, optional\n",
      "        Defines how to handle when input contains nan.\n",
      "        The following options are available (default is 'propagate'):\n",
      "    \n",
      "          * 'propagate': returns nan\n",
      "          * 'raise': throws an error\n",
      "          * 'omit': performs the calculations ignoring nan values\n",
      "    \n",
      "        The 'omit' option is not currently available for permutation tests or\n",
      "        one-sided asympyotic tests.\n",
      "    \n",
      "    permutations : non-negative int, np.inf, or None (default), optional\n",
      "        If 0 or None (default), use the t-distribution to calculate p-values.\n",
      "        Otherwise, `permutations` is  the number of random permutations that\n",
      "        will be used to estimate p-values using a permutation test. If\n",
      "        `permutations` equals or exceeds the number of distinct partitions of\n",
      "        the pooled data, an exact test is performed instead (i.e. each\n",
      "        distinct partition is used exactly once). See Notes for details.\n",
      "    \n",
      "        .. versionadded:: 1.7.0\n",
      "    \n",
      "    random_state : {None, int, `numpy.random.Generator`,\n",
      "            `numpy.random.RandomState`}, optional\n",
      "    \n",
      "        If `seed` is None (or `np.random`), the `numpy.random.RandomState`\n",
      "        singleton is used.\n",
      "        If `seed` is an int, a new ``RandomState`` instance is used,\n",
      "        seeded with `seed`.\n",
      "        If `seed` is already a ``Generator`` or ``RandomState`` instance then\n",
      "        that instance is used.\n",
      "    \n",
      "        Pseudorandom number generator state used to generate permutations\n",
      "        (used only when `permutations` is not None).\n",
      "    \n",
      "        .. versionadded:: 1.7.0\n",
      "    \n",
      "    alternative : {'two-sided', 'less', 'greater'}, optional\n",
      "        Defines the alternative hypothesis.\n",
      "        The following options are available (default is 'two-sided'):\n",
      "    \n",
      "          * 'two-sided'\n",
      "          * 'less': one-sided\n",
      "          * 'greater': one-sided\n",
      "    \n",
      "        .. versionadded:: 1.6.0\n",
      "    \n",
      "    trim : float, optional\n",
      "        If nonzero, performs a trimmed (Yuen's) t-test.\n",
      "        Defines the fraction of elements to be trimmed from each end of the\n",
      "        input samples. If 0 (default), no elements will be trimmed from either\n",
      "        side. The number of trimmed elements from each tail is the floor of the\n",
      "        trim times the number of elements. Valid range is [0, .5).\n",
      "    \n",
      "        .. versionadded:: 1.7\n",
      "    \n",
      "    Returns\n",
      "    -------\n",
      "    statistic : float or array\n",
      "        The calculated t-statistic.\n",
      "    pvalue : float or array\n",
      "        The two-tailed p-value.\n",
      "    \n",
      "    Notes\n",
      "    -----\n",
      "    Suppose we observe two independent samples, e.g. flower petal lengths, and\n",
      "    we are considering whether the two samples were drawn from the same\n",
      "    population (e.g. the same species of flower or two species with similar\n",
      "    petal characteristics) or two different populations.\n",
      "    \n",
      "    The t-test quantifies the difference between the arithmetic means\n",
      "    of the two samples. The p-value quantifies the probability of observing\n",
      "    as or more extreme values assuming the null hypothesis, that the\n",
      "    samples are drawn from populations with the same population means, is true.\n",
      "    A p-value larger than a chosen threshold (e.g. 5% or 1%) indicates that\n",
      "    our observation is not so unlikely to have occurred by chance. Therefore,\n",
      "    we do not reject the null hypothesis of equal population means.\n",
      "    If the p-value is smaller than our threshold, then we have evidence\n",
      "    against the null hypothesis of equal population means.\n",
      "    \n",
      "    By default, the p-value is determined by comparing the t-statistic of the\n",
      "    observed data against a theoretical t-distribution.\n",
      "    When ``1 < permutations < binom(n, k)``, where\n",
      "    \n",
      "    * ``k`` is the number of observations in `a`,\n",
      "    * ``n`` is the total number of observations in `a` and `b`, and\n",
      "    * ``binom(n, k)`` is the binomial coefficient (``n`` choose ``k``),\n",
      "    \n",
      "    the data are pooled (concatenated), randomly assigned to either group `a`\n",
      "    or `b`, and the t-statistic is calculated. This process is performed\n",
      "    repeatedly (`permutation` times), generating a distribution of the\n",
      "    t-statistic under the null hypothesis, and the t-statistic of the observed\n",
      "    data is compared to this distribution to determine the p-value. When\n",
      "    ``permutations >= binom(n, k)``, an exact test is performed: the data are\n",
      "    partitioned between the groups in each distinct way exactly once.\n",
      "    \n",
      "    The permutation test can be computationally expensive and not necessarily\n",
      "    more accurate than the analytical test, but it does not make strong\n",
      "    assumptions about the shape of the underlying distribution.\n",
      "    \n",
      "    Use of trimming is commonly referred to as the trimmed t-test. At times\n",
      "    called Yuen's t-test, this is an extension of Welch's t-test, with the\n",
      "    difference being the use of winsorized means in calculation of the variance\n",
      "    and the trimmed sample size in calculation of the statistic. Trimming is\n",
      "    reccomended if the underlying distribution is long-tailed or contaminated\n",
      "    with outliers [4]_.\n",
      "    \n",
      "    References\n",
      "    ----------\n",
      "    .. [1] https://en.wikipedia.org/wiki/T-test#Independent_two-sample_t-test\n",
      "    \n",
      "    .. [2] https://en.wikipedia.org/wiki/Welch%27s_t-test\n",
      "    \n",
      "    .. [3] http://en.wikipedia.org/wiki/Resampling_%28statistics%29\n",
      "    \n",
      "    .. [4] Yuen, Karen K. \"The Two-Sample Trimmed t for Unequal Population\n",
      "           Variances.\" Biometrika, vol. 61, no. 1, 1974, pp. 165-170. JSTOR,\n",
      "           www.jstor.org/stable/2334299. Accessed 30 Mar. 2021.\n",
      "    \n",
      "    .. [5] Yuen, Karen K., and W. J. Dixon. \"The Approximate Behaviour and\n",
      "           Performance of the Two-Sample Trimmed t.\" Biometrika, vol. 60,\n",
      "           no. 2, 1973, pp. 369-374. JSTOR, www.jstor.org/stable/2334550.\n",
      "           Accessed 30 Mar. 2021.\n",
      "    \n",
      "    Examples\n",
      "    --------\n",
      "    >>> from scipy import stats\n",
      "    >>> rng = np.random.default_rng()\n",
      "    \n",
      "    Test with sample with identical means:\n",
      "    \n",
      "    >>> rvs1 = stats.norm.rvs(loc=5, scale=10, size=500, random_state=rng)\n",
      "    >>> rvs2 = stats.norm.rvs(loc=5, scale=10, size=500, random_state=rng)\n",
      "    >>> stats.ttest_ind(rvs1, rvs2)\n",
      "    Ttest_indResult(statistic=-0.4390847099199348, pvalue=0.6606952038870015)\n",
      "    >>> stats.ttest_ind(rvs1, rvs2, equal_var=False)\n",
      "    Ttest_indResult(statistic=-0.4390847099199348, pvalue=0.6606952553131064)\n",
      "    \n",
      "    `ttest_ind` underestimates p for unequal variances:\n",
      "    \n",
      "    >>> rvs3 = stats.norm.rvs(loc=5, scale=20, size=500, random_state=rng)\n",
      "    >>> stats.ttest_ind(rvs1, rvs3)\n",
      "    Ttest_indResult(statistic=-1.6370984482905417, pvalue=0.1019251574705033)\n",
      "    >>> stats.ttest_ind(rvs1, rvs3, equal_var=False)\n",
      "    Ttest_indResult(statistic=-1.637098448290542, pvalue=0.10202110497954867)\n",
      "    \n",
      "    When ``n1 != n2``, the equal variance t-statistic is no longer equal to the\n",
      "    unequal variance t-statistic:\n",
      "    \n",
      "    >>> rvs4 = stats.norm.rvs(loc=5, scale=20, size=100, random_state=rng)\n",
      "    >>> stats.ttest_ind(rvs1, rvs4)\n",
      "    Ttest_indResult(statistic=-1.9481646859513422, pvalue=0.05186270935842703)\n",
      "    >>> stats.ttest_ind(rvs1, rvs4, equal_var=False)\n",
      "    Ttest_indResult(statistic=-1.3146566100751664, pvalue=0.1913495266513811)\n",
      "    \n",
      "    T-test with different means, variance, and n:\n",
      "    \n",
      "    >>> rvs5 = stats.norm.rvs(loc=8, scale=20, size=100, random_state=rng)\n",
      "    >>> stats.ttest_ind(rvs1, rvs5)\n",
      "    Ttest_indResult(statistic=-2.8415950600298774, pvalue=0.0046418707568707885)\n",
      "    >>> stats.ttest_ind(rvs1, rvs5, equal_var=False)\n",
      "    Ttest_indResult(statistic=-1.8686598649188084, pvalue=0.06434714193919686)\n",
      "    \n",
      "    When performing a permutation test, more permutations typically yields\n",
      "    more accurate results. Use a ``np.random.Generator`` to ensure\n",
      "    reproducibility:\n",
      "    \n",
      "    >>> stats.ttest_ind(rvs1, rvs5, permutations=10000,\n",
      "    ...                 random_state=rng)\n",
      "    Ttest_indResult(statistic=-2.8415950600298774, pvalue=0.0052)\n",
      "    \n",
      "    Take these two samples, one of which has an extreme tail.\n",
      "    \n",
      "    >>> a = (56, 128.6, 12, 123.8, 64.34, 78, 763.3)\n",
      "    >>> b = (1.1, 2.9, 4.2)\n",
      "    \n",
      "    Use the `trim` keyword to perform a trimmed (Yuen) t-test. For example,\n",
      "    using 20% trimming, ``trim=.2``, the test will reduce the impact of one\n",
      "    (``np.floor(trim*len(a))``) element from each tail of sample `a`. It will\n",
      "    have no effect on sample `b` because ``np.floor(trim*len(b))`` is 0.\n",
      "    \n",
      "    >>> stats.ttest_ind(a, b, trim=.2)\n",
      "    Ttest_indResult(statistic=3.4463884028073513,\n",
      "                    pvalue=0.01369338726499547)\n",
      "\n"
     ]
    }
   ],
   "source": [
    "from scipy import stats\n",
    "help(stats.ttest_ind)"
   ]
  },
  {
   "cell_type": "markdown",
   "metadata": {
    "colab_type": "text",
    "id": "ATF7D28TNDpW"
   },
   "source": [
    "**Question**: For the $\\alpha=.05$, do you reject or fail to reject the first hypothesis?\n",
    "* We can reject the null hypothesis for our first hypothesis\n",
    "\n",
    "**Question**: For the $\\alpha=.05$, do you reject or fail to reject the second hypothesis?\n"
   ]
  },
  {
   "cell_type": "code",
   "execution_count": 49,
   "metadata": {},
   "outputs": [
    {
     "data": {
      "text/plain": [
       "Ttest_indResult(statistic=1.4811248223284985, pvalue=0.1558664953018476)"
      ]
     },
     "execution_count": 49,
     "metadata": {},
     "output_type": "execute_result"
    }
   ],
   "source": [
    "stats.ttest_ind(nap_bedtime['24 h sleep duration'], no_nap_bedtime['24 h sleep duration'], alternative='two-sided')"
   ]
  },
  {
   "cell_type": "code",
   "execution_count": 50,
   "metadata": {},
   "outputs": [
    {
     "data": {
      "text/plain": [
       "Ttest_indResult(statistic=1.4811248223284985, pvalue=0.1558664953018476)"
      ]
     },
     "execution_count": 50,
     "metadata": {},
     "output_type": "execute_result"
    }
   ],
   "source": [
    "stats.ttest_ind(nap_bedtime['24 h sleep duration'], no_nap_bedtime['24 h sleep duration'], equal_var=True)"
   ]
  },
  {
   "cell_type": "markdown",
   "metadata": {},
   "source": [
    "* We can not reject the null hypothesis for our second hypothesis (24 hour duration time in minutes not being equal)"
   ]
  }
 ],
 "metadata": {
  "colab": {
   "collapsed_sections": [],
   "name": "Hypothesis testing assessment.ipynb",
   "provenance": [],
   "version": "0.3.2"
  },
  "kernelspec": {
   "display_name": "Python 3 (ipykernel)",
   "language": "python",
   "name": "python3"
  },
  "language_info": {
   "codemirror_mode": {
    "name": "ipython",
    "version": 3
   },
   "file_extension": ".py",
   "mimetype": "text/x-python",
   "name": "python",
   "nbconvert_exporter": "python",
   "pygments_lexer": "ipython3",
   "version": "3.9.12"
  }
 },
 "nbformat": 4,
 "nbformat_minor": 1
}
