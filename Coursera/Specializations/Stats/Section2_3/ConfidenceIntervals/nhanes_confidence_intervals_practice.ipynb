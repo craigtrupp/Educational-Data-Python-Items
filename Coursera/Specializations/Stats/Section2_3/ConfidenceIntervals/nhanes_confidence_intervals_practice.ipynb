{
 "cells": [
  {
   "cell_type": "markdown",
   "metadata": {},
   "source": [
    "# Practice notebook for confidence intervals using NHANES data\n",
    "\n",
    "This notebook will give you the opportunity to practice working with confidence intervals using the NHANES data.\n",
    "\n",
    "You can enter your code into the cells that say \"enter your code here\", and you can type responses to the questions into the cells that say \"Type Markdown and Latex\".\n",
    "\n",
    "Note that most of the code that you will need to write below is very similar to code that appears in the case study notebook.  You will need to edit code from that notebook in small ways to adapt it to the prompts below.\n",
    "\n",
    "To get started, we will use the same module imports and read the data in the same way as we did in the case study:"
   ]
  },
  {
   "cell_type": "code",
   "execution_count": 9,
   "metadata": {},
   "outputs": [],
   "source": [
    "%matplotlib inline\n",
    "import matplotlib.pyplot as plt\n",
    "import pandas as pd\n",
    "import numpy as np\n",
    "import seaborn as sns\n",
    "import statsmodels.api as sm\n",
    "\n",
    "da = pd.read_csv(\"../DataFiles/nhanes_2015_2016.csv\")"
   ]
  },
  {
   "cell_type": "markdown",
   "metadata": {},
   "source": [
    "## Question 1\n",
    "\n",
    "Restrict the sample to women between 35 and 50, then use the marital status variable [DMDMARTL](https://wwwn.cdc.gov/Nchs/Nhanes/2015-2016/DEMO_I.htm#DMDMARTL) to partition this sample into two groups - women who are currently married, and women who are not currently married.  Within each of these groups, calculate the proportion of women who have completed college.  Calculate 95% confidence intervals for each of these proportions."
   ]
  },
  {
   "cell_type": "code",
   "execution_count": 10,
   "metadata": {},
   "outputs": [
    {
     "data": {
      "text/html": [
       "<div>\n",
       "<style scoped>\n",
       "    .dataframe tbody tr th:only-of-type {\n",
       "        vertical-align: middle;\n",
       "    }\n",
       "\n",
       "    .dataframe tbody tr th {\n",
       "        vertical-align: top;\n",
       "    }\n",
       "\n",
       "    .dataframe thead th {\n",
       "        text-align: right;\n",
       "    }\n",
       "</style>\n",
       "<table border=\"1\" class=\"dataframe\">\n",
       "  <thead>\n",
       "    <tr style=\"text-align: right;\">\n",
       "      <th></th>\n",
       "      <th>DMDMARTL</th>\n",
       "      <th>RIDAGEYR</th>\n",
       "      <th>RIAGENDR</th>\n",
       "    </tr>\n",
       "  </thead>\n",
       "  <tbody>\n",
       "    <tr>\n",
       "      <th>4</th>\n",
       "      <td>3.0</td>\n",
       "      <td>42</td>\n",
       "      <td>2</td>\n",
       "    </tr>\n",
       "    <tr>\n",
       "      <th>34</th>\n",
       "      <td>1.0</td>\n",
       "      <td>37</td>\n",
       "      <td>2</td>\n",
       "    </tr>\n",
       "    <tr>\n",
       "      <th>50</th>\n",
       "      <td>1.0</td>\n",
       "      <td>39</td>\n",
       "      <td>2</td>\n",
       "    </tr>\n",
       "    <tr>\n",
       "      <th>52</th>\n",
       "      <td>4.0</td>\n",
       "      <td>50</td>\n",
       "      <td>2</td>\n",
       "    </tr>\n",
       "    <tr>\n",
       "      <th>55</th>\n",
       "      <td>1.0</td>\n",
       "      <td>45</td>\n",
       "      <td>2</td>\n",
       "    </tr>\n",
       "    <tr>\n",
       "      <th>58</th>\n",
       "      <td>5.0</td>\n",
       "      <td>44</td>\n",
       "      <td>2</td>\n",
       "    </tr>\n",
       "    <tr>\n",
       "      <th>61</th>\n",
       "      <td>1.0</td>\n",
       "      <td>37</td>\n",
       "      <td>2</td>\n",
       "    </tr>\n",
       "    <tr>\n",
       "      <th>62</th>\n",
       "      <td>1.0</td>\n",
       "      <td>49</td>\n",
       "      <td>2</td>\n",
       "    </tr>\n",
       "    <tr>\n",
       "      <th>63</th>\n",
       "      <td>1.0</td>\n",
       "      <td>46</td>\n",
       "      <td>2</td>\n",
       "    </tr>\n",
       "    <tr>\n",
       "      <th>76</th>\n",
       "      <td>1.0</td>\n",
       "      <td>42</td>\n",
       "      <td>2</td>\n",
       "    </tr>\n",
       "  </tbody>\n",
       "</table>\n",
       "</div>"
      ],
      "text/plain": [
       "    DMDMARTL  RIDAGEYR  RIAGENDR\n",
       "4        3.0        42         2\n",
       "34       1.0        37         2\n",
       "50       1.0        39         2\n",
       "52       4.0        50         2\n",
       "55       1.0        45         2\n",
       "58       5.0        44         2\n",
       "61       1.0        37         2\n",
       "62       1.0        49         2\n",
       "63       1.0        46         2\n",
       "76       1.0        42         2"
      ]
     },
     "execution_count": 10,
     "metadata": {},
     "output_type": "execute_result"
    }
   ],
   "source": [
    "# Subset to Women in the Desired Age Group\n",
    "da_wmn_35_50 = da.loc[(da['RIDAGEYR'] >= 35) & (da['RIDAGEYR'] <= 50) & (da['RIAGENDR'] == 2)]\n",
    "da_wmn_35_50[['DMDMARTL', 'RIDAGEYR', 'RIAGENDR']].head(10)"
   ]
  },
  {
   "cell_type": "code",
   "execution_count": 11,
   "metadata": {},
   "outputs": [
    {
     "name": "stdout",
     "output_type": "stream",
     "text": [
      "449 338 787\n"
     ]
    }
   ],
   "source": [
    "## 1 is married all else is not \n",
    "da_wmn_35_50_married = da_wmn_35_50.loc[da_wmn_35_50['DMDMARTL'] == 1]\n",
    "da_wmn_35_50_unmarried = da_wmn_35_50.loc[da_wmn_35_50['DMDMARTL'] != 1]\n",
    "print(len(da_wmn_35_50_married), len(da_wmn_35_50_unmarried), len(da_wmn_35_50))"
   ]
  },
  {
   "cell_type": "code",
   "execution_count": 12,
   "metadata": {},
   "outputs": [
    {
     "data": {
      "text/plain": [
       "5.0    162\n",
       "4.0    139\n",
       "3.0     64\n",
       "2.0     43\n",
       "1.0     41\n",
       "Name: DMDEDUC2, dtype: int64"
      ]
     },
     "metadata": {},
     "output_type": "display_data"
    },
    {
     "name": "stdout",
     "output_type": "stream",
     "text": [
      "0.36080178173719374\n"
     ]
    },
    {
     "data": {
      "text/plain": [
       "4.0    118\n",
       "5.0     72\n",
       "3.0     69\n",
       "1.0     42\n",
       "2.0     37\n",
       "Name: DMDEDUC2, dtype: int64"
      ]
     },
     "metadata": {},
     "output_type": "display_data"
    },
    {
     "name": "stdout",
     "output_type": "stream",
     "text": [
      "0.21301775147928995 \n",
      "\n",
      "Percentage of married women aged (35-50) who have completed college : 36.08%\n",
      "Percentage of unmarried women aged (35-50) who have completed college : 21.3%\n"
     ]
    }
   ],
   "source": [
    "# Within each of these groups, calculate the proportion of women who have completed college (5 = College Graduate or Above)\n",
    "education_counts_married = da_wmn_35_50_married['DMDEDUC2'].value_counts()\n",
    "display(education_counts_married)\n",
    "# Need to get the value from the loc series return of the index value for the education count value of interest\n",
    "ed_perc_married_clg = education_counts_married.loc[education_counts_married.index == 5].values[0] / education_counts_married.sum()\n",
    "print(ed_perc_married_clg)\n",
    "\n",
    "ed_counts_ntmarried = da_wmn_35_50_unmarried['DMDEDUC2'].value_counts()\n",
    "display(ed_counts_ntmarried)\n",
    "ed_perc_ntmarried_clg = ed_counts_ntmarried.loc[ed_counts_ntmarried.index == 5].values[0] / ed_counts_ntmarried.sum()\n",
    "print(ed_perc_ntmarried_clg, '\\n')\n",
    "\n",
    "print(\"Percentage of married women aged (35-50) who have completed college : {}%\".format(round(100 * ed_perc_married_clg,2)))\n",
    "print(\"Percentage of unmarried women aged (35-50) who have completed college : {}%\".format(round(100 * ed_perc_ntmarried_clg,2)))\n"
   ]
  },
  {
   "cell_type": "code",
   "execution_count": 13,
   "metadata": {},
   "outputs": [
    {
     "data": {
      "text/plain": [
       "(0.31638193710753626, 0.4052216263668512)"
      ]
     },
     "metadata": {},
     "output_type": "display_data"
    },
    {
     "data": {
      "text/plain": [
       "0.08883968925931496"
      ]
     },
     "metadata": {},
     "output_type": "display_data"
    },
    {
     "data": {
      "text/plain": [
       "(0.16936816767089768, 0.2566673352876822)"
      ]
     },
     "metadata": {},
     "output_type": "display_data"
    },
    {
     "data": {
      "text/plain": [
       "0.08729916761678452"
      ]
     },
     "metadata": {},
     "output_type": "display_data"
    }
   ],
   "source": [
    "# Calculate 95% confidence intervals for each of these proportions.\n",
    "import statsmodels.api as sm\n",
    "## Just using the 162 of the value of the index of 5 for proportion above\n",
    "married_col_cnfintv = sm.stats.proportion_confint(162, education_counts_married.sum())\n",
    "display(married_col_cnfintv, married_col_cnfintv[1] - married_col_cnfintv[0])\n",
    "nmarried_col_cnfintv = sm.stats.proportion_confint(72, ed_counts_ntmarried.sum())\n",
    "display(nmarried_col_cnfintv, nmarried_col_cnfintv[1] - nmarried_col_cnfintv[0])"
   ]
  },
  {
   "cell_type": "code",
   "execution_count": 14,
   "metadata": {},
   "outputs": [
    {
     "name": "stdout",
     "output_type": "stream",
     "text": [
      "0.08550601406567257 0.21006204645013501\n"
     ]
    }
   ],
   "source": [
    "# Difference in Proportion Confidence Interval\n",
    "import numpy as np\n",
    "p_hat1 = ed_perc_married_clg\n",
    "p_hat2 = ed_perc_ntmarried_clg\n",
    "\n",
    "d_proportions_top = p_hat1 - p_hat2 + 1.96 * np.sqrt(((p_hat1 * (1 - p_hat1)) / education_counts_married.sum()) + (p_hat2 * (1 - p_hat2) / ed_counts_ntmarried.sum()))\n",
    "d_proportions_bottom = p_hat1 - p_hat2 - 1.96 * np.sqrt(((p_hat1 * (1 - p_hat1)) / education_counts_married.sum()) + (p_hat2 * (1 - p_hat2) / ed_counts_ntmarried.sum()))\n",
    "\n",
    "print(d_proportions_bottom, d_proportions_top)\n"
   ]
  },
  {
   "cell_type": "code",
   "execution_count": 15,
   "metadata": {},
   "outputs": [
    {
     "name": "stdout",
     "output_type": "stream",
     "text": [
      "0.3163811208674688 0.4052224426069187\n"
     ]
    }
   ],
   "source": [
    "## Married Confidence intervals Manual\n",
    "lcb = ed_perc_married_clg - 1.96 * np.sqrt(ed_perc_married_clg * (1 - ed_perc_married_clg) / education_counts_married.sum())  \n",
    "ucb = ed_perc_married_clg + 1.96 * np.sqrt(ed_perc_married_clg * (1 - ed_perc_married_clg) / education_counts_married.sum())  \n",
    "print(lcb, ucb)"
   ]
  },
  {
   "cell_type": "markdown",
   "metadata": {},
   "source": [
    "__Q1a.__ Identify which of the two confidence intervals is wider, and explain why this is the case. "
   ]
  },
  {
   "cell_type": "markdown",
   "metadata": {},
   "source": [
    "* They're super tight in terms of the intervals lower and upper bounds. The slightly larger interval appears to be the married interval. This could be do to the larger sample size with potentially more influential outliers"
   ]
  },
  {
   "cell_type": "markdown",
   "metadata": {},
   "source": []
  },
  {
   "cell_type": "markdown",
   "metadata": {},
   "source": [
    "__Q1b.__ Write 1-2 sentences summarizing these findings for an audience that does not know what a confidence interval is (the goal here is to report the substance of what you learned about how marital status and educational attainment are related, not to teach a person what a confidence interval is)."
   ]
  },
  {
   "cell_type": "markdown",
   "metadata": {},
   "source": [
    "* With 95% confidence, the population proportion of married women who have completed a college degree is 8.6% to 21.1% higher than the population proportion of unmarried women who have completed a college degree."
   ]
  },
  {
   "cell_type": "markdown",
   "metadata": {},
   "source": []
  },
  {
   "cell_type": "markdown",
   "metadata": {},
   "source": [
    "## Question 2\n",
    "\n",
    "Construct a 95% confidence interval for the proportion of smokers who are female. Construct a 95% confidence interval for the proportion of smokers who are male. Construct a 95% confidence interval for the **difference** between those two gender proportions."
   ]
  },
  {
   "cell_type": "code",
   "execution_count": 16,
   "metadata": {},
   "outputs": [
    {
     "name": "stdout",
     "output_type": "stream",
     "text": [
      "5735 5735 \n",
      "\n",
      "2    3406\n",
      "1    2319\n",
      "9       8\n",
      "7       2\n",
      "Name: SMQ020, dtype: int64 \n",
      "\n",
      "2    2976\n",
      "1    2759\n",
      "Name: RIAGENDR, dtype: int64\n"
     ]
    }
   ],
   "source": [
    "df_q2 = da.copy()\n",
    "print(len(df_q2), len(da), '\\n')\n",
    "print(df_q2['SMQ020'].value_counts(), '\\n')\n",
    "print(df_q2['RIAGENDR'].value_counts())"
   ]
  },
  {
   "cell_type": "markdown",
   "metadata": {},
   "source": [
    "* The smoker values of (2, 1, 9, 7) represent No, Yes, Refused, & Don't Know\n",
    "* With only 10 responses being for the two non binary answers (for smoking), we'll simply exclude them\n",
    "* Next, we'll map the values to a crosstab representation showing the Yes/No response for Smoking for Each Gender"
   ]
  },
  {
   "cell_type": "code",
   "execution_count": 17,
   "metadata": {},
   "outputs": [
    {
     "data": {
      "text/html": [
       "<div>\n",
       "<style scoped>\n",
       "    .dataframe tbody tr th:only-of-type {\n",
       "        vertical-align: middle;\n",
       "    }\n",
       "\n",
       "    .dataframe tbody tr th {\n",
       "        vertical-align: top;\n",
       "    }\n",
       "\n",
       "    .dataframe thead th {\n",
       "        text-align: right;\n",
       "    }\n",
       "</style>\n",
       "<table border=\"1\" class=\"dataframe\">\n",
       "  <thead>\n",
       "    <tr style=\"text-align: right;\">\n",
       "      <th>Smoker</th>\n",
       "      <th>No</th>\n",
       "      <th>Yes</th>\n",
       "    </tr>\n",
       "    <tr>\n",
       "      <th>Gender</th>\n",
       "      <th></th>\n",
       "      <th></th>\n",
       "    </tr>\n",
       "  </thead>\n",
       "  <tbody>\n",
       "    <tr>\n",
       "      <th>Female</th>\n",
       "      <td>2066</td>\n",
       "      <td>906</td>\n",
       "    </tr>\n",
       "    <tr>\n",
       "      <th>Male</th>\n",
       "      <td>1340</td>\n",
       "      <td>1413</td>\n",
       "    </tr>\n",
       "  </tbody>\n",
       "</table>\n",
       "</div>"
      ],
      "text/plain": [
       "Smoker    No   Yes\n",
       "Gender            \n",
       "Female  2066   906\n",
       "Male    1340  1413"
      ]
     },
     "execution_count": 17,
     "metadata": {},
     "output_type": "execute_result"
    }
   ],
   "source": [
    "import pandas as pd\n",
    "df_q2['Gender'] = df_q2['RIAGENDR'].map({1: 'Male', 2: 'Female'})\n",
    "df_q2['Smoker'] = df_q2['SMQ020'].map({1: 'Yes', 2: 'No'})\n",
    "cat_smoke_counts = pd.crosstab(df_q2.Gender, df_q2.Smoker)\n",
    "cat_smoke_counts"
   ]
  },
  {
   "cell_type": "code",
   "execution_count": 18,
   "metadata": {},
   "outputs": [
    {
     "name": "stdout",
     "output_type": "stream",
     "text": [
      "0.30484522207267833\n",
      "0.5132582637123139\n"
     ]
    }
   ],
   "source": [
    "# Get Yes percentage for each index/row and divide by the sum of total rows for index\n",
    "p_smoker_female = cat_smoke_counts.loc['Female', 'Yes'] / cat_smoke_counts.loc['Female', :].sum()\n",
    "p_smoker_male = cat_smoke_counts.loc['Male', 'Yes'] / cat_smoke_counts.loc['Male', :].sum()\n",
    "print(p_smoker_female)\n",
    "print(p_smoker_male)\n",
    "# print(cat_smoke_counts.loc['Female', :]) return is the series for that row with each column as value in the returned series"
   ]
  },
  {
   "cell_type": "code",
   "execution_count": 19,
   "metadata": {},
   "outputs": [
    {
     "name": "stdout",
     "output_type": "stream",
     "text": [
      "(0.2882949879861214, 0.32139545615923526) (0.49458749263718593, 0.5319290347874418) <class 'tuple'>\n"
     ]
    }
   ],
   "source": [
    "## Calculate confidence intervals for each group\n",
    "# married_col_cnfintv = sm.stats.proportion_confint(162, education_counts_married.sum())\n",
    "\n",
    "female_smoker_confintervals = sm.stats.proportion_confint(cat_smoke_counts.loc['Female', 'Yes'], \n",
    "                                                          cat_smoke_counts.loc['Female', :].sum())\n",
    "male_smoker_confintervals = sm.stats.proportion_confint(cat_smoke_counts.loc['Male', 'Yes'], \n",
    "                                                          cat_smoke_counts.loc['Male', :].sum())\n",
    "                                                        \n",
    "print((female_smoker_confintervals), (male_smoker_confintervals), type(female_smoker_confintervals))"
   ]
  },
  {
   "cell_type": "code",
   "execution_count": 20,
   "metadata": {},
   "outputs": [
    {
     "data": {
      "text/plain": [
       "(-0.2333636091471941, -0.18346247413207697)"
      ]
     },
     "execution_count": 20,
     "metadata": {},
     "output_type": "execute_result"
    }
   ],
   "source": [
    "# Difference Between Two Gender Proportions Confidence Intervals\n",
    "lwb_dif = p_smoker_female - p_smoker_male - (1.96 * np.sqrt((p_smoker_female * (1 - p_smoker_female) / cat_smoke_counts.loc['Female', :].sum())+\n",
    "                                                              (p_smoker_male * (1 - p_smoker_male) / cat_smoke_counts.loc['Male', :].sum())))\n",
    "\n",
    "hwb_dif = p_smoker_female - p_smoker_male + (1.96 * np.sqrt((p_smoker_female * (1 - p_smoker_female) / cat_smoke_counts.loc['Female', :].sum())+\n",
    "                                                              (p_smoker_male * (1 - p_smoker_male) / cat_smoke_counts.loc['Male', :].sum())))\n",
    "(lwb_dif, hwb_dif)"
   ]
  },
  {
   "cell_type": "markdown",
   "metadata": {},
   "source": [
    "* We are 95% confident that the interval (-0.2333636091471941, -0.18346247413207697) contains the difference between\n",
    "    the population of female smokers compared to male smokers in our dataset\n",
    "* With 95% confidence the population proportion of females who smoke is 23.3% to 18.3% lower than the population\n",
    "    proportion of male who smoke"
   ]
  },
  {
   "cell_type": "markdown",
   "metadata": {},
   "source": [
    "__Q2a.__ Why might it be relevant to report the separate gender proportions **and** the difference between the gender proportions?"
   ]
  },
  {
   "cell_type": "markdown",
   "metadata": {},
   "source": [
    "* Each separate proportion interval is significantly different"
   ]
  },
  {
   "cell_type": "markdown",
   "metadata": {},
   "source": []
  },
  {
   "cell_type": "markdown",
   "metadata": {},
   "source": [
    "__Q2b.__ How does the **width** of the confidence interval for the difference between the gender proportions compare to the widths of the confidence intervals for the separate gender proportions?"
   ]
  },
  {
   "cell_type": "markdown",
   "metadata": {},
   "source": [
    "* The difference in the confidence interval for the difference between each gender proportion is wider than the two individual levels"
   ]
  },
  {
   "cell_type": "markdown",
   "metadata": {},
   "source": []
  },
  {
   "cell_type": "markdown",
   "metadata": {},
   "source": [
    "## Question 3\n",
    "\n",
    "Construct a 95% interval for height ([BMXHT](https://wwwn.cdc.gov/Nchs/Nhanes/2015-2016/BMX_I.htm#BMXHT)) in centimeters.  Then convert height from centimeters to inches by dividing by 2.54, and construct a 95% confidence interval for height in inches.  Finally, convert the endpoints (the lower and upper confidence limits) of the confidence interval from inches to back to centimeters   "
   ]
  },
  {
   "cell_type": "code",
   "execution_count": 21,
   "metadata": {},
   "outputs": [
    {
     "name": "stdout",
     "output_type": "stream",
     "text": [
      "0    184.5\n",
      "Name: BMXHT, dtype: float64\n",
      "   BMXHT   BMXHT_in\n",
      "0  184.5  72.637795\n",
      "1  171.4  67.480315\n",
      "2  170.1  66.968504\n",
      "3  160.9  63.346457\n",
      "4  164.9  64.921260 \n",
      "\n",
      " 5673 \n",
      "\n",
      "(165.8804929109529, 166.40517604726972) \n",
      "\n",
      "Manual calculations above, method from api library below for confidence interval : 95% for inches \n",
      "\n",
      "(165.88055125872887, 166.40511769949427)\n"
     ]
    }
   ],
   "source": [
    "# Initial Confidence Intervals Below are for CM\n",
    "print(da['BMXHT'].head(1))\n",
    "height_df = da[['BMXHT']].dropna()\n",
    "height_df['BMXHT_in'] = height_df['BMXHT'].apply(lambda x: x/2.54) # make sure to drop nulls first or it won't work!\n",
    "print(height_df.head(), '\\n\\n', len(height_df), '\\n') # just an idea here of what's needed to calculate manually\n",
    "mean_cm_confinterval_low = height_df['BMXHT'].mean() - 1.9604 * (height_df['BMXHT'].std() / np.sqrt(len(height_df))) \n",
    "mean_cm_confinterval_high = height_df['BMXHT'].mean() + 1.9604 * (height_df['BMXHT'].std() / np.sqrt(len(height_df))) \n",
    "print((mean_cm_confinterval_low, mean_cm_confinterval_high), '\\n')\n",
    "print('Manual calculations above, method from api library below for confidence interval : 95% for inches', '\\n')\n",
    "print(sm.stats.DescrStatsW(height_df['BMXHT']).zconfint_mean())"
   ]
  },
  {
   "cell_type": "code",
   "execution_count": 22,
   "metadata": {},
   "outputs": [
    {
     "name": "stdout",
     "output_type": "stream",
     "text": [
      "Manual calculation for interval 95% low in inches : 65.30728067360344\n",
      "Manual calucation for interval 95% high in inches : 65.5138488375077 \n",
      "\n",
      "Stats package usage below\n",
      "(65.30730364516884, 65.51382586594264)\n"
     ]
    }
   ],
   "source": [
    "# Below Confidence Intervals Below are for inches\n",
    "mean_in_confinterval_low = height_df['BMXHT_in'].mean() - 1.9604 * (height_df['BMXHT_in'].std() / np.sqrt(len(height_df)))\n",
    "mean_in_confinterval_high = height_df['BMXHT_in'].mean() + (1.9604 * (height_df['BMXHT_in'].std() / np.sqrt(len(height_df))))\n",
    "print(\"Manual calculation for interval 95% low in inches : {}\".format(mean_in_confinterval_low))\n",
    "print(\"Manual calucation for interval 95% high in inches : {}\".format(mean_in_confinterval_high), '\\n')\n",
    "print('Stats package usage below')\n",
    "print(sm.stats.DescrStatsW(height_df['BMXHT_in']).zconfint_mean())\n"
   ]
  },
  {
   "cell_type": "markdown",
   "metadata": {},
   "source": [
    "__Q3a.__ Describe how the confidence interval constructed in centimeters relates to the confidence interval constructed in inches."
   ]
  },
  {
   "cell_type": "code",
   "execution_count": 23,
   "metadata": {},
   "outputs": [
    {
     "name": "stdout",
     "output_type": "stream",
     "text": [
      "165.88055125872887 166.4051176994943\n"
     ]
    }
   ],
   "source": [
    "print(sm.stats.DescrStatsW(height_df['BMXHT_in']).zconfint_mean()[0] * 2.54, \n",
    "     sm.stats.DescrStatsW(height_df['BMXHT_in']).zconfint_mean()[1] * 2.54)"
   ]
  },
  {
   "cell_type": "markdown",
   "metadata": {},
   "source": [
    "* They look the same as above for inches!"
   ]
  },
  {
   "cell_type": "markdown",
   "metadata": {},
   "source": []
  },
  {
   "cell_type": "markdown",
   "metadata": {},
   "source": [
    "## Question 4\n",
    "\n",
    "Partition the sample based on 10-year age bands, i.e. the resulting groups will consist of people with ages from 18-28, 29-38, etc. Construct 95% confidence intervals for the difference between the mean BMI for females and for males within each age band."
   ]
  },
  {
   "cell_type": "code",
   "execution_count": 24,
   "metadata": {},
   "outputs": [
    {
     "name": "stdout",
     "output_type": "stream",
     "text": [
      "18 80 \n",
      "\n",
      "   RIDAGEYR  RIAGENDR  BMXBMI   agegrps\n",
      "0        62         1    27.8  (58, 68]\n",
      "1        53         1    30.8  (48, 58]\n",
      "2        78         1    28.8  (68, 78]\n",
      "3        56         2    42.4  (48, 58]\n",
      "4        42         2    20.3  (38, 48]\n"
     ]
    },
    {
     "name": "stderr",
     "output_type": "stream",
     "text": [
      "/var/folders/r8/mmfd5rgj7v51_80zhnq8v9zc0000gn/T/ipykernel_2491/3507329659.py:4: SettingWithCopyWarning: \n",
      "A value is trying to be set on a copy of a slice from a DataFrame.\n",
      "Try using .loc[row_indexer,col_indexer] = value instead\n",
      "\n",
      "See the caveats in the documentation: https://pandas.pydata.org/pandas-docs/stable/user_guide/indexing.html#returning-a-view-versus-a-copy\n",
      "  subsect_df['agegrps'] = pd.cut(da['RIDAGEYR'], bins=[18, 28, 38, 48, 58, 68, 78, 85])\n"
     ]
    }
   ],
   "source": [
    "# enter your code here\n",
    "print(da.RIDAGEYR.min(), da.RIDAGEYR.max(), '\\n') # min max values\n",
    "subsect_df = da[['RIDAGEYR', 'RIAGENDR', 'BMXBMI']]\n",
    "subsect_df['agegrps'] = pd.cut(da['RIDAGEYR'], bins=[18, 28, 38, 48, 58, 68, 78, 85])\n",
    "print(subsect_df.head()) # 2 and 1 the only values for Gender (1 = Male, 2 = Female)"
   ]
  },
  {
   "cell_type": "code",
   "execution_count": 25,
   "metadata": {},
   "outputs": [
    {
     "data": {
      "image/png": "[encoded data removed]",
      "text/plain": [
       "<Figure size 1500x800 with 1 Axes>"
      ]
     },
     "metadata": {},
     "output_type": "display_data"
    }
   ],
   "source": [
    "fig, axs = plt.subplots(figsize=(15, 8))\n",
    "g = sns.boxplot(y=subsect_df[\"agegrps\"], x=subsect_df[\"BMXBMI\"], hue=subsect_df[\"RIAGENDR\"])\n",
    "handles, labels = g.get_legend_handles_labels()\n",
    "g.legend(handles, ['Male', 'Female'], loc='lower right', title='Gender')\n",
    "plt.title('BMI Distributions for Male & Female Respective Age Groups')\n",
    "plt.show()"
   ]
  },
  {
   "cell_type": "code",
   "execution_count": 26,
   "metadata": {},
   "outputs": [
    {
     "data": {
      "text/html": [
       "<div>\n",
       "<style scoped>\n",
       "    .dataframe tbody tr th:only-of-type {\n",
       "        vertical-align: middle;\n",
       "    }\n",
       "\n",
       "    .dataframe tbody tr th {\n",
       "        vertical-align: top;\n",
       "    }\n",
       "\n",
       "    .dataframe thead th {\n",
       "        text-align: right;\n",
       "    }\n",
       "</style>\n",
       "<table border=\"1\" class=\"dataframe\">\n",
       "  <thead>\n",
       "    <tr style=\"text-align: right;\">\n",
       "      <th></th>\n",
       "      <th>Male Mean</th>\n",
       "      <th>Female Mean</th>\n",
       "      <th>Male Std</th>\n",
       "      <th>Female Std</th>\n",
       "      <th>Male Count</th>\n",
       "      <th>Female Count</th>\n",
       "    </tr>\n",
       "    <tr>\n",
       "      <th>agegrps</th>\n",
       "      <th></th>\n",
       "      <th></th>\n",
       "      <th></th>\n",
       "      <th></th>\n",
       "      <th></th>\n",
       "      <th></th>\n",
       "    </tr>\n",
       "  </thead>\n",
       "  <tbody>\n",
       "    <tr>\n",
       "      <th>(18, 28]</th>\n",
       "      <td>27.058186</td>\n",
       "      <td>28.019433</td>\n",
       "      <td>6.679515</td>\n",
       "      <td>8.048854</td>\n",
       "      <td>458</td>\n",
       "      <td>498</td>\n",
       "    </tr>\n",
       "    <tr>\n",
       "      <th>(28, 38]</th>\n",
       "      <td>29.697180</td>\n",
       "      <td>29.943443</td>\n",
       "      <td>6.726690</td>\n",
       "      <td>7.959097</td>\n",
       "      <td>467</td>\n",
       "      <td>494</td>\n",
       "    </tr>\n",
       "    <tr>\n",
       "      <th>(38, 48]</th>\n",
       "      <td>29.514646</td>\n",
       "      <td>31.003733</td>\n",
       "      <td>6.104950</td>\n",
       "      <td>8.044642</td>\n",
       "      <td>398</td>\n",
       "      <td>514</td>\n",
       "    </tr>\n",
       "    <tr>\n",
       "      <th>(48, 58]</th>\n",
       "      <td>29.385132</td>\n",
       "      <td>30.787361</td>\n",
       "      <td>6.151534</td>\n",
       "      <td>7.647590</td>\n",
       "      <td>419</td>\n",
       "      <td>454</td>\n",
       "    </tr>\n",
       "    <tr>\n",
       "      <th>(58, 68]</th>\n",
       "      <td>29.232462</td>\n",
       "      <td>31.054664</td>\n",
       "      <td>5.959024</td>\n",
       "      <td>7.779502</td>\n",
       "      <td>470</td>\n",
       "      <td>466</td>\n",
       "    </tr>\n",
       "    <tr>\n",
       "      <th>(68, 78]</th>\n",
       "      <td>28.720270</td>\n",
       "      <td>30.537818</td>\n",
       "      <td>5.336652</td>\n",
       "      <td>6.780588</td>\n",
       "      <td>307</td>\n",
       "      <td>279</td>\n",
       "    </tr>\n",
       "    <tr>\n",
       "      <th>(78, 85]</th>\n",
       "      <td>27.464368</td>\n",
       "      <td>27.850000</td>\n",
       "      <td>4.695650</td>\n",
       "      <td>5.483781</td>\n",
       "      <td>177</td>\n",
       "      <td>201</td>\n",
       "    </tr>\n",
       "  </tbody>\n",
       "</table>\n",
       "</div>"
      ],
      "text/plain": [
       "          Male Mean  Female Mean  Male Std  Female Std  Male Count  \\\n",
       "agegrps                                                              \n",
       "(18, 28]  27.058186    28.019433  6.679515    8.048854         458   \n",
       "(28, 38]  29.697180    29.943443  6.726690    7.959097         467   \n",
       "(38, 48]  29.514646    31.003733  6.104950    8.044642         398   \n",
       "(48, 58]  29.385132    30.787361  6.151534    7.647590         419   \n",
       "(58, 68]  29.232462    31.054664  5.959024    7.779502         470   \n",
       "(68, 78]  28.720270    30.537818  5.336652    6.780588         307   \n",
       "(78, 85]  27.464368    27.850000  4.695650    5.483781         177   \n",
       "\n",
       "          Female Count  \n",
       "agegrps                 \n",
       "(18, 28]           498  \n",
       "(28, 38]           494  \n",
       "(38, 48]           514  \n",
       "(48, 58]           454  \n",
       "(58, 68]           466  \n",
       "(68, 78]           279  \n",
       "(78, 85]           201  "
      ]
     },
     "execution_count": 26,
     "metadata": {},
     "output_type": "execute_result"
    }
   ],
   "source": [
    "# Stack from long to wide\n",
    "agg_group_stats = subsect_df.groupby(['agegrps', 'RIAGENDR']).agg({'BMXBMI' : [np.mean, lambda x: np.std(x, ddof=1), np.size]}).unstack()\n",
    "agg_group_stats.columns = ['Male Mean', 'Female Mean', 'Male Std', 'Female Std', 'Male Count', 'Female Count']\n",
    "agg_group_stats\n"
   ]
  },
  {
   "cell_type": "code",
   "execution_count": 27,
   "metadata": {},
   "outputs": [
    {
     "data": {
      "text/html": [
       "<div>\n",
       "<style scoped>\n",
       "    .dataframe tbody tr th:only-of-type {\n",
       "        vertical-align: middle;\n",
       "    }\n",
       "\n",
       "    .dataframe tbody tr th {\n",
       "        vertical-align: top;\n",
       "    }\n",
       "\n",
       "    .dataframe thead th {\n",
       "        text-align: right;\n",
       "    }\n",
       "</style>\n",
       "<table border=\"1\" class=\"dataframe\">\n",
       "  <thead>\n",
       "    <tr style=\"text-align: right;\">\n",
       "      <th></th>\n",
       "      <th>Male Mean</th>\n",
       "      <th>Female Mean</th>\n",
       "      <th>Male Std</th>\n",
       "      <th>Female Std</th>\n",
       "      <th>Male Count</th>\n",
       "      <th>Female Count</th>\n",
       "      <th>SEM_Male</th>\n",
       "      <th>SEM_Female</th>\n",
       "      <th>mean_diff</th>\n",
       "      <th>sem_diff</th>\n",
       "      <th>lcb_diff</th>\n",
       "      <th>ucb_diff</th>\n",
       "    </tr>\n",
       "    <tr>\n",
       "      <th>agegrps</th>\n",
       "      <th></th>\n",
       "      <th></th>\n",
       "      <th></th>\n",
       "      <th></th>\n",
       "      <th></th>\n",
       "      <th></th>\n",
       "      <th></th>\n",
       "      <th></th>\n",
       "      <th></th>\n",
       "      <th></th>\n",
       "      <th></th>\n",
       "      <th></th>\n",
       "    </tr>\n",
       "  </thead>\n",
       "  <tbody>\n",
       "    <tr>\n",
       "      <th>(18, 28]</th>\n",
       "      <td>27.058186</td>\n",
       "      <td>28.019433</td>\n",
       "      <td>6.679515</td>\n",
       "      <td>8.048854</td>\n",
       "      <td>458</td>\n",
       "      <td>498</td>\n",
       "      <td>0.312113</td>\n",
       "      <td>0.360678</td>\n",
       "      <td>-0.961247</td>\n",
       "      <td>0.476973</td>\n",
       "      <td>-1.896114</td>\n",
       "      <td>-0.026381</td>\n",
       "    </tr>\n",
       "    <tr>\n",
       "      <th>(28, 38]</th>\n",
       "      <td>29.697180</td>\n",
       "      <td>29.943443</td>\n",
       "      <td>6.726690</td>\n",
       "      <td>7.959097</td>\n",
       "      <td>467</td>\n",
       "      <td>494</td>\n",
       "      <td>0.311274</td>\n",
       "      <td>0.358097</td>\n",
       "      <td>-0.246263</td>\n",
       "      <td>0.474473</td>\n",
       "      <td>-1.176230</td>\n",
       "      <td>0.683705</td>\n",
       "    </tr>\n",
       "    <tr>\n",
       "      <th>(38, 48]</th>\n",
       "      <td>29.514646</td>\n",
       "      <td>31.003733</td>\n",
       "      <td>6.104950</td>\n",
       "      <td>8.044642</td>\n",
       "      <td>398</td>\n",
       "      <td>514</td>\n",
       "      <td>0.306014</td>\n",
       "      <td>0.354834</td>\n",
       "      <td>-1.489086</td>\n",
       "      <td>0.468563</td>\n",
       "      <td>-2.407470</td>\n",
       "      <td>-0.570703</td>\n",
       "    </tr>\n",
       "    <tr>\n",
       "      <th>(48, 58]</th>\n",
       "      <td>29.385132</td>\n",
       "      <td>30.787361</td>\n",
       "      <td>6.151534</td>\n",
       "      <td>7.647590</td>\n",
       "      <td>419</td>\n",
       "      <td>454</td>\n",
       "      <td>0.300522</td>\n",
       "      <td>0.358919</td>\n",
       "      <td>-1.402230</td>\n",
       "      <td>0.468120</td>\n",
       "      <td>-2.319745</td>\n",
       "      <td>-0.484714</td>\n",
       "    </tr>\n",
       "    <tr>\n",
       "      <th>(58, 68]</th>\n",
       "      <td>29.232462</td>\n",
       "      <td>31.054664</td>\n",
       "      <td>5.959024</td>\n",
       "      <td>7.779502</td>\n",
       "      <td>470</td>\n",
       "      <td>466</td>\n",
       "      <td>0.274869</td>\n",
       "      <td>0.360378</td>\n",
       "      <td>-1.822202</td>\n",
       "      <td>0.453239</td>\n",
       "      <td>-2.710551</td>\n",
       "      <td>-0.933853</td>\n",
       "    </tr>\n",
       "    <tr>\n",
       "      <th>(68, 78]</th>\n",
       "      <td>28.720270</td>\n",
       "      <td>30.537818</td>\n",
       "      <td>5.336652</td>\n",
       "      <td>6.780588</td>\n",
       "      <td>307</td>\n",
       "      <td>279</td>\n",
       "      <td>0.304579</td>\n",
       "      <td>0.405943</td>\n",
       "      <td>-1.817548</td>\n",
       "      <td>0.507502</td>\n",
       "      <td>-2.812252</td>\n",
       "      <td>-0.822844</td>\n",
       "    </tr>\n",
       "    <tr>\n",
       "      <th>(78, 85]</th>\n",
       "      <td>27.464368</td>\n",
       "      <td>27.850000</td>\n",
       "      <td>4.695650</td>\n",
       "      <td>5.483781</td>\n",
       "      <td>177</td>\n",
       "      <td>201</td>\n",
       "      <td>0.352947</td>\n",
       "      <td>0.386796</td>\n",
       "      <td>-0.385632</td>\n",
       "      <td>0.523624</td>\n",
       "      <td>-1.411936</td>\n",
       "      <td>0.640672</td>\n",
       "    </tr>\n",
       "  </tbody>\n",
       "</table>\n",
       "</div>"
      ],
      "text/plain": [
       "          Male Mean  Female Mean  Male Std  Female Std  Male Count  \\\n",
       "agegrps                                                              \n",
       "(18, 28]  27.058186    28.019433  6.679515    8.048854         458   \n",
       "(28, 38]  29.697180    29.943443  6.726690    7.959097         467   \n",
       "(38, 48]  29.514646    31.003733  6.104950    8.044642         398   \n",
       "(48, 58]  29.385132    30.787361  6.151534    7.647590         419   \n",
       "(58, 68]  29.232462    31.054664  5.959024    7.779502         470   \n",
       "(68, 78]  28.720270    30.537818  5.336652    6.780588         307   \n",
       "(78, 85]  27.464368    27.850000  4.695650    5.483781         177   \n",
       "\n",
       "          Female Count  SEM_Male  SEM_Female  mean_diff  sem_diff  lcb_diff  \\\n",
       "agegrps                                                                       \n",
       "(18, 28]           498  0.312113    0.360678  -0.961247  0.476973 -1.896114   \n",
       "(28, 38]           494  0.311274    0.358097  -0.246263  0.474473 -1.176230   \n",
       "(38, 48]           514  0.306014    0.354834  -1.489086  0.468563 -2.407470   \n",
       "(48, 58]           454  0.300522    0.358919  -1.402230  0.468120 -2.319745   \n",
       "(58, 68]           466  0.274869    0.360378  -1.822202  0.453239 -2.710551   \n",
       "(68, 78]           279  0.304579    0.405943  -1.817548  0.507502 -2.812252   \n",
       "(78, 85]           201  0.352947    0.386796  -0.385632  0.523624 -1.411936   \n",
       "\n",
       "          ucb_diff  \n",
       "agegrps             \n",
       "(18, 28] -0.026381  \n",
       "(28, 38]  0.683705  \n",
       "(38, 48] -0.570703  \n",
       "(48, 58] -0.484714  \n",
       "(58, 68] -0.933853  \n",
       "(68, 78] -0.822844  \n",
       "(78, 85]  0.640672  "
      ]
     },
     "execution_count": 27,
     "metadata": {},
     "output_type": "execute_result"
    }
   ],
   "source": [
    "# Calculate the SEM for females and for males within each age band\n",
    "agg_group_stats['SEM_Male'] = agg_group_stats.apply(lambda x: x['Male Std'] / np.sqrt(x['Male Count']), axis=1)\n",
    "agg_group_stats['SEM_Female'] = agg_group_stats.apply(lambda x: x['Female Std'] / np.sqrt(x['Female Count']), axis=1)\n",
    "\n",
    "# Calculate the mean difference of BMI between females and males within each age band, also  calculate\n",
    "# its SE and the lower and upper limits of its 95% CI.\n",
    "agg_group_stats['mean_diff'] = agg_group_stats.apply(lambda x: x['Male Mean'] - x['Female Mean'], axis=1)\n",
    "## the standard error for the difference of two means taken from independent samples is sqrt(SE1^2 + SE2^2), \n",
    "## where SE1 and SE2 are the standard errors for the two means being compared.\n",
    "agg_group_stats['sem_diff'] = agg_group_stats.apply(lambda x: np.sqrt(x['SEM_Male'] ** 2 + x['SEM_Female'] ** 2), axis=1)\n",
    "\n",
    "## Now can calculate a 95% confidence interval for the difference between male bmi - female bmi for each strata\n",
    "## Use the best estimate our our mean difference for the two means at the strata and use the standard error mean difference to generate the intervals of the mean difference for our population subsets at each age group\n",
    "agg_group_stats['lcb_diff'] = agg_group_stats.apply(lambda x: x['mean_diff'] - 1.96 * x['sem_diff'], axis=1)\n",
    "agg_group_stats['ucb_diff'] = agg_group_stats.apply(lambda x: x['mean_diff'] + 1.96 * x['sem_diff'], axis=1)\n",
    "\n",
    "agg_group_stats\n"
   ]
  },
  {
   "cell_type": "markdown",
   "metadata": {},
   "source": [
    "__Q4a.__ How do the widths of these confidence intervals differ?  Provide an explanation for any substantial diferences in the confidence interval widths that you see."
   ]
  },
  {
   "cell_type": "code",
   "execution_count": 28,
   "metadata": {},
   "outputs": [
    {
     "name": "stdout",
     "output_type": "stream",
     "text": [
      "The average lower confidence interval has the male BMI mean difference of : -2.10489968423852\n",
      "The average higher confidence interval has the male BMI mean difference of : -0.2163025451411004\n"
     ]
    }
   ],
   "source": [
    "lcb_mean = agg_group_stats['lcb_diff'].mean()\n",
    "ucb_mean = agg_group_stats['ucb_diff'].mean()\n",
    "print('The average lower confidence interval has the male BMI mean difference of : {}'.format(lcb_mean))\n",
    "print('The average higher confidence interval has the male BMI mean difference of : {}'.format(ucb_mean))"
   ]
  },
  {
   "cell_type": "markdown",
   "metadata": {},
   "source": [
    "* The female mean is larger in each subset with a mean estimate difference being closest in the (28-38) age groups and (78-85). As such the confidence bands for the difference for the stratified mean of each age & gender group show a wider range as the estimated mean difference grows for each subset.\n",
    "* On average we can state with 95% confidence that the male BMI difference with females is 2.1 to 0.2 points lower "
   ]
  },
  {
   "cell_type": "markdown",
   "metadata": {},
   "source": [
    "## Question 5\n",
    "\n",
    "Construct a 95% confidence interval for the first and second systolic blood pressure measures, and for the difference between the first and second systolic blood pressure measurements within a subject."
   ]
  },
  {
   "cell_type": "code",
   "execution_count": 30,
   "metadata": {},
   "outputs": [
    {
     "data": {
      "text/html": [
       "<div>\n",
       "<style scoped>\n",
       "    .dataframe tbody tr th:only-of-type {\n",
       "        vertical-align: middle;\n",
       "    }\n",
       "\n",
       "    .dataframe tbody tr th {\n",
       "        vertical-align: top;\n",
       "    }\n",
       "\n",
       "    .dataframe thead th {\n",
       "        text-align: right;\n",
       "    }\n",
       "</style>\n",
       "<table border=\"1\" class=\"dataframe\">\n",
       "  <thead>\n",
       "    <tr style=\"text-align: right;\">\n",
       "      <th></th>\n",
       "      <th>BPXSY1</th>\n",
       "      <th>BPXSY2</th>\n",
       "      <th>diff</th>\n",
       "    </tr>\n",
       "  </thead>\n",
       "  <tbody>\n",
       "    <tr>\n",
       "      <th>0</th>\n",
       "      <td>128.0</td>\n",
       "      <td>124.0</td>\n",
       "      <td>4.0</td>\n",
       "    </tr>\n",
       "    <tr>\n",
       "      <th>1</th>\n",
       "      <td>146.0</td>\n",
       "      <td>140.0</td>\n",
       "      <td>6.0</td>\n",
       "    </tr>\n",
       "    <tr>\n",
       "      <th>2</th>\n",
       "      <td>138.0</td>\n",
       "      <td>132.0</td>\n",
       "      <td>6.0</td>\n",
       "    </tr>\n",
       "    <tr>\n",
       "      <th>3</th>\n",
       "      <td>132.0</td>\n",
       "      <td>134.0</td>\n",
       "      <td>-2.0</td>\n",
       "    </tr>\n",
       "    <tr>\n",
       "      <th>4</th>\n",
       "      <td>100.0</td>\n",
       "      <td>114.0</td>\n",
       "      <td>-14.0</td>\n",
       "    </tr>\n",
       "  </tbody>\n",
       "</table>\n",
       "</div>"
      ],
      "text/plain": [
       "   BPXSY1  BPXSY2  diff\n",
       "0   128.0   124.0   4.0\n",
       "1   146.0   140.0   6.0\n",
       "2   138.0   132.0   6.0\n",
       "3   132.0   134.0  -2.0\n",
       "4   100.0   114.0 -14.0"
      ]
     },
     "execution_count": 30,
     "metadata": {},
     "output_type": "execute_result"
    }
   ],
   "source": [
    "bp_df = da[[\"BPXSY1\", \"BPXSY2\"]].dropna()\n",
    "bp_df['diff'] = da['BPXSY1'] - da['BPXSY2']\n",
    "bp_df.head()"
   ]
  },
  {
   "cell_type": "code",
   "execution_count": 32,
   "metadata": {},
   "outputs": [
    {
     "name": "stdout",
     "output_type": "stream",
     "text": [
      "5369 5369\n",
      "125.08847085118272 \n",
      "\n",
      "The lower confidence bound for first measurements : 124.59367562587789\n",
      "The upper confidence bound for first measurements : 125.58326607648755\n"
     ]
    }
   ],
   "source": [
    "## Do we have the same length of measurements?\n",
    "print(len(bp_df['BPXSY1']), len(bp_df['BPXSY2'])) # 5369 measurements\n",
    "## Initial 95% confidence interval for difference in means for first measurements\n",
    "first_measure_mean = bp_df['BPXSY1'].mean()\n",
    "print(first_measure_mean, '\\n') # https://goodcalculators.com/student-t-value-calculator/ (tstrat calculator)\n",
    "first_measure_conf_interval_lcb = first_measure_mean - 1.960406 * (bp_df['BPXSY1'].std()/np.sqrt(len(bp_df['BPXSY1'])))\n",
    "first_measure_conf_interval_ucb = first_measure_mean + 1.960406 * (bp_df['BPXSY1'].std()/np.sqrt(len(bp_df['BPXSY1'])))\n",
    "print(\"The lower confidence bound for first measurements : {}\".format(str(first_measure_conf_interval_lcb)))\n",
    "print(\"The upper confidence bound for first measurements : {}\".format(str(first_measure_conf_interval_ucb)))\n",
    "\n"
   ]
  },
  {
   "cell_type": "code",
   "execution_count": 33,
   "metadata": {},
   "outputs": [
    {
     "name": "stdout",
     "output_type": "stream",
     "text": [
      "124.41348482026449 \n",
      "\n",
      "The lower confidence bound for first measurements : 123.92677560471144\n",
      "The upper confidence bound for first measurements : 124.90019403581753\n"
     ]
    }
   ],
   "source": [
    "#print(len(bp_df['BPXSY1']), len(bp_df['BPXSY2'])) # 5369 measurements\n",
    "## Initial 95% confidence interval for difference in means for second measurements\n",
    "second_measure_mean = bp_df['BPXSY2'].mean()\n",
    "print(second_measure_mean, '\\n') # https://goodcalculators.com/student-t-value-calculator/ (tstrat calculator)\n",
    "first_measure_conf_interval_lcb = second_measure_mean - 1.960406 * (bp_df['BPXSY2'].std()/np.sqrt(len(bp_df['BPXSY2'])))\n",
    "first_measure_conf_interval_ucb = second_measure_mean + 1.960406 * (bp_df['BPXSY2'].std()/np.sqrt(len(bp_df['BPXSY2'])))\n",
    "print(\"The lower confidence bound for first measurements : {}\".format(str(first_measure_conf_interval_lcb)))\n",
    "print(\"The upper confidence bound for first measurements : {}\".format(str(first_measure_conf_interval_ucb)))\n"
   ]
  },
  {
   "cell_type": "code",
   "execution_count": 35,
   "metadata": {},
   "outputs": [
    {
     "name": "stdout",
     "output_type": "stream",
     "text": [
      "(124.59378718804363, 125.5831545143218) 95% confidence intervals for mean of first measurements\n",
      "(123.92688534371334, 124.90008429681563) 95% confidence intervals for mean of second measurements\n"
     ]
    }
   ],
   "source": [
    "# Non manual calculation\n",
    "first_measure_intervals95cis = sm.stats.DescrStatsW(bp_df['BPXSY1']).zconfint_mean()\n",
    "print(first_measure_intervals95cis, '95% confidence intervals for mean of first measurements')\n",
    "second_measure_intervals95cis = sm.stats.DescrStatsW(bp_df['BPXSY2']).zconfint_mean()\n",
    "print(second_measure_intervals95cis, '95% confidence intervals for mean of second measurements')\n"
   ]
  },
  {
   "cell_type": "code",
   "execution_count": 39,
   "metadata": {},
   "outputs": [
    {
     "name": "stdout",
     "output_type": "stream",
     "text": [
      "0.25239426185434216 : first measure standard error. 0.24826960106888377 : second measure standard error.\n",
      "0.3540348262980648 : standard error for difference in two measurement means\n"
     ]
    }
   ],
   "source": [
    "# the difference between the first and second systolic blood pressure measurements within a subject\n",
    "# so we need to estimate the difference in our two population means w/confidence \n",
    "sem_first_measure = bp_df['BPXSY1'].std() / np.sqrt(len(bp_df['BPXSY1']))\n",
    "sem_second_measure = bp_df['BPXSY2'].std() / np.sqrt(len(bp_df['BPXSY2']))\n",
    "print(sem_first_measure, ': first measure standard error.', sem_second_measure, ': second measure standard error.') # standard errors of individual measures along\n",
    "\n",
    "sem_diff_two_means = np.sqrt((sem_first_measure ** 2) + (sem_second_measure ** 2))\n",
    "print(sem_diff_two_means, ': standard error for difference in two measurement means')"
   ]
  },
  {
   "cell_type": "code",
   "execution_count": 42,
   "metadata": {},
   "outputs": [
    {
     "name": "stdout",
     "output_type": "stream",
     "text": [
      "0.6749860309182343 5.046465367896533\n",
      "0.5399696016261031 0.8100024602103655\n"
     ]
    }
   ],
   "source": [
    "# agg_group_stats['lcb_diff'] = agg_group_stats.apply(lambda x: x['mean_diff'] - 1.96 * x['sem_diff'], axis=1)\n",
    "# agg_group_stats['ucb_diff'] = agg_group_stats.apply(lambda x: x['mean_diff'] + 1.96 * x['sem_diff'], axis=1)\n",
    "print(bp_df['diff'].mean(), bp_df['diff'].std())\n",
    "\n",
    "## Mean Difference Confidence Interval for Paired Data\n",
    "ninety_five_difference_mean_ci_lb = bp_df['diff'].mean() - (1.960406 * (bp_df['diff'].std() / np.sqrt(len(bp_df['diff']))))\n",
    "ninety_five_difference_mean_ci_ub = bp_df['diff'].mean() + (1.960406 * (bp_df['diff'].std() / np.sqrt(len(bp_df['diff']))))\n",
    "print(ninety_five_difference_mean_ci_lb, ninety_five_difference_mean_ci_ub)"
   ]
  },
  {
   "cell_type": "markdown",
   "metadata": {},
   "source": [
    "* With 95% confidence, we can estimate the mean difference between first and second systolic measurements are between .54 & .81 less in our avaialbe data"
   ]
  },
  {
   "cell_type": "markdown",
   "metadata": {},
   "source": [
    "__Q5a.__ Based on these confidence intervals, would you say that a difference of zero between the population mean values of the first and second systolic blood pressure measures is consistent with the data?"
   ]
  },
  {
   "cell_type": "markdown",
   "metadata": {},
   "source": [
    "* No I would not. The difference in means between the two measurements skews lower with our expected difference for the population parameter between each measurement falling between .54 to .81 less on our second measurement"
   ]
  },
  {
   "cell_type": "markdown",
   "metadata": {},
   "source": []
  },
  {
   "cell_type": "markdown",
   "metadata": {},
   "source": [
    "__Q5b.__ Discuss how the width of the confidence interval for the within-subject difference compares to the widths of the confidence intervals for the first and second measures."
   ]
  },
  {
   "cell_type": "markdown",
   "metadata": {},
   "source": [
    "* The width of the within-subject difference is smaller and appears to show a trend where the confidence intervals for each measurement has more wiggle room and observed variance than the trend in the difference being a tighter band but more noticeable trend "
   ]
  },
  {
   "cell_type": "markdown",
   "metadata": {},
   "source": []
  },
  {
   "cell_type": "markdown",
   "metadata": {},
   "source": [
    "## Question 6\n",
    "\n",
    "Construct a 95% confidence interval for the mean difference between the average age of a smoker, and the average age of a non-smoker."
   ]
  },
  {
   "cell_type": "code",
   "execution_count": null,
   "metadata": {},
   "outputs": [],
   "source": [
    "# insert your code here"
   ]
  },
  {
   "cell_type": "markdown",
   "metadata": {},
   "source": [
    "__Q6a.__ Use graphical and numerical techniques to compare the variation in the ages of smokers to the variation in the ages of non-smokers.  "
   ]
  },
  {
   "cell_type": "code",
   "execution_count": 1,
   "metadata": {},
   "outputs": [],
   "source": [
    "# insert your code here"
   ]
  },
  {
   "cell_type": "markdown",
   "metadata": {},
   "source": [
    "__Q6b.__ Does it appear that uncertainty about the mean age of smokers, or uncertainty about the mean age of non-smokers contributed more to the uncertainty for the mean difference that we are focusing on here?"
   ]
  },
  {
   "cell_type": "markdown",
   "metadata": {},
   "source": []
  }
 ],
 "metadata": {
  "kernelspec": {
   "display_name": "Python 3 (ipykernel)",
   "language": "python",
   "name": "python3"
  },
  "language_info": {
   "codemirror_mode": {
    "name": "ipython",
    "version": 3
   },
   "file_extension": ".py",
   "mimetype": "text/x-python",
   "name": "python",
   "nbconvert_exporter": "python",
   "pygments_lexer": "ipython3",
   "version": "3.9.12"
  }
 },
 "nbformat": 4,
 "nbformat_minor": 2
}
