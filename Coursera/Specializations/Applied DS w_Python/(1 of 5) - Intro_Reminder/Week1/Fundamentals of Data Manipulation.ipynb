{
 "cells": [
  {
   "cell_type": "markdown",
   "id": "6e96af7c",
   "metadata": {},
   "source": [
    "## Data Manipulation / Type Review Numpy"
   ]
  },
  {
   "cell_type": "markdown",
   "id": "1de01554",
   "metadata": {},
   "source": [
    "#### Array Creation"
   ]
  },
  {
   "cell_type": "code",
   "execution_count": 1,
   "id": "d7443757",
   "metadata": {},
   "outputs": [],
   "source": [
    "import numpy as np"
   ]
  },
  {
   "cell_type": "code",
   "execution_count": 3,
   "id": "949428bc",
   "metadata": {},
   "outputs": [
    {
     "data": {
      "text/plain": [
       "(array([1, 2, 3]), 1)"
      ]
     },
     "execution_count": 3,
     "metadata": {},
     "output_type": "execute_result"
    }
   ],
   "source": [
    "a = np.array([1,2,3])\n",
    "a, a.ndim"
   ]
  },
  {
   "cell_type": "code",
   "execution_count": 4,
   "id": "4c85c8d6",
   "metadata": {},
   "outputs": [
    {
     "data": {
      "text/plain": [
       "(array([[0, 1, 2],\n",
       "        [3, 4, 5]]),\n",
       " 2,\n",
       " (2, 3))"
      ]
     },
     "execution_count": 4,
     "metadata": {},
     "output_type": "execute_result"
    }
   ],
   "source": [
    "b = np.array([[0,1,2], [3,4,5]])\n",
    "b, b.ndim, b.shape"
   ]
  },
  {
   "cell_type": "code",
   "execution_count": 7,
   "id": "e8eb443d",
   "metadata": {},
   "outputs": [
    {
     "data": {
      "text/plain": [
       "('float64', array([2.2, 5. , 1.1]))"
      ]
     },
     "execution_count": 7,
     "metadata": {},
     "output_type": "execute_result"
    }
   ],
   "source": [
    "c = np.array([2.2, 5, 1.1])\n",
    "c.dtype.name, c"
   ]
  },
  {
   "cell_type": "code",
   "execution_count": 10,
   "id": "1ce639a4",
   "metadata": {},
   "outputs": [
    {
     "name": "stdout",
     "output_type": "stream",
     "text": [
      "[[0. 0. 0.]\n",
      " [0. 0. 0.]]\n",
      "[[1. 1. 1.]\n",
      " [1. 1. 1.]]\n"
     ]
    }
   ],
   "source": [
    "# Fill our numpy array with *dummy values*\n",
    "d = np.zeros((2,3))\n",
    "print(d)\n",
    "e = np.ones((2,3))\n",
    "print(e)"
   ]
  },
  {
   "cell_type": "code",
   "execution_count": 11,
   "id": "ac49ceba",
   "metadata": {},
   "outputs": [
    {
     "data": {
      "text/plain": [
       "array([[0.96779597, 0.02456816, 0.55818037],\n",
       "       [0.98765728, 0.17542609, 0.97968405]])"
      ]
     },
     "execution_count": 11,
     "metadata": {},
     "output_type": "execute_result"
    }
   ],
   "source": [
    "# Generate with Random\n",
    "np.random.rand(2,3)"
   ]
  },
  {
   "cell_type": "markdown",
   "id": "1f01c36d",
   "metadata": {},
   "source": [
    "* Commonly see `zeros`, `ones`, and `rand` use quite of to create example arrays"
   ]
  },
  {
   "cell_type": "code",
   "execution_count": 12,
   "id": "a410f1a3",
   "metadata": {},
   "outputs": [
    {
     "data": {
      "text/plain": [
       "array([10, 12, 14, 16, 18, 20, 22, 24, 26, 28, 30, 32, 34, 36, 38, 40, 42,\n",
       "       44, 46, 48])"
      ]
     },
     "execution_count": 12,
     "metadata": {},
     "output_type": "execute_result"
    }
   ],
   "source": [
    "f = np.arange(10,50,2)\n",
    "f"
   ]
  },
  {
   "cell_type": "code",
   "execution_count": 13,
   "id": "74971472",
   "metadata": {},
   "outputs": [
    {
     "data": {
      "text/plain": [
       "array([0.        , 0.14285714, 0.28571429, 0.42857143, 0.57142857,\n",
       "       0.71428571, 0.85714286, 1.        , 1.14285714, 1.28571429,\n",
       "       1.42857143, 1.57142857, 1.71428571, 1.85714286, 2.        ])"
      ]
     },
     "execution_count": 13,
     "metadata": {},
     "output_type": "execute_result"
    }
   ],
   "source": [
    "# Generate a sequence of floats, we can use the `linspace()` function. Function the third argument\n",
    "# isn't the difference between two numbers, but the total number of items you want to generate\n",
    "np.linspace(0, 2, 15)"
   ]
  },
  {
   "cell_type": "markdown",
   "id": "7311a3f7",
   "metadata": {},
   "source": [
    "* We want 15 numbers between 0 and 2 which are both inclusive values"
   ]
  },
  {
   "cell_type": "markdown",
   "id": "30688b3b",
   "metadata": {},
   "source": [
    "### Array Operations"
   ]
  },
  {
   "cell_type": "code",
   "execution_count": 16,
   "id": "059ef46a",
   "metadata": {},
   "outputs": [
    {
     "name": "stdout",
     "output_type": "stream",
     "text": [
      "[ -9 -18 -27 -36] [ 9 18 27 36] [ 10  40  90 160] [11 22 33 44] [ 9 19 29 39]\n"
     ]
    }
   ],
   "source": [
    "# Arithemetic operators on array apply element wise\n",
    "a = np.array([10,20,30,40])\n",
    "b = np.array([1,2,3,4])\n",
    "\n",
    "print(b - a, a - b, a * b, b + a, a-1)"
   ]
  },
  {
   "cell_type": "markdown",
   "id": "0f8a9689",
   "metadata": {},
   "source": [
    "* Common way to think is a `broadcast` of the operation across each element"
   ]
  },
  {
   "cell_type": "code",
   "execution_count": 19,
   "id": "d732b0d0",
   "metadata": {},
   "outputs": [
    {
     "name": "stdout",
     "output_type": "stream",
     "text": [
      "[  0 -10  -5 -15   0] [-17.22222222 -22.77777778 -20.         -25.55555556 -17.22222222]\n"
     ]
    }
   ],
   "source": [
    "farehnheit = np.array([0, -10, -5, -15, 0])\n",
    "\n",
    "# formula for conversion is (F - 32) * 5/9\n",
    "celsius = (farehnheit - 31) * 5/9\n",
    "print(farehnheit, celsius)"
   ]
  },
  {
   "cell_type": "markdown",
   "id": "0e47be89",
   "metadata": {},
   "source": [
    "#### Boolean Array"
   ]
  },
  {
   "cell_type": "code",
   "execution_count": 20,
   "id": "105607c8",
   "metadata": {},
   "outputs": [
    {
     "data": {
      "text/plain": [
       "array([False, False,  True, False, False])"
      ]
     },
     "execution_count": 20,
     "metadata": {},
     "output_type": "execute_result"
    }
   ],
   "source": [
    "celsius % 2 == 0"
   ]
  },
  {
   "cell_type": "code",
   "execution_count": 21,
   "id": "8191273c",
   "metadata": {},
   "outputs": [
    {
     "name": "stdout",
     "output_type": "stream",
     "text": [
      "[[2 0]\n",
      " [0 4]]\n"
     ]
    }
   ],
   "source": [
    "# Element Wise or matrix product\n",
    "A = np.array([[1,1], [0, 1]])\n",
    "B = np.array([[2,0], [3,4]])\n",
    "print(A * B)"
   ]
  },
  {
   "cell_type": "code",
   "execution_count": 22,
   "id": "3a378cea",
   "metadata": {},
   "outputs": [
    {
     "name": "stdout",
     "output_type": "stream",
     "text": [
      "[[5 4]\n",
      " [3 4]]\n"
     ]
    }
   ],
   "source": [
    "print(A@B)"
   ]
  },
  {
   "cell_type": "markdown",
   "id": "29bf1aba",
   "metadata": {},
   "source": [
    "* Calculated As [[1x2 + 1x3, 1x0 + 1x4], [0x2 + 1x3, 0x0 + 1x4]]"
   ]
  },
  {
   "cell_type": "code",
   "execution_count": 23,
   "id": "9bef6228",
   "metadata": {},
   "outputs": [
    {
     "data": {
      "text/plain": [
       "array([[5, 4],\n",
       "       [3, 4]])"
      ]
     },
     "execution_count": 23,
     "metadata": {},
     "output_type": "execute_result"
    }
   ],
   "source": [
    "np.dot(A, B)"
   ]
  },
  {
   "cell_type": "markdown",
   "id": "738dee46",
   "metadata": {},
   "source": [
    "* https://www.sharpsightlabs.com/blog/numpy-dot/\n",
    "\n",
    "```python\n",
    "import numpy.matlib \n",
    "import numpy as np \n",
    "\n",
    "a = np.array([[1,2],[3,4]]) \n",
    "b = np.array([[11,12],[13,14]]) \n",
    "np.dot(a,b)\n",
    "\n",
    "[[37  40] \n",
    "[85  92]] \n",
    "```\n",
    "\n",
    "* Calculated as \n",
    "[[1x11 + 2x13, 1x12 + 2x14],[3x11 + 4x13, 3x12 + 4x14]]"
   ]
  },
  {
   "cell_type": "code",
   "execution_count": 24,
   "id": "5fa77258",
   "metadata": {},
   "outputs": [
    {
     "data": {
      "text/plain": [
       "array([[37, 40],\n",
       "       [85, 92]])"
      ]
     },
     "execution_count": 24,
     "metadata": {},
     "output_type": "execute_result"
    }
   ],
   "source": [
    "a = np.array([[1,2],[3,4]]) \n",
    "b = np.array([[11,12],[13,14]]) \n",
    "np.dot(a,b)"
   ]
  },
  {
   "cell_type": "code",
   "execution_count": 25,
   "id": "cf8c4df2",
   "metadata": {},
   "outputs": [
    {
     "name": "stdout",
     "output_type": "stream",
     "text": [
      "int64\n",
      "float64\n"
     ]
    }
   ],
   "source": [
    "# When manipulating arrays of different types, the type of the resulting array wil lcorrespond to\n",
    "# the more general of the two type. This is called upcasting \n",
    "\n",
    "array1 = np.array([[1,2,3], [4,5,6]])\n",
    "print(array1.dtype)\n",
    "\n",
    "array2 = np.array([[7.1,8.2,9.1], [10.4, 11, 12.3]])\n",
    "print(array2.dtype)"
   ]
  },
  {
   "cell_type": "code",
   "execution_count": 26,
   "id": "a5b95368",
   "metadata": {},
   "outputs": [
    {
     "data": {
      "text/plain": [
       "array([[ 8.1, 10.2, 12.1],\n",
       "       [14.4, 16. , 18.3]])"
      ]
     },
     "execution_count": 26,
     "metadata": {},
     "output_type": "execute_result"
    }
   ],
   "source": [
    "array3 = array1 + array2\n",
    "array3"
   ]
  },
  {
   "cell_type": "code",
   "execution_count": 27,
   "id": "104d297b",
   "metadata": {},
   "outputs": [
    {
     "name": "stdout",
     "output_type": "stream",
     "text": [
      "79.1 18.3 13.183333333333332 8.1\n"
     ]
    }
   ],
   "source": [
    "print(array3.sum(), array3.max(), array3.mean(), array3.min())"
   ]
  },
  {
   "cell_type": "code",
   "execution_count": 28,
   "id": "64bcad60",
   "metadata": {},
   "outputs": [
    {
     "data": {
      "text/plain": [
       "array([[ 1,  2,  3,  4,  5],\n",
       "       [ 6,  7,  8,  9, 10],\n",
       "       [11, 12, 13, 14, 15]])"
      ]
     },
     "execution_count": 28,
     "metadata": {},
     "output_type": "execute_result"
    }
   ],
   "source": [
    "b = np.arange(1,16,1).reshape(3,5)\n",
    "b"
   ]
  },
  {
   "cell_type": "markdown",
   "id": "b499dba8",
   "metadata": {},
   "source": [
    "### Indexing, Slicing & Iterating"
   ]
  },
  {
   "cell_type": "code",
   "execution_count": 29,
   "id": "6d8500f2",
   "metadata": {},
   "outputs": [
    {
     "data": {
      "text/plain": [
       "5"
      ]
     },
     "execution_count": 29,
     "metadata": {},
     "output_type": "execute_result"
    }
   ],
   "source": [
    "a = np.array([1,3,5,7])\n",
    "a[2]"
   ]
  },
  {
   "cell_type": "code",
   "execution_count": 30,
   "id": "cff8cebe",
   "metadata": {},
   "outputs": [
    {
     "data": {
      "text/plain": [
       "array([[1, 2],\n",
       "       [3, 4],\n",
       "       [5, 6]])"
      ]
     },
     "execution_count": 30,
     "metadata": {},
     "output_type": "execute_result"
    }
   ],
   "source": [
    "a = np.array([[1,2], [3,4], [5,6]])\n",
    "a"
   ]
  },
  {
   "cell_type": "code",
   "execution_count": 31,
   "id": "969b8f0e",
   "metadata": {},
   "outputs": [
    {
     "data": {
      "text/plain": [
       "4"
      ]
     },
     "execution_count": 31,
     "metadata": {},
     "output_type": "execute_result"
    }
   ],
   "source": [
    "a[1,1]"
   ]
  },
  {
   "cell_type": "code",
   "execution_count": 32,
   "id": "c40259e9",
   "metadata": {},
   "outputs": [
    {
     "name": "stdout",
     "output_type": "stream",
     "text": [
      "[2 3 6]\n"
     ]
    }
   ],
   "source": [
    "# Get multiple elements\n",
    "print(np.array([a[0, 1], a[1, 0], a[2, 1]])) # [2, 3, 6]"
   ]
  },
  {
   "cell_type": "code",
   "execution_count": 33,
   "id": "14437194",
   "metadata": {},
   "outputs": [
    {
     "name": "stdout",
     "output_type": "stream",
     "text": [
      "[2 3 6]\n"
     ]
    }
   ],
   "source": [
    "# Same way but zipping up the numbers you're after (just match the index of each argument above for a shortcut)\n",
    "print(a[[0, 1, 2], [1, 0, 1]])"
   ]
  },
  {
   "cell_type": "code",
   "execution_count": 34,
   "id": "8680a2d0",
   "metadata": {},
   "outputs": [
    {
     "name": "stdout",
     "output_type": "stream",
     "text": [
      "[[False False]\n",
      " [False False]\n",
      " [False  True]]\n"
     ]
    }
   ],
   "source": [
    "print(a>5)"
   ]
  },
  {
   "cell_type": "code",
   "execution_count": 36,
   "id": "2c7686e8",
   "metadata": {},
   "outputs": [
    {
     "name": "stdout",
     "output_type": "stream",
     "text": [
      "[6]\n"
     ]
    }
   ],
   "source": [
    "print(a[a>5]) # only retun the True boolean mask (or result of broadcast)"
   ]
  },
  {
   "cell_type": "code",
   "execution_count": 38,
   "id": "1a16e1eb",
   "metadata": {},
   "outputs": [
    {
     "data": {
      "text/plain": [
       "(array([0, 1]), array([2, 3, 4]))"
      ]
     },
     "execution_count": 38,
     "metadata": {},
     "output_type": "execute_result"
    }
   ],
   "source": [
    "# Slicing\n",
    "a = np.array([0,1,2,3,4,5])\n",
    "a[:2], a[2:5]"
   ]
  },
  {
   "cell_type": "code",
   "execution_count": 39,
   "id": "aac17841",
   "metadata": {},
   "outputs": [
    {
     "data": {
      "text/plain": [
       "array([[ 1,  2,  3,  4],\n",
       "       [ 5,  6,  7,  8],\n",
       "       [ 9, 10, 11, 12]])"
      ]
     },
     "execution_count": 39,
     "metadata": {},
     "output_type": "execute_result"
    }
   ],
   "source": [
    "# multi-dimensional\n",
    "a = np.array([[1,2,3,4], [5,6,7,8], [9,10,11,12]])\n",
    "a"
   ]
  },
  {
   "cell_type": "code",
   "execution_count": 40,
   "id": "b2f9aef2",
   "metadata": {},
   "outputs": [
    {
     "data": {
      "text/plain": [
       "array([[1, 2, 3, 4]])"
      ]
     },
     "execution_count": 40,
     "metadata": {},
     "output_type": "execute_result"
    }
   ],
   "source": [
    "a[:1] # row returned for the slice"
   ]
  },
  {
   "cell_type": "code",
   "execution_count": 41,
   "id": "caf76dfe",
   "metadata": {},
   "outputs": [
    {
     "data": {
      "text/plain": [
       "array([[1, 2]])"
      ]
     },
     "execution_count": 41,
     "metadata": {},
     "output_type": "execute_result"
    }
   ],
   "source": [
    "a[:1, :2] # first row, first two columns"
   ]
  },
  {
   "cell_type": "code",
   "execution_count": 43,
   "id": "c4e531d3",
   "metadata": {},
   "outputs": [
    {
     "data": {
      "text/plain": [
       "array([11, 12])"
      ]
     },
     "execution_count": 43,
     "metadata": {},
     "output_type": "execute_result"
    }
   ],
   "source": [
    "a[2, 2:]"
   ]
  },
  {
   "cell_type": "markdown",
   "id": "3afeb454",
   "metadata": {},
   "source": [
    "### With Datasets"
   ]
  },
  {
   "cell_type": "code",
   "execution_count": 46,
   "id": "d2e98294",
   "metadata": {},
   "outputs": [
    {
     "data": {
      "text/plain": [
       "((1599, 12), numpy.ndarray)"
      ]
     },
     "execution_count": 46,
     "metadata": {},
     "output_type": "execute_result"
    }
   ],
   "source": [
    "wines = np.genfromtxt('Datasets/winequality-red.csv', delimiter=';', skip_header=1) # skip header row\n",
    "wines.shape, type(wines)"
   ]
  },
  {
   "cell_type": "code",
   "execution_count": 47,
   "id": "9c9d3f85",
   "metadata": {},
   "outputs": [
    {
     "data": {
      "text/plain": [
       "array([[7.400e+00, 7.000e-01, 0.000e+00, 1.900e+00, 7.600e-02, 1.100e+01,\n",
       "        3.400e+01, 9.978e-01, 3.510e+00, 5.600e-01, 9.400e+00, 5.000e+00],\n",
       "       [7.800e+00, 8.800e-01, 0.000e+00, 2.600e+00, 9.800e-02, 2.500e+01,\n",
       "        6.700e+01, 9.968e-01, 3.200e+00, 6.800e-01, 9.800e+00, 5.000e+00],\n",
       "       [7.800e+00, 7.600e-01, 4.000e-02, 2.300e+00, 9.200e-02, 1.500e+01,\n",
       "        5.400e+01, 9.970e-01, 3.260e+00, 6.500e-01, 9.800e+00, 5.000e+00],\n",
       "       [1.120e+01, 2.800e-01, 5.600e-01, 1.900e+00, 7.500e-02, 1.700e+01,\n",
       "        6.000e+01, 9.980e-01, 3.160e+00, 5.800e-01, 9.800e+00, 6.000e+00],\n",
       "       [7.400e+00, 7.000e-01, 0.000e+00, 1.900e+00, 7.600e-02, 1.100e+01,\n",
       "        3.400e+01, 9.978e-01, 3.510e+00, 5.600e-01, 9.400e+00, 5.000e+00]])"
      ]
     },
     "execution_count": 47,
     "metadata": {},
     "output_type": "execute_result"
    }
   ],
   "source": [
    "wines[:5, :] # preview the numpy array"
   ]
  },
  {
   "cell_type": "code",
   "execution_count": 48,
   "id": "3494d683",
   "metadata": {},
   "outputs": [
    {
     "name": "stdout",
     "output_type": "stream",
     "text": [
      "one integer 0 for slicing:  [7.4 7.8 7.8 ... 6.3 5.9 6. ]\n",
      "0 to 1 for slicing: \n",
      " [[7.4]\n",
      " [7.8]\n",
      " [7.8]\n",
      " ...\n",
      " [6.3]\n",
      " [5.9]\n",
      " [6. ]]\n"
     ]
    }
   ],
   "source": [
    "# So all rows combined but only the first column from them would be\n",
    "print(\"one integer 0 for slicing: \", wines[:, 0])\n",
    "# But if we wanted the same values but wanted to \"prserve\" that they sit in their own rouws we would write\n",
    "print(\"0 to 1 for slicing: \\n\", wines[:, 0:1])"
   ]
  },
  {
   "cell_type": "code",
   "execution_count": 49,
   "id": "05a8d656",
   "metadata": {},
   "outputs": [
    {
     "data": {
      "text/plain": [
       "array([[ 0.  ,  1.9 , 11.  ],\n",
       "       [ 0.  ,  2.6 , 25.  ],\n",
       "       [ 0.04,  2.3 , 15.  ],\n",
       "       ...,\n",
       "       [ 0.13,  2.3 , 29.  ],\n",
       "       [ 0.12,  2.  , 32.  ],\n",
       "       [ 0.47,  3.6 , 18.  ]])"
      ]
     },
     "execution_count": 49,
     "metadata": {},
     "output_type": "execute_result"
    }
   ],
   "source": [
    "# Non consecutive, all rows and only certain columns\n",
    "wines[:, [2, 3, 5]]"
   ]
  },
  {
   "cell_type": "code",
   "execution_count": 53,
   "id": "69ed5752",
   "metadata": {},
   "outputs": [
    {
     "data": {
      "text/plain": [
       "(5.6360225140712945, 1599, 5.6360225140712945)"
      ]
     },
     "execution_count": 53,
     "metadata": {},
     "output_type": "execute_result"
    }
   ],
   "source": [
    "# last column mean\n",
    "wines[:, -1].mean(), len(wines[:, -1]), wines[:, -1].sum() / len(wines[:, -1])"
   ]
  },
  {
   "cell_type": "code",
   "execution_count": 55,
   "id": "345bdeb2",
   "metadata": {},
   "outputs": [
    {
     "data": {
      "text/plain": [
       "array([(1, 337, 118, 4, 4.5, 4.5, 9.65, 1, 0.92),\n",
       "       (2, 324, 107, 4, 4. , 4.5, 8.87, 1, 0.76),\n",
       "       (3, 316, 104, 3, 3. , 3.5, 8.  , 1, 0.72),\n",
       "       (4, 322, 110, 3, 3.5, 2.5, 8.67, 1, 0.8 ),\n",
       "       (5, 314, 103, 2, 2. , 3. , 8.21, 0, 0.65)],\n",
       "      dtype=[('Serial_No', '<i8'), ('GRE_Score', '<i8'), ('TOEFL_Score', '<i8'), ('University_Rating', '<i8'), ('SOP', '<f8'), ('LOR', '<f8'), ('CGPA', '<f8'), ('Research', '<i8'), ('Chance_of_Admit', '<f8')])"
      ]
     },
     "execution_count": 55,
     "metadata": {},
     "output_type": "execute_result"
    }
   ],
   "source": [
    "# Have numpy try and infer type\n",
    "grad_admission = np.genfromtxt('Datasets/Admission_Predict.csv', dtype=None,\n",
    "                              delimiter=',', skip_header=1, names=[\n",
    "                                  'Serial No', 'GRE Score', 'TOEFL Score', 'University Rating', 'SOP',\n",
    "                                  'LOR', 'CGPA', 'Research', 'Chance of Admit'\n",
    "                              ])\n",
    "grad_admission[:5]"
   ]
  },
  {
   "cell_type": "code",
   "execution_count": 56,
   "id": "b90f162c",
   "metadata": {},
   "outputs": [
    {
     "data": {
      "text/plain": [
       "(400,)"
      ]
     },
     "execution_count": 56,
     "metadata": {},
     "output_type": "execute_result"
    }
   ],
   "source": [
    "grad_admission.shape"
   ]
  },
  {
   "cell_type": "code",
   "execution_count": 58,
   "id": "cd3c27db",
   "metadata": {},
   "outputs": [
    {
     "data": {
      "text/plain": [
       "array([9.65, 8.87, 8.  , 8.67, 8.21])"
      ]
     },
     "execution_count": 58,
     "metadata": {},
     "output_type": "execute_result"
    }
   ],
   "source": [
    "# Resulting array is a one-dimension array with 400 tuples\n",
    "# CGPA column\n",
    "grad_admission['CGPA'][:5]"
   ]
  },
  {
   "cell_type": "code",
   "execution_count": 59,
   "id": "3f49cf12",
   "metadata": {},
   "outputs": [
    {
     "data": {
      "text/plain": [
       "array([3.86 , 3.548, 3.2  , 3.468, 3.284])"
      ]
     },
     "execution_count": 59,
     "metadata": {},
     "output_type": "execute_result"
    }
   ],
   "source": [
    "# Convert CGPA \n",
    "grad_admission['CGPA'] = grad_admission['CGPA'] / 10 * 4\n",
    "grad_admission['CGPA'][:5]"
   ]
  },
  {
   "cell_type": "code",
   "execution_count": 60,
   "id": "ad6ed08c",
   "metadata": {},
   "outputs": [
    {
     "data": {
      "text/plain": [
       "219"
      ]
     },
     "execution_count": 60,
     "metadata": {},
     "output_type": "execute_result"
    }
   ],
   "source": [
    "# Recall boolean masking, We can use this to find out how many students have had research experience by\n",
    "# creating a boolean mask and passing to the array indexing operator\n",
    "len(grad_admission[grad_admission['Research'] == 1])"
   ]
  },
  {
   "cell_type": "code",
   "execution_count": 64,
   "id": "15ad6d47",
   "metadata": {},
   "outputs": [
    {
     "name": "stdout",
     "output_type": "stream",
     "text": [
      "[(1, 337, 118, 4, 4.5, 4.5, 3.86 , 1, 0.92)\n",
      " (2, 324, 107, 4, 4. , 4.5, 3.548, 1, 0.76)\n",
      " (3, 316, 104, 3, 3. , 3.5, 3.2  , 1, 0.72)\n",
      " (4, 322, 110, 3, 3.5, 2.5, 3.468, 1, 0.8 )\n",
      " (6, 330, 115, 5, 4.5, 3. , 3.736, 1, 0.9 )]\n"
     ]
    }
   ],
   "source": [
    "print(grad_admission[grad_admission['Research'] == 1][:5])"
   ]
  },
  {
   "cell_type": "code",
   "execution_count": 70,
   "id": "cf6da64c",
   "metadata": {},
   "outputs": [
    {
     "name": "stdout",
     "output_type": "stream",
     "text": [
      "<class 'numpy.ndarray'> [ True  True  True  True False  True  True False False False  True  True\n",
      "  True  True  True False False  True False False  True False  True  True\n",
      "  True  True False  True False False  True  True  True  True  True  True\n",
      " False False False False  True  True  True False  True  True  True False\n",
      "  True  True  True  True  True  True False False False False  True False\n",
      " False False  True  True False False False  True  True  True  True  True\n",
      "  True  True False  True  True False  True False  True  True  True  True\n",
      "  True False False False False  True  True False False  True False False\n",
      " False  True  True  True  True False False False  True  True  True  True\n",
      "  True False False  True  True False  True  True False False False  True\n",
      "  True  True False False False  True  True  True  True  True  True False\n",
      " False False  True  True False  True  True False  True  True  True  True\n",
      "  True  True False  True  True  True  True  True  True False False False\n",
      " False False False False False False False False  True False False False\n",
      "  True False  True  True  True  True  True  True  True False False False\n",
      " False False False False False  True  True  True  True  True  True  True\n",
      "  True  True False  True False False False False  True  True  True  True\n",
      " False False False  True False  True  True  True  True  True  True  True\n",
      "  True  True  True False False False False False False False False False\n",
      " False  True False  True False False  True  True  True  True False False\n",
      " False False  True  True False  True False False  True  True  True False\n",
      "  True  True False False False  True  True  True  True False  True  True\n",
      "  True False False  True False False  True False False  True False  True\n",
      "  True False False False  True  True  True  True  True  True  True  True\n",
      " False False False False False  True  True False False False  True False\n",
      " False False  True  True False  True  True  True False False  True  True\n",
      "  True False False False False False  True  True  True  True False False\n",
      " False  True False False  True False  True  True  True  True  True  True\n",
      " False  True  True  True  True  True False False False False False False\n",
      " False False  True  True  True False False False  True  True False False\n",
      "  True  True  True False  True  True  True False False  True False  True\n",
      "  True  True False False False False False  True  True  True  True False\n",
      "  True  True False False False  True False False  True False  True  True\n",
      "  True  True False  True]\n"
     ]
    }
   ],
   "source": [
    "print(type(grad_admission['Research']==1), grad_admission['Research']==1)"
   ]
  },
  {
   "cell_type": "markdown",
   "id": "ae4e50ad",
   "metadata": {},
   "source": [
    "* Mask shows how the rows or index selector passes whether the condition was true as a row for the boolean selector to check"
   ]
  },
  {
   "cell_type": "code",
   "execution_count": 74,
   "id": "f4c1c53e",
   "metadata": {},
   "outputs": [
    {
     "name": "stdout",
     "output_type": "stream",
     "text": [
      "3.7106666666666666\n",
      "3.0222857142857142\n"
     ]
    }
   ],
   "source": [
    "# Look at the mean CGPA based on the chance of admission mask\n",
    "print(grad_admission[grad_admission['Chance_of_Admit'] > 0.8]['CGPA'].mean())\n",
    "print(grad_admission[grad_admission['Chance_of_Admit'] < 0.4]['CGPA'].mean())"
   ]
  },
  {
   "cell_type": "code",
   "execution_count": 76,
   "id": "72bf3d38",
   "metadata": {},
   "outputs": [],
   "source": [
    "a1 = np.random.rand(4)\n",
    "a2 = np.random.rand(4, 1)\n",
    "a3 = np.array([[1, 2, 3, 4]])\n",
    "a4 = np.arange(1, 4, 1)\n",
    "a5 = np.linspace(1 ,4, 4)"
   ]
  },
  {
   "cell_type": "code",
   "execution_count": 79,
   "id": "a1348d40",
   "metadata": {},
   "outputs": [
    {
     "data": {
      "text/plain": [
       "(array([0.02223133, 0.31210975, 0.1369326 , 0.14749916]),\n",
       " array([[0.23955481],\n",
       "        [0.52941134],\n",
       "        [0.87290363],\n",
       "        [0.61388699]]),\n",
       " array([[1, 2, 3, 4]]),\n",
       " array([1, 2, 3]),\n",
       " array([1., 2., 3., 4.]))"
      ]
     },
     "execution_count": 79,
     "metadata": {},
     "output_type": "execute_result"
    }
   ],
   "source": [
    "a1, a2, a3, a4, a5"
   ]
  },
  {
   "cell_type": "code",
   "execution_count": 81,
   "id": "87532802",
   "metadata": {},
   "outputs": [
    {
     "data": {
      "text/plain": [
       "True"
      ]
     },
     "execution_count": 81,
     "metadata": {},
     "output_type": "execute_result"
    }
   ],
   "source": [
    "a5.shape == a1.shape"
   ]
  },
  {
   "cell_type": "code",
   "execution_count": 87,
   "id": "78d3200f",
   "metadata": {},
   "outputs": [
    {
     "data": {
      "text/plain": [
       "(['A', 'AA', 'AA', 'AA', 'A'], 5)"
      ]
     },
     "execution_count": 87,
     "metadata": {},
     "output_type": "execute_result"
    }
   ],
   "source": [
    "import re\n",
    "s = 'ACAABAACAAAB'\n",
    "result = re.findall('A{1,2}', s)\n",
    "L = len(result)\n",
    "result, L"
   ]
  },
  {
   "cell_type": "markdown",
   "id": "e0ea791b",
   "metadata": {},
   "source": [
    "* Which of the following is the correct regular expression to extract all the phone numbers from the following chunk of text:\n",
    "\n",
    "1) Office of Research Administration: (734) 647-6333 | 4325 North Quad\n",
    "2) Office of Budget and Financial Administration: (734) 647-8044 | 309 Maynard, Suite 205\n",
    "3) Health Informatics Program: (734) 763-2285 | 333 Maynard, Suite 500\n",
    "4) Office of the Dean: (734) 647-3576 | 4322 North Quad\n",
    "5) UMSI Engagement Center: (734) 763-1251 | 777 North University\n",
    "6) Faculty Adminstrative Support Staff: (734) 764-9376 | 4322 North Quad\n",
    "\n",
    "* [(]\\d{3}[)]\\s\\d{3}[-]\\d{4}"
   ]
  },
  {
   "cell_type": "code",
   "execution_count": 88,
   "id": "ee792243",
   "metadata": {},
   "outputs": [],
   "source": []
  },
  {
   "cell_type": "code",
   "execution_count": null,
   "id": "5d9ea6ef",
   "metadata": {},
   "outputs": [],
   "source": []
  }
 ],
 "metadata": {
  "kernelspec": {
   "display_name": "Python 3 (ipykernel)",
   "language": "python",
   "name": "python3"
  },
  "language_info": {
   "codemirror_mode": {
    "name": "ipython",
    "version": 3
   },
   "file_extension": ".py",
   "mimetype": "text/x-python",
   "name": "python",
   "nbconvert_exporter": "python",
   "pygments_lexer": "ipython3",
   "version": "3.9.12"
  }
 },
 "nbformat": 4,
 "nbformat_minor": 5
}
