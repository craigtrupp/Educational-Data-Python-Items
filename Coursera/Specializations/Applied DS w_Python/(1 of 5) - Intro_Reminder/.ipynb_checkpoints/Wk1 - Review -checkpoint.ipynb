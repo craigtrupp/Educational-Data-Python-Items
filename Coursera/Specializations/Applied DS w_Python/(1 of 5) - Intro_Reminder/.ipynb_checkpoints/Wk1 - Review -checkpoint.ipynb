{
 "cells": [
  {
   "cell_type": "markdown",
   "id": "1947c20a",
   "metadata": {},
   "source": [
    "## Video and Exercise Review (Practice)"
   ]
  },
  {
   "cell_type": "markdown",
   "id": "1defd39c",
   "metadata": {},
   "source": [
    "### Python Types and Sequences"
   ]
  },
  {
   "cell_type": "code",
   "execution_count": 1,
   "id": "6775394a",
   "metadata": {},
   "outputs": [
    {
     "name": "stdout",
     "output_type": "stream",
     "text": [
      "Christopher\n"
     ]
    }
   ],
   "source": [
    "# What would be an appropriate slice to get the name \"Christopher\" from the string \"Dr. Christopher Brooks\"?\n",
    "x = 'Dr. Christopher Brooks'\n",
    "\n",
    "print(x[x.index('C'):x.index('C')+len('Christopher')])"
   ]
  },
  {
   "cell_type": "markdown",
   "id": "e6c2b3d1",
   "metadata": {},
   "source": [
    "### Data Files & Summary Stats"
   ]
  },
  {
   "cell_type": "code",
   "execution_count": 2,
   "id": "252b16ad",
   "metadata": {},
   "outputs": [
    {
     "name": "stdout",
     "output_type": "stream",
     "text": [
      "234\n",
      "[{'': '1', 'manufacturer': 'audi', 'model': 'a4', 'displ': '1.8', 'year': '1999', 'cyl': '4', 'trans': 'auto(l5)', 'drv': 'f', 'cty': '18', 'hwy': '29', 'fl': 'p', 'class': 'compact'}, {'': '2', 'manufacturer': 'audi', 'model': 'a4', 'displ': '1.8', 'year': '1999', 'cyl': '4', 'trans': 'manual(m5)', 'drv': 'f', 'cty': '21', 'hwy': '29', 'fl': 'p', 'class': 'compact'}]\n"
     ]
    }
   ],
   "source": [
    "import csv\n",
    "%precision 2\n",
    "\n",
    "with open('datasets/mpg.csv') as csvf:\n",
    "    mpg = list(csv.DictReader(csvf))\n",
    "\n",
    "print(len(mpg))\n",
    "print(mpg[:2])"
   ]
  },
  {
   "cell_type": "code",
   "execution_count": 7,
   "id": "c99f4f5c",
   "metadata": {},
   "outputs": [
    {
     "data": {
      "text/plain": [
       "16.86"
      ]
     },
     "execution_count": 7,
     "metadata": {},
     "output_type": "execute_result"
    }
   ],
   "source": [
    "# Suppose we want to find the average city MPG across all cars in our CSV file\n",
    "city_mpg_avg = sum([int(x['cty']) for x in mpg])/len(mpg)\n",
    "city_mpg_avg"
   ]
  },
  {
   "cell_type": "markdown",
   "id": "1d23cb7f",
   "metadata": {},
   "source": [
    "* Say we want to know what the average city MPG is grouped by the number of cylinders a car has."
   ]
  },
  {
   "cell_type": "code",
   "execution_count": 21,
   "id": "2666523c",
   "metadata": {},
   "outputs": [],
   "source": [
    "unique_cyls = set([x['cyl'] for x in mpg])"
   ]
  },
  {
   "cell_type": "code",
   "execution_count": 31,
   "id": "137f8c12",
   "metadata": {},
   "outputs": [
    {
     "data": {
      "text/plain": [
       "{'a': 4, 'b': 4, 'c': 3, 'd': 1}"
      ]
     },
     "execution_count": 31,
     "metadata": {},
     "output_type": "execute_result"
    }
   ],
   "source": [
    "from collections import Counter\n",
    "data = [{'a':1, 'b':3}, {'a':1, 'c':1}, {'b':1, 'c':1}, {'a':1, 'c':1}, {'a':1, 'd':1}]\n",
    "counter = dict(sum((Counter(d) for d in data[1:]), Counter(data[0])))\n",
    "counter"
   ]
  },
  {
   "cell_type": "code",
   "execution_count": 16,
   "id": "03442c47",
   "metadata": {},
   "outputs": [
    {
     "data": {
      "text/plain": [
       "{'4': 81, '6': 79, '8': 70, '5': 4}"
      ]
     },
     "execution_count": 16,
     "metadata": {},
     "output_type": "execute_result"
    }
   ],
   "source": [
    "# We can use the counter object to count the unique total amount of values for all values of a key, in our case the cylinderkey\n",
    "cylinder_counts = dict(Counter(x['cyl'] for x in mpg))\n",
    "cylinder_counts"
   ]
  },
  {
   "cell_type": "code",
   "execution_count": 47,
   "id": "97c2ea06",
   "metadata": {},
   "outputs": [
    {
     "name": "stdout",
     "output_type": "stream",
     "text": [
      "{'4': 81, '6': 79, '8': 70, '5': 4}\n"
     ]
    }
   ],
   "source": [
    "cyl_city_mpg_totals = {}\n",
    "for key in cylinder_counts.keys():\n",
    "    cyl_city_mpg_totals[key] = []\n",
    "    for vehicle in mpg:\n",
    "        if vehicle['cyl'] == key:\n",
    "            cyl_city_mpg_totals[key].append(int(vehicle['cty']))\n",
    "\n",
    "# Can quickly validate that all cylinders have the same count as above\n",
    "print({key: len(value) for key, value in cyl_city_mpg_totals.items()})"
   ]
  },
  {
   "cell_type": "code",
   "execution_count": 48,
   "id": "1a3335b2",
   "metadata": {},
   "outputs": [
    {
     "data": {
      "text/plain": [
       "{'4': 21.01, '6': 16.22, '8': 12.57, '5': 20.50}"
      ]
     },
     "execution_count": 48,
     "metadata": {},
     "output_type": "execute_result"
    }
   ],
   "source": [
    "cyl_city_mpg_avgs = {key: sum(value)/len(value) for key, value in cyl_city_mpg_totals.items()}\n",
    "cyl_city_mpg_avgs"
   ]
  },
  {
   "cell_type": "code",
   "execution_count": 51,
   "id": "b9659834",
   "metadata": {},
   "outputs": [
    {
     "data": {
      "text/plain": [
       "{'4': 21.01, '5': 20.50, '6': 16.22, '8': 12.57}"
      ]
     },
     "execution_count": 51,
     "metadata": {},
     "output_type": "execute_result"
    }
   ],
   "source": [
    "# sort dictionary by cylinder key\n",
    "from collections import OrderedDict\n",
    "ordered_cyl_dict = OrderedDict(sorted(cyl_city_mpg_avgs.items()))\n",
    "# Type ordered Dict so changed type\n",
    "dict(ordered_cyl_dict)"
   ]
  },
  {
   "cell_type": "markdown",
   "id": "e99c5683",
   "metadata": {},
   "source": [
    "* HwyMpgBy Class"
   ]
  },
  {
   "cell_type": "code",
   "execution_count": 60,
   "id": "45b9b081",
   "metadata": {},
   "outputs": [
    {
     "data": {
      "text/plain": [
       "[('midsize', 27.29, 'midsize class has an average of 27.29/mpg on the hwy'),\n",
       " ('minivan', 22.36, 'minivan class has an average of 22.36/mpg on the hwy'),\n",
       " ('compact', 28.30, 'compact class has an average of 28.3/mpg on the hwy'),\n",
       " ('pickup', 16.88, 'pickup class has an average of 16.88/mpg on the hwy'),\n",
       " ('suv', 18.13, 'suv class has an average of 18.13/mpg on the hwy'),\n",
       " ('subcompact',\n",
       "  28.14,\n",
       "  'subcompact class has an average of 28.14/mpg on the hwy'),\n",
       " ('2seater', 24.80, '2seater class has an average of 24.8/mpg on the hwy')]"
      ]
     },
     "execution_count": 60,
     "metadata": {},
     "output_type": "execute_result"
    }
   ],
   "source": [
    "# Get all unique values with set calls on all retuned\n",
    "vehicle_class = set(d['class'] for d in mpg)\n",
    "\n",
    "\n",
    "hwy_mpg_by_class = []\n",
    "for t in vehicle_class:\n",
    "    # Counter and sum variables to set/increment for each found instance of the vehicle class \n",
    "    summpg = 0\n",
    "    vclasscount = 0\n",
    "    # iterate through primary object (w/data)\n",
    "    for d in mpg:\n",
    "        if d['class'] == t:\n",
    "            # add to outer loop variable and increase count for each found object of right class\n",
    "            summpg += float(d['hwy'])\n",
    "            vclasscount += 1\n",
    "    # Now once out of iterating over primary object, insert vehicle class details\n",
    "    hwy_mpg_by_class.append((t, round(summpg/vclasscount, 2), \n",
    "                             \"{} class has an average of {}/mpg on the hwy\".format(t, round(summpg/vclasscount, 2))))\n",
    "    \n",
    "    \n",
    "hwy_mpg_by_class"
   ]
  },
  {
   "cell_type": "markdown",
   "id": "a686f988",
   "metadata": {},
   "source": [
    "### Object and map()"
   ]
  },
  {
   "cell_type": "code",
   "execution_count": 64,
   "id": "f5646f20",
   "metadata": {},
   "outputs": [],
   "source": [
    "class Person:\n",
    "    department = 'AFC Club'\n",
    "    \n",
    "    def set_name(self, new_name):\n",
    "        self.name = new_name\n",
    "    def set_location(self, new_location):\n",
    "        self.location = new_location"
   ]
  },
  {
   "cell_type": "code",
   "execution_count": 65,
   "id": "ce13ca5e",
   "metadata": {},
   "outputs": [
    {
     "name": "stdout",
     "output_type": "stream",
     "text": [
      "Thomas Daniels lives in N5 : North London and works for AFC Club\n"
     ]
    }
   ],
   "source": [
    "person = Person()\n",
    "person.set_name('Thomas Daniels')\n",
    "person.set_location('N5 : North London')\n",
    "print(\"{} lives in {} and works for {}\".format(person.name, person.location, person.department))"
   ]
  },
  {
   "cell_type": "code",
   "execution_count": 71,
   "id": "7cf1e1d0",
   "metadata": {},
   "outputs": [
    {
     "name": "stdout",
     "output_type": "stream",
     "text": [
      "<map object at 0x7fcb4d661700>\n"
     ]
    }
   ],
   "source": [
    "store1 = [10.00, 11.00, 12.34, 2.34]\n",
    "store2 = [9.00, 11.10, 12.3, 2.51]\n",
    "cheapest = map(min, store1, store2)\n",
    "print(cheapest)"
   ]
  },
  {
   "cell_type": "code",
   "execution_count": 72,
   "id": "009c778d",
   "metadata": {},
   "outputs": [
    {
     "data": {
      "text/plain": [
       "[9.00, 11.00, 12.30, 2.34]"
      ]
     },
     "execution_count": 72,
     "metadata": {},
     "output_type": "execute_result"
    }
   ],
   "source": [
    "[x for x in cheapest]"
   ]
  },
  {
   "cell_type": "markdown",
   "id": "3effb268",
   "metadata": {},
   "source": [
    "* Map generator object is lazy loading and using minimal memory as a map object, can be iterated though to look at when needed\n",
    "\n",
    "<br>\n",
    "\n",
    "* Here is a list of faculty teaching this MOOC. Can you write a function and apply it using map() to get a list of all faculty titles and last names (e.g. ['Dr. Brooks', 'Dr. Collins-Thompson', …]) ?"
   ]
  },
  {
   "cell_type": "code",
   "execution_count": 76,
   "id": "3b1cce5f",
   "metadata": {},
   "outputs": [
    {
     "data": {
      "text/plain": [
       "['Dr. Brooks', 'Dr. Collins-Thompson', 'Dr. Vydiswaran', 'Dr. Romero']"
      ]
     },
     "execution_count": 76,
     "metadata": {},
     "output_type": "execute_result"
    }
   ],
   "source": [
    "people = ['Dr. Christopher Brooks', 'Dr. Kevyn Collins-Thompson', 'Dr. VG Vinod Vydiswaran', 'Dr. Daniel Romero']\n",
    "\n",
    "def split_title_and_name(person):\n",
    "    return \"{} {}\".format(person.split()[0], person.split()[-1])\n",
    "\n",
    "list(map(split_title_and_name, people))"
   ]
  },
  {
   "cell_type": "code",
   "execution_count": 77,
   "id": "efee3ad4",
   "metadata": {},
   "outputs": [
    {
     "data": {
      "text/plain": [
       "['Dr. Brooks', 'Dr. Collins-Thompson', 'Dr. Vydiswaran', 'Dr. Romero']"
      ]
     },
     "execution_count": 77,
     "metadata": {},
     "output_type": "execute_result"
    }
   ],
   "source": [
    "people = ['Dr. Christopher Brooks', 'Dr. Kevyn Collins-Thompson', 'Dr. VG Vinod Vydiswaran', 'Dr. Daniel Romero']\n",
    "\n",
    "def split_title_and_name(person):\n",
    "    title = person.split()[0]\n",
    "    lastname = person.split()[-1]\n",
    "    return '{} {}'.format(title, lastname)\n",
    "\n",
    "list(map(split_title_and_name, people))"
   ]
  },
  {
   "cell_type": "markdown",
   "id": "8aa200ba",
   "metadata": {},
   "source": [
    "* Same concept just remember map takes a function, and an iterable which will pass each index of the iterable to the function and store in a generator object, can be unpacked commonly with the list method "
   ]
  },
  {
   "cell_type": "markdown",
   "id": "dd9113a6",
   "metadata": {},
   "source": [
    "### Lambda & List Comprehension"
   ]
  },
  {
   "cell_type": "code",
   "execution_count": 78,
   "id": "bfdeb82b",
   "metadata": {},
   "outputs": [],
   "source": [
    "my_function = lambda a, b, c: (a + b) * c"
   ]
  },
  {
   "cell_type": "code",
   "execution_count": 79,
   "id": "70251e26",
   "metadata": {},
   "outputs": [
    {
     "data": {
      "text/plain": [
       "40"
      ]
     },
     "execution_count": 79,
     "metadata": {},
     "output_type": "execute_result"
    }
   ],
   "source": [
    "my_function(3, 2, 8)"
   ]
  },
  {
   "cell_type": "code",
   "execution_count": 86,
   "id": "8c710122",
   "metadata": {},
   "outputs": [
    {
     "name": "stdout",
     "output_type": "stream",
     "text": [
      "True\n",
      "True\n",
      "True\n",
      "True\n"
     ]
    },
    {
     "data": {
      "text/plain": [
       "True"
      ]
     },
     "execution_count": 86,
     "metadata": {},
     "output_type": "execute_result"
    }
   ],
   "source": [
    "people = ['Dr. Christopher Brooks', 'Dr. Kevyn Collins-Thompson', 'Dr. VG Vinod Vydiswaran', 'Dr. Daniel Romero']\n",
    "\n",
    "def split_title_and_name(person):\n",
    "    return person.split()[0] + ' ' + person.split()[-1]\n",
    "\n",
    "#option 1 : note here how to instantiate the lambda with a direct call with each persons\n",
    "for person in people:\n",
    "    print(split_title_and_name(person) == (lambda x: x.split()[0] + ' ' + x.split()[-1])(person))\n",
    "    \n",
    "# option 2 : let's use a map and lambda \n",
    "list(map(split_title_and_name, people)) == list(map(lambda x: x.split()[0] + ' ' + x.split()[-1], people))"
   ]
  },
  {
   "cell_type": "code",
   "execution_count": 88,
   "id": "e7c0c02a",
   "metadata": {},
   "outputs": [
    {
     "data": {
      "text/plain": [
       "[0, 2, 4, 6, 8, 10, 12, 14, 16, 18, 20]"
      ]
     },
     "execution_count": 88,
     "metadata": {},
     "output_type": "execute_result"
    }
   ],
   "source": [
    "my_list = []\n",
    "for i in range(0, 21):\n",
    "    if i % 2 == 0:\n",
    "        my_list.append(i)\n",
    "my_list"
   ]
  },
  {
   "cell_type": "code",
   "execution_count": 89,
   "id": "28f547ac",
   "metadata": {},
   "outputs": [
    {
     "data": {
      "text/plain": [
       "[0, 2, 4, 6, 8, 10, 12, 14, 16, 18, 20]"
      ]
     },
     "execution_count": 89,
     "metadata": {},
     "output_type": "execute_result"
    }
   ],
   "source": [
    "# Can truncate with a list comprehension\n",
    "my_list_1 = [x for x in range(0, 21) if x % 2 == 0]\n",
    "my_list_1"
   ]
  },
  {
   "cell_type": "code",
   "execution_count": 90,
   "id": "5630a55c",
   "metadata": {},
   "outputs": [
    {
     "name": "stdout",
     "output_type": "stream",
     "text": [
      "[0, 0, 0, 0, 0, 0, 0, 0, 0, 0, 0, 1, 2, 3, 4, 5, 6, 7, 8, 9, 0, 2, 4, 6, 8, 10, 12, 14, 16, 18, 0, 3, 6, 9, 12, 15, 18, 21, 24, 27, 0, 4, 8, 12, 16, 20, 24, 28, 32, 36, 0, 5, 10, 15, 20, 25, 30, 35, 40, 45, 0, 6, 12, 18, 24, 30, 36, 42, 48, 54, 0, 7, 14, 21, 28, 35, 42, 49, 56, 63, 0, 8, 16, 24, 32, 40, 48, 56, 64, 72, 0, 9, 18, 27, 36, 45, 54, 63, 72, 81]\n"
     ]
    }
   ],
   "source": [
    "def times_tables():\n",
    "    lst = []\n",
    "    for i in range(10):\n",
    "        for j in range (10):\n",
    "            lst.append(i*j)\n",
    "    return lst\n",
    "\n",
    "print(times_tables())"
   ]
  },
  {
   "cell_type": "code",
   "execution_count": 96,
   "id": "f36eba67",
   "metadata": {},
   "outputs": [
    {
     "name": "stdout",
     "output_type": "stream",
     "text": [
      "[0, 0, 0, 0, 0, 0, 0, 0, 0, 0, 0, 1, 2, 3, 4, 5, 6, 7, 8, 9, 0, 2, 4, 6, 8]\n",
      "True\n"
     ]
    }
   ],
   "source": [
    "print([i * j for i in range(10) for j in range(10)][:25])\n",
    "print(times_tables() == [i * j for i in range(10) for j in range(10)])"
   ]
  },
  {
   "cell_type": "markdown",
   "id": "5584be3b",
   "metadata": {},
   "source": [
    "Here’s a harder question which brings a few things together.\n",
    "\n",
    "Many organizations have user ids which are constrained in some way. Imagine you work at an internet service provider and the user ids are all two letters followed by two numbers (e.g. aa49). Your task at such an organization might be to hold a record on the billing activity for each possible user. \n",
    "\n",
    "Write an initialization line as a single list comprehension which creates a list of all possible user ids. Assume the letters are all lower case."
   ]
  },
  {
   "cell_type": "code",
   "execution_count": 104,
   "id": "17fcdbf6",
   "metadata": {},
   "outputs": [
    {
     "name": "stdout",
     "output_type": "stream",
     "text": [
      "['aa00', 'aa01', 'aa02', 'aa03', 'aa04', 'ab00', 'ab01', 'ab02', 'ab03', 'ab04', 'ac00', 'ac01', 'ac02', 'ac03', 'ac04', 'ad00', 'ad01', 'ad02', 'ad03', 'ad04', 'ae00', 'ae01', 'ae02', 'ae03', 'ae04', 'ba00', 'ba01', 'ba02', 'ba03', 'ba04', 'bb00', 'bb01', 'bb02', 'bb03', 'bb04', 'bc00', 'bc01', 'bc02', 'bc03', 'bc04', 'bd00', 'bd01', 'bd02', 'bd03', 'bd04', 'be00', 'be01', 'be02', 'be03', 'be04']\n"
     ]
    }
   ],
   "source": [
    "lowercase = 'abcdefghijklmnopqrstuvwxyz'\n",
    "digits = '0123456789'\n",
    "\n",
    "# Can see how the subsequent for is treated as a nested loop \n",
    "print([a+b+c+d for a in lowercase[0:2] for b in lowercase[:5] for c in digits[0] for d in digits[:5]])"
   ]
  },
  {
   "cell_type": "markdown",
   "id": "df0d05ff",
   "metadata": {},
   "source": [
    "#### Walk-Through One Iteration (aa00 - aa04)\n",
    "* a is first letter in lowercase or a, `next` b firstletter from list chosen (also a - as pulling from same list), `next` we pull just the first digit from digits sequence/string or zero, `next` we go to d which is a sequence of the first five digits which we iterate over 5 times to make ['aa00', 'aa01', 'aa02', 'aa03', 'aa04']\n",
    "* after those five digits are ruled out and we only pull one digit from c, we move back to b which is the next lettter in lowercase[1] and only goes that far with the slice, `next` we move to c which is '0' and then to d which pulls the same 5 digits and iterates 5 times to make ['ab00', 'ab01', 'ab02', 'ab03', 'ab04'] \n",
    "    * this will continue for b until it's five iterations (length of lowercase[:5]) is completed to make sequence of aa, ab, ac, ad, and ae before moving onto the second value we have for our outermost loop and a[:2] \n"
   ]
  },
  {
   "cell_type": "code",
   "execution_count": null,
   "id": "accf285b",
   "metadata": {},
   "outputs": [],
   "source": []
  }
 ],
 "metadata": {
  "kernelspec": {
   "display_name": "Python 3 (ipykernel)",
   "language": "python",
   "name": "python3"
  },
  "language_info": {
   "codemirror_mode": {
    "name": "ipython",
    "version": 3
   },
   "file_extension": ".py",
   "mimetype": "text/x-python",
   "name": "python",
   "nbconvert_exporter": "python",
   "pygments_lexer": "ipython3",
   "version": "3.9.12"
  }
 },
 "nbformat": 4,
 "nbformat_minor": 5
}
