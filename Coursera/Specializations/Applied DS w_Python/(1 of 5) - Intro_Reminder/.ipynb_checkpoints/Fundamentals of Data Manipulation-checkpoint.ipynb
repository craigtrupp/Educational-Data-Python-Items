{
 "cells": [
  {
   "cell_type": "markdown",
   "id": "4d4d5b15",
   "metadata": {},
   "source": [
    "## Data Manipulation / Type Review Numpy"
   ]
  },
  {
   "cell_type": "markdown",
   "id": "4e7e4857",
   "metadata": {},
   "source": [
    "#### Array Creation"
   ]
  },
  {
   "cell_type": "code",
   "execution_count": 1,
   "id": "990611d4",
   "metadata": {},
   "outputs": [],
   "source": [
    "import numpy as np"
   ]
  },
  {
   "cell_type": "code",
   "execution_count": 3,
   "id": "512a57f6",
   "metadata": {},
   "outputs": [
    {
     "data": {
      "text/plain": [
       "(array([1, 2, 3]), 1)"
      ]
     },
     "execution_count": 3,
     "metadata": {},
     "output_type": "execute_result"
    }
   ],
   "source": [
    "a = np.array([1,2,3])\n",
    "a, a.ndim"
   ]
  },
  {
   "cell_type": "code",
   "execution_count": 4,
   "id": "4faa7d34",
   "metadata": {},
   "outputs": [
    {
     "data": {
      "text/plain": [
       "(array([[0, 1, 2],\n",
       "        [3, 4, 5]]),\n",
       " 2,\n",
       " (2, 3))"
      ]
     },
     "execution_count": 4,
     "metadata": {},
     "output_type": "execute_result"
    }
   ],
   "source": [
    "b = np.array([[0,1,2], [3,4,5]])\n",
    "b, b.ndim, b.shape"
   ]
  },
  {
   "cell_type": "code",
   "execution_count": 7,
   "id": "54da21e9",
   "metadata": {},
   "outputs": [
    {
     "data": {
      "text/plain": [
       "('float64', array([2.2, 5. , 1.1]))"
      ]
     },
     "execution_count": 7,
     "metadata": {},
     "output_type": "execute_result"
    }
   ],
   "source": [
    "c = np.array([2.2, 5, 1.1])\n",
    "c.dtype.name, c"
   ]
  },
  {
   "cell_type": "code",
   "execution_count": 10,
   "id": "4cae7e4d",
   "metadata": {},
   "outputs": [
    {
     "name": "stdout",
     "output_type": "stream",
     "text": [
      "[[0. 0. 0.]\n",
      " [0. 0. 0.]]\n",
      "[[1. 1. 1.]\n",
      " [1. 1. 1.]]\n"
     ]
    }
   ],
   "source": [
    "# Fill our numpy array with *dummy values*\n",
    "d = np.zeros((2,3))\n",
    "print(d)\n",
    "e = np.ones((2,3))\n",
    "print(e)"
   ]
  },
  {
   "cell_type": "code",
   "execution_count": 11,
   "id": "eae70623",
   "metadata": {},
   "outputs": [
    {
     "data": {
      "text/plain": [
       "array([[0.96779597, 0.02456816, 0.55818037],\n",
       "       [0.98765728, 0.17542609, 0.97968405]])"
      ]
     },
     "execution_count": 11,
     "metadata": {},
     "output_type": "execute_result"
    }
   ],
   "source": [
    "# Generate with Random\n",
    "np.random.rand(2,3)"
   ]
  },
  {
   "cell_type": "markdown",
   "id": "8bba3f86",
   "metadata": {},
   "source": [
    "* Commonly see `zeros`, `ones`, and `rand` use quite of to create example arrays"
   ]
  },
  {
   "cell_type": "code",
   "execution_count": 12,
   "id": "bad8b25f",
   "metadata": {},
   "outputs": [
    {
     "data": {
      "text/plain": [
       "array([10, 12, 14, 16, 18, 20, 22, 24, 26, 28, 30, 32, 34, 36, 38, 40, 42,\n",
       "       44, 46, 48])"
      ]
     },
     "execution_count": 12,
     "metadata": {},
     "output_type": "execute_result"
    }
   ],
   "source": [
    "f = np.arange(10,50,2)\n",
    "f"
   ]
  },
  {
   "cell_type": "code",
   "execution_count": 13,
   "id": "8690b78e",
   "metadata": {},
   "outputs": [
    {
     "data": {
      "text/plain": [
       "array([0.        , 0.14285714, 0.28571429, 0.42857143, 0.57142857,\n",
       "       0.71428571, 0.85714286, 1.        , 1.14285714, 1.28571429,\n",
       "       1.42857143, 1.57142857, 1.71428571, 1.85714286, 2.        ])"
      ]
     },
     "execution_count": 13,
     "metadata": {},
     "output_type": "execute_result"
    }
   ],
   "source": [
    "# Generate a sequence of floats, we can use the `linspace()` function. Function the third argument\n",
    "# isn't the difference between two numbers, but the total number of items you want to generate\n",
    "np.linspace(0, 2, 15)"
   ]
  },
  {
   "cell_type": "markdown",
   "id": "02172e6f",
   "metadata": {},
   "source": [
    "* We want 15 numbers between 0 and 2 which are both inclusive values"
   ]
  },
  {
   "cell_type": "markdown",
   "id": "b66806c9",
   "metadata": {},
   "source": [
    "### Array Operations"
   ]
  },
  {
   "cell_type": "code",
   "execution_count": 16,
   "id": "6de456b8",
   "metadata": {},
   "outputs": [
    {
     "name": "stdout",
     "output_type": "stream",
     "text": [
      "[ -9 -18 -27 -36] [ 9 18 27 36] [ 10  40  90 160] [11 22 33 44] [ 9 19 29 39]\n"
     ]
    }
   ],
   "source": [
    "# Arithemetic operators on array apply element wise\n",
    "a = np.array([10,20,30,40])\n",
    "b = np.array([1,2,3,4])\n",
    "\n",
    "print(b - a, a - b, a * b, b + a, a-1)"
   ]
  },
  {
   "cell_type": "markdown",
   "id": "4c4d3f61",
   "metadata": {},
   "source": [
    "* Common way to think is a `broadcast` of the operation across each element"
   ]
  },
  {
   "cell_type": "code",
   "execution_count": 19,
   "id": "10f6944e",
   "metadata": {},
   "outputs": [
    {
     "name": "stdout",
     "output_type": "stream",
     "text": [
      "[  0 -10  -5 -15   0] [-17.22222222 -22.77777778 -20.         -25.55555556 -17.22222222]\n"
     ]
    }
   ],
   "source": [
    "farehnheit = np.array([0, -10, -5, -15, 0])\n",
    "\n",
    "# formula for conversion is (F - 32) * 5/9\n",
    "celsius = (farehnheit - 31) * 5/9\n",
    "print(farehnheit, celsius)"
   ]
  },
  {
   "cell_type": "markdown",
   "id": "37de1d9e",
   "metadata": {},
   "source": [
    "#### Boolean Array"
   ]
  },
  {
   "cell_type": "code",
   "execution_count": 20,
   "id": "2b280635",
   "metadata": {},
   "outputs": [
    {
     "data": {
      "text/plain": [
       "array([False, False,  True, False, False])"
      ]
     },
     "execution_count": 20,
     "metadata": {},
     "output_type": "execute_result"
    }
   ],
   "source": [
    "celsius % 2 == 0"
   ]
  },
  {
   "cell_type": "code",
   "execution_count": 21,
   "id": "a8d2bb8d",
   "metadata": {},
   "outputs": [
    {
     "name": "stdout",
     "output_type": "stream",
     "text": [
      "[[2 0]\n",
      " [0 4]]\n"
     ]
    }
   ],
   "source": [
    "# Element Wise or matrix product\n",
    "A = np.array([[1,1], [0, 1]])\n",
    "B = np.array([[2,0], [3,4]])\n",
    "print(A * B)"
   ]
  },
  {
   "cell_type": "code",
   "execution_count": 22,
   "id": "0f75a2e2",
   "metadata": {},
   "outputs": [
    {
     "name": "stdout",
     "output_type": "stream",
     "text": [
      "[[5 4]\n",
      " [3 4]]\n"
     ]
    }
   ],
   "source": [
    "print(A@B)"
   ]
  },
  {
   "cell_type": "markdown",
   "id": "b6cfeee2",
   "metadata": {},
   "source": [
    "* Calculated As [[1x2 + 1x3, 1x0 + 1x4], [0x2 + 1x3, 0x0 + 1x4]]"
   ]
  },
  {
   "cell_type": "code",
   "execution_count": 23,
   "id": "a7d87679",
   "metadata": {},
   "outputs": [
    {
     "data": {
      "text/plain": [
       "array([[5, 4],\n",
       "       [3, 4]])"
      ]
     },
     "execution_count": 23,
     "metadata": {},
     "output_type": "execute_result"
    }
   ],
   "source": [
    "np.dot(A, B)"
   ]
  },
  {
   "cell_type": "markdown",
   "id": "9e061787",
   "metadata": {},
   "source": [
    "* https://www.sharpsightlabs.com/blog/numpy-dot/\n",
    "\n",
    "```python\n",
    "import numpy.matlib \n",
    "import numpy as np \n",
    "\n",
    "a = np.array([[1,2],[3,4]]) \n",
    "b = np.array([[11,12],[13,14]]) \n",
    "np.dot(a,b)\n",
    "\n",
    "[[37  40] \n",
    "[85  92]] \n",
    "```\n",
    "\n",
    "* Calculated as \n",
    "[[1x11 + 2x13, 1x12 + 2x14],[3x11 + 4x13, 3x12 + 4x14]]"
   ]
  },
  {
   "cell_type": "code",
   "execution_count": 24,
   "id": "315d39f2",
   "metadata": {},
   "outputs": [
    {
     "data": {
      "text/plain": [
       "array([[37, 40],\n",
       "       [85, 92]])"
      ]
     },
     "execution_count": 24,
     "metadata": {},
     "output_type": "execute_result"
    }
   ],
   "source": [
    "a = np.array([[1,2],[3,4]]) \n",
    "b = np.array([[11,12],[13,14]]) \n",
    "np.dot(a,b)"
   ]
  },
  {
   "cell_type": "code",
   "execution_count": 25,
   "id": "0562bb6a",
   "metadata": {},
   "outputs": [
    {
     "name": "stdout",
     "output_type": "stream",
     "text": [
      "int64\n",
      "float64\n"
     ]
    }
   ],
   "source": [
    "# When manipulating arrays of different types, the type of the resulting array wil lcorrespond to\n",
    "# the more general of the two type. This is called upcasting \n",
    "\n",
    "array1 = np.array([[1,2,3], [4,5,6]])\n",
    "print(array1.dtype)\n",
    "\n",
    "array2 = np.array([[7.1,8.2,9.1], [10.4, 11, 12.3]])\n",
    "print(array2.dtype)"
   ]
  },
  {
   "cell_type": "code",
   "execution_count": 26,
   "id": "9f67e84c",
   "metadata": {},
   "outputs": [
    {
     "data": {
      "text/plain": [
       "array([[ 8.1, 10.2, 12.1],\n",
       "       [14.4, 16. , 18.3]])"
      ]
     },
     "execution_count": 26,
     "metadata": {},
     "output_type": "execute_result"
    }
   ],
   "source": [
    "array3 = array1 + array2\n",
    "array3"
   ]
  },
  {
   "cell_type": "code",
   "execution_count": 27,
   "id": "c8a1a92c",
   "metadata": {},
   "outputs": [
    {
     "name": "stdout",
     "output_type": "stream",
     "text": [
      "79.1 18.3 13.183333333333332 8.1\n"
     ]
    }
   ],
   "source": [
    "print(array3.sum(), array3.max(), array3.mean(), array3.min())"
   ]
  },
  {
   "cell_type": "code",
   "execution_count": 28,
   "id": "a53fd1eb",
   "metadata": {},
   "outputs": [
    {
     "data": {
      "text/plain": [
       "array([[ 1,  2,  3,  4,  5],\n",
       "       [ 6,  7,  8,  9, 10],\n",
       "       [11, 12, 13, 14, 15]])"
      ]
     },
     "execution_count": 28,
     "metadata": {},
     "output_type": "execute_result"
    }
   ],
   "source": [
    "b = np.arange(1,16,1).reshape(3,5)\n",
    "b"
   ]
  },
  {
   "cell_type": "markdown",
   "id": "6a3b3a87",
   "metadata": {},
   "source": [
    "### Indexing, Slicing & Iterating"
   ]
  },
  {
   "cell_type": "code",
   "execution_count": 29,
   "id": "89eeb844",
   "metadata": {},
   "outputs": [
    {
     "data": {
      "text/plain": [
       "5"
      ]
     },
     "execution_count": 29,
     "metadata": {},
     "output_type": "execute_result"
    }
   ],
   "source": [
    "a = np.array([1,3,5,7])\n",
    "a[2]"
   ]
  },
  {
   "cell_type": "code",
   "execution_count": 30,
   "id": "b0cad8dc",
   "metadata": {},
   "outputs": [
    {
     "data": {
      "text/plain": [
       "array([[1, 2],\n",
       "       [3, 4],\n",
       "       [5, 6]])"
      ]
     },
     "execution_count": 30,
     "metadata": {},
     "output_type": "execute_result"
    }
   ],
   "source": [
    "a = np.array([[1,2], [3,4], [5,6]])\n",
    "a"
   ]
  },
  {
   "cell_type": "code",
   "execution_count": 31,
   "id": "0b3a2d26",
   "metadata": {},
   "outputs": [
    {
     "data": {
      "text/plain": [
       "4"
      ]
     },
     "execution_count": 31,
     "metadata": {},
     "output_type": "execute_result"
    }
   ],
   "source": [
    "a[1,1]"
   ]
  },
  {
   "cell_type": "code",
   "execution_count": 32,
   "id": "d17d4105",
   "metadata": {},
   "outputs": [
    {
     "name": "stdout",
     "output_type": "stream",
     "text": [
      "[2 3 6]\n"
     ]
    }
   ],
   "source": [
    "# Get multiple elements\n",
    "print(np.array([a[0, 1], a[1, 0], a[2, 1]])) # [2, 3, 6]"
   ]
  },
  {
   "cell_type": "code",
   "execution_count": 33,
   "id": "00c44b5f",
   "metadata": {},
   "outputs": [
    {
     "name": "stdout",
     "output_type": "stream",
     "text": [
      "[2 3 6]\n"
     ]
    }
   ],
   "source": [
    "# Same way but zipping up the numbers you're after (just match the index of each argument above for a shortcut)\n",
    "print(a[[0, 1, 2], [1, 0, 1]])"
   ]
  },
  {
   "cell_type": "code",
   "execution_count": null,
   "id": "ed02fe0b",
   "metadata": {},
   "outputs": [],
   "source": []
  }
 ],
 "metadata": {
  "kernelspec": {
   "display_name": "Python 3 (ipykernel)",
   "language": "python",
   "name": "python3"
  },
  "language_info": {
   "codemirror_mode": {
    "name": "ipython",
    "version": 3
   },
   "file_extension": ".py",
   "mimetype": "text/x-python",
   "name": "python",
   "nbconvert_exporter": "python",
   "pygments_lexer": "ipython3",
   "version": "3.9.12"
  }
 },
 "nbformat": 4,
 "nbformat_minor": 5
}
