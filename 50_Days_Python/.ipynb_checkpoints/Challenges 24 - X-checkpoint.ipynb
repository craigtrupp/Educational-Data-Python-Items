{
 "cells": [
  {
   "cell_type": "markdown",
   "id": "12fb9ec7",
   "metadata": {},
   "source": [
    "### **Day 24: Average Calories**\n",
    "* Write a function called `average_calories` that calculates the average calorie intake of a user. \n",
    "* The function should ask the user to input their calorie intake for any number of days, and once they hit \"done,\" it should calculate and return the average intake."
   ]
  },
  {
   "cell_type": "code",
   "execution_count": 1,
   "id": "2de458b9",
   "metadata": {},
   "outputs": [],
   "source": [
    "def average_calories():\n",
    "    calorie_intake = []\n",
    "    while True:\n",
    "        try:\n",
    "            cal_value = float(input('Please enter your caloric intake numeric value : '))\n",
    "            calorie_intake.append(cal_value)\n",
    "            try:\n",
    "                more_values = input(\"More values? : 'y' or 'n'\").lower()\n",
    "            except ValueError:\n",
    "                return f'Average caloric intake from available data : {sum(calorie_intake)/len(calorie_intake)}'\n",
    "            if more_values == 'y':\n",
    "                continue\n",
    "            else:\n",
    "                return f'Average caloric intake from available data : {sum(calorie_intake)/len(calorie_intake)}'\n",
    "        except ValueError as e:\n",
    "            print('Please enter a valid number')\n",
    "            continue"
   ]
  },
  {
   "cell_type": "code",
   "execution_count": 2,
   "id": "190bda34",
   "metadata": {},
   "outputs": [
    {
     "name": "stdout",
     "output_type": "stream",
     "text": [
      "Please enter your caloric intake numeric value : 500\n",
      "More values? : 'y' or 'n'exit\n"
     ]
    },
    {
     "data": {
      "text/plain": [
       "'Average caloric intake from available data : 500.0'"
      ]
     },
     "execution_count": 2,
     "metadata": {},
     "output_type": "execute_result"
    }
   ],
   "source": [
    "average_calories()"
   ]
  },
  {
   "cell_type": "code",
   "execution_count": 6,
   "id": "fb7d07e0",
   "metadata": {},
   "outputs": [
    {
     "name": "stdout",
     "output_type": "stream",
     "text": [
      "Please enter your caloric intake numeric value : yes\n",
      "Please enter a valid number\n",
      "Please enter your caloric intake numeric value : yes\n",
      "Please enter a valid number\n",
      "Please enter your caloric intake numeric value : 2800\n",
      "More values? : 'y' or 'n'y\n",
      "Please enter your caloric intake numeric value : 2900\n",
      "More values? : 'y' or 'n'y\n",
      "Please enter your caloric intake numeric value : 3100\n",
      "More values? : 'y' or 'n'y\n",
      "Please enter your caloric intake numeric value : 4000\n",
      "More values? : 'y' or 'n'n\n"
     ]
    },
    {
     "data": {
      "text/plain": [
       "'Average caloric intake from available data : 3200.0'"
      ]
     },
     "execution_count": 6,
     "metadata": {},
     "output_type": "execute_result"
    }
   ],
   "source": [
    "average_calories()"
   ]
  },
  {
   "cell_type": "markdown",
   "id": "8e824220",
   "metadata": {},
   "source": [
    "* The function below would be ... an endless loop if one numeric value is never entered\n",
    "* Nested `try/except` block would execute if valid intake is continually given as shown above\n",
    "    - If on more input values you don't get a valid boolean (more or less) it will simply executed what values it has and return an average\n",
    "    - `more_values` variable available in scope from successful try return which will re-enter the true while coniditon for more user_input"
   ]
  },
  {
   "cell_type": "markdown",
   "id": "e79088c1",
   "metadata": {},
   "source": [
    "`Extra Challenge:`\n",
    "\n",
    "* Create a Nested List \n",
    "* Write a function called `nested_lists` that takes any number of lists and creates a 2-dimensional nested list of lists. \n",
    "* For example, if you pass the following lists as arguments: [1, 2, 3, 5], [1, 2, 3, 4], [1, 3, 4, 5]. Your code should return: [[1, 2, 3, 5], [1, 2, 3, 4], [1, 3, 4, 5]]\n"
   ]
  },
  {
   "cell_type": "code",
   "execution_count": 4,
   "id": "015704a8",
   "metadata": {},
   "outputs": [
    {
     "data": {
      "text/plain": [
       "[[1, 2, 3, 5], [1, 2, 3, 4], [1, 3, 4, 5]]"
      ]
     },
     "execution_count": 4,
     "metadata": {},
     "output_type": "execute_result"
    }
   ],
   "source": [
    "def nested_list(*args):\n",
    "    return [list for list in args]\n",
    "\n",
    "nested_list([1,2,3,5], [1,2,3,4], [1,3,4,5])"
   ]
  },
  {
   "cell_type": "markdown",
   "id": "73689bd7",
   "metadata": {},
   "source": [
    "### **Day 25: All the Same**\n",
    "\n",
    "* Write a function called `all_the_same` that takes one argument, a string, a list, or a tuple, and checks if all the elements are the same. If the elements are the same, the function should return True. If not, it should return False. \n",
    "* For example, [\"Mary\", \"Mary\", \"Mary\"] should return True."
   ]
  },
  {
   "cell_type": "code",
   "execution_count": 10,
   "id": "82aa3577",
   "metadata": {},
   "outputs": [],
   "source": [
    "def all_the_same(test_arg):\n",
    "    # isolate first character in the argument\n",
    "    if len(test_arg) <= 1:\n",
    "        return 'Not long enought to check'\n",
    "    else:\n",
    "        first_item = test_arg[0]\n",
    "        for subsequent_items in range(1, len(test_arg)):\n",
    "            if test_arg[subsequent_items] != first_item:\n",
    "                return False\n",
    "            else:\n",
    "                continue\n",
    "    return True"
   ]
  },
  {
   "cell_type": "code",
   "execution_count": 11,
   "id": "5e2bab0e",
   "metadata": {},
   "outputs": [
    {
     "data": {
      "text/plain": [
       "True"
      ]
     },
     "execution_count": 11,
     "metadata": {},
     "output_type": "execute_result"
    }
   ],
   "source": [
    "all_the_same(['Mary', 'Mary', 'Mary'])"
   ]
  },
  {
   "cell_type": "code",
   "execution_count": 12,
   "id": "15bf3e63",
   "metadata": {},
   "outputs": [
    {
     "data": {
      "text/plain": [
       "False"
      ]
     },
     "execution_count": 12,
     "metadata": {},
     "output_type": "execute_result"
    }
   ],
   "source": [
    "all_the_same(['Mary', 'Mary', 'mary', 'Mary'])"
   ]
  },
  {
   "cell_type": "markdown",
   "id": "c70e9c62",
   "metadata": {},
   "source": [
    "#### `Extra Challenge: Reverse a String` \n",
    "* str1 = \"the love is real\" \n",
    "* Write a function called `read_backwards` that takes a string as an argument and reverses it. The string above, for example, should return: \"real is love the.\""
   ]
  },
  {
   "cell_type": "code",
   "execution_count": 17,
   "id": "21e2dbc0",
   "metadata": {},
   "outputs": [],
   "source": [
    "def read_backwards(sample_str):\n",
    "    # split (default is white space), reverse the elements in the list, join and return\n",
    "    return ' '.join(sample_str.split()[::-1])"
   ]
  },
  {
   "cell_type": "code",
   "execution_count": 18,
   "id": "592f0498",
   "metadata": {},
   "outputs": [
    {
     "data": {
      "text/plain": [
       "'real is love the'"
      ]
     },
     "execution_count": 18,
     "metadata": {},
     "output_type": "execute_result"
    }
   ],
   "source": [
    "read_backwards('the love is real')"
   ]
  },
  {
   "cell_type": "markdown",
   "id": "e1c6d39a",
   "metadata": {},
   "source": [
    "### **Day 26: Sort Words**\n",
    "* Write a function called `sort_words` that takes a string of words as an argument, removes the whitespaces, and returns a list of letters sorted in alphabetical order. \n",
    "* Letters will be separated by commas. \n",
    "* All letters should appear once in the list. \n",
    "    - This means that you sort and remove duplicates. \n",
    "* For example, \"love life\" should return as ['e, f, i, l, o, v'].\n"
   ]
  },
  {
   "cell_type": "code",
   "execution_count": 39,
   "id": "879c047f",
   "metadata": {},
   "outputs": [],
   "source": [
    "def sort_words(str_words):\n",
    "    import re\n",
    "    letters = re.findall('[a-z]', str_words.lower())\n",
    "    letters_no_dupes = list(set(letters))\n",
    "    sorted_return = sorted(letters_no_dupes)\n",
    "    print(f'Original string with potential duplicates : {letters}')\n",
    "    print(f'String with no dupes : {letters_no_dupes}')\n",
    "    return sorted_return"
   ]
  },
  {
   "cell_type": "code",
   "execution_count": 40,
   "id": "23a2c3be",
   "metadata": {},
   "outputs": [
    {
     "name": "stdout",
     "output_type": "stream",
     "text": [
      "Original string with potential duplicates : ['l', 'o', 'v', 'e', 'l', 'i', 'f', 'e']\n",
      "String with no dupes : ['o', 'f', 'v', 'i', 'l', 'e']\n"
     ]
    },
    {
     "data": {
      "text/plain": [
       "['e', 'f', 'i', 'l', 'o', 'v']"
      ]
     },
     "execution_count": 40,
     "metadata": {},
     "output_type": "execute_result"
    }
   ],
   "source": [
    "sort_words('love life')"
   ]
  },
  {
   "cell_type": "markdown",
   "id": "1da66b26",
   "metadata": {},
   "source": [
    "#### `Extra Challenge: Length of Words`\n",
    "```python\n",
    "s = 'Hi my name is Richard'\n",
    "```\n",
    "* Write a function called `string_length` that takes a string of words (words and spaces) as argument. \n",
    "* This function should return the length of all the words in the string. \n",
    "* Return the results in the form of a dictionary. \n",
    "    - The string above should return:{'Hi': 2, 'my': 2, 'name': 4, 'is': 2, 'Richard': 7}"
   ]
  },
  {
   "cell_type": "code",
   "execution_count": 48,
   "id": "0e05b11c",
   "metadata": {},
   "outputs": [],
   "source": [
    "s = 'Hi, my name is Richard,'\n",
    "def string_length(str_words):\n",
    "    import re\n",
    "    words = re.findall('\\w+', str_words)\n",
    "    return {x:len(x) for x in words}"
   ]
  },
  {
   "cell_type": "code",
   "execution_count": 49,
   "id": "96316a04",
   "metadata": {},
   "outputs": [
    {
     "data": {
      "text/plain": [
       "{'Hi': 2, 'my': 2, 'name': 4, 'is': 2, 'Richard': 7}"
      ]
     },
     "execution_count": 49,
     "metadata": {},
     "output_type": "execute_result"
    }
   ],
   "source": [
    "string_length(s)"
   ]
  },
  {
   "cell_type": "markdown",
   "id": "ef7018d4",
   "metadata": {},
   "source": [
    "### **Day 27: Unique Numbers** \n",
    "\n",
    "* Write a function called `unique_numbers` that takes a list of numbers as an argument. \n",
    "* Your function is going to find all the unique numbers in the list. \n",
    "* It will then sum up the unique numbers. \n",
    "* You will calculate the difference between the sum of all the numbers in the original list and the sum of the unique numbers in the list. \n",
    "* If the difference is an even number, your function should return the original list. \n",
    "* If the difference is an odd number, your function should return a list with unique numbers only. \n",
    "* For example [1, 2, 4, 5, 6, 7, 8, 8] should return [1, 2, 4, 5, 6, 7, 8, 8].\n"
   ]
  },
  {
   "cell_type": "code",
   "execution_count": 58,
   "id": "32b5363a",
   "metadata": {},
   "outputs": [],
   "source": [
    "def unique_numbers(lst_nums):\n",
    "    sum_orig_list = sum(lst_nums)\n",
    "    sum_unique_lst_numbs = sum(list(set(lst_nums)))\n",
    "    # using parentheses allowed to the if to evaluate\n",
    "    if (sum_orig_list - sum_unique_lst_numbs) % 2 == 0:\n",
    "        return lst_nums\n",
    "    else:\n",
    "        return list(set(lst_nums))\n",
    "        "
   ]
  },
  {
   "cell_type": "code",
   "execution_count": 59,
   "id": "dcc5f598",
   "metadata": {},
   "outputs": [
    {
     "data": {
      "text/plain": [
       "[1, 2, 4, 5, 6, 7, 8, 8]"
      ]
     },
     "execution_count": 59,
     "metadata": {},
     "output_type": "execute_result"
    }
   ],
   "source": [
    "unique_numbers([1,2,4,5,6,7,8,8])"
   ]
  },
  {
   "cell_type": "code",
   "execution_count": 60,
   "id": "d85c2023",
   "metadata": {},
   "outputs": [
    {
     "data": {
      "text/plain": [
       "[1, 3, 9]"
      ]
     },
     "execution_count": 60,
     "metadata": {},
     "output_type": "execute_result"
    }
   ],
   "source": [
    "unique_numbers([1, 3, 3, 9]) # list would be 16 and 13 for respective sum (3) = else clause for unique"
   ]
  },
  {
   "cell_type": "markdown",
   "id": "7d973000",
   "metadata": {},
   "source": [
    "#### `Extra Challenge: Difference of Two Lists`\n",
    "* Write a function called `difference` that takes two lists as arguments. \n",
    "* This function should return all the elements that are in `list a` but not in `list b` \n",
    "* and all the elements in `list b` but not in `list a`\n",
    "* For example: list1 = [1, 2, 4, 5, 6] list2 = [1, 2, 5, 7, 9] should return: [4, 6, 7, 9]\n",
    "\n"
   ]
  },
  {
   "cell_type": "code",
   "execution_count": 70,
   "id": "e313b1c3",
   "metadata": {},
   "outputs": [],
   "source": [
    "def difference(lst_a, lst_b):\n",
    "    set_a, set_b = set(lst_a), set(lst_b)\n",
    "    print(set_a, set_b)\n",
    "    set_a_unq = set_a.difference(set_b)\n",
    "    set_b_unq = set_b.difference(set_a)\n",
    "    # we can iterate and use the **extend** list method to return one set\n",
    "    combined = [x for x in set_a_unq] # None type (need)\n",
    "    combined.extend([x for x in set_b_unq]) # have to mutate after for values to extend (mutates object in place)\n",
    "    return set_a_unq, set_b_unq, combined"
   ]
  },
  {
   "cell_type": "code",
   "execution_count": 71,
   "id": "c65ddae4",
   "metadata": {},
   "outputs": [
    {
     "name": "stdout",
     "output_type": "stream",
     "text": [
      "{1, 2, 4, 5, 6} {1, 2, 5, 7, 9}\n"
     ]
    },
    {
     "data": {
      "text/plain": [
       "({4, 6}, {7, 9}, [4, 6, 9, 7])"
      ]
     },
     "execution_count": 71,
     "metadata": {},
     "output_type": "execute_result"
    }
   ],
   "source": [
    "difference([1,2,4,5,6], [1,2,5,7,9])"
   ]
  },
  {
   "cell_type": "code",
   "execution_count": null,
   "id": "188842b2",
   "metadata": {},
   "outputs": [],
   "source": []
  }
 ],
 "metadata": {
  "kernelspec": {
   "display_name": "Python 3 (ipykernel)",
   "language": "python",
   "name": "python3"
  },
  "language_info": {
   "codemirror_mode": {
    "name": "ipython",
    "version": 3
   },
   "file_extension": ".py",
   "mimetype": "text/x-python",
   "name": "python",
   "nbconvert_exporter": "python",
   "pygments_lexer": "ipython3",
   "version": "3.9.12"
  }
 },
 "nbformat": 4,
 "nbformat_minor": 5
}
