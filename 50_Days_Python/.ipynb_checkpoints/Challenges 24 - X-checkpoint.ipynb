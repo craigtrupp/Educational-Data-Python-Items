{
 "cells": [
  {
   "cell_type": "markdown",
   "id": "12fb9ec7",
   "metadata": {},
   "source": [
    "### **Day 24: Average Calories**\n",
    "* Write a function called `average_calories` that calculates the average calorie intake of a user. \n",
    "* The function should ask the user to input their calorie intake for any number of days, and once they hit \"done,\" it should calculate and return the average intake."
   ]
  },
  {
   "cell_type": "code",
   "execution_count": 1,
   "id": "2de458b9",
   "metadata": {},
   "outputs": [],
   "source": [
    "def average_calories():\n",
    "    calorie_intake = []\n",
    "    while True:\n",
    "        try:\n",
    "            cal_value = float(input('Please enter your caloric intake numeric value : '))\n",
    "            calorie_intake.append(cal_value)\n",
    "            try:\n",
    "                more_values = input(\"More values? : 'y' or 'n'\").lower()\n",
    "            except ValueError:\n",
    "                return f'Average caloric intake from available data : {sum(calorie_intake)/len(calorie_intake)}'\n",
    "            if more_values == 'y':\n",
    "                continue\n",
    "            else:\n",
    "                return f'Average caloric intake from available data : {sum(calorie_intake)/len(calorie_intake)}'\n",
    "        except ValueError as e:\n",
    "            print('Please enter a valid number')\n",
    "            continue"
   ]
  },
  {
   "cell_type": "code",
   "execution_count": 2,
   "id": "190bda34",
   "metadata": {},
   "outputs": [
    {
     "name": "stdout",
     "output_type": "stream",
     "text": [
      "Please enter your caloric intake numeric value : 500\n",
      "More values? : 'y' or 'n'exit\n"
     ]
    },
    {
     "data": {
      "text/plain": [
       "'Average caloric intake from available data : 500.0'"
      ]
     },
     "execution_count": 2,
     "metadata": {},
     "output_type": "execute_result"
    }
   ],
   "source": [
    "average_calories()"
   ]
  },
  {
   "cell_type": "code",
   "execution_count": 6,
   "id": "fb7d07e0",
   "metadata": {},
   "outputs": [
    {
     "name": "stdout",
     "output_type": "stream",
     "text": [
      "Please enter your caloric intake numeric value : yes\n",
      "Please enter a valid number\n",
      "Please enter your caloric intake numeric value : yes\n",
      "Please enter a valid number\n",
      "Please enter your caloric intake numeric value : 2800\n",
      "More values? : 'y' or 'n'y\n",
      "Please enter your caloric intake numeric value : 2900\n",
      "More values? : 'y' or 'n'y\n",
      "Please enter your caloric intake numeric value : 3100\n",
      "More values? : 'y' or 'n'y\n",
      "Please enter your caloric intake numeric value : 4000\n",
      "More values? : 'y' or 'n'n\n"
     ]
    },
    {
     "data": {
      "text/plain": [
       "'Average caloric intake from available data : 3200.0'"
      ]
     },
     "execution_count": 6,
     "metadata": {},
     "output_type": "execute_result"
    }
   ],
   "source": [
    "average_calories()"
   ]
  },
  {
   "cell_type": "markdown",
   "id": "8e824220",
   "metadata": {},
   "source": [
    "* The function below would be ... an endless loop if one numeric value is never entered\n",
    "* Nested `try/except` block would execute if valid intake is continually given as shown above\n",
    "    - If on more input values you don't get a valid boolean (more or less) it will simply executed what values it has and return an average\n",
    "    - `more_values` variable available in scope from successful try return which will re-enter the true while coniditon for more user_input"
   ]
  },
  {
   "cell_type": "markdown",
   "id": "e79088c1",
   "metadata": {},
   "source": [
    "`Extra Challenge:`\n",
    "\n",
    "* Create a Nested List \n",
    "* Write a function called `nested_lists` that takes any number of lists and creates a 2-dimensional nested list of lists. \n",
    "* For example, if you pass the following lists as arguments: [1, 2, 3, 5], [1, 2, 3, 4], [1, 3, 4, 5]. Your code should return: [[1, 2, 3, 5], [1, 2, 3, 4], [1, 3, 4, 5]]\n"
   ]
  },
  {
   "cell_type": "code",
   "execution_count": 4,
   "id": "015704a8",
   "metadata": {},
   "outputs": [
    {
     "data": {
      "text/plain": [
       "[[1, 2, 3, 5], [1, 2, 3, 4], [1, 3, 4, 5]]"
      ]
     },
     "execution_count": 4,
     "metadata": {},
     "output_type": "execute_result"
    }
   ],
   "source": [
    "def nested_list(*args):\n",
    "    return [list for list in args]\n",
    "\n",
    "nested_list([1,2,3,5], [1,2,3,4], [1,3,4,5])"
   ]
  },
  {
   "cell_type": "markdown",
   "id": "73689bd7",
   "metadata": {},
   "source": [
    "### **Day 25: All the Same**\n",
    "\n",
    "* Write a function called `all_the_same` that takes one argument, a string, a list, or a tuple, and checks if all the elements are the same. If the elements are the same, the function should return True. If not, it should return False. \n",
    "* For example, [\"Mary\", \"Mary\", \"Mary\"] should return True."
   ]
  },
  {
   "cell_type": "code",
   "execution_count": 10,
   "id": "82aa3577",
   "metadata": {},
   "outputs": [],
   "source": [
    "def all_the_same(test_arg):\n",
    "    # isolate first character in the argument\n",
    "    if len(test_arg) <= 1:\n",
    "        return 'Not long enought to check'\n",
    "    else:\n",
    "        first_item = test_arg[0]\n",
    "        for subsequent_items in range(1, len(test_arg)):\n",
    "            if test_arg[subsequent_items] != first_item:\n",
    "                return False\n",
    "            else:\n",
    "                continue\n",
    "    return True"
   ]
  },
  {
   "cell_type": "code",
   "execution_count": 11,
   "id": "5e2bab0e",
   "metadata": {},
   "outputs": [
    {
     "data": {
      "text/plain": [
       "True"
      ]
     },
     "execution_count": 11,
     "metadata": {},
     "output_type": "execute_result"
    }
   ],
   "source": [
    "all_the_same(['Mary', 'Mary', 'Mary'])"
   ]
  },
  {
   "cell_type": "code",
   "execution_count": 12,
   "id": "15bf3e63",
   "metadata": {},
   "outputs": [
    {
     "data": {
      "text/plain": [
       "False"
      ]
     },
     "execution_count": 12,
     "metadata": {},
     "output_type": "execute_result"
    }
   ],
   "source": [
    "all_the_same(['Mary', 'Mary', 'mary', 'Mary'])"
   ]
  },
  {
   "cell_type": "markdown",
   "id": "c70e9c62",
   "metadata": {},
   "source": [
    "#### `Extra Challenge: Reverse a String` \n",
    "* str1 = \"the love is real\" \n",
    "* Write a function called `read_backwards` that takes a string as an argument and reverses it. The string above, for example, should return: \"real is love the.\""
   ]
  },
  {
   "cell_type": "code",
   "execution_count": 17,
   "id": "21e2dbc0",
   "metadata": {},
   "outputs": [],
   "source": [
    "def read_backwards(sample_str):\n",
    "    # split (default is white space), reverse the elements in the list, join and return\n",
    "    return ' '.join(sample_str.split()[::-1])"
   ]
  },
  {
   "cell_type": "code",
   "execution_count": 18,
   "id": "592f0498",
   "metadata": {},
   "outputs": [
    {
     "data": {
      "text/plain": [
       "'real is love the'"
      ]
     },
     "execution_count": 18,
     "metadata": {},
     "output_type": "execute_result"
    }
   ],
   "source": [
    "read_backwards('the love is real')"
   ]
  }
 ],
 "metadata": {
  "kernelspec": {
   "display_name": "Python 3 (ipykernel)",
   "language": "python",
   "name": "python3"
  },
  "language_info": {
   "codemirror_mode": {
    "name": "ipython",
    "version": 3
   },
   "file_extension": ".py",
   "mimetype": "text/x-python",
   "name": "python",
   "nbconvert_exporter": "python",
   "pygments_lexer": "ipython3",
   "version": "3.9.12"
  }
 },
 "nbformat": 4,
 "nbformat_minor": 5
}
