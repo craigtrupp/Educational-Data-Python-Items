{
 "cells": [
  {
   "cell_type": "markdown",
   "id": "b2397677",
   "metadata": {},
   "source": [
    "## 50 Days of Python\n",
    "* Using Brett Alexander's Book to keep plugging away with `Python`\n",
    "* Bennett Alexander, Benjamin. 50 Days of Python : A Challenge a Day.: The Ultimate Challenges Book for Python Beginners (p. 10). Kindle Edition. "
   ]
  },
  {
   "cell_type": "markdown",
   "id": "bb6c88f9",
   "metadata": {},
   "source": [
    "### **Day 1**\n",
    "* Write a function called `divide_or_square` that takes one argument (a number) and returns the square root of the number if it is divisible by 5, or its remainder if it is not divisible by 5. \n",
    "* For example, if you pass 10 as an argument, then your function should return 3.16 as the square root.\n",
    "* `Longest_value`\n",
    "    * Write a function called longest_value that takes a dictionary as an argument and returns the first longest value of the dictionary. For example, the following dictionary should return \"apple\" as the longest value. fruits = {'fruit': 'apple', 'color': 'green'}\n",
    "\n",
    "Bennett Alexander, Benjamin. 50 Days of Python : A Challenge a Day.: The Ultimate Challenges Book for Python Beginners (p. 10). Kindle Edition. "
   ]
  },
  {
   "cell_type": "code",
   "execution_count": 7,
   "id": "6f8b64dd",
   "metadata": {},
   "outputs": [],
   "source": [
    "import numpy as np\n",
    "def divide_or_square(number):\n",
    "    return round(np.sqrt(number), 3) if number % 5 == 0 else number % 5"
   ]
  },
  {
   "cell_type": "code",
   "execution_count": 9,
   "id": "3aefa3e2",
   "metadata": {},
   "outputs": [
    {
     "name": "stdout",
     "output_type": "stream",
     "text": [
      "3.162\n",
      "3.873\n",
      "2\n"
     ]
    }
   ],
   "source": [
    "print(divide_or_square(10)) # should be square root or 3.16\n",
    "print(divide_or_square(15)) # shoulld be square root 3.87\n",
    "print(divide_or_square(7))"
   ]
  },
  {
   "cell_type": "code",
   "execution_count": 21,
   "id": "af82a28b",
   "metadata": {},
   "outputs": [],
   "source": [
    "def longest_value(sample_dictionary):\n",
    "    # we can use the key as the value with which max is judging by (similar for a sort )\n",
    "    return sample_dictionary[max(sample_dictionary, key=lambda k: len(sample_dictionary[k]))]"
   ]
  },
  {
   "cell_type": "code",
   "execution_count": 22,
   "id": "ca1e3df3",
   "metadata": {},
   "outputs": [
    {
     "name": "stdout",
     "output_type": "stream",
     "text": [
      "Whole Foods\n"
     ]
    }
   ],
   "source": [
    "print(longest_value({'fruit':'apple', 'color':'green', 'grocery': 'Whole Foods'}))"
   ]
  },
  {
   "cell_type": "code",
   "execution_count": 25,
   "id": "fa4d8bd4",
   "metadata": {},
   "outputs": [],
   "source": [
    "def longest_value_2(sample_dict):\n",
    "    longest = max(sample_dict.values(), key=len)\n",
    "    return longest"
   ]
  },
  {
   "cell_type": "code",
   "execution_count": 26,
   "id": "995f2f37",
   "metadata": {},
   "outputs": [
    {
     "name": "stdout",
     "output_type": "stream",
     "text": [
      "Whole Foods\n"
     ]
    }
   ],
   "source": [
    "print(longest_value_2({'fruit':'apple', 'color':'green', 'grocery': 'Whole Foods'}))"
   ]
  },
  {
   "cell_type": "markdown",
   "id": "e7e55e07",
   "metadata": {},
   "source": [
    "### **Day 2: Strings to Integers**\n",
    "* Write a function called `convert_add` that takes a list of strings as an argument, converts them to integers, and sums the list. For example, [\"1,\", \"3\", \"5\"] should be converted to [1, 3, 5] and summed to 9.\n",
    "* Write a function called `check_duplicates` that takes a list of strings as an argument. The function should check if the list has any duplicates. If there are duplicates, the function should return the duplicates. If there are no duplicates, the function should return \"no duplicates.\" For example, the list of fruits below should return \"apple\" as a duplicate, and the list of names should return \"no duplicates.\" `fruits = ['apple', 'orange', 'banana', 'apple']` `names = ['Yoda', 'Moses', 'Joshua', 'Mark']`"
   ]
  },
  {
   "cell_type": "code",
   "execution_count": 28,
   "id": "f56c8581",
   "metadata": {},
   "outputs": [],
   "source": [
    "def convert_add(lst_strings):\n",
    "    return sum([int(x) for x in lst_strings])"
   ]
  },
  {
   "cell_type": "code",
   "execution_count": 29,
   "id": "c9999e4f",
   "metadata": {},
   "outputs": [
    {
     "name": "stdout",
     "output_type": "stream",
     "text": [
      "9\n"
     ]
    }
   ],
   "source": [
    "print(convert_add(['1', '3', '5']))"
   ]
  },
  {
   "cell_type": "code",
   "execution_count": 30,
   "id": "1a1a285b",
   "metadata": {},
   "outputs": [],
   "source": [
    "import collections"
   ]
  },
  {
   "cell_type": "code",
   "execution_count": 37,
   "id": "62954427",
   "metadata": {},
   "outputs": [],
   "source": [
    "def check_duplicates(lst_strings):\n",
    "    # Counter({'apple': 2, 'orange': 1, 'banana': 1})) below returns count of each list item\n",
    "    counter_obj = collections.Counter(lst_strings)\n",
    "    counter_obj_com = [item for item, count in counter_obj.items()]\n",
    "    return (counter_obj_com, counter_obj, counter_obj.items())"
   ]
  },
  {
   "cell_type": "code",
   "execution_count": 38,
   "id": "c5e04d50",
   "metadata": {},
   "outputs": [
    {
     "name": "stdout",
     "output_type": "stream",
     "text": [
      "(['apple', 'orange', 'banana'], Counter({'apple': 2, 'orange': 1, 'banana': 1}), dict_items([('apple', 2), ('orange', 1), ('banana', 1)]))\n"
     ]
    }
   ],
   "source": [
    "print(check_duplicates(['apple', 'orange', 'banana', 'apple']))"
   ]
  },
  {
   "cell_type": "code",
   "execution_count": 44,
   "id": "80366ac6",
   "metadata": {},
   "outputs": [],
   "source": [
    "def check_duplicates_rtrn(lst_strings):\n",
    "    # Counter({'apple': 2, 'orange': 1, 'banana': 1})) below returns count of each list item\n",
    "    counter_obj = collections.Counter(lst_strings)\n",
    "    #  dict_items([('apple', 2), ('orange', 1), ('banana', 1)]) - counter_obj.items() return\n",
    "    counter_obj_repeating = [item for item, count in counter_obj.items() if count > 1 ]\n",
    "    return counter_obj_repeating if len(counter_obj_repeating) >= 1 else 'no duplicates'"
   ]
  },
  {
   "cell_type": "code",
   "execution_count": 45,
   "id": "d35df020",
   "metadata": {},
   "outputs": [
    {
     "name": "stdout",
     "output_type": "stream",
     "text": [
      "['apple']\n"
     ]
    }
   ],
   "source": [
    "print(check_duplicates_rtrn(['apple', 'orange', 'banana', 'apple']))"
   ]
  },
  {
   "cell_type": "code",
   "execution_count": 46,
   "id": "7cbe6234",
   "metadata": {},
   "outputs": [
    {
     "name": "stdout",
     "output_type": "stream",
     "text": [
      "no duplicates\n"
     ]
    }
   ],
   "source": [
    "print(check_duplicates_rtrn(['Yoda', 'Moses', 'Joshua', 'Mark']))"
   ]
  },
  {
   "cell_type": "code",
   "execution_count": null,
   "id": "324cd576",
   "metadata": {},
   "outputs": [],
   "source": []
  }
 ],
 "metadata": {
  "kernelspec": {
   "display_name": "Python 3 (ipykernel)",
   "language": "python",
   "name": "python3"
  },
  "language_info": {
   "codemirror_mode": {
    "name": "ipython",
    "version": 3
   },
   "file_extension": ".py",
   "mimetype": "text/x-python",
   "name": "python",
   "nbconvert_exporter": "python",
   "pygments_lexer": "ipython3",
   "version": "3.9.12"
  }
 },
 "nbformat": 4,
 "nbformat_minor": 5
}
