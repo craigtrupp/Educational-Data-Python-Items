{
 "cells": [
  {
   "cell_type": "markdown",
   "id": "ea39a501",
   "metadata": {},
   "source": [
    "### ``Day 46: Create a DataFrame`` \n",
    "* Create a DataFrame using pandas. You are going to create a code to put the following into a DataFrame. You will use the information in the table below. Basically, you are going to recreate this table using pandas. Use the information in the table to recreate the table.\n",
    "\n",
    "|year|title|genre|\n",
    "|----|----|----|\n",
    "|2009|Brothers|Drama|\n",
    "|2002|Spider-Man|Sci-Fi|\n",
    "|2009|WatchMen|Drama|\n",
    "|2010|Inception|Sci-Fi|\n",
    "|2009|Avatar|Fantasy|"
   ]
  },
  {
   "cell_type": "code",
   "execution_count": 1,
   "id": "7a9bb524",
   "metadata": {},
   "outputs": [],
   "source": [
    "import pandas as pd"
   ]
  },
  {
   "cell_type": "code",
   "execution_count": 2,
   "id": "3d0938b9",
   "metadata": {},
   "outputs": [
    {
     "data": {
      "text/html": [
       "<div>\n",
       "<style scoped>\n",
       "    .dataframe tbody tr th:only-of-type {\n",
       "        vertical-align: middle;\n",
       "    }\n",
       "\n",
       "    .dataframe tbody tr th {\n",
       "        vertical-align: top;\n",
       "    }\n",
       "\n",
       "    .dataframe thead th {\n",
       "        text-align: right;\n",
       "    }\n",
       "</style>\n",
       "<table border=\"1\" class=\"dataframe\">\n",
       "  <thead>\n",
       "    <tr style=\"text-align: right;\">\n",
       "      <th></th>\n",
       "      <th>year</th>\n",
       "      <th>title</th>\n",
       "      <th>genre</th>\n",
       "    </tr>\n",
       "  </thead>\n",
       "  <tbody>\n",
       "    <tr>\n",
       "      <th>0</th>\n",
       "      <td>2009</td>\n",
       "      <td>Brothers</td>\n",
       "      <td>Drama</td>\n",
       "    </tr>\n",
       "    <tr>\n",
       "      <th>1</th>\n",
       "      <td>2002</td>\n",
       "      <td>Spider-Man</td>\n",
       "      <td>Sci-Fi</td>\n",
       "    </tr>\n",
       "    <tr>\n",
       "      <th>2</th>\n",
       "      <td>2009</td>\n",
       "      <td>WatchMen</td>\n",
       "      <td>Drama</td>\n",
       "    </tr>\n",
       "    <tr>\n",
       "      <th>3</th>\n",
       "      <td>2010</td>\n",
       "      <td>Inception</td>\n",
       "      <td>Sci-Fi</td>\n",
       "    </tr>\n",
       "    <tr>\n",
       "      <th>4</th>\n",
       "      <td>2009</td>\n",
       "      <td>Avatar</td>\n",
       "      <td>Fantasy</td>\n",
       "    </tr>\n",
       "  </tbody>\n",
       "</table>\n",
       "</div>"
      ],
      "text/plain": [
       "   year       title    genre\n",
       "0  2009    Brothers    Drama\n",
       "1  2002  Spider-Man   Sci-Fi\n",
       "2  2009    WatchMen    Drama\n",
       "3  2010   Inception   Sci-Fi\n",
       "4  2009      Avatar  Fantasy"
      ]
     },
     "execution_count": 2,
     "metadata": {},
     "output_type": "execute_result"
    }
   ],
   "source": [
    "movies = pd.DataFrame({\n",
    "    'year': [2009, 2002, 2009, 2010, 2009],\n",
    "    'title': ['Brothers', 'Spider-Man', 'WatchMen', 'Inception', 'Avatar'],\n",
    "    'genre': ['Drama', 'Sci-Fi', 'Drama', 'Sci-Fi', 'Fantasy']\n",
    "})\n",
    "movies"
   ]
  },
  {
   "cell_type": "code",
   "execution_count": null,
   "id": "561d4658",
   "metadata": {},
   "outputs": [],
   "source": []
  }
 ],
 "metadata": {
  "kernelspec": {
   "display_name": "Python 3 (ipykernel)",
   "language": "python",
   "name": "python3"
  },
  "language_info": {
   "codemirror_mode": {
    "name": "ipython",
    "version": 3
   },
   "file_extension": ".py",
   "mimetype": "text/x-python",
   "name": "python",
   "nbconvert_exporter": "python",
   "pygments_lexer": "ipython3",
   "version": "3.9.12"
  }
 },
 "nbformat": 4,
 "nbformat_minor": 5
}
