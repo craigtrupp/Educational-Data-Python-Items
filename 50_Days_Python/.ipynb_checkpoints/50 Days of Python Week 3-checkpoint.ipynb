{
 "cells": [
  {
   "cell_type": "markdown",
   "id": "e2a322ff",
   "metadata": {},
   "source": [
    "### 50 Days of Python Week 3 (Start At Question 17)"
   ]
  },
  {
   "cell_type": "markdown",
   "id": "865105d4",
   "metadata": {},
   "source": [
    "### **Day 17: User Name Generator**\n",
    "* Write a function called `user_name`, that creates a username for the user. \n",
    "* The function should ask a user to input their name. \n",
    "* The function should then reverse the name and attach a randomly issued number between 0 and 9 at the end of the name. \n",
    "* The function should return the username.\n",
    "    - Ex call : user_name('craig') == 'giarc7'"
   ]
  },
  {
   "cell_type": "code",
   "execution_count": 7,
   "id": "392b4ad5",
   "metadata": {},
   "outputs": [
    {
     "name": "stdout",
     "output_type": "stream",
     "text": [
      "Please enter your desired username : Eduardo \n"
     ]
    },
    {
     "data": {
      "text/plain": [
       "'Here is your new username : odraude7'"
      ]
     },
     "execution_count": 7,
     "metadata": {},
     "output_type": "execute_result"
    }
   ],
   "source": [
    "def user_name():\n",
    "    import random\n",
    "    random_number_between_0_10 = random.choice(list(range(0, 10)))\n",
    "    user_name = input('Please enter your desired username : ').strip().lower()\n",
    "    return f'Here is your new username : {user_name[::-1]+str(random_number_between_0_10)}'\n",
    "\n",
    "\n",
    "user_name()"
   ]
  },
  {
   "cell_type": "markdown",
   "id": "b33214b1",
   "metadata": {},
   "source": [
    "#### `Extra Challenge`  - Sort in Place!\n",
    "Sort by Length names = [ \"Peter\", \"Jon\", \"Andrew\"] \n",
    "\n",
    "* Write a function called `sort_length` that takes a list of strings as an argument and sorts the strings in ascending order according to their length. \n",
    "* For example, the list above should return: ['Jon', 'Peter', 'Andrew'] Do not use the built-in sort functions."
   ]
  },
  {
   "cell_type": "code",
   "execution_count": 21,
   "id": "711e527a",
   "metadata": {},
   "outputs": [
    {
     "data": {
      "text/plain": [
       "['Jon', 'Peter', 'Andrew']"
      ]
     },
     "execution_count": 21,
     "metadata": {},
     "output_type": "execute_result"
    }
   ],
   "source": [
    "def sorted_helper(arg_list):\n",
    "    return sorted(arg_list, key=len, reverse=False) \n",
    "\n",
    "sorted_helper(['Peter', 'Jon', 'Andrew'])"
   ]
  },
  {
   "cell_type": "code",
   "execution_count": 23,
   "id": "d6e078b2",
   "metadata": {},
   "outputs": [
    {
     "name": "stdout",
     "output_type": "stream",
     "text": [
      "['Jon', 'Peter', 'Andrew', 'Chad'] 0\n",
      "['Jon', 'Peter', 'Chad', 'Andrew'] 2\n",
      "['Jon', 'Chad', 'Peter', 'Andrew'] 1\n",
      "['Jon', 'Chad', 'Peter', 'Andrew']\n"
     ]
    }
   ],
   "source": [
    "def sort_length(arg_list):\n",
    "    # Outer loop\n",
    "    for item in arg_list:\n",
    "        #inner loop to run check against one another\n",
    "        for item_j in range(len(arg_list) - 1):\n",
    "            # see if current item is greater than one greater than it\n",
    "            if len(arg_list[item_j]) > len(arg_list[item_j + 1]):\n",
    "                arg_list[item_j], arg_list[item_j + 1] = arg_list[item_j + 1], arg_list[item_j]\n",
    "                print(arg_list, item_j)\n",
    "    return arg_list\n",
    "        \n",
    "        \n",
    "names = [\"Peter\", \"Jon\", \"Andrew\", \"Chad\"] # Jon, Chad, Peter, Andrew (should be return)\n",
    "print(sort_length(names))   "
   ]
  },
  {
   "cell_type": "markdown",
   "id": "7c9c49c7",
   "metadata": {},
   "source": [
    "####  **Walkthrough of above**\n",
    "* All evaluations are length of the respective strings\n",
    "* Iterations reference the evaluation\n",
    "\n",
    "1) First Iteration (First Outer Loop Item) - Inner Loop\n",
    "* At inner loop we evaluate first if the 'Peter' > 'Jon', it's true so we set the current index (0) = the second value or one spot ahead\n",
    "* Next we set one index ahead equal to the other value (we can swap values in place here without accidentally getting the wrong item)!\n",
    "    \n",
    "2) Second Iteration (First Outer Loop Item) - Inner Loop\n",
    "* `item_j` is now 1 and we see if 'Peter' > 'Andrew' which is false\n",
    "* Current arr (arg_list) : ['Jon', 'Peter', 'Andrew', 'Chad']\n",
    "    \n",
    "3) Third Iteration - (First Outer Loop Item) - Inner Loop\n",
    "* `item_j` is now 2 and we see if arr[2] == 'Andrew' > arr[3] 'Chad'\n",
    "* Evaluates to True (we swap position)\n",
    "\n",
    "From the first outer loop/inner completion, we changed two positions of item in the list. We can see the output of 0 and 2 above which are the indexes in the original list : [\"Peter\", \"Jon\", \"Andrew\", \"Chad\"] which are the two index areas that the value is bigger than one index area to the right\n",
    "\n",
    "<br>\n",
    "\n",
    "##### **Next Outer Loop Iteration - Second**\n",
    "\n",
    "- We've looped as many positions in the range as allowed for possible range(3) - inner loop length\n",
    "- Now we'll move to the outer loop and the next item, keep in mind the list has been mutated in place!\n",
    "- Entering the Second iteration of the outer loop would have us with a list of : ['Jon', 'Peter', 'Chad', 'Andrew']\n",
    "\n",
    "4) First Iteration (Second Outer Loop Item == 'Peter')\n",
    "* The outer loop isn't super important but just performs the recursive search again for if there are items of greater length more than 1 position apart in the changing list\n",
    "* `item_j` is 0 as we start the second looping of the item\n",
    "* Jon >! Peter so we move to the next range value for item_j or 1\n",
    "* **1** in this iteration is 'Peter' who is > 'Chad', thus we swap\n",
    "* Now with the last range item (2 for item_j) we see if 'Peter' > 'Andrew'\n",
    "* This is false so we exit to the outer loop as we have exhausted the range length of the inner loop\n",
    "\n",
    "<br>\n",
    "\n",
    "#### **Next Outer Loop Iteration - Third**\n",
    "\n",
    "* We have now looped through two items in the outer loop and move to the third item\n",
    "* Our list is ['Jon', 'Chad', 'Peter', 'Andrew'] : So we have already sorted everything but the iterations continue as 'Chad' that was moved in the last grouping of iterations could still be less than 'Jon' in theory as they have yet to be compared against one another with the list mutation (they have never been next to each other to commpare in our inner loop logic)\n",
    "* Now further items are moved and we exit to our last iteration of the outer loop\n",
    "\n",
    "<br>\n",
    "\n",
    "#### **Next Outer loop Iteration - Fourth**\n",
    "\n",
    "* In our last sequencing of checks we evaluate to false for each inner check and as that is the last item in the list, we exit and return the arr that has been sorted in place"
   ]
  },
  {
   "cell_type": "markdown",
   "id": "50d620a9",
   "metadata": {},
   "source": [
    "### **Day 18: Any Number**\n",
    "* Write a function called `any_number` that can receive any number of arguments (integers and floats) and return the average of those integers. \n",
    "* If you pass 12, 90, 12, 34 as arguments, your function should return 37.0 as the average. \n",
    "* If you pass 12 and 90 your function should return 51.0 as the average."
   ]
  },
  {
   "cell_type": "code",
   "execution_count": 42,
   "id": "52f085da",
   "metadata": {},
   "outputs": [
    {
     "name": "stdout",
     "output_type": "stream",
     "text": [
      "[12, 90, 12, 34] ([12, 90, 12, 34],)\n"
     ]
    },
    {
     "data": {
      "text/plain": [
       "([12, 90, 12, 34], [[12, 90, 12, 34]])"
      ]
     },
     "execution_count": 42,
     "metadata": {},
     "output_type": "execute_result"
    }
   ],
   "source": [
    "def any_number_unpacking(*args):\n",
    "    print(*args, args)\n",
    "    arg_unpacked = list(*args) # unpack and flatten \n",
    "    arg_w_o_unpacking = list(args) # we just mutate the parent type here from tuple to list (2D array)\n",
    "    # Return shows that we can unpack the args to create a 1D list or transform tuple/list item (how args is to 2D list)\n",
    "    return arg_unpacked, arg_w_o_unpacking\n",
    "\n",
    "any_number_unpacking([12,90,12,34])"
   ]
  },
  {
   "cell_type": "code",
   "execution_count": 44,
   "id": "21ba167c",
   "metadata": {},
   "outputs": [
    {
     "name": "stdout",
     "output_type": "stream",
     "text": [
      "37.0\n",
      "51.0\n"
     ]
    }
   ],
   "source": [
    "def any_number(*args):\n",
    "    flattened_list = list(*args)\n",
    "    return sum(flattened_list) / len(flattened_list)\n",
    "\n",
    "print(any_number([12,90,12,34]))\n",
    "print(any_number([12,90]))"
   ]
  },
  {
   "cell_type": "markdown",
   "id": "1c2a761d",
   "metadata": {},
   "source": [
    "#### `Extra Challenge: Add & Reverse`\n",
    "* Write a function called `add_reverse`. \n",
    "* This function takes two lists as argument, and adds each corresponding number, and reverses the outcome. \n",
    "* For example, if you pass [10, 12, 34] and [12, 56, 78]. \n",
    "    - Your code should return [112, 22, 68]."
   ]
  },
  {
   "cell_type": "code",
   "execution_count": 50,
   "id": "6306f531",
   "metadata": {},
   "outputs": [
    {
     "name": "stdout",
     "output_type": "stream",
     "text": [
      "0 iteration\n",
      "[22]\n",
      "[22]\n",
      "1 iteration\n",
      "[22, 68]\n",
      "[68, 22]\n",
      "2 iteration\n",
      "[68, 22, 112]\n",
      "[112, 22, 68]\n",
      "[112, 22, 68]\n"
     ]
    }
   ],
   "source": [
    "def add_reverse(n:list, k:list):\n",
    "    return_list = []\n",
    "    if len(n) != len(k):\n",
    "        raise ValueError('List are not of equal size for operations')\n",
    "    else:\n",
    "        for i in range(len(n)):\n",
    "            print(f'{str(i)} iteration')\n",
    "            return_list.append(n[i] + k[i])\n",
    "            print(return_list) # list appended\n",
    "            return_list.reverse()\n",
    "            print(return_list) # list reversed\n",
    "    return return_list\n",
    "\n",
    "\n",
    "print(add_reverse([10,12,34], [12,56,78]))            "
   ]
  },
  {
   "cell_type": "code",
   "execution_count": null,
   "id": "c8619597",
   "metadata": {},
   "outputs": [],
   "source": []
  }
 ],
 "metadata": {
  "kernelspec": {
   "display_name": "Python 3 (ipykernel)",
   "language": "python",
   "name": "python3"
  },
  "language_info": {
   "codemirror_mode": {
    "name": "ipython",
    "version": 3
   },
   "file_extension": ".py",
   "mimetype": "text/x-python",
   "name": "python",
   "nbconvert_exporter": "python",
   "pygments_lexer": "ipython3",
   "version": "3.9.12"
  }
 },
 "nbformat": 4,
 "nbformat_minor": 5
}
