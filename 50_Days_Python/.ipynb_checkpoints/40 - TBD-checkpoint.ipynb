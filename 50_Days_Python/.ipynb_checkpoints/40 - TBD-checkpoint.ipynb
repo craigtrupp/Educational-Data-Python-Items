{
 "cells": [
  {
   "cell_type": "markdown",
   "id": "5f8a285f",
   "metadata": {},
   "source": [
    "### **Day 40: Pig Latin** \n",
    "* Write a function called translate that takes the following words and translates them into Pig Latin.\n",
    "\n",
    "```python\n",
    "a = 'i love python'\n",
    "\n",
    "# Should return : iyay ovelay ythonpay\n",
    "```\n",
    "\n",
    "`Rules`\n",
    "* IF a word starts with a vowel (a, e, i, o, u) add 'yay' at the end. \n",
    "    - For example, 'eat' will become **eatyay**\n",
    "* IF a word start with anything other than a vowel, move the first leeter to the end and add 'ay' to the end\n",
    "    - For example 'day' will become **ayday**\n",
    "\n",
    "\n"
   ]
  },
  {
   "cell_type": "code",
   "execution_count": 10,
   "id": "4760dc13",
   "metadata": {},
   "outputs": [],
   "source": [
    "import re\n",
    "def translate(str_words):\n",
    "    print([re.match('^[(aeiou)|(AEIOU)].*', x) for x in str_words.split()])\n",
    "    pig_latin_words = []\n",
    "    # split string on whitespace, iterate through each \n",
    "    for word in str_words.split():\n",
    "        if re.match('^[(aeiou)|(AEIOU)].*', word) is not None:\n",
    "            pig_latin_words.append(f'{word}yay')\n",
    "        else:\n",
    "            pig_latin_words.append(f'{word[1:]}{word[0]}ay')\n",
    "    return pig_latin_words, ' '.join(pig_latin_words)"
   ]
  },
  {
   "cell_type": "code",
   "execution_count": 11,
   "id": "d15492f7",
   "metadata": {},
   "outputs": [
    {
     "name": "stdout",
     "output_type": "stream",
     "text": [
      "[<re.Match object; span=(0, 1), match='i'>, None, None]\n"
     ]
    },
    {
     "data": {
      "text/plain": [
       "(['iyay', 'ovelay', 'ythonpay'], 'iyay ovelay ythonpay')"
      ]
     },
     "execution_count": 11,
     "metadata": {},
     "output_type": "execute_result"
    }
   ],
   "source": [
    "translate('i love python')"
   ]
  },
  {
   "cell_type": "markdown",
   "id": "bb81dad4",
   "metadata": {},
   "source": [
    "### **Day 41: Only Words w/Vowels**\n",
    "* Create a function called `words_with_vowels`. \n",
    "* This function takes a string of words and returns a list of only the words that have vowles in them\n",
    "* For example,\n",
    "    * \"You have no rhythm\" should return : ['you', 'have', 'no']"
   ]
  },
  {
   "cell_type": "code",
   "execution_count": 18,
   "id": "3c612570",
   "metadata": {},
   "outputs": [],
   "source": [
    "def words_with_vowels(str_words):\n",
    "    words_containing_vowels = []\n",
    "    for word in str_words.split():\n",
    "        if re.search('[AEIOU]', word, re.IGNORECASE) is not None:\n",
    "            words_containing_vowels.append(word)\n",
    "    return words_containing_vowels"
   ]
  },
  {
   "cell_type": "code",
   "execution_count": 19,
   "id": "aa7fa8a8",
   "metadata": {},
   "outputs": [
    {
     "data": {
      "text/plain": [
       "['You', 'have', 'no']"
      ]
     },
     "execution_count": 19,
     "metadata": {},
     "output_type": "execute_result"
    }
   ],
   "source": [
    "words_with_vowels('You have no rhythm')"
   ]
  },
  {
   "cell_type": "code",
   "execution_count": 21,
   "id": "ecc3267b",
   "metadata": {},
   "outputs": [
    {
     "data": {
      "text/plain": [
       "['you', 'have', 'nO']"
      ]
     },
     "execution_count": 21,
     "metadata": {},
     "output_type": "execute_result"
    }
   ],
   "source": [
    "words_with_vowels('you have nO rhythm')"
   ]
  },
  {
   "cell_type": "markdown",
   "id": "bfacce83",
   "metadata": {},
   "source": [
    "* The IGNORECASE third condition with search catches the vowel regardles (see nO)"
   ]
  },
  {
   "cell_type": "markdown",
   "id": "9e4d270b",
   "metadata": {},
   "source": [
    "#### `Extra Challenge`\n",
    "* Inheritance"
   ]
  },
  {
   "cell_type": "code",
   "execution_count": 30,
   "id": "b5d9ac83",
   "metadata": {},
   "outputs": [],
   "source": [
    "class Cars:\n",
    "    def __init__(self, model, color, year, transmission, electric=False):\n",
    "        self.model = model\n",
    "        self.color = color\n",
    "        self.year = year\n",
    "        self.transmission = transmission\n",
    "        self.electric = electric\n",
    "    # Class method\n",
    "    def print_car(self):\n",
    "        return f'car_model={self.model}\\nColor={self.color}\\nYear={self.year}'\\\n",
    "                f'\\nTransmission={self.transmission}\\nElectric={self.electric}'\n",
    "\n",
    "class BMW(Cars):\n",
    "    def __init__(self, model, color, year, transmission, electric=False):\n",
    "        super().__init__(model, color, year, transmission, electric)\n",
    "        \n",
    "class Tesla(Cars):\n",
    "    def __init__(self, model, color, year, transmission, electric=False):\n",
    "        super().__init__(model, color, year, transmission, electric)"
   ]
  },
  {
   "cell_type": "code",
   "execution_count": 31,
   "id": "22608cc0",
   "metadata": {},
   "outputs": [
    {
     "name": "stdout",
     "output_type": "stream",
     "text": [
      "car_model=X6\n",
      "Color=silver\n",
      "Year=2019\n",
      "Transmission=Auto\n",
      "Electric=False\n"
     ]
    }
   ],
   "source": [
    "bmw1 = BMW('X6', 'silver', 2019, 'Auto')\n",
    "print(bmw1.print_car())"
   ]
  },
  {
   "cell_type": "code",
   "execution_count": 32,
   "id": "3afa5dd1",
   "metadata": {},
   "outputs": [
    {
     "name": "stdout",
     "output_type": "stream",
     "text": [
      "car_model=S3\n",
      "Color=Grey\n",
      "Year=2020\n",
      "Transmission=Auto\n",
      "Electric=True\n"
     ]
    }
   ],
   "source": [
    "tesla = Tesla('S3', 'Grey', 2020, 'Auto', True)\n",
    "print(tesla.print_car())"
   ]
  },
  {
   "cell_type": "markdown",
   "id": "7011af2e",
   "metadata": {},
   "source": [
    "### **Day 42: Spelling Checker** \n",
    "* Write a function called spelling_checker. \n",
    "* This code asks the user to input a word, and if the user inputs the wrong spelling, it should suggest the correct spelling by asking the user if they meant to type that word. \n",
    "* If the user says no, it should ask the user to enter the word again. \n",
    "    - If the user says yes, it should return the correct word. \n",
    "    - If the word entered by the user is correctly spelled, the function should return the correct word. \n",
    " \n",
    "Use the module textblob.\n"
   ]
  },
  {
   "cell_type": "code",
   "execution_count": 3,
   "id": "7a511b79",
   "metadata": {},
   "outputs": [
    {
     "name": "stdout",
     "output_type": "stream",
     "text": [
      "Requirement already satisfied: textblob in /Users/craigrupp/opt/anaconda3/lib/python3.9/site-packages (0.17.1)\n",
      "Requirement already satisfied: nltk>=3.1 in /Users/craigrupp/opt/anaconda3/lib/python3.9/site-packages (from textblob) (3.7)\n",
      "Requirement already satisfied: joblib in /Users/craigrupp/.local/lib/python3.9/site-packages (from nltk>=3.1->textblob) (1.2.0)\n",
      "Requirement already satisfied: tqdm in /Users/craigrupp/opt/anaconda3/lib/python3.9/site-packages (from nltk>=3.1->textblob) (4.64.0)\n",
      "Requirement already satisfied: click in /Users/craigrupp/opt/anaconda3/lib/python3.9/site-packages (from nltk>=3.1->textblob) (8.0.4)\n",
      "Requirement already satisfied: regex>=2021.8.3 in /Users/craigrupp/opt/anaconda3/lib/python3.9/site-packages (from nltk>=3.1->textblob) (2022.7.9)\n",
      "Note: you may need to restart the kernel to use updated packages.\n"
     ]
    }
   ],
   "source": [
    "%pip install textblob"
   ]
  },
  {
   "cell_type": "code",
   "execution_count": 12,
   "id": "1e674b50",
   "metadata": {},
   "outputs": [],
   "source": [
    "# In IPython (jupyter) 7.3 and later, there is a magic %pip and %conda command that will install \n",
    "# into the current kernel (rather than into the instance of Python that launched the notebook).\n",
    "from textblob import TextBlob\n",
    "\n",
    "def spelling_checker():\n",
    "    # Start with a while loop\n",
    "    while True:\n",
    "        word = input(\"Enter a word : \").strip()\n",
    "        print(f'Your entered word was : {word}')\n",
    "        return TextBlob(word)"
   ]
  },
  {
   "cell_type": "code",
   "execution_count": 13,
   "id": "cccfff83",
   "metadata": {},
   "outputs": [
    {
     "name": "stdout",
     "output_type": "stream",
     "text": [
      "Enter a word : health\n",
      "Your entered word was : health\n"
     ]
    }
   ],
   "source": [
    "test = spelling_checker()"
   ]
  },
  {
   "cell_type": "code",
   "execution_count": 15,
   "id": "65b082fb",
   "metadata": {},
   "outputs": [
    {
     "data": {
      "text/plain": [
       "TextBlob(\"health\")"
      ]
     },
     "execution_count": 15,
     "metadata": {},
     "output_type": "execute_result"
    }
   ],
   "source": [
    "test.correct()"
   ]
  },
  {
   "cell_type": "code",
   "execution_count": 16,
   "id": "6e569e5e",
   "metadata": {},
   "outputs": [
    {
     "data": {
      "text/plain": [
       "True"
      ]
     },
     "execution_count": 16,
     "metadata": {},
     "output_type": "execute_result"
    }
   ],
   "source": [
    "'health' == test.correct()"
   ]
  },
  {
   "cell_type": "code",
   "execution_count": 1,
   "id": "be684479",
   "metadata": {},
   "outputs": [],
   "source": [
    "# Alright let's do the logic, just wanted to take a little look at what we had with the object\n",
    "from textblob import TextBlob\n",
    "def spelling_checker():\n",
    "    # Start with a while loop\n",
    "    while True:\n",
    "        word = input(\"Enter a word : \").strip()\n",
    "        print(f'Your entered word was : {word}')\n",
    "        word_blob = TextBlob(word)\n",
    "        # see if it matches and if so break from while loop and return word\n",
    "        if word == word_blob.correct():\n",
    "            break\n",
    "        else:\n",
    "            usr_question = input(f'Did you mean : '\n",
    "                                f'{TextBlob(word).correct()}?\\n'\n",
    "                                f'y/n : ')\n",
    "            if usr_question.lower() == 'y':\n",
    "                word = TextBlob(word).correct()\n",
    "                break\n",
    "            else:\n",
    "                # If it makes it here we'll just step back into the while loop\n",
    "                print('Please try again')\n",
    "    return f'Your final matched word was : {word}'"
   ]
  },
  {
   "cell_type": "code",
   "execution_count": 2,
   "id": "1099a09a",
   "metadata": {},
   "outputs": [
    {
     "name": "stdout",
     "output_type": "stream",
     "text": [
      "Enter a word : health\n",
      "Your entered word was : health\n"
     ]
    },
    {
     "data": {
      "text/plain": [
       "'Your final matched word was : health'"
      ]
     },
     "execution_count": 2,
     "metadata": {},
     "output_type": "execute_result"
    }
   ],
   "source": [
    "spelling_checker()"
   ]
  },
  {
   "cell_type": "code",
   "execution_count": 3,
   "id": "9a001166",
   "metadata": {},
   "outputs": [
    {
     "name": "stdout",
     "output_type": "stream",
     "text": [
      "Enter a word : hostil\n",
      "Your entered word was : hostil\n",
      "Did you mean : hostile?\n",
      "y/n : n\n",
      "Please try again\n",
      "Enter a word : hostel\n",
      "Your entered word was : hostel\n"
     ]
    },
    {
     "data": {
      "text/plain": [
       "'Your final matched word was : hostel'"
      ]
     },
     "execution_count": 3,
     "metadata": {},
     "output_type": "execute_result"
    }
   ],
   "source": [
    "spelling_checker()"
   ]
  },
  {
   "cell_type": "code",
   "execution_count": 4,
   "id": "523bfa36",
   "metadata": {},
   "outputs": [
    {
     "name": "stdout",
     "output_type": "stream",
     "text": [
      "Enter a word : hostil\n",
      "Your entered word was : hostil\n",
      "Did you mean : hostile?\n",
      "y/n : y\n"
     ]
    },
    {
     "data": {
      "text/plain": [
       "'Your final matched word was : hostile'"
      ]
     },
     "execution_count": 4,
     "metadata": {},
     "output_type": "execute_result"
    }
   ],
   "source": [
    "spelling_checker()"
   ]
  },
  {
   "cell_type": "markdown",
   "id": "b64929c9",
   "metadata": {},
   "source": [
    "#### `Extra Challenge : Alarm Clock`\n",
    "* Use a function named **set_alarm** that will take a user input (hour/minute) and return the interval until the alarm would go off\n",
    "* Alarm setting logic will allow for using a AM/PM indicator and if the current time is greater, the interval will calculate the timedifference for the alarm being set in the future to the subsequent day "
   ]
  },
  {
   "cell_type": "code",
   "execution_count": 91,
   "id": "ac255772",
   "metadata": {},
   "outputs": [],
   "source": [
    "from datetime import datetime, timedelta"
   ]
  },
  {
   "cell_type": "code",
   "execution_count": 12,
   "id": "27127ce6",
   "metadata": {},
   "outputs": [
    {
     "data": {
      "text/plain": [
       "(datetime.datetime(2023, 8, 11, 12, 24, 53, 368919), '12:24', '12:24 PM')"
      ]
     },
     "execution_count": 12,
     "metadata": {},
     "output_type": "execute_result"
    }
   ],
   "source": [
    "datetime.now(), datetime.now().strftime('%H:%M'), datetime.now().strftime('%I:%M %p')"
   ]
  },
  {
   "cell_type": "code",
   "execution_count": 17,
   "id": "91e5c287",
   "metadata": {},
   "outputs": [
    {
     "name": "stdout",
     "output_type": "stream",
     "text": [
      "Difference: 4:04:20\n",
      "Total difference in minutes: 244.33333333333334\n",
      "Difference in minutes: 244.33333333333334\n"
     ]
    }
   ],
   "source": [
    "# datetime(year, month, day, hour, minute, second)\n",
    "alarm = datetime(2023, 8, 11, 18, 25, 30)\n",
    "b_now = datetime(2023, 8, 11, 14, 21, 10)\n",
    "  \n",
    "# returns a timedelta object\n",
    "c = alarm-b_now \n",
    "print('Difference:', c)\n",
    "  \n",
    "minutes = c.total_seconds() / 60\n",
    "print('Total difference in minutes:', minutes) # same as seconds as same day for interval difference\n",
    "  \n",
    "# returns the difference of the time of the day\n",
    "minutes = c.seconds / 60\n",
    "print('Difference in minutes:', minutes)"
   ]
  },
  {
   "cell_type": "code",
   "execution_count": 26,
   "id": "0428d666",
   "metadata": {},
   "outputs": [],
   "source": [
    "def set_alarm():\n",
    "    hour = int(input(\"Please enter an hour : \"))\n",
    "    minute = int(input(\"Please enter a minutes value : \"))\n",
    "    am_pm = input(\"AM or PM : \").strip().upper()\n",
    "    alarm = f'{hour}:{minute}{am_pm}'\n",
    "    return alarm, type(alarm), datetime.strptime(alarm, '%I:%M%p')\n",
    "#     alarm_time \n",
    "#     while True:\n",
    "#         now = datetime.now().strftime()"
   ]
  },
  {
   "cell_type": "markdown",
   "id": "254dffd1",
   "metadata": {},
   "source": [
    "* Let's validate the same time registering the right difference for AM/PM logic"
   ]
  },
  {
   "cell_type": "code",
   "execution_count": 29,
   "id": "f1b6631a",
   "metadata": {},
   "outputs": [
    {
     "name": "stdout",
     "output_type": "stream",
     "text": [
      "Please enter an hour : 7\n",
      "Please enter a minutes value : 45\n",
      "AM or PM : am\n"
     ]
    }
   ],
   "source": [
    "am_1 = set_alarm()"
   ]
  },
  {
   "cell_type": "code",
   "execution_count": 30,
   "id": "de6120c7",
   "metadata": {},
   "outputs": [
    {
     "name": "stdout",
     "output_type": "stream",
     "text": [
      "Please enter an hour : 7\n",
      "Please enter a minutes value : 45\n",
      "AM or PM : pm\n"
     ]
    }
   ],
   "source": [
    "pm_1 = set_alarm()"
   ]
  },
  {
   "cell_type": "code",
   "execution_count": 58,
   "id": "1011a6bb",
   "metadata": {},
   "outputs": [
    {
     "data": {
      "text/plain": [
       "(datetime.datetime,\n",
       " 7,\n",
       " datetime.datetime(1900, 1, 1, 7, 45),\n",
       " datetime.datetime(1900, 1, 1, 19, 45))"
      ]
     },
     "execution_count": 58,
     "metadata": {},
     "output_type": "execute_result"
    }
   ],
   "source": [
    "type(pm_1[-1]), am_1[-1].hour, am_1[-1], pm_1[-1]"
   ]
  },
  {
   "cell_type": "markdown",
   "id": "89c865d3",
   "metadata": {},
   "source": [
    "* We can see here how the the final return value in a primer for the function can differentiate between am/pm\n",
    "* This will be important in the logic for determining how long until the alarm should go off"
   ]
  },
  {
   "cell_type": "code",
   "execution_count": 33,
   "id": "c65c3b45",
   "metadata": {},
   "outputs": [],
   "source": [
    "delta_diff = pm_1[-1] - am_1[-1]"
   ]
  },
  {
   "cell_type": "code",
   "execution_count": 48,
   "id": "e1f99d58",
   "metadata": {},
   "outputs": [
    {
     "name": "stdout",
     "output_type": "stream",
     "text": [
      "12 720 43200\n"
     ]
    }
   ],
   "source": [
    "hour = delta_diff.seconds // 3600\n",
    "minutes = delta_diff.seconds // 60\n",
    "print(hour, minutes, delta_diff.seconds)"
   ]
  },
  {
   "cell_type": "code",
   "execution_count": 82,
   "id": "80c17d32",
   "metadata": {},
   "outputs": [],
   "source": [
    "def set_alarm():\n",
    "    hour = int(input(\"Please enter an hour : \"))\n",
    "    minute = int(input(\"Please enter a minutes value : \"))\n",
    "    am_pm = input(\"AM or PM : \").strip().upper()\n",
    "    # use the input variables and combine with current date to set an alarm for today, \n",
    "    # we'll see if current time is greater to return a remaining time value until the alarm goes off\n",
    "    alarm = f'{datetime.now().year} {datetime.now().month} {datetime.now().day} {hour}:{minute}{am_pm}'\n",
    "    alarm_dt = datetime.strptime(alarm, '%Y %m %d %I:%M%p')\n",
    "    # Setting alarm to a datetime object with the current date and will check to see if greater than current time \n",
    "    # for logic of how much time til the alarm goes off\n",
    "    cur_time = datetime.now()\n",
    "    cur_time = datetime(cur_time.year, cur_time.month, cur_time.day, cur_time.hour, cur_time.minute)\n",
    "    return alarm_dt, cur_time"
   ]
  },
  {
   "cell_type": "markdown",
   "id": "cb1d6020",
   "metadata": {},
   "source": []
  },
  {
   "cell_type": "code",
   "execution_count": 84,
   "id": "9dfbb750",
   "metadata": {},
   "outputs": [
    {
     "name": "stdout",
     "output_type": "stream",
     "text": [
      "Please enter an hour : 7\n",
      "Please enter a minutes value : 45\n",
      "AM or PM : AM\n"
     ]
    }
   ],
   "source": [
    "alarm_cur_time = set_alarm()"
   ]
  },
  {
   "cell_type": "code",
   "execution_count": 92,
   "id": "58ce3e08",
   "metadata": {},
   "outputs": [
    {
     "data": {
      "text/plain": [
       "(True,\n",
       " datetime.datetime(2023, 8, 11, 7, 45),\n",
       " datetime.datetime(2023, 8, 12, 7, 45))"
      ]
     },
     "execution_count": 92,
     "metadata": {},
     "output_type": "execute_result"
    }
   ],
   "source": [
    "alarm_cur_time[0] < alarm_cur_time[1], alarm_cur_time[0], alarm_cur_time[0] + timedelta(days=1)"
   ]
  },
  {
   "cell_type": "markdown",
   "id": "2d2efc15",
   "metadata": {},
   "source": [
    "* So we can see (imported timedelta from datetime as well) that we can simply add a day if the alarm time (which we default to today) has already occurred and thus is advanced one day so we can get the difference\n",
    "\n",
    "* Alright we can finish it now"
   ]
  },
  {
   "cell_type": "markdown",
   "id": "b8db11d8",
   "metadata": {},
   "source": [
    "```python\n",
    "days, seconds = duration.days, duration.seconds\n",
    "hours = days * 24 + seconds // 3600\n",
    "minutes = (seconds % 3600) // 60\n",
    "seconds = seconds % 60\n",
    "```\n",
    "* This would be how you convertime a timedelta to minutes/hours and seconds in python"
   ]
  },
  {
   "cell_type": "code",
   "execution_count": 113,
   "id": "2513e5e5",
   "metadata": {},
   "outputs": [
    {
     "name": "stdout",
     "output_type": "stream",
     "text": [
      "Your alarm for : Saturday, Aug 12 at 07:45 AM\n"
     ]
    }
   ],
   "source": [
    "tom = datetime(2023, 8, 12, 7, 45)\n",
    "print(f'Your alarm for : {tom.strftime(\"%A, %b %d at %I:%M %p\")}')"
   ]
  },
  {
   "cell_type": "code",
   "execution_count": 95,
   "id": "cf166616",
   "metadata": {},
   "outputs": [
    {
     "name": "stdout",
     "output_type": "stream",
     "text": [
      "Please enter an hour : 7\n",
      "Please enter a minutes value : 45\n",
      "AM or PM : am\n",
      "17 1025 61500\n"
     ]
    }
   ],
   "source": [
    "sample_diff = set_alarm()\n",
    "\n",
    "hour = sample_diff.seconds // 3600\n",
    "minutes = sample_diff.seconds // 60\n",
    "print(hour, minutes, sample_diff.seconds)\n",
    "print()"
   ]
  },
  {
   "cell_type": "code",
   "execution_count": 161,
   "id": "d3984fc7",
   "metadata": {},
   "outputs": [],
   "source": [
    "def set_alarm():\n",
    "    hour = int(input(\"Please enter an hour : \"))\n",
    "    minute = int(input(\"Please enter a minutes value : \"))\n",
    "    am_pm = input(\"AM or PM : \").strip().upper()\n",
    "    # use the input variables and combine with current date to set an alarm for today, \n",
    "    # we'll see if current time is greater to return a remaining time value until the alarm goes off\n",
    "    alarm = f'{datetime.now().year} {datetime.now().month} {datetime.now().day} {hour}:{minute}{am_pm}'\n",
    "    alarm_dt = datetime.strptime(alarm, '%Y %m %d %I:%M%p')\n",
    "    # Setting alarm to a datetime object with the current date and will check to see if greater than current time \n",
    "    # for logic of how much time til the alarm goes off\n",
    "    cur_time = datetime.now()\n",
    "    cur_time = datetime(cur_time.year, cur_time.month, cur_time.day, cur_time.hour, cur_time.minute)\n",
    "    # Set the remaining time til alarm one day in the future \n",
    "    if alarm_dt < cur_time:\n",
    "        alarm_dt = alarm_dt + timedelta(days=1)\n",
    "        next_day_delta = alarm_dt - cur_time\n",
    "        next_day_delta_hrs = next_day_delta.seconds // 3600 # floor division for any remainder to translate to minutes\n",
    "        next_day_delta_mins = (next_day_delta.seconds % 3600) // 60 # min\n",
    "        alarm_string = (\n",
    "        f'''Your alarm for : {alarm_dt.strftime(\"%A, %b %d at %I:%M %p\")}\\n'''\n",
    "        f'''Will go off in : {next_day_delta_hrs}hrs and {next_day_delta_mins}mins''')\n",
    "        return alarm_string\n",
    "    else:\n",
    "        # no mutating of the alarm time and let's see the difference\n",
    "        return alarm_dt - cur_time "
   ]
  },
  {
   "cell_type": "code",
   "execution_count": 162,
   "id": "6b6a47ce",
   "metadata": {},
   "outputs": [
    {
     "name": "stdout",
     "output_type": "stream",
     "text": [
      "Please enter an hour : 7\n",
      "Please enter a minutes value : 45\n",
      "AM or PM : am\n"
     ]
    },
    {
     "data": {
      "text/plain": [
       "'\\n        Your alarm for : Saturday, Aug 12 at 07:45 AM\\n        Will go off in : 16hrs and 18mins\\n        '"
      ]
     },
     "execution_count": 162,
     "metadata": {},
     "output_type": "execute_result"
    }
   ],
   "source": [
    "set_alarm()"
   ]
  },
  {
   "cell_type": "code",
   "execution_count": 145,
   "id": "209b8472",
   "metadata": {},
   "outputs": [
    {
     "ename": "SyntaxError",
     "evalue": "f-string expression part cannot include a backslash (2542235574.py, line 5)",
     "output_type": "error",
     "traceback": [
      "\u001b[0;36m  File \u001b[0;32m\"/var/folders/r8/mmfd5rgj7v51_80zhnq8v9zc0000gn/T/ipykernel_14174/2542235574.py\"\u001b[0;36m, line \u001b[0;32m5\u001b[0m\n\u001b[0;31m    )\u001b[0m\n\u001b[0m    ^\u001b[0m\n\u001b[0;31mSyntaxError\u001b[0m\u001b[0;31m:\u001b[0m f-string expression part cannot include a backslash\n"
     ]
    }
   ],
   "source": [
    "def hi():\n",
    "    return (\n",
    "    f'{datetime.now()}{\"\\n\"}'\n",
    "    f'{datetime.now()}'\n",
    "    )\n",
    "hi()"
   ]
  },
  {
   "cell_type": "code",
   "execution_count": 163,
   "id": "f10b8e52",
   "metadata": {},
   "outputs": [
    {
     "name": "stdout",
     "output_type": "stream",
     "text": [
      "2023-08-11 15:29:23.256794\n",
      "and another line 2023-08-11 15:29:23.256809\n"
     ]
    }
   ],
   "source": [
    "a = (\n",
    "  f\"\"\"{datetime.now()}\\n\"\"\"\n",
    "  f\"\"\"and another line {datetime.now()}\"\"\")\n",
    "\n",
    "print(a)"
   ]
  },
  {
   "cell_type": "code",
   "execution_count": null,
   "id": "c9b0b4d2",
   "metadata": {},
   "outputs": [],
   "source": []
  }
 ],
 "metadata": {
  "kernelspec": {
   "display_name": "Python 3 (ipykernel)",
   "language": "python",
   "name": "python3"
  },
  "language_info": {
   "codemirror_mode": {
    "name": "ipython",
    "version": 3
   },
   "file_extension": ".py",
   "mimetype": "text/x-python",
   "name": "python",
   "nbconvert_exporter": "python",
   "pygments_lexer": "ipython3",
   "version": "3.9.12"
  }
 },
 "nbformat": 4,
 "nbformat_minor": 5
}
