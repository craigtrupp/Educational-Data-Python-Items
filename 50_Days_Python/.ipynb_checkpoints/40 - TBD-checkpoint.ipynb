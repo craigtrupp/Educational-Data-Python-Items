{
 "cells": [
  {
   "cell_type": "markdown",
   "id": "5f8a285f",
   "metadata": {},
   "source": [
    "### **Day 40: Pig Latin** \n",
    "* Write a function called translate that takes the following words and translates them into Pig Latin.\n",
    "\n",
    "```python\n",
    "a = 'i love python'\n",
    "\n",
    "# Should return : iyay ovelay ythonpay\n",
    "```\n",
    "\n",
    "`Rules`\n",
    "* IF a word starts with a vowel (a, e, i, o, u) add 'yay' at the end. \n",
    "    - For example, 'eat' will become **eatyay**\n",
    "* IF a word start with anything other than a vowel, move the first leeter to the end and add 'ay' to the end\n",
    "    - For example 'day' will become **ayday**\n",
    "\n",
    "\n"
   ]
  },
  {
   "cell_type": "code",
   "execution_count": 10,
   "id": "4760dc13",
   "metadata": {},
   "outputs": [],
   "source": [
    "import re\n",
    "def translate(str_words):\n",
    "    print([re.match('^[(aeiou)|(AEIOU)].*', x) for x in str_words.split()])\n",
    "    pig_latin_words = []\n",
    "    # split string on whitespace, iterate through each \n",
    "    for word in str_words.split():\n",
    "        if re.match('^[(aeiou)|(AEIOU)].*', word) is not None:\n",
    "            pig_latin_words.append(f'{word}yay')\n",
    "        else:\n",
    "            pig_latin_words.append(f'{word[1:]}{word[0]}ay')\n",
    "    return pig_latin_words, ' '.join(pig_latin_words)"
   ]
  },
  {
   "cell_type": "code",
   "execution_count": 11,
   "id": "d15492f7",
   "metadata": {},
   "outputs": [
    {
     "name": "stdout",
     "output_type": "stream",
     "text": [
      "[<re.Match object; span=(0, 1), match='i'>, None, None]\n"
     ]
    },
    {
     "data": {
      "text/plain": [
       "(['iyay', 'ovelay', 'ythonpay'], 'iyay ovelay ythonpay')"
      ]
     },
     "execution_count": 11,
     "metadata": {},
     "output_type": "execute_result"
    }
   ],
   "source": [
    "translate('i love python')"
   ]
  },
  {
   "cell_type": "markdown",
   "id": "bb81dad4",
   "metadata": {},
   "source": [
    "### **Day 41: Only Words w/Vowels**\n",
    "* Create a function called `words_with_vowels`. \n",
    "* This function takes a string of words and returns a list of only the words that have vowles in them\n",
    "* For example,\n",
    "    * \"You have no rhythm\" should return : ['you', 'have', 'no']"
   ]
  },
  {
   "cell_type": "code",
   "execution_count": 18,
   "id": "3c612570",
   "metadata": {},
   "outputs": [],
   "source": [
    "def words_with_vowels(str_words):\n",
    "    words_containing_vowels = []\n",
    "    for word in str_words.split():\n",
    "        if re.search('[AEIOU]', word, re.IGNORECASE) is not None:\n",
    "            words_containing_vowels.append(word)\n",
    "    return words_containing_vowels"
   ]
  },
  {
   "cell_type": "code",
   "execution_count": 19,
   "id": "aa7fa8a8",
   "metadata": {},
   "outputs": [
    {
     "data": {
      "text/plain": [
       "['You', 'have', 'no']"
      ]
     },
     "execution_count": 19,
     "metadata": {},
     "output_type": "execute_result"
    }
   ],
   "source": [
    "words_with_vowels('You have no rhythm')"
   ]
  },
  {
   "cell_type": "code",
   "execution_count": 21,
   "id": "ecc3267b",
   "metadata": {},
   "outputs": [
    {
     "data": {
      "text/plain": [
       "['you', 'have', 'nO']"
      ]
     },
     "execution_count": 21,
     "metadata": {},
     "output_type": "execute_result"
    }
   ],
   "source": [
    "words_with_vowels('you have nO rhythm')"
   ]
  },
  {
   "cell_type": "markdown",
   "id": "bfacce83",
   "metadata": {},
   "source": [
    "* The IGNORECASE third condition with search catches the vowel regardles (see nO)"
   ]
  },
  {
   "cell_type": "markdown",
   "id": "9e4d270b",
   "metadata": {},
   "source": [
    "#### `Extra Challenge`\n",
    "* Inheritance"
   ]
  },
  {
   "cell_type": "code",
   "execution_count": 30,
   "id": "b5d9ac83",
   "metadata": {},
   "outputs": [],
   "source": [
    "class Cars:\n",
    "    def __init__(self, model, color, year, transmission, electric=False):\n",
    "        self.model = model\n",
    "        self.color = color\n",
    "        self.year = year\n",
    "        self.transmission = transmission\n",
    "        self.electric = electric\n",
    "    # Class method\n",
    "    def print_car(self):\n",
    "        return f'car_model={self.model}\\nColor={self.color}\\nYear={self.year}'\\\n",
    "                f'\\nTransmission={self.transmission}\\nElectric={self.electric}'\n",
    "\n",
    "class BMW(Cars):\n",
    "    def __init__(self, model, color, year, transmission, electric=False):\n",
    "        super().__init__(model, color, year, transmission, electric)\n",
    "        \n",
    "class Tesla(Cars):\n",
    "    def __init__(self, model, color, year, transmission, electric=False):\n",
    "        super().__init__(model, color, year, transmission, electric)"
   ]
  },
  {
   "cell_type": "code",
   "execution_count": 31,
   "id": "22608cc0",
   "metadata": {},
   "outputs": [
    {
     "name": "stdout",
     "output_type": "stream",
     "text": [
      "car_model=X6\n",
      "Color=silver\n",
      "Year=2019\n",
      "Transmission=Auto\n",
      "Electric=False\n"
     ]
    }
   ],
   "source": [
    "bmw1 = BMW('X6', 'silver', 2019, 'Auto')\n",
    "print(bmw1.print_car())"
   ]
  },
  {
   "cell_type": "code",
   "execution_count": 32,
   "id": "3afa5dd1",
   "metadata": {},
   "outputs": [
    {
     "name": "stdout",
     "output_type": "stream",
     "text": [
      "car_model=S3\n",
      "Color=Grey\n",
      "Year=2020\n",
      "Transmission=Auto\n",
      "Electric=True\n"
     ]
    }
   ],
   "source": [
    "tesla = Tesla('S3', 'Grey', 2020, 'Auto', True)\n",
    "print(tesla.print_car())"
   ]
  },
  {
   "cell_type": "markdown",
   "id": "bdfed5eb",
   "metadata": {},
   "source": [
    "### **Day 42: Spelling Checker** \n",
    "* Write a function called spelling_checker. \n",
    "* This code asks the user to input a word, and if the user inputs the wrong spelling, it should suggest the correct spelling by asking the user if they meant to type that word. \n",
    "* If the user says no, it should ask the user to enter the word again. \n",
    "    - If the user says yes, it should return the correct word. \n",
    "    - If the word entered by the user is correctly spelled, the function should return the correct word. \n",
    " \n",
    "Use the module textblob.\n"
   ]
  },
  {
   "cell_type": "code",
   "execution_count": 3,
   "id": "a1c80e12",
   "metadata": {},
   "outputs": [
    {
     "name": "stdout",
     "output_type": "stream",
     "text": [
      "Requirement already satisfied: textblob in /Users/craigrupp/opt/anaconda3/lib/python3.9/site-packages (0.17.1)\n",
      "Requirement already satisfied: nltk>=3.1 in /Users/craigrupp/opt/anaconda3/lib/python3.9/site-packages (from textblob) (3.7)\n",
      "Requirement already satisfied: joblib in /Users/craigrupp/.local/lib/python3.9/site-packages (from nltk>=3.1->textblob) (1.2.0)\n",
      "Requirement already satisfied: tqdm in /Users/craigrupp/opt/anaconda3/lib/python3.9/site-packages (from nltk>=3.1->textblob) (4.64.0)\n",
      "Requirement already satisfied: click in /Users/craigrupp/opt/anaconda3/lib/python3.9/site-packages (from nltk>=3.1->textblob) (8.0.4)\n",
      "Requirement already satisfied: regex>=2021.8.3 in /Users/craigrupp/opt/anaconda3/lib/python3.9/site-packages (from nltk>=3.1->textblob) (2022.7.9)\n",
      "Note: you may need to restart the kernel to use updated packages.\n"
     ]
    }
   ],
   "source": [
    "%pip install textblob"
   ]
  },
  {
   "cell_type": "code",
   "execution_count": 12,
   "id": "3ecba3be",
   "metadata": {},
   "outputs": [],
   "source": [
    "# In IPython (jupyter) 7.3 and later, there is a magic %pip and %conda command that will install \n",
    "# into the current kernel (rather than into the instance of Python that launched the notebook).\n",
    "from textblob import TextBlob\n",
    "\n",
    "def spelling_checker():\n",
    "    # Start with a while loop\n",
    "    while True:\n",
    "        word = input(\"Enter a word : \").strip()\n",
    "        print(f'Your entered word was : {word}')\n",
    "        return TextBlob(word)"
   ]
  },
  {
   "cell_type": "code",
   "execution_count": 13,
   "id": "518e0b47",
   "metadata": {},
   "outputs": [
    {
     "name": "stdout",
     "output_type": "stream",
     "text": [
      "Enter a word : health\n",
      "Your entered word was : health\n"
     ]
    }
   ],
   "source": [
    "test = spelling_checker()"
   ]
  },
  {
   "cell_type": "code",
   "execution_count": 14,
   "id": "38d7344f",
   "metadata": {},
   "outputs": [
    {
     "data": {
      "text/plain": [
       "['__add__',\n",
       " '__class__',\n",
       " '__contains__',\n",
       " '__delattr__',\n",
       " '__dict__',\n",
       " '__dir__',\n",
       " '__doc__',\n",
       " '__eq__',\n",
       " '__format__',\n",
       " '__ge__',\n",
       " '__getattribute__',\n",
       " '__getitem__',\n",
       " '__gt__',\n",
       " '__hash__',\n",
       " '__init__',\n",
       " '__init_subclass__',\n",
       " '__iter__',\n",
       " '__le__',\n",
       " '__len__',\n",
       " '__lt__',\n",
       " '__module__',\n",
       " '__ne__',\n",
       " '__new__',\n",
       " '__reduce__',\n",
       " '__reduce_ex__',\n",
       " '__repr__',\n",
       " '__setattr__',\n",
       " '__sizeof__',\n",
       " '__str__',\n",
       " '__subclasshook__',\n",
       " '__weakref__',\n",
       " '_cmpkey',\n",
       " '_compare',\n",
       " '_create_sentence_objects',\n",
       " '_strkey',\n",
       " 'analyzer',\n",
       " 'classifier',\n",
       " 'classify',\n",
       " 'correct',\n",
       " 'detect_language',\n",
       " 'ends_with',\n",
       " 'endswith',\n",
       " 'find',\n",
       " 'format',\n",
       " 'index',\n",
       " 'join',\n",
       " 'json',\n",
       " 'lower',\n",
       " 'ngrams',\n",
       " 'noun_phrases',\n",
       " 'np_counts',\n",
       " 'np_extractor',\n",
       " 'parse',\n",
       " 'parser',\n",
       " 'polarity',\n",
       " 'pos_tagger',\n",
       " 'pos_tags',\n",
       " 'raw',\n",
       " 'raw_sentences',\n",
       " 'replace',\n",
       " 'rfind',\n",
       " 'rindex',\n",
       " 'sentences',\n",
       " 'sentiment',\n",
       " 'sentiment_assessments',\n",
       " 'serialized',\n",
       " 'split',\n",
       " 'starts_with',\n",
       " 'startswith',\n",
       " 'string',\n",
       " 'strip',\n",
       " 'stripped',\n",
       " 'subjectivity',\n",
       " 'tags',\n",
       " 'title',\n",
       " 'to_json',\n",
       " 'tokenize',\n",
       " 'tokenizer',\n",
       " 'tokens',\n",
       " 'translate',\n",
       " 'translator',\n",
       " 'upper',\n",
       " 'word_counts',\n",
       " 'words']"
      ]
     },
     "execution_count": 14,
     "metadata": {},
     "output_type": "execute_result"
    }
   ],
   "source": [
    "dir(test)"
   ]
  },
  {
   "cell_type": "code",
   "execution_count": 15,
   "id": "d9cc9cf5",
   "metadata": {},
   "outputs": [
    {
     "data": {
      "text/plain": [
       "TextBlob(\"health\")"
      ]
     },
     "execution_count": 15,
     "metadata": {},
     "output_type": "execute_result"
    }
   ],
   "source": [
    "test.correct()"
   ]
  },
  {
   "cell_type": "code",
   "execution_count": 16,
   "id": "bfecb0c6",
   "metadata": {},
   "outputs": [
    {
     "data": {
      "text/plain": [
       "True"
      ]
     },
     "execution_count": 16,
     "metadata": {},
     "output_type": "execute_result"
    }
   ],
   "source": [
    "'health' == test.correct()"
   ]
  },
  {
   "cell_type": "code",
   "execution_count": 1,
   "id": "c2913404",
   "metadata": {},
   "outputs": [],
   "source": [
    "# Alright let's do the logic, just wanted to take a little look at what we had with the object\n",
    "from textblob import TextBlob\n",
    "def spelling_checker():\n",
    "    # Start with a while loop\n",
    "    while True:\n",
    "        word = input(\"Enter a word : \").strip()\n",
    "        print(f'Your entered word was : {word}')\n",
    "        word_blob = TextBlob(word)\n",
    "        # see if it matches and if so break from while loop and return word\n",
    "        if word == word_blob.correct():\n",
    "            break\n",
    "        else:\n",
    "            usr_question = input(f'Did you mean : '\n",
    "                                f'{TextBlob(word).correct()}?\\n'\n",
    "                                f'y/n : ')\n",
    "            if usr_question.lower() == 'y':\n",
    "                word = TextBlob(word).correct()\n",
    "                break\n",
    "            else:\n",
    "                # If it makes it here we'll just step back into the while loop\n",
    "                print('Please try again')\n",
    "    return f'Your final matched word was : {word}'"
   ]
  },
  {
   "cell_type": "code",
   "execution_count": 2,
   "id": "0fcdcb2e",
   "metadata": {},
   "outputs": [
    {
     "name": "stdout",
     "output_type": "stream",
     "text": [
      "Enter a word : health\n",
      "Your entered word was : health\n"
     ]
    },
    {
     "data": {
      "text/plain": [
       "'Your final matched word was : health'"
      ]
     },
     "execution_count": 2,
     "metadata": {},
     "output_type": "execute_result"
    }
   ],
   "source": [
    "spelling_checker()"
   ]
  },
  {
   "cell_type": "code",
   "execution_count": 3,
   "id": "c29fff80",
   "metadata": {},
   "outputs": [
    {
     "name": "stdout",
     "output_type": "stream",
     "text": [
      "Enter a word : hostil\n",
      "Your entered word was : hostil\n",
      "Did you mean : hostile?\n",
      "y/n : n\n",
      "Please try again\n",
      "Enter a word : hostel\n",
      "Your entered word was : hostel\n"
     ]
    },
    {
     "data": {
      "text/plain": [
       "'Your final matched word was : hostel'"
      ]
     },
     "execution_count": 3,
     "metadata": {},
     "output_type": "execute_result"
    }
   ],
   "source": [
    "spelling_checker()"
   ]
  },
  {
   "cell_type": "code",
   "execution_count": 4,
   "id": "c805b5b0",
   "metadata": {},
   "outputs": [
    {
     "name": "stdout",
     "output_type": "stream",
     "text": [
      "Enter a word : hostil\n",
      "Your entered word was : hostil\n",
      "Did you mean : hostile?\n",
      "y/n : y\n"
     ]
    },
    {
     "data": {
      "text/plain": [
       "'Your final matched word was : hostile'"
      ]
     },
     "execution_count": 4,
     "metadata": {},
     "output_type": "execute_result"
    }
   ],
   "source": [
    "spelling_checker()"
   ]
  },
  {
   "cell_type": "markdown",
   "id": "72c72503",
   "metadata": {},
   "source": [
    "#### `Extra Challenge : Alarm Clock`\n",
    "* Use a function named **set_alarm** that will take a user input (hour/minute) and see if the entered time is equal to a current timestamp we can pull from the `datetime` module"
   ]
  },
  {
   "cell_type": "code",
   "execution_count": 8,
   "id": "8b051734",
   "metadata": {},
   "outputs": [],
   "source": [
    "from datetime import datetime"
   ]
  },
  {
   "cell_type": "code",
   "execution_count": 12,
   "id": "e6aea807",
   "metadata": {},
   "outputs": [
    {
     "data": {
      "text/plain": [
       "(datetime.datetime(2023, 8, 11, 12, 24, 53, 368919), '12:24', '12:24 PM')"
      ]
     },
     "execution_count": 12,
     "metadata": {},
     "output_type": "execute_result"
    }
   ],
   "source": [
    "datetime.now(), datetime.now().strftime('%H:%M'), datetime.now().strftime('%I:%M %p')"
   ]
  },
  {
   "cell_type": "code",
   "execution_count": 17,
   "id": "c9a9019c",
   "metadata": {},
   "outputs": [
    {
     "name": "stdout",
     "output_type": "stream",
     "text": [
      "Difference: 4:04:20\n",
      "Total difference in minutes: 244.33333333333334\n",
      "Difference in minutes: 244.33333333333334\n"
     ]
    }
   ],
   "source": [
    "# datetime(year, month, day, hour, minute, second)\n",
    "alarm = datetime(2023, 8, 11, 18, 25, 30)\n",
    "b_now = datetime(2023, 8, 11, 14, 21, 10)\n",
    "  \n",
    "# returns a timedelta object\n",
    "c = alarm-b_now \n",
    "print('Difference:', c)\n",
    "  \n",
    "minutes = c.total_seconds() / 60\n",
    "print('Total difference in minutes:', minutes) # same as seconds as same day for interval difference\n",
    "  \n",
    "# returns the difference of the time of the day\n",
    "minutes = c.seconds / 60\n",
    "print('Difference in minutes:', minutes)"
   ]
  },
  {
   "cell_type": "code",
   "execution_count": 26,
   "id": "2be6df3d",
   "metadata": {},
   "outputs": [],
   "source": [
    "def set_alarm():\n",
    "    hour = int(input(\"Please enter an hour : \"))\n",
    "    minute = int(input(\"Please enter a minutes value : \"))\n",
    "    am_pm = input(\"AM or PM : \").strip().upper()\n",
    "    alarm = f'{hour}:{minute}{am_pm}'\n",
    "    return alarm, type(alarm), datetime.strptime(alarm, '%I:%M%p')\n",
    "#     alarm_time \n",
    "#     while True:\n",
    "#         now = datetime.now().strftime()"
   ]
  },
  {
   "cell_type": "code",
   "execution_count": 27,
   "id": "3b18c913",
   "metadata": {},
   "outputs": [
    {
     "name": "stdout",
     "output_type": "stream",
     "text": [
      "Please enter an hour : 7\n",
      "Please enter a minutes value : 45\n",
      "AM or PM : am\n"
     ]
    },
    {
     "data": {
      "text/plain": [
       "('7:45AM', str, datetime.datetime(1900, 1, 1, 7, 45))"
      ]
     },
     "execution_count": 27,
     "metadata": {},
     "output_type": "execute_result"
    }
   ],
   "source": [
    "set_alarm()"
   ]
  },
  {
   "cell_type": "code",
   "execution_count": 28,
   "id": "2a9f909e",
   "metadata": {},
   "outputs": [
    {
     "name": "stdout",
     "output_type": "stream",
     "text": [
      "Please enter an hour : 7\n",
      "Please enter a minutes value : 45\n",
      "AM or PM : pm\n"
     ]
    },
    {
     "data": {
      "text/plain": [
       "('7:45PM', str, datetime.datetime(1900, 1, 1, 19, 45))"
      ]
     },
     "execution_count": 28,
     "metadata": {},
     "output_type": "execute_result"
    }
   ],
   "source": [
    "set_alarm()"
   ]
  },
  {
   "cell_type": "code",
   "execution_count": null,
   "id": "fd0d9967",
   "metadata": {},
   "outputs": [],
   "source": []
  }
 ],
 "metadata": {
  "kernelspec": {
   "display_name": "Python 3 (ipykernel)",
   "language": "python",
   "name": "python3"
  },
  "language_info": {
   "codemirror_mode": {
    "name": "ipython",
    "version": 3
   },
   "file_extension": ".py",
   "mimetype": "text/x-python",
   "name": "python",
   "nbconvert_exporter": "python",
   "pygments_lexer": "ipython3",
   "version": "3.9.12"
  }
 },
 "nbformat": 4,
 "nbformat_minor": 5
}
