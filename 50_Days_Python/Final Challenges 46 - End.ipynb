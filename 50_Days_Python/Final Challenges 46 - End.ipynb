{
 "cells": [
  {
   "cell_type": "markdown",
   "id": "aed1c600",
   "metadata": {},
   "source": [
    "### ``Day 46: Create a DataFrame`` \n",
    "* Create a DataFrame using pandas. You are going to create a code to put the following into a DataFrame. You will use the information in the table below. Basically, you are going to recreate this table using pandas. Use the information in the table to recreate the table.\n",
    "\n",
    "|year|title|genre|\n",
    "|----|----|----|\n",
    "|2009|Brothers|Drama|\n",
    "|2002|Spider-Man|Sci-Fi|\n",
    "|2009|WatchMen|Drama|\n",
    "|2010|Inception|Sci-Fi|\n",
    "|2009|Avatar|Fantasy|"
   ]
  },
  {
   "cell_type": "code",
   "execution_count": 1,
   "id": "744fdd30",
   "metadata": {},
   "outputs": [],
   "source": [
    "import pandas as pd"
   ]
  },
  {
   "cell_type": "code",
   "execution_count": 2,
   "id": "5359cb30",
   "metadata": {},
   "outputs": [
    {
     "data": {
      "text/html": [
       "<div>\n",
       "<style scoped>\n",
       "    .dataframe tbody tr th:only-of-type {\n",
       "        vertical-align: middle;\n",
       "    }\n",
       "\n",
       "    .dataframe tbody tr th {\n",
       "        vertical-align: top;\n",
       "    }\n",
       "\n",
       "    .dataframe thead th {\n",
       "        text-align: right;\n",
       "    }\n",
       "</style>\n",
       "<table border=\"1\" class=\"dataframe\">\n",
       "  <thead>\n",
       "    <tr style=\"text-align: right;\">\n",
       "      <th></th>\n",
       "      <th>year</th>\n",
       "      <th>title</th>\n",
       "      <th>genre</th>\n",
       "    </tr>\n",
       "  </thead>\n",
       "  <tbody>\n",
       "    <tr>\n",
       "      <th>0</th>\n",
       "      <td>2009</td>\n",
       "      <td>Brothers</td>\n",
       "      <td>Drama</td>\n",
       "    </tr>\n",
       "    <tr>\n",
       "      <th>1</th>\n",
       "      <td>2002</td>\n",
       "      <td>Spider-Man</td>\n",
       "      <td>Sci-Fi</td>\n",
       "    </tr>\n",
       "    <tr>\n",
       "      <th>2</th>\n",
       "      <td>2009</td>\n",
       "      <td>WatchMen</td>\n",
       "      <td>Drama</td>\n",
       "    </tr>\n",
       "    <tr>\n",
       "      <th>3</th>\n",
       "      <td>2010</td>\n",
       "      <td>Inception</td>\n",
       "      <td>Sci-Fi</td>\n",
       "    </tr>\n",
       "    <tr>\n",
       "      <th>4</th>\n",
       "      <td>2009</td>\n",
       "      <td>Avatar</td>\n",
       "      <td>Fantasy</td>\n",
       "    </tr>\n",
       "  </tbody>\n",
       "</table>\n",
       "</div>"
      ],
      "text/plain": [
       "   year       title    genre\n",
       "0  2009    Brothers    Drama\n",
       "1  2002  Spider-Man   Sci-Fi\n",
       "2  2009    WatchMen    Drama\n",
       "3  2010   Inception   Sci-Fi\n",
       "4  2009      Avatar  Fantasy"
      ]
     },
     "execution_count": 2,
     "metadata": {},
     "output_type": "execute_result"
    }
   ],
   "source": [
    "movies = pd.DataFrame({\n",
    "    'year': [2009, 2002, 2009, 2010, 2009],\n",
    "    'title': ['Brothers', 'Spider-Man', 'WatchMen', 'Inception', 'Avatar'],\n",
    "    'genre': ['Drama', 'Sci-Fi', 'Drama', 'Sci-Fi', 'Fantasy']\n",
    "})\n",
    "movies"
   ]
  },
  {
   "cell_type": "markdown",
   "id": "4c856a76",
   "metadata": {},
   "source": [
    "#### `Extra Challenge: Website Data with Pandas` \n",
    "* Create code that extracts data from a website. \n",
    "* You will extract a table from the website. And from that table, you will extract columns about the data types in Python and their mutability. You will extract information from the following website: https://en.wikipedia.org/wiki/Python_(programming_language)z\n"
   ]
  },
  {
   "cell_type": "code",
   "execution_count": 3,
   "id": "e10846c0",
   "metadata": {},
   "outputs": [
    {
     "name": "stdout",
     "output_type": "stream",
     "text": [
      "<class 'bs4.BeautifulSoup'>\n"
     ]
    }
   ],
   "source": [
    "from bs4 import BeautifulSoup\n",
    "import requests\n",
    "\n",
    "url = \"https://en.wikipedia.org/wiki/Python_(programming_language)\"\n",
    "data = requests.get(url).text\n",
    "\n",
    "soup = BeautifulSoup(data, 'html.parser')\n",
    "print(type(soup))"
   ]
  },
  {
   "cell_type": "code",
   "execution_count": 24,
   "id": "4496cc74",
   "metadata": {},
   "outputs": [],
   "source": [
    "tables = soup.find_all('table')"
   ]
  },
  {
   "cell_type": "code",
   "execution_count": 41,
   "id": "e6667407",
   "metadata": {},
   "outputs": [
    {
     "data": {
      "text/plain": [
       "1"
      ]
     },
     "execution_count": 41,
     "metadata": {},
     "output_type": "execute_result"
    }
   ],
   "source": [
    "len(soup.find_all('table', class_=\"wikitable\"))"
   ]
  },
  {
   "cell_type": "markdown",
   "id": "9ae1f65e",
   "metadata": {},
   "source": [
    "* Now using the find_all method we inspected the webpage and found the class to be the wikitable which our length confirms above should be our primary table, let's look at it now"
   ]
  },
  {
   "cell_type": "code",
   "execution_count": 51,
   "id": "29267746",
   "metadata": {},
   "outputs": [
    {
     "name": "stdout",
     "output_type": "stream",
     "text": [
      "<th>Type\n",
      "</th>\n",
      "<th><a href=\"/wiki/Immutable_object\" title=\"Immutable object\">Mutability</a>\n",
      "</th>\n",
      "<th>Description\n",
      "</th>\n",
      "<th>Syntax examples\n",
      "</th>\n"
     ]
    }
   ],
   "source": [
    "wiki_table = soup.find_all('table', class_=\"wikitable\")\n",
    "table = wiki_table[0]\n",
    "# collect tableheading\n",
    "for heading in table.tbody.find_all('th'):\n",
    "    print(heading)"
   ]
  },
  {
   "cell_type": "code",
   "execution_count": 57,
   "id": "a6e34163",
   "metadata": {},
   "outputs": [
    {
     "name": "stdout",
     "output_type": "stream",
     "text": [
      "0 <tr>\n",
      "<th>Type\n",
      "</th>\n",
      "<th><a href=\"/wiki/Immutable_object\" title=\"Immutable object\">Mutability</a>\n",
      "</th>\n",
      "<th>Description\n",
      "</th>\n",
      "<th>Syntax examples\n",
      "</th></tr>\n",
      "1 <tr>\n",
      "<td><code>bool</code>\n",
      "</td>\n",
      "<td>immutable\n",
      "</td>\n",
      "<td><a class=\"mw-redirect\" href=\"/wiki/Boolean_value\" title=\"Boolean value\">Boolean value</a>\n",
      "</td>\n",
      "<td><code class=\"mw-highlight mw-highlight-lang-python mw-content-ltr\" dir=\"ltr\" id=\"\" style=\"\"><span class=\"kc\">True</span></code><br/><code class=\"mw-highlight mw-highlight-lang-python mw-content-ltr\" dir=\"ltr\" id=\"\" style=\"\"><span class=\"kc\">False</span></code>\n",
      "</td></tr>\n",
      "2 <tr>\n",
      "<td><code>bytearray</code>\n",
      "</td>\n",
      "<td>mutable\n",
      "</td>\n",
      "<td>Sequence of <a href=\"/wiki/Byte\" title=\"Byte\">bytes</a>\n",
      "</td>\n",
      "<td><code class=\"mw-highlight mw-highlight-lang-python mw-content-ltr\" dir=\"ltr\" id=\"\" style=\"\"><span class=\"nb\">bytearray</span><span class=\"p\">(</span><span class=\"sa\">b</span><span class=\"s1\">'Some ASCII'</span><span class=\"p\">)</span></code><br/><code class=\"mw-highlight mw-highlight-lang-python mw-content-ltr\" dir=\"ltr\" id=\"\" style=\"\"><span class=\"nb\">bytearray</span><span class=\"p\">(</span><span class=\"sa\">b</span><span class=\"s2\">\"Some ASCII\"</span><span class=\"p\">)</span></code><br/><code class=\"mw-highlight mw-highlight-lang-python mw-content-ltr\" dir=\"ltr\" id=\"\" style=\"\"><span class=\"nb\">bytearray</span><span class=\"p\">([</span><span class=\"mi\">119</span><span class=\"p\">,</span> <span class=\"mi\">105</span><span class=\"p\">,</span> <span class=\"mi\">107</span><span class=\"p\">,</span> <span class=\"mi\">105</span><span class=\"p\">])</span></code>\n",
      "</td></tr>\n"
     ]
    }
   ],
   "source": [
    "# The result set returned can be sliced so we can look at like the first three\n",
    "for row_number, row in enumerate(table.tbody.find_all('tr')[:3]):\n",
    "    print(row_number, row)"
   ]
  },
  {
   "cell_type": "code",
   "execution_count": null,
   "id": "a4c61754",
   "metadata": {},
   "outputs": [],
   "source": []
  }
 ],
 "metadata": {
  "kernelspec": {
   "display_name": "Python 3 (ipykernel)",
   "language": "python",
   "name": "python3"
  },
  "language_info": {
   "codemirror_mode": {
    "name": "ipython",
    "version": 3
   },
   "file_extension": ".py",
   "mimetype": "text/x-python",
   "name": "python",
   "nbconvert_exporter": "python",
   "pygments_lexer": "ipython3",
   "version": "3.9.12"
  }
 },
 "nbformat": 4,
 "nbformat_minor": 5
}
