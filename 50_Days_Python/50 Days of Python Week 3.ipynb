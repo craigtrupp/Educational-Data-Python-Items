{
 "cells": [
  {
   "cell_type": "markdown",
   "id": "d04a6f54",
   "metadata": {},
   "source": [
    "### 50 Days of Python Week 3 (Start At Question 17)"
   ]
  },
  {
   "cell_type": "markdown",
   "id": "ec3182fa",
   "metadata": {},
   "source": [
    "### **Day 17: User Name Generator**\n",
    "* Write a function called `user_name`, that creates a username for the user. \n",
    "* The function should ask a user to input their name. \n",
    "* The function should then reverse the name and attach a randomly issued number between 0 and 9 at the end of the name. \n",
    "* The function should return the username.\n",
    "    - Ex call : user_name('craig') == 'giarc7'"
   ]
  },
  {
   "cell_type": "code",
   "execution_count": 7,
   "id": "8fe4da8c",
   "metadata": {},
   "outputs": [
    {
     "name": "stdout",
     "output_type": "stream",
     "text": [
      "Please enter your desired username : Eduardo \n"
     ]
    },
    {
     "data": {
      "text/plain": [
       "'Here is your new username : odraude7'"
      ]
     },
     "execution_count": 7,
     "metadata": {},
     "output_type": "execute_result"
    }
   ],
   "source": [
    "def user_name():\n",
    "    import random\n",
    "    random_number_between_0_10 = random.choice(list(range(0, 10)))\n",
    "    user_name = input('Please enter your desired username : ').strip().lower()\n",
    "    return f'Here is your new username : {user_name[::-1]+str(random_number_between_0_10)}'\n",
    "\n",
    "\n",
    "user_name()"
   ]
  },
  {
   "cell_type": "markdown",
   "id": "82a27c14",
   "metadata": {},
   "source": [
    "#### `Extra Challenge` \n",
    "Sort by Length names = [ \"Peter\", \"Jon\", \"Andrew\"] \n",
    "\n",
    "* Write a function called `sort_length` that takes a list of strings as an argument and sorts the strings in ascending order according to their length. \n",
    "* For example, the list above should return: ['Jon', 'Peter', 'Andrew'] Do not use the built-in sort functions."
   ]
  },
  {
   "cell_type": "code",
   "execution_count": 11,
   "id": "1ebea27e",
   "metadata": {},
   "outputs": [
    {
     "name": "stdout",
     "output_type": "stream",
     "text": [
      "['Jon', 'Peter', 'Andrew']\n"
     ]
    }
   ],
   "source": [
    "def sort_length(arr: list):\n",
    "    for item in range(len(arr)):\n",
    "        for j in range(len(arr) - 1):\n",
    "            # Check if any of the words is longer than the other\n",
    "            if len(arr[j]) > len(arr[j + 1]):\n",
    "                # swap the longest for the shortest\n",
    "                arr[j], arr[j + 1] = arr[j + 1], arr[j]\n",
    "    return arr\n",
    "\n",
    "\n",
    "names = [\"Peter\", \"Jon\", \"Andrew\"]\n",
    "print(sort_length(names))    "
   ]
  },
  {
   "cell_type": "code",
   "execution_count": 10,
   "id": "0852a02d",
   "metadata": {},
   "outputs": [
    {
     "data": {
      "text/plain": [
       "['Jon', 'Peter', 'Andrew']"
      ]
     },
     "execution_count": 10,
     "metadata": {},
     "output_type": "execute_result"
    }
   ],
   "source": [
    "def sorted_helper(arg_list):\n",
    "    return sorted(arg_list, key=len, reverse=False) \n",
    "\n",
    "sorted_helper(['Peter', 'Jon', 'Andrew'])"
   ]
  },
  {
   "cell_type": "code",
   "execution_count": null,
   "id": "b3e7b009",
   "metadata": {},
   "outputs": [],
   "source": []
  }
 ],
 "metadata": {
  "kernelspec": {
   "display_name": "Python 3 (ipykernel)",
   "language": "python",
   "name": "python3"
  },
  "language_info": {
   "codemirror_mode": {
    "name": "ipython",
    "version": 3
   },
   "file_extension": ".py",
   "mimetype": "text/x-python",
   "name": "python",
   "nbconvert_exporter": "python",
   "pygments_lexer": "ipython3",
   "version": "3.9.12"
  }
 },
 "nbformat": 4,
 "nbformat_minor": 5
}
