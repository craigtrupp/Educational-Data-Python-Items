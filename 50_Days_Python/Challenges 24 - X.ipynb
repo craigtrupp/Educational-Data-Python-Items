{
 "cells": [
  {
   "cell_type": "markdown",
   "id": "12fb9ec7",
   "metadata": {},
   "source": [
    "### **Day 24: Average Calories**\n",
    "* Write a function called `average_calories` that calculates the average calorie intake of a user. \n",
    "* The function should ask the user to input their calorie intake for any number of days, and once they hit \"done,\" it should calculate and return the average intake."
   ]
  },
  {
   "cell_type": "code",
   "execution_count": 1,
   "id": "2de458b9",
   "metadata": {},
   "outputs": [],
   "source": [
    "def average_calories():\n",
    "    calorie_intake = []\n",
    "    while True:\n",
    "        try:\n",
    "            cal_value = float(input('Please enter your caloric intake numeric value : '))\n",
    "            calorie_intake.append(cal_value)\n",
    "            try:\n",
    "                more_values = input(\"More values? : 'y' or 'n'\").lower()\n",
    "            except ValueError:\n",
    "                return f'Average caloric intake from available data : {sum(calorie_intake)/len(calorie_intake)}'\n",
    "            if more_values == 'y':\n",
    "                continue\n",
    "            else:\n",
    "                return f'Average caloric intake from available data : {sum(calorie_intake)/len(calorie_intake)}'\n",
    "        except ValueError as e:\n",
    "            print('Please enter a valid number')\n",
    "            continue"
   ]
  },
  {
   "cell_type": "code",
   "execution_count": 2,
   "id": "190bda34",
   "metadata": {},
   "outputs": [
    {
     "name": "stdout",
     "output_type": "stream",
     "text": [
      "Please enter your caloric intake numeric value : 500\n",
      "More values? : 'y' or 'n'exit\n"
     ]
    },
    {
     "data": {
      "text/plain": [
       "'Average caloric intake from available data : 500.0'"
      ]
     },
     "execution_count": 2,
     "metadata": {},
     "output_type": "execute_result"
    }
   ],
   "source": [
    "average_calories()"
   ]
  },
  {
   "cell_type": "code",
   "execution_count": 6,
   "id": "fb7d07e0",
   "metadata": {},
   "outputs": [
    {
     "name": "stdout",
     "output_type": "stream",
     "text": [
      "Please enter your caloric intake numeric value : yes\n",
      "Please enter a valid number\n",
      "Please enter your caloric intake numeric value : yes\n",
      "Please enter a valid number\n",
      "Please enter your caloric intake numeric value : 2800\n",
      "More values? : 'y' or 'n'y\n",
      "Please enter your caloric intake numeric value : 2900\n",
      "More values? : 'y' or 'n'y\n",
      "Please enter your caloric intake numeric value : 3100\n",
      "More values? : 'y' or 'n'y\n",
      "Please enter your caloric intake numeric value : 4000\n",
      "More values? : 'y' or 'n'n\n"
     ]
    },
    {
     "data": {
      "text/plain": [
       "'Average caloric intake from available data : 3200.0'"
      ]
     },
     "execution_count": 6,
     "metadata": {},
     "output_type": "execute_result"
    }
   ],
   "source": [
    "average_calories()"
   ]
  },
  {
   "cell_type": "markdown",
   "id": "8e824220",
   "metadata": {},
   "source": [
    "* The function below would be ... an endless loop if one numeric value is never entered\n",
    "* Nested `try/except` block would execute if valid intake is continually given as shown above\n",
    "    - If on more input values you don't get a valid boolean (more or less) it will simply executed what values it has and return an average\n",
    "    - `more_values` variable available in scope from successful try return which will re-enter the true while coniditon for more user_input"
   ]
  },
  {
   "cell_type": "markdown",
   "id": "e79088c1",
   "metadata": {},
   "source": [
    "`Extra Challenge:`\n",
    "\n",
    "* Create a Nested List \n",
    "* Write a function called `nested_lists` that takes any number of lists and creates a 2-dimensional nested list of lists. \n",
    "* For example, if you pass the following lists as arguments: [1, 2, 3, 5], [1, 2, 3, 4], [1, 3, 4, 5]. Your code should return: [[1, 2, 3, 5], [1, 2, 3, 4], [1, 3, 4, 5]]\n"
   ]
  },
  {
   "cell_type": "code",
   "execution_count": 4,
   "id": "015704a8",
   "metadata": {},
   "outputs": [
    {
     "data": {
      "text/plain": [
       "[[1, 2, 3, 5], [1, 2, 3, 4], [1, 3, 4, 5]]"
      ]
     },
     "execution_count": 4,
     "metadata": {},
     "output_type": "execute_result"
    }
   ],
   "source": [
    "def nested_list(*args):\n",
    "    return [list for list in args]\n",
    "\n",
    "nested_list([1,2,3,5], [1,2,3,4], [1,3,4,5])"
   ]
  },
  {
   "cell_type": "markdown",
   "id": "73689bd7",
   "metadata": {},
   "source": [
    "### **Day 25: All the Same**\n",
    "\n",
    "* Write a function called `all_the_same` that takes one argument, a string, a list, or a tuple, and checks if all the elements are the same. If the elements are the same, the function should return True. If not, it should return False. \n",
    "* For example, [\"Mary\", \"Mary\", \"Mary\"] should return True."
   ]
  },
  {
   "cell_type": "code",
   "execution_count": 10,
   "id": "82aa3577",
   "metadata": {},
   "outputs": [],
   "source": [
    "def all_the_same(test_arg):\n",
    "    # isolate first character in the argument\n",
    "    if len(test_arg) <= 1:\n",
    "        return 'Not long enought to check'\n",
    "    else:\n",
    "        first_item = test_arg[0]\n",
    "        for subsequent_items in range(1, len(test_arg)):\n",
    "            if test_arg[subsequent_items] != first_item:\n",
    "                return False\n",
    "            else:\n",
    "                continue\n",
    "    return True"
   ]
  },
  {
   "cell_type": "code",
   "execution_count": 11,
   "id": "5e2bab0e",
   "metadata": {},
   "outputs": [
    {
     "data": {
      "text/plain": [
       "True"
      ]
     },
     "execution_count": 11,
     "metadata": {},
     "output_type": "execute_result"
    }
   ],
   "source": [
    "all_the_same(['Mary', 'Mary', 'Mary'])"
   ]
  },
  {
   "cell_type": "code",
   "execution_count": 12,
   "id": "15bf3e63",
   "metadata": {},
   "outputs": [
    {
     "data": {
      "text/plain": [
       "False"
      ]
     },
     "execution_count": 12,
     "metadata": {},
     "output_type": "execute_result"
    }
   ],
   "source": [
    "all_the_same(['Mary', 'Mary', 'mary', 'Mary'])"
   ]
  },
  {
   "cell_type": "markdown",
   "id": "c70e9c62",
   "metadata": {},
   "source": [
    "#### `Extra Challenge: Reverse a String` \n",
    "* str1 = \"the love is real\" \n",
    "* Write a function called `read_backwards` that takes a string as an argument and reverses it. The string above, for example, should return: \"real is love the.\""
   ]
  },
  {
   "cell_type": "code",
   "execution_count": 17,
   "id": "21e2dbc0",
   "metadata": {},
   "outputs": [],
   "source": [
    "def read_backwards(sample_str):\n",
    "    # split (default is white space), reverse the elements in the list, join and return\n",
    "    return ' '.join(sample_str.split()[::-1])"
   ]
  },
  {
   "cell_type": "code",
   "execution_count": 18,
   "id": "592f0498",
   "metadata": {},
   "outputs": [
    {
     "data": {
      "text/plain": [
       "'real is love the'"
      ]
     },
     "execution_count": 18,
     "metadata": {},
     "output_type": "execute_result"
    }
   ],
   "source": [
    "read_backwards('the love is real')"
   ]
  },
  {
   "cell_type": "markdown",
   "id": "72408de0",
   "metadata": {},
   "source": [
    "### **Day 26: Sort Words**\n",
    "* Write a function called `sort_words` that takes a string of words as an argument, removes the whitespaces, and returns a list of letters sorted in alphabetical order. \n",
    "* Letters will be separated by commas. \n",
    "* All letters should appear once in the list. \n",
    "    - This means that you sort and remove duplicates. \n",
    "* For example, \"love life\" should return as ['e, f, i, l, o, v'].\n"
   ]
  },
  {
   "cell_type": "code",
   "execution_count": 39,
   "id": "15e150b0",
   "metadata": {},
   "outputs": [],
   "source": [
    "def sort_words(str_words):\n",
    "    import re\n",
    "    letters = re.findall('[a-z]', str_words.lower())\n",
    "    letters_no_dupes = list(set(letters))\n",
    "    sorted_return = sorted(letters_no_dupes)\n",
    "    print(f'Original string with potential duplicates : {letters}')\n",
    "    print(f'String with no dupes : {letters_no_dupes}')\n",
    "    return sorted_return"
   ]
  },
  {
   "cell_type": "code",
   "execution_count": 40,
   "id": "279076f2",
   "metadata": {},
   "outputs": [
    {
     "name": "stdout",
     "output_type": "stream",
     "text": [
      "Original string with potential duplicates : ['l', 'o', 'v', 'e', 'l', 'i', 'f', 'e']\n",
      "String with no dupes : ['o', 'f', 'v', 'i', 'l', 'e']\n"
     ]
    },
    {
     "data": {
      "text/plain": [
       "['e', 'f', 'i', 'l', 'o', 'v']"
      ]
     },
     "execution_count": 40,
     "metadata": {},
     "output_type": "execute_result"
    }
   ],
   "source": [
    "sort_words('love life')"
   ]
  },
  {
   "cell_type": "markdown",
   "id": "d2971ff1",
   "metadata": {},
   "source": [
    "#### `Extra Challenge: Length of Words`\n",
    "```python\n",
    "s = 'Hi my name is Richard'\n",
    "```\n",
    "* Write a function called `string_length` that takes a string of words (words and spaces) as argument. \n",
    "* This function should return the length of all the words in the string. \n",
    "* Return the results in the form of a dictionary. \n",
    "    - The string above should return:{'Hi': 2, 'my': 2, 'name': 4, 'is': 2, 'Richard': 7}"
   ]
  },
  {
   "cell_type": "code",
   "execution_count": 48,
   "id": "62e455f9",
   "metadata": {},
   "outputs": [],
   "source": [
    "s = 'Hi, my name is Richard,'\n",
    "def string_length(str_words):\n",
    "    import re\n",
    "    words = re.findall('\\w+', str_words)\n",
    "    return {x:len(x) for x in words}"
   ]
  },
  {
   "cell_type": "code",
   "execution_count": 49,
   "id": "c342ef92",
   "metadata": {},
   "outputs": [
    {
     "data": {
      "text/plain": [
       "{'Hi': 2, 'my': 2, 'name': 4, 'is': 2, 'Richard': 7}"
      ]
     },
     "execution_count": 49,
     "metadata": {},
     "output_type": "execute_result"
    }
   ],
   "source": [
    "string_length(s)"
   ]
  },
  {
   "cell_type": "markdown",
   "id": "898e7f5a",
   "metadata": {},
   "source": [
    "### **Day 27: Unique Numbers** \n",
    "\n",
    "* Write a function called `unique_numbers` that takes a list of numbers as an argument. \n",
    "* Your function is going to find all the unique numbers in the list. \n",
    "* It will then sum up the unique numbers. \n",
    "* You will calculate the difference between the sum of all the numbers in the original list and the sum of the unique numbers in the list. \n",
    "* If the difference is an even number, your function should return the original list. \n",
    "* If the difference is an odd number, your function should return a list with unique numbers only. \n",
    "* For example [1, 2, 4, 5, 6, 7, 8, 8] should return [1, 2, 4, 5, 6, 7, 8, 8].\n"
   ]
  },
  {
   "cell_type": "code",
   "execution_count": 58,
   "id": "1f4d54e4",
   "metadata": {},
   "outputs": [],
   "source": [
    "def unique_numbers(lst_nums):\n",
    "    sum_orig_list = sum(lst_nums)\n",
    "    sum_unique_lst_numbs = sum(list(set(lst_nums)))\n",
    "    # using parentheses allowed to the if to evaluate\n",
    "    if (sum_orig_list - sum_unique_lst_numbs) % 2 == 0:\n",
    "        return lst_nums\n",
    "    else:\n",
    "        return list(set(lst_nums))\n",
    "        "
   ]
  },
  {
   "cell_type": "code",
   "execution_count": 59,
   "id": "2f5f6416",
   "metadata": {},
   "outputs": [
    {
     "data": {
      "text/plain": [
       "[1, 2, 4, 5, 6, 7, 8, 8]"
      ]
     },
     "execution_count": 59,
     "metadata": {},
     "output_type": "execute_result"
    }
   ],
   "source": [
    "unique_numbers([1,2,4,5,6,7,8,8])"
   ]
  },
  {
   "cell_type": "code",
   "execution_count": 60,
   "id": "c9e92b1e",
   "metadata": {},
   "outputs": [
    {
     "data": {
      "text/plain": [
       "[1, 3, 9]"
      ]
     },
     "execution_count": 60,
     "metadata": {},
     "output_type": "execute_result"
    }
   ],
   "source": [
    "unique_numbers([1, 3, 3, 9]) # list would be 16 and 13 for respective sum (3) = else clause for unique"
   ]
  },
  {
   "cell_type": "markdown",
   "id": "44b91b10",
   "metadata": {},
   "source": [
    "#### `Extra Challenge: Difference of Two Lists`\n",
    "* Write a function called `difference` that takes two lists as arguments. \n",
    "* This function should return all the elements that are in `list a` but not in `list b` \n",
    "* and all the elements in `list b` but not in `list a`\n",
    "* For example: list1 = [1, 2, 4, 5, 6] list2 = [1, 2, 5, 7, 9] should return: [4, 6, 7, 9]\n",
    "\n"
   ]
  },
  {
   "cell_type": "code",
   "execution_count": 70,
   "id": "63dc72e1",
   "metadata": {},
   "outputs": [],
   "source": [
    "def difference(lst_a, lst_b):\n",
    "    set_a, set_b = set(lst_a), set(lst_b)\n",
    "    print(set_a, set_b)\n",
    "    set_a_unq = set_a.difference(set_b)\n",
    "    set_b_unq = set_b.difference(set_a)\n",
    "    # we can iterate and use the **extend** list method to return one set\n",
    "    combined = [x for x in set_a_unq] # None type (need)\n",
    "    combined.extend([x for x in set_b_unq]) # have to mutate after for values to extend (mutates object in place)\n",
    "    return set_a_unq, set_b_unq, combined"
   ]
  },
  {
   "cell_type": "code",
   "execution_count": 71,
   "id": "a541ed9f",
   "metadata": {},
   "outputs": [
    {
     "name": "stdout",
     "output_type": "stream",
     "text": [
      "{1, 2, 4, 5, 6} {1, 2, 5, 7, 9}\n"
     ]
    },
    {
     "data": {
      "text/plain": [
       "({4, 6}, {7, 9}, [4, 6, 9, 7])"
      ]
     },
     "execution_count": 71,
     "metadata": {},
     "output_type": "execute_result"
    }
   ],
   "source": [
    "difference([1,2,4,5,6], [1,2,5,7,9])"
   ]
  },
  {
   "cell_type": "markdown",
   "id": "ef43dfee",
   "metadata": {},
   "source": [
    "* With list comprehension"
   ]
  },
  {
   "cell_type": "code",
   "execution_count": 76,
   "id": "0f727377",
   "metadata": {},
   "outputs": [],
   "source": [
    "def difference_lc(lst_a, lst_b):\n",
    "    return [x for x in lst_a if x not in lst_b] + [x for x in lst_b if x not in lst_a]"
   ]
  },
  {
   "cell_type": "code",
   "execution_count": 77,
   "id": "8527b509",
   "metadata": {},
   "outputs": [
    {
     "data": {
      "text/plain": [
       "[4, 6, 7, 9]"
      ]
     },
     "execution_count": 77,
     "metadata": {},
     "output_type": "execute_result"
    }
   ],
   "source": [
    "difference_lc([1,2,4,5,6], [1,2,5,7,9])"
   ]
  },
  {
   "cell_type": "markdown",
   "id": "f5b72721",
   "metadata": {},
   "source": [
    "### **Day 28: Return Indexes** \n",
    "* Write a function called `index_position`. \n",
    "    - This function takes a string as a parameter and returns the positions, or indexes, of all lowercase letters in the string. \n",
    "    - For example, \"LovE\" should return [1, 2]."
   ]
  },
  {
   "cell_type": "code",
   "execution_count": 84,
   "id": "0561f4d8",
   "metadata": {},
   "outputs": [],
   "source": [
    "def index_position(str_prm):\n",
    "    return [f'lowercase letter of : {letter} at index position {i}' for i,letter in \n",
    "            enumerate(str_prm) if letter.islower()]"
   ]
  },
  {
   "cell_type": "code",
   "execution_count": 85,
   "id": "fe670165",
   "metadata": {},
   "outputs": [
    {
     "data": {
      "text/plain": [
       "['lowercase letter of : o at index position 1',\n",
       " 'lowercase letter of : v at index position 2']"
      ]
     },
     "execution_count": 85,
     "metadata": {},
     "output_type": "execute_result"
    }
   ],
   "source": [
    "index_position('LovE')"
   ]
  },
  {
   "cell_type": "markdown",
   "id": "cf5c3fbf",
   "metadata": {},
   "source": [
    "#### `Extra Challenge: Largest Number`\n",
    "* Write a function called `largest_number` that takes a list of integers and re-arranges the individual digits to create the largest number possible. \n",
    "* For example, if you pass the following as an argument, list1 = [3, 67, 87, 9, 2]. \n",
    "    - Your code should return the number in this exact format: 9,877,632 as the largest number.\n"
   ]
  },
  {
   "cell_type": "code",
   "execution_count": 92,
   "id": "be3ad9e0",
   "metadata": {},
   "outputs": [],
   "source": [
    "def largest_number_test(int_lst):\n",
    "    individual_nums = []\n",
    "    # mutate values to a str to check for length and separate numbers\n",
    "    str_lst = [str(x) for x in int_lst]\n",
    "    for str_num in str_lst:\n",
    "        while len(str_num) > 1:\n",
    "            # add first index of string to list and\n",
    "            individual_nums.append(int(str_num[0]))\n",
    "            # set new value of string to be evaluated in next while check\n",
    "            str_num = str_num[1:]\n",
    "        # if less append int value to individual_nums\n",
    "        individual_nums.append(int(str_num[0]))\n",
    "    return individual_nums"
   ]
  },
  {
   "cell_type": "code",
   "execution_count": 93,
   "id": "01039cf1",
   "metadata": {},
   "outputs": [
    {
     "data": {
      "text/plain": [
       "[3, 6, 7, 8, 7, 4, 5, 3, 9, 2]"
      ]
     },
     "execution_count": 93,
     "metadata": {},
     "output_type": "execute_result"
    }
   ],
   "source": [
    "largest_number_test([3, 67, 87453, 9, 2])"
   ]
  },
  {
   "cell_type": "markdown",
   "id": "f589a811",
   "metadata": {},
   "source": [
    "#### Quick Explanation of While\n",
    "* For the value **87453** in the list above here is how it works in slicing a new value of a string to in a way recursively cut down the value to a single value\n",
    "    - First Loop (87453)\n",
    "        - appends the 8 to the list\n",
    "        - resets the value ( in the while condition : str value of each index in the argument) being mutated to 7453\n",
    "    - Second Loop(7453)\n",
    "        - appends the 7 to the list\n",
    "        - resets the value to 453\n",
    "* Most importantly this works as the while value in the condition is being `mutated` after each capture of the int value at the beginning of the string (so in a sense just chopping and checking the value)"
   ]
  },
  {
   "cell_type": "code",
   "execution_count": 99,
   "id": "4cd61941",
   "metadata": {},
   "outputs": [],
   "source": [
    "def largest_number(int_lst):\n",
    "    individual_nums = []\n",
    "    # mutate values to a str to check for length and separate numbers\n",
    "    str_lst = [str(x) for x in int_lst]\n",
    "    for str_num in str_lst:\n",
    "        while len(str_num) > 1:\n",
    "            # add first index of string to list and\n",
    "            individual_nums.append(int(str_num[0]))\n",
    "            # set new value of string to be evaluated in next while check\n",
    "            str_num = str_num[1:]\n",
    "        # if less append int value to individual_nums\n",
    "        individual_nums.append(int(str_num[0]))\n",
    "    return sorted(individual_nums, reverse=True)"
   ]
  },
  {
   "cell_type": "code",
   "execution_count": 110,
   "id": "d28518d8",
   "metadata": {},
   "outputs": [
    {
     "name": "stdout",
     "output_type": "stream",
     "text": [
      "Here is the individual integers sorted : [9, 8, 7, 7, 6, 3, 2]\n",
      "Here is the string of all integers combined and sorted : 9877632\n"
     ]
    }
   ],
   "source": [
    "test = largest_number([3, 67, 87, 9, 2])\n",
    "print(f'Here is the individual integers sorted : {test}')\n",
    "# Convert each index back to a str to create a string \n",
    "test_str = ''.join([str(x) for x in test])\n",
    "print(f'Here is the string of all integers combined and sorted : {test_str}')"
   ]
  },
  {
   "cell_type": "markdown",
   "id": "2b7633ca",
   "metadata": {},
   "source": [
    "* Have to then mutate the string value (last ouput above) to an int so the string can then be formated"
   ]
  },
  {
   "cell_type": "code",
   "execution_count": 111,
   "id": "8d86c1a1",
   "metadata": {},
   "outputs": [
    {
     "name": "stdout",
     "output_type": "stream",
     "text": [
      "Python 3 formatted string with commas : 9,877,632\n",
      "Python 2 formatted string with commas : 9,877,632\n"
     ]
    }
   ],
   "source": [
    "num_sorted_value = int(test_str) # can't format a str needs to be an int\n",
    "test_str_formatted_3, test_str_formatted_2 = f'{num_sorted_value:,}', '{:,}'.format(num_sorted_value)\n",
    "print(f'Python 3 formatted string with commas : {test_str_formatted_3}')\n",
    "print(f'Python 2 formatted string with commas : {test_str_formatted_2}')"
   ]
  },
  {
   "cell_type": "markdown",
   "id": "9eaf8b12",
   "metadata": {},
   "source": [
    "### **Day 29: Middle Figure**\n",
    "\n",
    "* Write a function called `middle_figure` that takes two parameters, a and b. \n",
    "* The two parameters are strings. \n",
    "* The function joins the two strings and finds the middle element. \n",
    "* If the combined string has a middle element, the function should return the element; otherwise, it should return \"no middle figure.\" \n",
    "* Use \"make love\" as an argument for a, and \"not wars\" as an argument for b. \n",
    "* Your function should return \"e\" as the middle element. Whitespaces should be removed."
   ]
  },
  {
   "cell_type": "code",
   "execution_count": 136,
   "id": "36722694",
   "metadata": {},
   "outputs": [],
   "source": [
    "def middle_figure(a, b):\n",
    "    import re\n",
    "    all_words = []\n",
    "    for passed_string in [a, b]:\n",
    "        found_words = re.findall(r'\\w+', passed_string)\n",
    "        # unpack list return into all words list to avoid list of lists\n",
    "        all_words.extend(found_words)\n",
    "    # all found words now in all_words as one single array, will join for combined string\n",
    "    combined_string = ''.join(all_words)\n",
    "    if len(combined_string) % 2 != 0:\n",
    "        print('This combined string has an odd length and thus ... a middle element!')\n",
    "        # Can take advantage of zero indexing for str and use floor division to get the middle argument \n",
    "        # Example 15 // 2 == 7 and a str of len 15 would have a middle argument at 7 with the zero indexing of a str\n",
    "        middle_element = combined_string[len(combined_string) // 2]\n",
    "        return f'The middle element for the combined string of {combined_string} is : {middle_element}'\n",
    "    return all_words, combined_string, len(combined_string)"
   ]
  },
  {
   "cell_type": "code",
   "execution_count": 137,
   "id": "f0226d3c",
   "metadata": {},
   "outputs": [
    {
     "name": "stdout",
     "output_type": "stream",
     "text": [
      "This combined string has an odd length and thus ... a middle element!\n"
     ]
    },
    {
     "data": {
      "text/plain": [
       "'The middle element for the combined string of makelovenotwars is : e'"
      ]
     },
     "execution_count": 137,
     "metadata": {},
     "output_type": "execute_result"
    }
   ],
   "source": [
    "middle_figure('make love', 'not wars')"
   ]
  },
  {
   "cell_type": "code",
   "execution_count": 135,
   "id": "b869250a",
   "metadata": {},
   "outputs": [
    {
     "data": {
      "text/plain": [
       "7"
      ]
     },
     "execution_count": 135,
     "metadata": {},
     "output_type": "execute_result"
    }
   ],
   "source": [
    "15 // 2"
   ]
  },
  {
   "cell_type": "code",
   "execution_count": null,
   "id": "fad02c60",
   "metadata": {},
   "outputs": [],
   "source": []
  }
 ],
 "metadata": {
  "kernelspec": {
   "display_name": "Python 3 (ipykernel)",
   "language": "python",
   "name": "python3"
  },
  "language_info": {
   "codemirror_mode": {
    "name": "ipython",
    "version": 3
   },
   "file_extension": ".py",
   "mimetype": "text/x-python",
   "name": "python",
   "nbconvert_exporter": "python",
   "pygments_lexer": "ipython3",
   "version": "3.9.12"
  }
 },
 "nbformat": 4,
 "nbformat_minor": 5
}
