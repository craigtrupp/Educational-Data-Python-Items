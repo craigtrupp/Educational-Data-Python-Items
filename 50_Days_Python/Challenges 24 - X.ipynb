{
 "cells": [
  {
   "cell_type": "markdown",
   "id": "12fb9ec7",
   "metadata": {},
   "source": [
    "### **Day 24: Average Calories**\n",
    "* Write a function called `average_calories` that calculates the average calorie intake of a user. \n",
    "* The function should ask the user to input their calorie intake for any number of days, and once they hit \"done,\" it should calculate and return the average intake."
   ]
  },
  {
   "cell_type": "code",
   "execution_count": 4,
   "id": "2de458b9",
   "metadata": {},
   "outputs": [],
   "source": [
    "def average_calories():\n",
    "    calorie_intake = []\n",
    "    while True:\n",
    "        try:\n",
    "            cal_value = float(input('Please enter your caloric intake numeric value : '))\n",
    "            calorie_intake.append(cal_value)\n",
    "            try:\n",
    "                more_values = input(\"More values? : 'y' or 'n'\").lower()\n",
    "            except ValueError:\n",
    "                return f'Average caloric intake from available data : {sum(calorie_intake)/len(calorie_intake)}'\n",
    "            if more_values == 'y':\n",
    "                continue\n",
    "            else:\n",
    "                return f'Average caloric intake from available data : {sum(calorie_intake)/len(calorie_intake)}'\n",
    "        except ValueError as e:\n",
    "            print('Please enter a valid number')\n",
    "            continue"
   ]
  },
  {
   "cell_type": "code",
   "execution_count": 5,
   "id": "190bda34",
   "metadata": {},
   "outputs": [
    {
     "name": "stdout",
     "output_type": "stream",
     "text": [
      "Please enter your caloric intake numeric value : 2900\n",
      "More values? : 'y' or 'n'n\n"
     ]
    },
    {
     "data": {
      "text/plain": [
       "'Average caloric intake from available data : 2900.0'"
      ]
     },
     "execution_count": 5,
     "metadata": {},
     "output_type": "execute_result"
    }
   ],
   "source": [
    "average_calories()"
   ]
  },
  {
   "cell_type": "code",
   "execution_count": 6,
   "id": "fb7d07e0",
   "metadata": {},
   "outputs": [
    {
     "name": "stdout",
     "output_type": "stream",
     "text": [
      "Please enter your caloric intake numeric value : yes\n",
      "Please enter a valid number\n",
      "Please enter your caloric intake numeric value : yes\n",
      "Please enter a valid number\n",
      "Please enter your caloric intake numeric value : 2800\n",
      "More values? : 'y' or 'n'y\n",
      "Please enter your caloric intake numeric value : 2900\n",
      "More values? : 'y' or 'n'y\n",
      "Please enter your caloric intake numeric value : 3100\n",
      "More values? : 'y' or 'n'y\n",
      "Please enter your caloric intake numeric value : 4000\n",
      "More values? : 'y' or 'n'n\n"
     ]
    },
    {
     "data": {
      "text/plain": [
       "'Average caloric intake from available data : 3200.0'"
      ]
     },
     "execution_count": 6,
     "metadata": {},
     "output_type": "execute_result"
    }
   ],
   "source": [
    "average_calories()"
   ]
  },
  {
   "cell_type": "markdown",
   "id": "8e824220",
   "metadata": {},
   "source": [
    "* The function below would be ... an endless loop if one numeric value is never entered\n",
    "* Nested `try/except` block would execute if valid intake is continually given as shown above\n",
    "    - If on more input values you don't get a valid boolean (more or less) it will simply executed what values it has and return an average\n",
    "    - `more_values` variable available in scope from successful try return which will re-enter the true while coniditon for more user_input"
   ]
  },
  {
   "cell_type": "code",
   "execution_count": null,
   "id": "eae702b4",
   "metadata": {},
   "outputs": [],
   "source": []
  }
 ],
 "metadata": {
  "kernelspec": {
   "display_name": "Python 3 (ipykernel)",
   "language": "python",
   "name": "python3"
  },
  "language_info": {
   "codemirror_mode": {
    "name": "ipython",
    "version": 3
   },
   "file_extension": ".py",
   "mimetype": "text/x-python",
   "name": "python",
   "nbconvert_exporter": "python",
   "pygments_lexer": "ipython3",
   "version": "3.9.12"
  }
 },
 "nbformat": 4,
 "nbformat_minor": 5
}
