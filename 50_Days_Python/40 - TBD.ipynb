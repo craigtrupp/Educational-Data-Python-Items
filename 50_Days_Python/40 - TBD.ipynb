{
 "cells": [
  {
   "cell_type": "markdown",
   "id": "ca4825d7",
   "metadata": {},
   "source": [
    "### **Day 40: Pig Latin** \n",
    "* Write a function called translate that takes the following words and translates them into Pig Latin.\n",
    "\n",
    "```python\n",
    "a = 'i love python'\n",
    "\n",
    "# Should return : iyay ovelay ythonpay\n",
    "```\n",
    "\n",
    "`Rules`\n",
    "* IF a word starts with a vowel (a, e, i, o, u) add 'yay' at the end. \n",
    "    - For example, 'eat' will become **eatyay**\n",
    "* IF a word start with anything other than a vowel, move the first leeter to the end and add 'ay' to the end\n",
    "    - For example 'day' will become **ayday**\n",
    "\n",
    "\n"
   ]
  },
  {
   "cell_type": "code",
   "execution_count": 10,
   "id": "da0b5a8e",
   "metadata": {},
   "outputs": [],
   "source": [
    "import re\n",
    "def translate(str_words):\n",
    "    print([re.match('^[(aeiou)|(AEIOU)].*', x) for x in str_words.split()])\n",
    "    pig_latin_words = []\n",
    "    # split string on whitespace, iterate through each \n",
    "    for word in str_words.split():\n",
    "        if re.match('^[(aeiou)|(AEIOU)].*', word) is not None:\n",
    "            pig_latin_words.append(f'{word}yay')\n",
    "        else:\n",
    "            pig_latin_words.append(f'{word[1:]}{word[0]}ay')\n",
    "    return pig_latin_words, ' '.join(pig_latin_words)"
   ]
  },
  {
   "cell_type": "code",
   "execution_count": 11,
   "id": "1ba3c62d",
   "metadata": {},
   "outputs": [
    {
     "name": "stdout",
     "output_type": "stream",
     "text": [
      "[<re.Match object; span=(0, 1), match='i'>, None, None]\n"
     ]
    },
    {
     "data": {
      "text/plain": [
       "(['iyay', 'ovelay', 'ythonpay'], 'iyay ovelay ythonpay')"
      ]
     },
     "execution_count": 11,
     "metadata": {},
     "output_type": "execute_result"
    }
   ],
   "source": [
    "translate('i love python')"
   ]
  },
  {
   "cell_type": "markdown",
   "id": "2eed8838",
   "metadata": {},
   "source": [
    "### **Day 41: Only Words w/Vowels**\n",
    "* Create a function called `words_with_vowels`. \n",
    "* This function takes a string of words and returns a list of only the words that have vowles in them\n",
    "* For example,\n",
    "    * \"You have no rhythm\" should return : ['you', 'have', 'no']"
   ]
  },
  {
   "cell_type": "code",
   "execution_count": 18,
   "id": "b8f994f8",
   "metadata": {},
   "outputs": [],
   "source": [
    "def words_with_vowels(str_words):\n",
    "    words_containing_vowels = []\n",
    "    for word in str_words.split():\n",
    "        if re.search('[AEIOU]', word, re.IGNORECASE) is not None:\n",
    "            words_containing_vowels.append(word)\n",
    "    return words_containing_vowels"
   ]
  },
  {
   "cell_type": "code",
   "execution_count": 19,
   "id": "f939fbde",
   "metadata": {},
   "outputs": [
    {
     "data": {
      "text/plain": [
       "['You', 'have', 'no']"
      ]
     },
     "execution_count": 19,
     "metadata": {},
     "output_type": "execute_result"
    }
   ],
   "source": [
    "words_with_vowels('You have no rhythm')"
   ]
  },
  {
   "cell_type": "code",
   "execution_count": 21,
   "id": "42ee01bd",
   "metadata": {},
   "outputs": [
    {
     "data": {
      "text/plain": [
       "['you', 'have', 'nO']"
      ]
     },
     "execution_count": 21,
     "metadata": {},
     "output_type": "execute_result"
    }
   ],
   "source": [
    "words_with_vowels('you have nO rhythm')"
   ]
  },
  {
   "cell_type": "markdown",
   "id": "ad8abbb7",
   "metadata": {},
   "source": [
    "* The IGNORECASE third condition with search catches the vowel regardles (see nO)"
   ]
  },
  {
   "cell_type": "markdown",
   "id": "f88fdcc1",
   "metadata": {},
   "source": [
    "#### `Extra Challenge`\n",
    "* Inheritance"
   ]
  },
  {
   "cell_type": "code",
   "execution_count": 26,
   "id": "0f05f46d",
   "metadata": {},
   "outputs": [],
   "source": [
    "class Cars:\n",
    "    def __init__(self, model, color, year, transmission, electric=False):\n",
    "        self.model = model\n",
    "        self.color = color\n",
    "        self.year = year\n",
    "        self.transmission = transmission\n",
    "        self.electric = electric\n",
    "    # Class method\n",
    "    def print_car(self):\n",
    "        return f'car_model={self.model}\\nColor={self.color}\\nYear={self.year}'\\\n",
    "                f'\\nTransmission={self.transmission}\\nElectric={self.electric}'\n",
    "\n",
    "class BMW(Cars):\n",
    "    def __init__(self, model, color, year, transmission, electric=False):\n",
    "        super().__init__(model, color, year, transmission, electric)"
   ]
  },
  {
   "cell_type": "code",
   "execution_count": 27,
   "id": "4c764f2a",
   "metadata": {},
   "outputs": [
    {
     "name": "stdout",
     "output_type": "stream",
     "text": [
      "car_model=X6\n",
      "Color=silver\n",
      "Year=2019\n",
      "Transmission=Auto\n",
      "Electric=False\n"
     ]
    }
   ],
   "source": [
    "bmw1 = BMW('X6', 'silver', 2019, 'Auto')\n",
    "print(bmw1.print_car())"
   ]
  },
  {
   "cell_type": "code",
   "execution_count": null,
   "id": "82ac491a",
   "metadata": {},
   "outputs": [],
   "source": []
  }
 ],
 "metadata": {
  "kernelspec": {
   "display_name": "Python 3 (ipykernel)",
   "language": "python",
   "name": "python3"
  },
  "language_info": {
   "codemirror_mode": {
    "name": "ipython",
    "version": 3
   },
   "file_extension": ".py",
   "mimetype": "text/x-python",
   "name": "python",
   "nbconvert_exporter": "python",
   "pygments_lexer": "ipython3",
   "version": "3.9.12"
  }
 },
 "nbformat": 4,
 "nbformat_minor": 5
}
