{
 "cells": [
  {
   "cell_type": "markdown",
   "id": "9c62eeb7",
   "metadata": {},
   "source": [
    "### 50 Days of Python Week 2"
   ]
  },
  {
   "cell_type": "markdown",
   "id": "1e3c689b",
   "metadata": {},
   "source": [
    "### Day 8 `Odd & Even`\n",
    "Write a function called `odd_even` that has one parameter and takes a list of numbers as an argument. The function returns the difference between the largest even number in the list and the smallest odd number in the list. \n",
    "* For example, if you pass [1, 2, 4, 6] as an argument, the function should return 6 - 1 = 5.\n"
   ]
  },
  {
   "cell_type": "code",
   "execution_count": 11,
   "id": "00ef3928",
   "metadata": {},
   "outputs": [
    {
     "name": "stdout",
     "output_type": "stream",
     "text": [
      "Our Even list sorted : [6, 4, 2]\n",
      "Our Odd list sorted : [1]\n",
      "5\n",
      "Our Even list sorted : [18, 8]\n",
      "Our Odd list sorted : [29, 13, 9, 7]\n",
      "-11\n"
     ]
    }
   ],
   "source": [
    "def odd_even(list_numbers):\n",
    "    # we can use the modulus to isolate odd from even (remainder of attemptd division by 2)\n",
    "    # then use the sorted helper method to organize the highest even/odd number from each list\n",
    "    even_list = sorted([x for x in list_numbers if x % 2 == 0], reverse=True)\n",
    "    odd_list = sorted([x for x in list_numbers if x % 2 != 0], reverse=True)\n",
    "    print(\"Our Even list sorted : {}\".format(even_list))\n",
    "    print(\"Our Odd list sorted : {}\".format(odd_list))\n",
    "    return even_list[0] - odd_list[0]\n",
    "\n",
    "print(odd_even([1,2,4,6])) # would expect 5\n",
    "print(odd_even([13, 9, 8, 7, 18, 29])) # would expect -11"
   ]
  },
  {
   "cell_type": "markdown",
   "id": "4bdd4f5d",
   "metadata": {},
   "source": [
    "### Extra Challenge `List of Prime Numbers`\n",
    "Write a function called prime_numbers. This function asks the user to enter a number (an integer) as an argument and returns a list of all the prime numbers within its range. \n",
    "\n",
    "* For example, if the user enters 10, your code should return [2, 3, 5, 7] as prime numbers.\n",
    "* Another method is to check if the number is divisible by any prime numbers less than or equal to the square root of the number. This is more efficient than the previous method, as it eliminates the need to check for divisibility by larger numbers."
   ]
  },
  {
   "cell_type": "code",
   "execution_count": 14,
   "id": "3f4ee938",
   "metadata": {},
   "outputs": [
    {
     "data": {
      "text/plain": [
       "[2, 3, 5, 7]"
      ]
     },
     "execution_count": 14,
     "metadata": {},
     "output_type": "execute_result"
    }
   ],
   "source": [
    "# The prime numbers from 1 to 100 are: 2, 3, 5, 7, 11, 13, 17, 19, 23, 29, 31, \n",
    "# 37, 41, 43, 47, 53, 59, 61, 67, 71, 73, 79, 83, 89, 97. (Essentially only divisble by 1 and itself)\n",
    "import numpy as np\n",
    "def prime_numbers(number_arg):\n",
    "    number_arg = int(number_arg)\n",
    "    prime_numbers = [2,3,5,7,11,13,17,19,23,29,31,37,41,43,47,58,59,61,67,71,73,79,83,89,97]\n",
    "    return [x for x in prime_numbers if x < number_arg]\n",
    "\n",
    "prime_numbers(10)"
   ]
  },
  {
   "cell_type": "code",
   "execution_count": 25,
   "id": "a0acecb7",
   "metadata": {},
   "outputs": [
    {
     "data": {
      "text/plain": [
       "[2, 3, 5, 7]"
      ]
     },
     "execution_count": 25,
     "metadata": {},
     "output_type": "execute_result"
    }
   ],
   "source": [
    "# Yeah ... this is a much better way to go about\n",
    "def prime_numbers(value):\n",
    "    value = int(value)\n",
    "    prime_numbers = []\n",
    "    # Create a range of passed value\n",
    "    for i in range(0, value + 1):\n",
    "        # ignore 1\n",
    "        if i > 1:\n",
    "            # \n",
    "            for j in range(2, i):\n",
    "                # if a number in the range is divisible by j, then number is not prime\n",
    "                # if we catch one we can break out of this inner loop and to the outer loop\n",
    "                if i % j == 0:\n",
    "                    break\n",
    "            else:\n",
    "                prime_numbers.append(i)\n",
    "    return prime_numbers\n",
    "\n",
    "\n",
    "prime_numbers(10)"
   ]
  },
  {
   "cell_type": "markdown",
   "id": "b61b4c73",
   "metadata": {},
   "source": [
    "### **Day 9: Biggest Odd Number**\n",
    "Create a function called `biggest_odd` that takes a string of numbers and returns the biggest odd number in the list. \n",
    "* For example, if you pass **‘23569’** as an argument, your function should return 9. Use list comprehension.\n"
   ]
  },
  {
   "cell_type": "code",
   "execution_count": 13,
   "id": "ce2eb32c",
   "metadata": {},
   "outputs": [
    {
     "name": "stdout",
     "output_type": "stream",
     "text": [
      "The biggest odd number is 9\n"
     ]
    },
    {
     "data": {
      "text/plain": [
       "9"
      ]
     },
     "execution_count": 13,
     "metadata": {},
     "output_type": "execute_result"
    }
   ],
   "source": [
    "def biggest_odd(str_of_numbers):\n",
    "    # Quick print out and ability to show method chaining with a f string comprehension\n",
    "    print(f'The biggest odd number is {max([int(x) for x in str_of_numbers if int(x) % 2 != 0])}')\n",
    "    return max([int(x) for x in str_of_numbers if int(x) % 2 != 0])\n",
    "   \n",
    "    \n",
    "    \n",
    "biggest_odd('23569')"
   ]
  },
  {
   "cell_type": "markdown",
   "id": "f766e68f",
   "metadata": {},
   "source": [
    "#### `Extra Challenge: Zeros to the End`\n",
    "Write a function called `zeros_last`. \n",
    "* This function takes a list as an argument. \n",
    "* If a list has zeros (0), it will move them to the end of the list and maintain the order of the other numbers in the list. \n",
    "* If there are no zeros in the list, the function should return the original list sorted in ascending order. \n",
    "    * For example, if you pass [1, 4, 6, 0, 7, 0, 9] as an argument, your code should return [1, 4, 6, 9, 0, 0].\n",
    "\n",
    "`Extend`\n",
    "* Remember here we can add and **explode** all items of a list into a parent list with this method\n",
    "    * However, it returns a NoneType and mutates the list in place, you'll need to call it prior to returning any list"
   ]
  },
  {
   "cell_type": "code",
   "execution_count": 15,
   "id": "7efc9481",
   "metadata": {},
   "outputs": [
    {
     "name": "stdout",
     "output_type": "stream",
     "text": [
      "[1, 4, 6, 7, 9, 0, 0]\n",
      "[1, 2, 3, 5, 7]\n"
     ]
    }
   ],
   "source": [
    "def zeros_last(passed_list):\n",
    "    # Set/Confirm all elements are an integer\n",
    "    passed_list = [int(x) for x in passed_list]\n",
    "    # isolate any zeros\n",
    "    zeros = [x for x in passed_list if x == 0]\n",
    "    # remove any zeros from passed_list\n",
    "    passed_list_no_zeros_sorted = sorted([x for x in passed_list if x != 0], reverse=False)\n",
    "    passed_list_no_zeros_sorted.extend(zeros) # method returns none type but mutates the list in place, have to call prior to returning\n",
    "    return passed_list_no_zeros_sorted\n",
    "\n",
    "print(zeros_last([1,4,6,0,7,0,9]))\n",
    "print(zeros_last([1,5,3,2,7])) # extending with an empty list (no zeros) won't impact base list returned"
   ]
  },
  {
   "cell_type": "markdown",
   "id": "e16c7efb",
   "metadata": {},
   "source": [
    "### **Day 10: Hide my Password**\n",
    "Write a function called `hide_password` that takes **no parameters**. \n",
    "* The function takes an input (a password) from a user and returns a hidden password. \n",
    "* For example, if the user enters \"hello\" as a password, the function should return \"****\" as a password and tell the user that the password is 5 characters long (as long as inputed values** ... which we'll clean.\n"
   ]
  },
  {
   "cell_type": "code",
   "execution_count": 21,
   "id": "322f20f3",
   "metadata": {},
   "outputs": [
    {
     "name": "stdout",
     "output_type": "stream",
     "text": [
      "Please provide a user password : dynamite\n"
     ]
    },
    {
     "data": {
      "text/plain": [
       "('********', 8)"
      ]
     },
     "execution_count": 21,
     "metadata": {},
     "output_type": "execute_result"
    }
   ],
   "source": [
    "def hide_password():\n",
    "    user_password = str(input(\"Please provide a user password : \")).strip() # remove leading and trailing whitespace\n",
    "    return \"*\"*len(user_password), len(user_password)\n",
    "\n",
    "hide_password()\n",
    "    "
   ]
  },
  {
   "cell_type": "markdown",
   "id": "34b8305a",
   "metadata": {},
   "source": [
    "#### `Extra Challenge: A Thousand Separator`\n",
    "Your new company has a list of figures saved in a database. The issue is that these numbers have no separator. \n",
    "* The numbers are saved in a list in the following format: [1000000, 2356989, 2354672, 9878098].\n",
    "\n",
    "`You have been asked` : to write a code that will convert each of the numbers in the list into a string.\n",
    "* Your code should then add a comma on each number as a thousand separator for readability. \n",
    "* When you run your code on the above list, your output should be: [ '1,000,000', '2,356,989', '2,354,672', '9,878,098’] \n",
    "\n",
    "* Write a function called `convert_numbers` that will take one argument, \n",
    "    * the list of numbers above.\n"
   ]
  },
  {
   "cell_type": "code",
   "execution_count": 22,
   "id": "64e6c90b",
   "metadata": {},
   "outputs": [
    {
     "data": {
      "text/plain": [
       "(['1,000,000', '2,356,989', '2,354,672', '9,878,098'],\n",
       " ['1,000,000', '2,356,989', '2,354,672', '9,878,098'])"
      ]
     },
     "execution_count": 22,
     "metadata": {},
     "output_type": "execute_result"
    }
   ],
   "source": [
    "def convert_numbers(list_numbers):\n",
    "    # We can use the f strings to do this and make our lives easier\n",
    "    string_list_2_7_and_up = ['{:,}'.format(value) for value in list_numbers]\n",
    "    string_list_3_6_and_up = [f'{value:,}' for value in list_numbers]\n",
    "    return string_list_2_7_and_up, string_list_3_6_and_up\n",
    "\n",
    "convert_numbers([1000000, 2356989, 2354672, 9878098])"
   ]
  },
  {
   "cell_type": "markdown",
   "id": "26815315",
   "metadata": {},
   "source": [
    "* Either works!"
   ]
  },
  {
   "cell_type": "markdown",
   "id": "25c3eff3",
   "metadata": {},
   "source": [
    "### **Day11 : Are They Equal**\n",
    "* Write a function called `equal_strings`. \n",
    "* The function takes two strings as arguments and compares them. \n",
    "    * If the strings are equal (if they have the same characters and have equal length), it should return True; if they are not, it should return False. \n",
    "    * For example, \"love\" and \"evol\" should return True."
   ]
  },
  {
   "cell_type": "code",
   "execution_count": 33,
   "id": "65850fd5",
   "metadata": {},
   "outputs": [
    {
     "name": "stdout",
     "output_type": "stream",
     "text": [
      "True\n",
      "False\n"
     ]
    }
   ],
   "source": [
    "def equal_strings(string1, string2):\n",
    "    import collections\n",
    "    # remove any leading or trailing whitespace\n",
    "    string1 = string1.strip() \n",
    "    string2 = string2.strip()\n",
    "    # Let's count the characters in our string object and cast to a dictionary and then check for equality\n",
    "    string1_char_count = dict(collections.Counter(string1))\n",
    "    string2_char_count = dict(collections.Counter(string2))\n",
    "    return string1_char_count == string2_char_count\n",
    "\n",
    "print(equal_strings('love', 'evol')) # Should be true\n",
    "print(equal_strings('loathe', 'you')) # should be false"
   ]
  },
  {
   "cell_type": "markdown",
   "id": "ef1e0aa4",
   "metadata": {},
   "source": [
    "#### `Extra Challenge: Swap Values`\n",
    "* Write a function called `swap_values`. \n",
    "* This function takes a list of numbers and swaps the first element with the last element. \n",
    "* For example, if you pass [2, 4, 67, 7] as a parameter, your function should return. [7, 4, 67, 2].\n"
   ]
  },
  {
   "cell_type": "code",
   "execution_count": 38,
   "id": "d34459d7",
   "metadata": {},
   "outputs": [
    {
     "name": "stdout",
     "output_type": "stream",
     "text": [
      "[7, 4, 67, 2]\n",
      "[99, 5, 3, 45, 1]\n"
     ]
    }
   ],
   "source": [
    "def swap_values(list_of_numbers):\n",
    "    # Slice off the beginning and end\n",
    "    isolate_ends = list_of_numbers[1:-1]\n",
    "    # add last value in the first position, and first value to last (methods mutate the array in place and return a NoneType)\n",
    "    isolate_ends.insert(0, list_of_numbers[-1])\n",
    "    isolate_ends.append(list_of_numbers[0])\n",
    "    return isolate_ends\n",
    "\n",
    "print(swap_values([2,4,67,7]))\n",
    "print(swap_values([1,5,3,45,99]))"
   ]
  },
  {
   "cell_type": "code",
   "execution_count": 41,
   "id": "d5b50c87",
   "metadata": {},
   "outputs": [
    {
     "name": "stdout",
     "output_type": "stream",
     "text": [
      "[7, 4, 67, 2]\n"
     ]
    }
   ],
   "source": [
    "# slightly different way to pass the argument and type\n",
    "def swap_values(arr: list):\n",
    "    # Create a variable for first number\n",
    "    first_number = arr[0]\n",
    "    # Create a second variable for the last number\n",
    "    last_number = arr[-1]\n",
    "    # assign last number to index 1\n",
    "    arr[0] = last_number\n",
    "    # assign first number to index -1\n",
    "    arr[-1] = first_number\n",
    "    return arr\n",
    "\n",
    "list1 = [2, 4, 67, 7]\n",
    "print(swap_values(list1))        "
   ]
  },
  {
   "cell_type": "markdown",
   "id": "3fab5c02",
   "metadata": {},
   "source": [
    "### **Day 12 : Count the Dots**\n",
    "* Write a function called `count_dots`. \n",
    "* This function takes a string separated by dots as a parameter and counts how many dots are in the string. \n",
    "* For example, \"h.e.l.p.\" should return 4 dots, and \"he.lp.\" should return 2 dots.\n"
   ]
  },
  {
   "cell_type": "code",
   "execution_count": 43,
   "id": "a871528c",
   "metadata": {},
   "outputs": [
    {
     "name": "stdout",
     "output_type": "stream",
     "text": [
      "4\n",
      "2\n"
     ]
    }
   ],
   "source": [
    "def count_dots(string_w_dots):\n",
    "    return string_w_dots.count('.')\n",
    "\n",
    "print(count_dots('h.e.l.p.'))\n",
    "print(count_dots('he.lp.'))"
   ]
  },
  {
   "cell_type": "markdown",
   "id": "33d1c343",
   "metadata": {},
   "source": [
    "#### `Extra Challenge: Your Age in Minutes`\n",
    "* Write a function called `age_in_minutes` that tells a user how old they are in minutes. \n",
    "* Your code should ask the user to enter their year of birth, and it should return their age in minutes (by subtracting their year of birth to the current year). \n",
    "\n",
    "#####  Here are things to look out for\n",
    "* The user can only input a 4-digit year of birth. \n",
    "    * For example, 1930 is a valid year. \n",
    "* However, entering any number longer or shorter than 4 digits long should render the input invalid. \n",
    "    * Notify the user that they must enter a four-digit number.\n",
    "* If a user enters a year before 1900, your code should tell the user that the input is invalid. \n",
    "* If the user enters the year after the current year, the code should tell the user to input a valid year."
   ]
  },
  {
   "cell_type": "code",
   "execution_count": 60,
   "id": "fb10d079",
   "metadata": {},
   "outputs": [
    {
     "name": "stdout",
     "output_type": "stream",
     "text": [
      "Please enter the year you were born : 1990\n"
     ]
    },
    {
     "data": {
      "text/plain": [
       "'Your are 17,344,800 minutes old'"
      ]
     },
     "execution_count": 60,
     "metadata": {},
     "output_type": "execute_result"
    }
   ],
   "source": [
    "def age_in_minutes():\n",
    "    from datetime import datetime\n",
    "    inp_age_year = int(input(\"Please enter the year you were born : \"))\n",
    "    # int(datetime.now().strftime('%Y')) (works to get the year attribute as well)\n",
    "    current_year = datetime.now().year\n",
    "    min_in_year = 60*24*365 # 525600\n",
    "    # let's make sure it the right value (can check length on a str so need to cast)\n",
    "    if len(str(inp_age_year)) != 4:\n",
    "        raise ValueError('You did not enter a valid year. Please submit a 4 digit year value')\n",
    "    if inp_age_year < 1900 or inp_age_year > current_year:\n",
    "        raise ValueError('Please enter a valid date older than 1900 and not past the current year {}'.format(current_year))\n",
    "    # If we made it here we can now return a some what age (only using year)\n",
    "    age = (current_year - inp_age_year) * min_in_year\n",
    "    return f'Your are {age:,} minutes old'\n",
    " \n",
    "age_in_minutes()"
   ]
  },
  {
   "cell_type": "code",
   "execution_count": 59,
   "id": "3cfb6a52",
   "metadata": {},
   "outputs": [],
   "source": [
    "def your_age():\n",
    "    while True:\n",
    "        birth_year = input('Enter your year of birth: ')\n",
    "        if len(birth_year) != 4:\n",
    "            print('Please enter a four digits year')\n",
    "        elif int(birth_year) < 1900 or int(birth_year) > 2022:\n",
    "            print('Please enter a valid year')\n",
    "        else:              # This returns the current year\n",
    "            now1 = int(datetime.now().strftime(\"%Y\"))\n",
    "            age = (now1 - int(birth_year)) * 525600\n",
    "            return f'You are {age:,} minutes old.'\n",
    "\n",
    "# print(your_age())        "
   ]
  }
 ],
 "metadata": {
  "kernelspec": {
   "display_name": "Python 3 (ipykernel)",
   "language": "python",
   "name": "python3"
  },
  "language_info": {
   "codemirror_mode": {
    "name": "ipython",
    "version": 3
   },
   "file_extension": ".py",
   "mimetype": "text/x-python",
   "name": "python",
   "nbconvert_exporter": "python",
   "pygments_lexer": "ipython3",
   "version": "3.9.12"
  }
 },
 "nbformat": 4,
 "nbformat_minor": 5
}
