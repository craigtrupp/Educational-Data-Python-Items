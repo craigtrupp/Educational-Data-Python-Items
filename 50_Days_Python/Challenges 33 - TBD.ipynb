{
 "cells": [
  {
   "cell_type": "markdown",
   "id": "d73a4ec3",
   "metadata": {},
   "source": [
    "### **Day 33: List Intersection** \n",
    "* Write a function called `inter_section` that takes two lists and finds the intersection (the elements that are present in both lists). \n",
    "* The function should return a tuple of intersections. Use list comprehension in your solution. Use the lists below. Your function should return (30, 65, 80). \n",
    "```python\n",
    "list1 = [20, 30, 60, 65, 75, 80, 85] \n",
    "list2 = [ 42, 30, 80, 65, 68, 88, 95]\n",
    "```"
   ]
  },
  {
   "cell_type": "code",
   "execution_count": 2,
   "id": "095dbe02",
   "metadata": {},
   "outputs": [
    {
     "data": {
      "text/plain": [
       "({30, 65, 80}, [30, 65, 80])"
      ]
     },
     "execution_count": 2,
     "metadata": {},
     "output_type": "execute_result"
    }
   ],
   "source": [
    "def inter_section(lst_1, lst_2):\n",
    "    # can do a set intersection too\n",
    "    return set(lst_1).intersection(set(lst_2)), [x for x in lst_1 if x in lst_2]\n",
    "\n",
    "inter_section([20, 30, 60, 65, 75, 80, 85], [ 42, 30, 80, 65, 68, 88, 95])"
   ]
  },
  {
   "cell_type": "markdown",
   "id": "06fea0ba",
   "metadata": {},
   "source": [
    "#### `Extra Challenge: Set or List` \n",
    "\n",
    "You want to implement a code that will search for a number in a range. You have a decision to make as to whether to store the number in a set or a list. Your decision will be based on time. You have to pick a data type that executes faster.\n",
    "\n",
    "```python\n",
    "import timeit\n",
    "# Testing the speed of execution in a set\n",
    "speed_test = '''\n",
    "a = range(1000000)\n",
    "b = set(a)\n",
    "i = 999999\n",
    " for i in b:\n",
    "    print('')\n",
    "'''\n",
    "print(timeit.timeit(stmt=speed_test, number=3))\n",
    "\n",
    "\n",
    "# Testing the speed of execution in a list\n",
    "speed_test = '''\n",
    "a = range(1000000)\n",
    "b = list(a)\n",
    "i = 999999\n",
    " for i in b:\n",
    "    print('')\n",
    "'''\n",
    "print(timeit.timeit(stmt=speed_test, number=3))\n",
    "\n",
    "```\n",
    "* From the results, we can conclude that sets execute slightly faster than lists.        "
   ]
  },
  {
   "cell_type": "markdown",
   "id": "e9ec84f6",
   "metadata": {},
   "source": [
    "### **Day 34: Just Digits** \n",
    "* In this challenge, copy the text below and save it as a CSV file. \n",
    "* Save it in the same folder as your Python file. Save it as python.csv. \n",
    "* Write a function called `just_digits` that reads the text from the CSV file and returns only digit elements from the file. \n",
    "    - Your function should return 1991, 2, 200, 3, 2008 as a `list of strings`.\n"
   ]
  },
  {
   "cell_type": "markdown",
   "id": "69fe965f",
   "metadata": {},
   "source": [
    "```python\n",
    "def just_digits():\n",
    "    with open('python.csv', 'r') as file:\n",
    "        return file.readlines()\n",
    "just_digits()\n",
    "```\n",
    "* so ... we'll have a bit more fun and write to a file"
   ]
  },
  {
   "cell_type": "code",
   "execution_count": 5,
   "id": "1353087a",
   "metadata": {},
   "outputs": [],
   "source": [
    "# importing the csv module\n",
    "import csv\n",
    " \n",
    "# field names\n",
    "fields = ['Name', 'Branch', 'Year', 'CGPA']\n",
    " \n",
    "# data rows of csv file\n",
    "rows = [['Nikhil', 'COE', '2', '9.0'],\n",
    "        ['Sanchit', 'COE', '2', '9.1'],\n",
    "        ['Aditya', 'IT', '2', '9.3'],\n",
    "        ['Sagar', 'SE', '1', '9.5'],\n",
    "        ['Prateek', 'MCE', '3', '7.8'],\n",
    "        ['Sahil', 'EP', '2', '9.1']]\n",
    " \n",
    "# name of csv file\n",
    "filename =\"university_records.csv\"\n",
    " \n",
    "# writing to csv file\n",
    "with open(filename,'w') as csvfile:\n",
    "    # creating a csv writer object\n",
    "    csvwriter = csv.writer(csvfile)\n",
    "     \n",
    "    # writing the fields\n",
    "    csvwriter.writerow(fields)\n",
    "     \n",
    "    # writing the data rows\n",
    "    csvwriter.writerows(rows)"
   ]
  },
  {
   "cell_type": "markdown",
   "id": "25b3edc6",
   "metadata": {},
   "source": [
    "* Now let's open this file"
   ]
  },
  {
   "cell_type": "code",
   "execution_count": 39,
   "id": "918abded",
   "metadata": {},
   "outputs": [
    {
     "name": "stdout",
     "output_type": "stream",
     "text": [
      "['Name,Branch,Year,CGPA\\n', 'Nikhil,COE,2,9.0\\n', 'Sanchit,COE,2,9.1\\n', 'Aditya,IT,2,9.3\\n', 'Sagar,SE,1,9.5\\n', 'Prateek,MCE,3,7.8\\n', 'Sahil,EP,2,9.1\\n']\n",
      "{('Name', 0): [], ('Branch', 1): [], ('Year', 2): [], ('CGPA\\n', 3): []}\n",
      "[['Name', 'Branch', 'Year', 'CGPA\\n'], ['Nikhil', 'COE', '2', '9.0\\n'], ['Sanchit', 'COE', '2', '9.1\\n'], ['Aditya', 'IT', '2', '9.3\\n'], ['Sagar', 'SE', '1', '9.5\\n'], ['Prateek', 'MCE', '3', '7.8\\n'], ['Sahil', 'EP', '2', '9.1\\n']]\n",
      "[['Name', 'Branch', 'Year', 'CGPA'], ['Nikhil', 'COE', '2', '9.0'], ['Sanchit', 'COE', '2', '9.1'], ['Aditya', 'IT', '2', '9.3'], ['Sagar', 'SE', '1', '9.5'], ['Prateek', 'MCE', '3', '7.8'], ['Sahil', 'EP', '2', '9.1']]\n"
     ]
    },
    {
     "data": {
      "text/html": [
       "<div>\n",
       "<style scoped>\n",
       "    .dataframe tbody tr th:only-of-type {\n",
       "        vertical-align: middle;\n",
       "    }\n",
       "\n",
       "    .dataframe tbody tr th {\n",
       "        vertical-align: top;\n",
       "    }\n",
       "\n",
       "    .dataframe thead th {\n",
       "        text-align: right;\n",
       "    }\n",
       "</style>\n",
       "<table border=\"1\" class=\"dataframe\">\n",
       "  <thead>\n",
       "    <tr style=\"text-align: right;\">\n",
       "      <th></th>\n",
       "      <th>Name</th>\n",
       "      <th>Branch</th>\n",
       "      <th>Year</th>\n",
       "      <th>CGPA</th>\n",
       "    </tr>\n",
       "  </thead>\n",
       "  <tbody>\n",
       "    <tr>\n",
       "      <th>0</th>\n",
       "      <td>Nikhil</td>\n",
       "      <td>COE</td>\n",
       "      <td>2</td>\n",
       "      <td>9.0</td>\n",
       "    </tr>\n",
       "    <tr>\n",
       "      <th>1</th>\n",
       "      <td>Sanchit</td>\n",
       "      <td>COE</td>\n",
       "      <td>2</td>\n",
       "      <td>9.1</td>\n",
       "    </tr>\n",
       "    <tr>\n",
       "      <th>2</th>\n",
       "      <td>Aditya</td>\n",
       "      <td>IT</td>\n",
       "      <td>2</td>\n",
       "      <td>9.3</td>\n",
       "    </tr>\n",
       "    <tr>\n",
       "      <th>3</th>\n",
       "      <td>Sagar</td>\n",
       "      <td>SE</td>\n",
       "      <td>1</td>\n",
       "      <td>9.5</td>\n",
       "    </tr>\n",
       "    <tr>\n",
       "      <th>4</th>\n",
       "      <td>Prateek</td>\n",
       "      <td>MCE</td>\n",
       "      <td>3</td>\n",
       "      <td>7.8</td>\n",
       "    </tr>\n",
       "    <tr>\n",
       "      <th>5</th>\n",
       "      <td>Sahil</td>\n",
       "      <td>EP</td>\n",
       "      <td>2</td>\n",
       "      <td>9.1</td>\n",
       "    </tr>\n",
       "  </tbody>\n",
       "</table>\n",
       "</div>"
      ],
      "text/plain": [
       "      Name Branch Year CGPA\n",
       "0   Nikhil    COE    2  9.0\n",
       "1  Sanchit    COE    2  9.1\n",
       "2   Aditya     IT    2  9.3\n",
       "3    Sagar     SE    1  9.5\n",
       "4  Prateek    MCE    3  7.8\n",
       "5    Sahil     EP    2  9.1"
      ]
     },
     "execution_count": 39,
     "metadata": {},
     "output_type": "execute_result"
    }
   ],
   "source": [
    "with open('university_records.csv', 'r') as f:\n",
    "    a = f.readlines()\n",
    "    print(a)\n",
    "    # make a return object that we can use with a pandas dataframe\n",
    "    import pandas as pd\n",
    "    base_dict = {(x, i): [] for i, x in enumerate(a[0].split(','))}\n",
    "    print(base_dict) # to be honest this is a bit harder, lets try lists of lists\n",
    "    lst_of_lsts = [x.split(',') for x in a]\n",
    "    print(lst_of_lsts)\n",
    "    # Here we'll just remove the last item /n for the last value of each value before the new lince character\n",
    "    lst_of_lsts = [x[:3] + [x[3][:-1]] for x in lst_of_lsts]\n",
    "    print(lst_of_lsts)\n",
    "    df = pd.DataFrame(lst_of_lsts[1:], columns=lst_of_lsts[0])\n",
    "\n",
    "df"
   ]
  },
  {
   "cell_type": "code",
   "execution_count": 33,
   "id": "17970863",
   "metadata": {},
   "outputs": [
    {
     "data": {
      "text/plain": [
       "('CGPA\\n', 5, 'CGPA\\n')"
      ]
     },
     "execution_count": 33,
     "metadata": {},
     "output_type": "execute_result"
    }
   ],
   "source": [
    "test = ['Name', 'Branch', 'Year', 'CGPA\\n']\n",
    "test[3], len(test[3]), test[3][:]"
   ]
  },
  {
   "cell_type": "code",
   "execution_count": 45,
   "id": "473fcfda",
   "metadata": {},
   "outputs": [
    {
     "data": {
      "text/plain": [
       "(Name      object\n",
       " Branch    object\n",
       " Year       int64\n",
       " CGPA      object\n",
       " dtype: object,\n",
       "       Name Branch  Year CGPA\n",
       " 0   Nikhil    COE     2  9.0\n",
       " 1  Sanchit    COE     2  9.1\n",
       " 2   Aditya     IT     2  9.3\n",
       " 3    Sagar     SE     1  9.5\n",
       " 4  Prateek    MCE     3  7.8\n",
       " 5    Sahil     EP     2  9.1)"
      ]
     },
     "execution_count": 45,
     "metadata": {},
     "output_type": "execute_result"
    }
   ],
   "source": [
    "df['Year'] = df['Year'].astype(int)\n",
    "df.dtypes, df"
   ]
  },
  {
   "cell_type": "code",
   "execution_count": 46,
   "id": "8ea3761a",
   "metadata": {},
   "outputs": [],
   "source": [
    "# importing the csv module\n",
    "import csv\n",
    " \n",
    "# my data rows as dictionary objects\n",
    "mydict =[{'branch':'COE', 'cgpa':'9.0',\n",
    "         'name':'Nikhil', 'year':'2'},\n",
    "        {'branch':'COE', 'cgpa':'9.1',\n",
    "        'name':'Sanchit', 'year':'2'},\n",
    "        {'branch':'IT', 'cgpa':'9.3',\n",
    "        'name':'Aditya', 'year':'2'},\n",
    "        {'branch':'SE', 'cgpa':'9.5',\n",
    "        'name':'Sagar', 'year':'1'},\n",
    "        {'branch':'MCE', 'cgpa':'7.8',\n",
    "        'name':'Prateek', 'year':'3'},\n",
    "        {'branch':'EP', 'cgpa':'9.1',\n",
    "        'name':'Sahil', 'year':'2'}]\n",
    " \n",
    "# field names\n",
    "fields = ['name', 'branch', 'year', 'cgpa']\n",
    " \n",
    "# name of csv file\n",
    "filename =\"university_records_2.csv\"\n",
    " \n",
    "# writing to csv file\n",
    "with open(filename,'w') as csvfile:\n",
    "    # creating a csv dict writer object\n",
    "    writer = csv.DictWriter(csvfile, fieldnames = fields)\n",
    "     \n",
    "    # writing headers (field names)\n",
    "    writer.writeheader()\n",
    "     \n",
    "    # writing data rows\n",
    "    writer.writerows(mydict)"
   ]
  },
  {
   "cell_type": "code",
   "execution_count": 52,
   "id": "c5c96447",
   "metadata": {},
   "outputs": [
    {
     "data": {
      "text/html": [
       "<div>\n",
       "<style scoped>\n",
       "    .dataframe tbody tr th:only-of-type {\n",
       "        vertical-align: middle;\n",
       "    }\n",
       "\n",
       "    .dataframe tbody tr th {\n",
       "        vertical-align: top;\n",
       "    }\n",
       "\n",
       "    .dataframe thead th {\n",
       "        text-align: right;\n",
       "    }\n",
       "</style>\n",
       "<table border=\"1\" class=\"dataframe\">\n",
       "  <thead>\n",
       "    <tr style=\"text-align: right;\">\n",
       "      <th></th>\n",
       "      <th>name</th>\n",
       "      <th>branch</th>\n",
       "      <th>year</th>\n",
       "      <th>cgpa</th>\n",
       "    </tr>\n",
       "  </thead>\n",
       "  <tbody>\n",
       "    <tr>\n",
       "      <th>0</th>\n",
       "      <td>Nikhil</td>\n",
       "      <td>COE</td>\n",
       "      <td>2</td>\n",
       "      <td>9.0</td>\n",
       "    </tr>\n",
       "    <tr>\n",
       "      <th>1</th>\n",
       "      <td>Sanchit</td>\n",
       "      <td>COE</td>\n",
       "      <td>2</td>\n",
       "      <td>9.1</td>\n",
       "    </tr>\n",
       "    <tr>\n",
       "      <th>2</th>\n",
       "      <td>Aditya</td>\n",
       "      <td>IT</td>\n",
       "      <td>2</td>\n",
       "      <td>9.3</td>\n",
       "    </tr>\n",
       "    <tr>\n",
       "      <th>3</th>\n",
       "      <td>Sagar</td>\n",
       "      <td>SE</td>\n",
       "      <td>1</td>\n",
       "      <td>9.5</td>\n",
       "    </tr>\n",
       "    <tr>\n",
       "      <th>4</th>\n",
       "      <td>Prateek</td>\n",
       "      <td>MCE</td>\n",
       "      <td>3</td>\n",
       "      <td>7.8</td>\n",
       "    </tr>\n",
       "    <tr>\n",
       "      <th>5</th>\n",
       "      <td>Sahil</td>\n",
       "      <td>EP</td>\n",
       "      <td>2</td>\n",
       "      <td>9.1</td>\n",
       "    </tr>\n",
       "  </tbody>\n",
       "</table>\n",
       "</div>"
      ],
      "text/plain": [
       "      name branch year cgpa\n",
       "0   Nikhil    COE    2  9.0\n",
       "1  Sanchit    COE    2  9.1\n",
       "2   Aditya     IT    2  9.3\n",
       "3    Sagar     SE    1  9.5\n",
       "4  Prateek    MCE    3  7.8\n",
       "5    Sahil     EP    2  9.1"
      ]
     },
     "execution_count": 52,
     "metadata": {},
     "output_type": "execute_result"
    }
   ],
   "source": [
    "# lets use the reader to read a file and not just write\n",
    "with open('university_records_2.csv','r') as data:\n",
    "    # each line is a list with every csv as an item (no new line character)\n",
    "    dframe_lsts_of_lst = []\n",
    "    for line in csv.reader(data):\n",
    "            dframe_lsts_of_lst.append(line)\n",
    "    dframe = pd.DataFrame(dframe_lsts_of_lst[1:], columns=dframe_lsts_of_lst[0])\n",
    "dframe"
   ]
  },
  {
   "cell_type": "markdown",
   "id": "0295eba8",
   "metadata": {},
   "source": [
    "### **Day 35: Pangram**  \n",
    "* Write a function called `check_pangram` that takes a string and checks if it is a pangram. \n",
    "    - A pangram is a sentence that contains all the letters of the alphabet. \n",
    "* If it is a pangram, the function should return True, otherwise, it should return return False. \n",
    "* The following sentence is a pangram, so it should return True: **'the quick brown fox jumps over a lazy dog'**\n"
   ]
  },
  {
   "cell_type": "code",
   "execution_count": 14,
   "id": "20f54676",
   "metadata": {},
   "outputs": [],
   "source": [
    "def check_pangram(inp_str):\n",
    "    alpha_set = set()\n",
    "    for char in inp_str:\n",
    "        if char.lower().isalpha():\n",
    "            alpha_set.add(char.lower())\n",
    "    print(alpha_set)\n",
    "    return True if len(alpha_set) == 26 else False"
   ]
  },
  {
   "cell_type": "code",
   "execution_count": 15,
   "id": "1495f093",
   "metadata": {},
   "outputs": [
    {
     "name": "stdout",
     "output_type": "stream",
     "text": [
      "{'c', 'k', 'd', 'z', 'n', 'x', 't', 'l', 'o', 'm', 'v', 'b', 'u', 'h', 'q', 'a', 'j', 'y', 'w', 'r', 'i', 'g', 'f', 'p', 's', 'e'}\n"
     ]
    },
    {
     "data": {
      "text/plain": [
       "True"
      ]
     },
     "execution_count": 15,
     "metadata": {},
     "output_type": "execute_result"
    }
   ],
   "source": [
    "check_pangram('The quick brown fox jumps over a lazy dog!')"
   ]
  },
  {
   "cell_type": "code",
   "execution_count": 11,
   "id": "b3ee65bc",
   "metadata": {},
   "outputs": [
    {
     "name": "stdout",
     "output_type": "stream",
     "text": [
      "{'o', 'a', 'y', 'z', 'n', 'h', 'e'}\n"
     ]
    },
    {
     "data": {
      "text/plain": [
       "False"
      ]
     },
     "execution_count": 11,
     "metadata": {},
     "output_type": "execute_result"
    }
   ],
   "source": [
    "check_pangram('aaah zey no')"
   ]
  },
  {
   "cell_type": "markdown",
   "id": "7b646e08",
   "metadata": {},
   "source": [
    "#### `Extra Challenge: Find my Position` \n",
    "* Write a function called `find_index` that takes two arguments; **a list of integers**, and **an integer**. \n",
    "* The function should return the indexes of the integer in the list. \n",
    "* If the integer is not in the list, the function should convert all the numbers in the list into the given integer.\n",
    "\n",
    "For example, if the list is [1, 2, 4, 6, 7, 7] and the integer is 7, your code should return [4, 5] as the indexes of 7 in the list. If the list is [1, 2, 4, 6, 7, 7] and the integer is 8, your code should return [8, 8, 8, 8, 8, 8] because 8 is not in the list."
   ]
  },
  {
   "cell_type": "code",
   "execution_count": 34,
   "id": "57dc2e20",
   "metadata": {},
   "outputs": [],
   "source": [
    "def find_index(lst_ints, arg_int):\n",
    "    # list(filter(lambda x, y: x == arg_int, enumerate(lst_ints))) - this doesn't work though, just using lc\n",
    "    indexes = [i for i, x in enumerate(lst_ints) if x == arg_int]\n",
    "    return indexes if len(indexes) >= 1 else [arg_int for x in range(len(lst_ints))]"
   ]
  },
  {
   "cell_type": "code",
   "execution_count": 35,
   "id": "72d6b72c",
   "metadata": {},
   "outputs": [
    {
     "data": {
      "text/plain": [
       "[4, 5]"
      ]
     },
     "execution_count": 35,
     "metadata": {},
     "output_type": "execute_result"
    }
   ],
   "source": [
    "find_index([1,2,4,6,7,7], 7)"
   ]
  },
  {
   "cell_type": "code",
   "execution_count": 36,
   "id": "5345a664",
   "metadata": {},
   "outputs": [
    {
     "data": {
      "text/plain": [
       "[8, 8, 8, 8, 8, 8]"
      ]
     },
     "execution_count": 36,
     "metadata": {},
     "output_type": "execute_result"
    }
   ],
   "source": [
    "find_index([1,2,4,6,7,7], 8)"
   ]
  },
  {
   "cell_type": "markdown",
   "id": "dc35bf6f",
   "metadata": {},
   "source": [
    "### **Day 36: Count String**\n",
    "Write a function called `count` that takes one argument a string, and returns a dictionary of how many times each element appears in the string. For example, 'hello' should return: {'h':1,'e': 1,'l':2, 'o':1}."
   ]
  },
  {
   "cell_type": "code",
   "execution_count": 39,
   "id": "93fb1a2e",
   "metadata": {},
   "outputs": [],
   "source": [
    "def count(arg_str):\n",
    "    import collections\n",
    "    return dict(collections.Counter(arg_str))"
   ]
  },
  {
   "cell_type": "code",
   "execution_count": 40,
   "id": "44462e17",
   "metadata": {},
   "outputs": [
    {
     "data": {
      "text/plain": [
       "{'h': 1, 'e': 1, 'l': 2, 'o': 1}"
      ]
     },
     "execution_count": 40,
     "metadata": {},
     "output_type": "execute_result"
    }
   ],
   "source": [
    "count('hello')"
   ]
  },
  {
   "cell_type": "code",
   "execution_count": 45,
   "id": "b7e5a28f",
   "metadata": {},
   "outputs": [],
   "source": [
    "def count_str_man(arg_str):\n",
    "    return_dict = {}\n",
    "    for char in arg_str:\n",
    "        # Using the dict method we can either get the value (first arg), set the default if not found (key)\n",
    "        # Then we can simply increment by one after either getting it's value or defaulting to zero with a subsequent add\n",
    "        return_dict[char] = return_dict.get(char, 0) + 1\n",
    "    return return_dict"
   ]
  },
  {
   "cell_type": "code",
   "execution_count": 47,
   "id": "210f9359",
   "metadata": {},
   "outputs": [
    {
     "data": {
      "text/plain": [
       "{'h': 1, 'e': 1, 'l': 2, 'o': 1}"
      ]
     },
     "execution_count": 47,
     "metadata": {},
     "output_type": "execute_result"
    }
   ],
   "source": [
    "count_str_man('hello')"
   ]
  },
  {
   "cell_type": "markdown",
   "id": "00d333be",
   "metadata": {},
   "source": [
    "### **Day 37: Count the Vowels** \n",
    "\n",
    "* Create a function called `count_the_vowels`. \n",
    "* The function takes one argument, a string, and returns the number of vowels in the string. \n",
    "* For example, \"hello\" should return two (2) vowels. \n",
    "    - If a vowel appears in a string more than once, it should be counted as one. For example, \"saas\" should return one(1) vowel. \n",
    "* Your code should count lowercase and uppercase vowels."
   ]
  },
  {
   "cell_type": "code",
   "execution_count": 65,
   "id": "9b0aaf60",
   "metadata": {},
   "outputs": [
    {
     "name": "stdout",
     "output_type": "stream",
     "text": [
      "Total vowels in provided string : ['e', 'o']\n"
     ]
    },
    {
     "data": {
      "text/plain": [
       "(2, {'e', 'o'})"
      ]
     },
     "execution_count": 65,
     "metadata": {},
     "output_type": "execute_result"
    }
   ],
   "source": [
    "def count_the_vowels(arg_str):\n",
    "    import re\n",
    "    vowel_set = re.findall(r'[(aeiou)|(AEIOU)]', arg_str)\n",
    "    print(f'Total vowels in provided string : {vowel_set}')\n",
    "    vowel_set = [x.lower() for x in vowel_set]\n",
    "    return len(set(vowel_set)), set(vowel_set)\n",
    "\n",
    "count_the_vowels('hello')"
   ]
  },
  {
   "cell_type": "code",
   "execution_count": 66,
   "id": "a493f318",
   "metadata": {},
   "outputs": [
    {
     "name": "stdout",
     "output_type": "stream",
     "text": [
      "Total vowels in provided string : ['a', 'a']\n"
     ]
    },
    {
     "data": {
      "text/plain": [
       "(1, {'a'})"
      ]
     },
     "execution_count": 66,
     "metadata": {},
     "output_type": "execute_result"
    }
   ],
   "source": [
    "count_the_vowels('saas')"
   ]
  },
  {
   "cell_type": "code",
   "execution_count": 67,
   "id": "2a2e77da",
   "metadata": {},
   "outputs": [
    {
     "name": "stdout",
     "output_type": "stream",
     "text": [
      "Total vowels in provided string : ['e', 'E', 'A', 'a']\n"
     ]
    },
    {
     "data": {
      "text/plain": [
       "(2, {'a', 'e'})"
      ]
     },
     "execution_count": 67,
     "metadata": {},
     "output_type": "execute_result"
    }
   ],
   "source": [
    "count_the_vowels('JerEmAya')"
   ]
  },
  {
   "cell_type": "markdown",
   "id": "f625fa28",
   "metadata": {},
   "source": [
    "### **Day 38: Guess A Number**\n",
    "* Write a function called `guess_a_number`. \n",
    "* The function should ask a user to guess a randomly generated number. \n",
    "* If the user guesses a higher number, the code should tell them that the guess is too high; if the user guesses a low number, the code should tell them that their guess is too low. \n",
    "    * The user should get a maximum of three(3) guesses. \n",
    "* When the user guesses right, the code should declare them a winner. After three wrong guesses, the code should declare them a loser."
   ]
  },
  {
   "cell_type": "code",
   "execution_count": 82,
   "id": "a90a4c89",
   "metadata": {},
   "outputs": [],
   "source": [
    "def guess_a_number():\n",
    "    import random\n",
    "    random_number = random.randint(1,100)\n",
    "    right_answer = False\n",
    "    print('''\n",
    "    You will have 3 chances to correctly guess a number between 0 and 100. A wrong guess will trigger a response\n",
    "    detailing if your guess was greater or less than the randomly generated number in the stated range.\n",
    "    '''\n",
    "    )\n",
    "    def guess_higher_lower(guesses, target):\n",
    "        for guess in guesses:\n",
    "            print(f'''\n",
    "            This guess : {guess} was {'Higher' if  guess > target else 'Lower'} than the target number\n",
    "            ''')\n",
    "    while not right_answer:\n",
    "        user_guesses = []\n",
    "        for i in range(1, 4):\n",
    "            try:\n",
    "                user_guess = int(input('Please enter your guess : '))\n",
    "                user_guesses.append(user_guess)\n",
    "            except ValueError as e:\n",
    "                print(e)\n",
    "                print('You did not enter a valid whole integer')\n",
    "                continue\n",
    "            if user_guess != random_number:\n",
    "                if i == 3:\n",
    "                    return f'None of your guesses : {user_guesses}, were equal to the random value : {random_number}'\n",
    "                elif i == 2:\n",
    "                    print(f'Neither guess : {user_guesses} is correct')\n",
    "                    guess_higher_lower(user_guesses, random_number)\n",
    "                    continue\n",
    "                else:\n",
    "                    print(f'Your first guess : {user_guess} was incorrect')\n",
    "                    guess_higher_lower(user_guesses, random_number)\n",
    "                    continue\n",
    "            else:\n",
    "                print(f'Bullseye! : your guess, {user_guess} got the random number of : {random_number} spot on!')\n",
    "                right_answer = True\n",
    "                break\n",
    "    return user_guesses, random_number"
   ]
  },
  {
   "cell_type": "code",
   "execution_count": 73,
   "id": "c65cc1bc",
   "metadata": {},
   "outputs": [
    {
     "name": "stdout",
     "output_type": "stream",
     "text": [
      "\n",
      "    You will have 3 chances to correctly guess a number between 0 and 100. A wrong guess will trigger a response\n",
      "    detailing if your guess was greater or less than the randomly generated number in the stated range.\n",
      "    \n",
      "Please enter your guess : 8\n",
      "Your first guess : 8 was incorrect\n",
      "\n",
      "            This guess : 8 was Lower than the target number\n",
      "            \n",
      "Please enter your guess : 17\n",
      "Neither guess : [8, 17] is correct\n",
      "\n",
      "            This guess : 8 was Lower than the target number\n",
      "            \n",
      "\n",
      "            This guess : 17 was Lower than the target number\n",
      "            \n",
      "Please enter your guess : 37\n"
     ]
    },
    {
     "data": {
      "text/plain": [
       "'None of your guesses : [8, 17, 37], were equal to the random value : 50'"
      ]
     },
     "execution_count": 73,
     "metadata": {},
     "output_type": "execute_result"
    }
   ],
   "source": [
    "guess_a_number()"
   ]
  },
  {
   "cell_type": "code",
   "execution_count": 81,
   "id": "e6f1878f",
   "metadata": {},
   "outputs": [
    {
     "name": "stdout",
     "output_type": "stream",
     "text": [
      "\n",
      "    You will have 3 chances to correctly guess a number between 0 and 100. A wrong guess will trigger a response\n",
      "    detailing if your guess was greater or less than the randomly generated number in the stated range.\n",
      "    \n",
      "Please enter your guess : 8\n",
      "Your first guess : 8 was incorrect\n",
      "\n",
      "            This guess : 8 was Higher than the target number\n",
      "            \n",
      "Please enter your guess : 3\n",
      "Bullseye! : your guess, 3 got the random number of : 3 spot on!\n"
     ]
    },
    {
     "data": {
      "text/plain": [
       "([8, 3], 3)"
      ]
     },
     "execution_count": 81,
     "metadata": {},
     "output_type": "execute_result"
    }
   ],
   "source": [
    "guess_a_number()"
   ]
  },
  {
   "cell_type": "markdown",
   "id": "539388ed",
   "metadata": {},
   "source": [
    "#### **Day 38: Sorting Extra Challenge**\n",
    "* Write a nested loop that manually sorts a list in place\n",
    "* This is common for a space/time complexity type interview question and can help break down some things we take for granted in the `sorted` function which commonly takes a lambda (unnamed) function that kay sort a list in ascending/descending default and use a `key` argument as such to take values in different object compositions as which to sort a sequence by"
   ]
  },
  {
   "cell_type": "code",
   "execution_count": 1,
   "id": "de85a4c2",
   "metadata": {},
   "outputs": [
    {
     "name": "stdout",
     "output_type": "stream",
     "text": [
      "Our list prior to the manual sorted algorithm below : [3, 8, 7, 5, 6, 9]\n",
      "Our list after the manual sorted algorithm above : [3, 5, 6, 7, 8, 9]\n"
     ]
    }
   ],
   "source": [
    "## Manual Selection Sort ()\n",
    "list_items = [3,8,7,5,6,9]\n",
    "print(f'Our list prior to the manual sorted algorithm below : {list_items}')\n",
    "for i in range(0, len(list_items)):\n",
    "    # next we want to gradually iterate less as the list is being sorted in place\n",
    "    for j in range(0, len(list_items)-i-1):\n",
    "        # if current index greater than look ahead\n",
    "        if list_items[j] > list_items[j + 1]:\n",
    "            temp = list_items[j]\n",
    "            list_items[j] = list_items[j+1] # set left index to look ahead value\n",
    "            list_items[j+1] = temp # set look ahead to index being iterated\n",
    "        \n",
    "print(f'Our list after the manual sorted algorithm above : {list_items}')"
   ]
  },
  {
   "cell_type": "markdown",
   "id": "16a2206c",
   "metadata": {},
   "source": [
    "#### `Notes`\n",
    "* Most important note here for the manual sort is the second nested iteration. \n",
    "    - Here we can see that the range function’s second argument will be moving as we move to the outer iteration “i” following iterating over the whole list in the inner loop\n",
    "    \n",
    "* First Iteration (outer of i = 0) [3,8,7,5,6,9] (i = 3)\n",
    "    * Nested = range(0, 6 - 0 - 1) == (0, 5) == list(range(0,5)) [0,1,2,3,4]\n",
    "        * lst[0] ==  3 > 8 == False next \n",
    "        * lst[1] == 8 > j[2] == 7 (8>7) == True\n",
    "        * Temp = lst[j] # set temp value to iterated place\n",
    "        * lst[1(j)] = lst[j+1] (8 is moved one item forward)\n",
    "        * Lst[j+1] == temp (and we set the value assigned to current index in loop equal to the lookahead value which was less\n",
    "    * [3,7,8,5,6,9] (First Sort)\n",
    "        * lst[2] == 8 (we moved it in the last iteration) > j[3] == 5\n",
    "        * Similarly this is true so we move again (Second Sort)\n",
    "    * [3,7,5,8,6,9] - Second Sort\n",
    "        * lst[3] == 8 (moved again in last iteration) > J[4] == 6 True\n",
    "    * On the fourth iteration of nested we’d be [3,7,5,6,8,9] \n",
    "    * Lst[4] == 8 (moved in above iteration) > J[5] == 9 False\n",
    "    * Last iteration for first nested run of all items would be [3,7,5,6,8,9] \n",
    "    \n",
    "<br>\n",
    "    \n",
    "* Second Iteration (outer of i = 1)\n",
    "    * Nested = range(0, 6-1-1) == (0, 4) == [0,1,2,3]\n",
    "    * `Key item` here is the shrinking of the nested iteration, in the first iteration we extended to the last item and would have sorted the largest found index to the end (so in a way each nested iteration is ensuring the largest item is moved to the last item of the 1 less iteration of the nested iteration) So now on our second nested run through we only have to compare to the second to last item (the shrinking range in the second loop\n",
    "    * 4 Iterations of Second Nested of [3,7,5,6,8,9] 3>7 == False, 7>5 == True (swap), 7>6 == True (swap), 7>8 == False\n",
    "    * There is the four iterations and we have now set the two largest items to the end of the list [3,5,6,7,8,9]\n",
    "    * So … after just two iterations of the outer loop we have successfully sorted but as we can only check one item as a time against one another we still are looking to see if any comparisons of values more than one value apart that have been sorted in previous iterations need to be sorted \n"
   ]
  },
  {
   "cell_type": "code",
   "execution_count": null,
   "id": "d6551565",
   "metadata": {},
   "outputs": [],
   "source": []
  }
 ],
 "metadata": {
  "kernelspec": {
   "display_name": "Python 3 (ipykernel)",
   "language": "python",
   "name": "python3"
  },
  "language_info": {
   "codemirror_mode": {
    "name": "ipython",
    "version": 3
   },
   "file_extension": ".py",
   "mimetype": "text/x-python",
   "name": "python",
   "nbconvert_exporter": "python",
   "pygments_lexer": "ipython3",
   "version": "3.9.12"
  }
 },
 "nbformat": 4,
 "nbformat_minor": 5
}
